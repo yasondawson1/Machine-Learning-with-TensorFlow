{
  "nbformat": 4,
  "nbformat_minor": 0,
  "metadata": {
    "colab": {
      "provenance": [],
      "collapsed_sections": [],
      "toc_visible": true
    },
    "kernelspec": {
      "name": "python3",
      "display_name": "Python 3"
    },
    "language_info": {
      "name": "python"
    }
  },
  "cells": [
    {
      "cell_type": "markdown",
      "source": [
        "**Linear Algebra - Yason Dawson**"
      ],
      "metadata": {
        "id": "oWP-_I2X7bSP"
      }
    },
    {
      "cell_type": "markdown",
      "source": [
        "# Bagian 1"
      ],
      "metadata": {
        "id": "iD6p35ah7r7P"
      }
    },
    {
      "cell_type": "markdown",
      "source": [
        "## Numpy"
      ],
      "metadata": {
        "id": "trZnHoEF7v7n"
      }
    },
    {
      "cell_type": "markdown",
      "source": [
        "NumPy adalah package array tujuan umum. Ini menyediakan objek array multidimensi berkinerja tinggi, dan alat untuk bekerja dengan array ini. Ini adalah standard package untuk komputasi ilmiah dengan Python. Numpy pada dasarnya digunakan untuk membuat array n dimensi."
      ],
      "metadata": {
        "id": "yC8gLH_R7i1O"
      }
    },
    {
      "cell_type": "code",
      "source": [
        "import numpy as np"
      ],
      "metadata": {
        "id": "PL0PJY4-7gqg"
      },
      "execution_count": 1,
      "outputs": []
    },
    {
      "cell_type": "code",
      "source": [
        "A = [[1, 3, 5], [7, 12, 21], [5, 18, 3]]\n",
        "B = [13, 123, 51]"
      ],
      "metadata": {
        "id": "8pRtMvnm7kVQ"
      },
      "execution_count": 2,
      "outputs": []
    },
    {
      "cell_type": "code",
      "source": [
        "np.linalg.solve(A,B)"
      ],
      "metadata": {
        "colab": {
          "base_uri": "https://localhost:8080/"
        },
        "id": "F57mSjSO7mAp",
        "outputId": "a229dacb-6c91-4975-96c0-fcc58dd03bca"
      },
      "execution_count": 3,
      "outputs": [
        {
          "output_type": "execute_result",
          "data": {
            "text/plain": [
              "array([23.625, -3.75 ,  0.125])"
            ]
          },
          "metadata": {},
          "execution_count": 3
        }
      ]
    },
    {
      "cell_type": "markdown",
      "source": [
        "## Vector"
      ],
      "metadata": {
        "id": "nnmB4Wts7xUv"
      }
    },
    {
      "cell_type": "markdown",
      "source": [
        "Vektor dibangun dari komponen, yang merupakan bilangan biasa. Kita dapat menganggap vektor sebagai daftar bilangan, dan aljabar vektor sebagai operasi yang dilakukan pada bilangan dalam daftar. Dengan kata lain vektor adalah array 1-D numpy."
      ],
      "metadata": {
        "id": "hkwYdb-47zw2"
      }
    },
    {
      "cell_type": "code",
      "source": [
        "#Horizontal Vector\n",
        "import numpy as np  \n",
        "# creating list  \n",
        "list1 = [10, 20, 30, 40, 50]  \n",
        "# Creating 1-D Horizontal Array  \n",
        "vtr = np.array(list1) \n",
        " \n",
        "print(\"We create a vector from a list:\")  \n",
        "print(vtr)"
      ],
      "metadata": {
        "colab": {
          "base_uri": "https://localhost:8080/"
        },
        "id": "PRvtP49t7m75",
        "outputId": "131ff39d-8fae-4e28-aa90-05a0eb8ea239"
      },
      "execution_count": 4,
      "outputs": [
        {
          "output_type": "stream",
          "name": "stdout",
          "text": [
            "We create a vector from a list:\n",
            "[10 20 30 40 50]\n"
          ]
        }
      ]
    },
    {
      "cell_type": "code",
      "source": [
        "# Vertical list  \n",
        "list1 = [[12],  \n",
        "       [40],  \n",
        "       [6],  \n",
        "       [10]]  \n",
        "  \n",
        "# Creating 1-D Vertical Array  \n",
        "vtr = np.array(list1)  \n",
        "  \n",
        "print(\"We create a vector from a list:\")  \n",
        "print(vtr)"
      ],
      "metadata": {
        "colab": {
          "base_uri": "https://localhost:8080/"
        },
        "id": "TpgwBMJD71PY",
        "outputId": "62bc7d27-d578-49d4-aaa1-6382ed91276d"
      },
      "execution_count": 5,
      "outputs": [
        {
          "output_type": "stream",
          "name": "stdout",
          "text": [
            "We create a vector from a list:\n",
            "[[12]\n",
            " [40]\n",
            " [ 6]\n",
            " [10]]\n"
          ]
        }
      ]
    },
    {
      "cell_type": "markdown",
      "source": [
        "Below is the list of basic operations that we can perform in vector.\n",
        "1. Arithmetic\n",
        "2. Subtraction\n",
        "3. Multiplication\n",
        "4. Division\n",
        "5. Dot Product\n",
        "6. Scalar Multiplications"
      ],
      "metadata": {
        "id": "-V9tDvMJ76zO"
      }
    },
    {
      "cell_type": "code",
      "source": [
        "#Addition of 2 vector\n",
        "list1 = [10,20,30,40,50]   \n",
        "list2 = [11,12,13,14,15]    \n",
        "   \n",
        "vtr1 = np.array(list1)   \n",
        "vtr2= np.array(list2)   \n",
        "  \n",
        "print(\"We create vector from a list 1:\")   \n",
        "print(vtr1)   \n",
        "print(\"We create vector from a list 2:\")   \n",
        "print(vtr2)   \n",
        "   \n",
        "vctr_add = vtr1 + vtr2  \n",
        "print(\"Addition of two vectors: \",vctr_add)"
      ],
      "metadata": {
        "colab": {
          "base_uri": "https://localhost:8080/"
        },
        "id": "Q4M6AgWB72dv",
        "outputId": "7d259d91-934f-4cc6-a8b2-ae6a49a81626"
      },
      "execution_count": 6,
      "outputs": [
        {
          "output_type": "stream",
          "name": "stdout",
          "text": [
            "We create vector from a list 1:\n",
            "[10 20 30 40 50]\n",
            "We create vector from a list 2:\n",
            "[11 12 13 14 15]\n",
            "Addition of two vectors:  [21 32 43 54 65]\n"
          ]
        }
      ]
    },
    {
      "cell_type": "code",
      "source": [
        "#Substraction \n",
        "list1 = [10,20,30,40,50]   \n",
        "list2 = [5,2,4,3,1]  \n",
        "   \n",
        "vtr1 = np.array(list1)   \n",
        "vtr2= np.array(list2)   \n",
        "   \n",
        "print(\"We create vector from a list 1:\")   \n",
        "print(vtr1)   \n",
        "print(\"We create a vector from a list 2:\")   \n",
        "print(vtr2)   \n",
        "  \n",
        "vtr_sub = vtr1-vtr2  \n",
        "print(\"Subtraction of two vectors: \",vtr_sub)"
      ],
      "metadata": {
        "colab": {
          "base_uri": "https://localhost:8080/"
        },
        "id": "IGN58ou68ALo",
        "outputId": "cd89e3c6-3ca7-4ff4-96b7-03e7930989d0"
      },
      "execution_count": 7,
      "outputs": [
        {
          "output_type": "stream",
          "name": "stdout",
          "text": [
            "We create vector from a list 1:\n",
            "[10 20 30 40 50]\n",
            "We create a vector from a list 2:\n",
            "[5 2 4 3 1]\n",
            "Subtraction of two vectors:  [ 5 18 26 37 49]\n"
          ]
        }
      ]
    },
    {
      "cell_type": "code",
      "source": [
        "#multiplication\n",
        "list1 = [10,20,30,40,50]   \n",
        "list2 = [5,2,4,3,1]  \n",
        "   \n",
        "vtr1 = np.array(list1)   \n",
        "   \n",
        "vtr2= np.array(list2)   \n",
        "   \n",
        "print(\"We create vector from a list 1:\")   \n",
        "print(vtr1)   \n",
        "print(\"We create a vector from a list 2:\")   \n",
        "print(vtr2)   \n",
        "  \n",
        "vtr_mul = vtr1*vtr2  \n",
        "print(\"Multiplication of two vectors: \",vtr_mul)  \n",
        "#Multiplication didapat dari : \n",
        "#vct[0] = x[0] * y[0]\n",
        "#vct[1] = x[1] * y[1]"
      ],
      "metadata": {
        "colab": {
          "base_uri": "https://localhost:8080/"
        },
        "id": "FgNO-XA_8BWL",
        "outputId": "da78d6a5-b000-45a2-f628-22f8e12f435d"
      },
      "execution_count": 8,
      "outputs": [
        {
          "output_type": "stream",
          "name": "stdout",
          "text": [
            "We create vector from a list 1:\n",
            "[10 20 30 40 50]\n",
            "We create a vector from a list 2:\n",
            "[5 2 4 3 1]\n",
            "Multiplication of two vectors:  [ 50  40 120 120  50]\n"
          ]
        }
      ]
    },
    {
      "cell_type": "code",
      "source": [
        "#Division of 2 vector\n",
        "list1 = [10,20,30,40,50]   \n",
        "list2 = [5,2,4,3,1]  \n",
        "   \n",
        "vtr1 = np.array(list1)   \n",
        "   \n",
        "vtr2= np.array(list2)   \n",
        "   \n",
        "print(\"We create vector from a list 1:\")   \n",
        "print(vtr1)   \n",
        "print(\"We create a vector from a list 2:\")   \n",
        "print(vtr2)   \n",
        "  \n",
        "vtr_div = vtr1/vtr2  \n",
        "print(\"Division of two vectors: \",vtr_div)"
      ],
      "metadata": {
        "colab": {
          "base_uri": "https://localhost:8080/"
        },
        "id": "XV7zLg258Cjm",
        "outputId": "34920f09-6e29-461e-a0a1-510674fa3284"
      },
      "execution_count": 9,
      "outputs": [
        {
          "output_type": "stream",
          "name": "stdout",
          "text": [
            "We create vector from a list 1:\n",
            "[10 20 30 40 50]\n",
            "We create a vector from a list 2:\n",
            "[5 2 4 3 1]\n",
            "Division of two vectors:  [ 2.         10.          7.5        13.33333333 50.        ]\n"
          ]
        }
      ]
    },
    {
      "cell_type": "code",
      "source": [
        "# Vector Dot Product\n",
        "#The vector dot product performs between the two same-length sequential vectors and returns the single dot product. \n",
        "#We will use the .dot() method to perform the dot product \n",
        "#vector c = x . y = (x1 * y1 + x2 * y2) \n",
        "\n",
        "list1 = [10,20,30,40,50]   \n",
        "list2 = [5,2,4,3,1]  \n",
        "   \n",
        "vtr1 = np.array(list1)   \n",
        "   \n",
        "vtr2= np.array(list2)   \n",
        "   \n",
        "print(\"We create vector from a list 1:\")   \n",
        "print(vtr1)   \n",
        "print(\"We create a vector from a list 2:\")   \n",
        "print(vtr2)   \n",
        "  \n",
        "vtr_product = vtr1.dot(vtr2)  \n",
        "print(\"Dot product of two vectors: \",vtr_product)"
      ],
      "metadata": {
        "colab": {
          "base_uri": "https://localhost:8080/"
        },
        "id": "ULSvnQR58Eoq",
        "outputId": "039ae186-9e0f-4da2-ce5a-486961f2e101"
      },
      "execution_count": 10,
      "outputs": [
        {
          "output_type": "stream",
          "name": "stdout",
          "text": [
            "We create vector from a list 1:\n",
            "[10 20 30 40 50]\n",
            "We create a vector from a list 2:\n",
            "[5 2 4 3 1]\n",
            "Dot product of two vectors:  380\n"
          ]
        }
      ]
    },
    {
      "cell_type": "code",
      "source": [
        "#Vector scalar\n",
        "#we multiply the scalar with the each component of the vector\n",
        "list1 = [10,20,30,40,50]   \n",
        "vtr1 = np.array(list1)   \n",
        "       \n",
        "scalar_value = 5  \n",
        "       \n",
        "print(\"We create vector from a list 1:\")   \n",
        "print(vtr1)   \n",
        "      \n",
        "# printing scalar value   \n",
        "print(\"Scalar Value  : \" + str(scalar_value))   \n",
        "       \n",
        "vtr_scalar = vtr1 * scalar_value  \n",
        "print(\"Multiplication of two vectors: \",vtr_scalar)"
      ],
      "metadata": {
        "colab": {
          "base_uri": "https://localhost:8080/"
        },
        "id": "N1TqSncC8F7v",
        "outputId": "950ceacc-758d-4f81-f201-7a09eb06ce28"
      },
      "execution_count": 11,
      "outputs": [
        {
          "output_type": "stream",
          "name": "stdout",
          "text": [
            "We create vector from a list 1:\n",
            "[10 20 30 40 50]\n",
            "Scalar Value  : 5\n",
            "Multiplication of two vectors:  [ 50 100 150 200 250]\n"
          ]
        }
      ]
    },
    {
      "cell_type": "markdown",
      "source": [
        "## Projection Vector"
      ],
      "metadata": {
        "id": "5HMUlGqi8IZG"
      }
    },
    {
      "cell_type": "code",
      "source": [
        "# import numpy to perform operations on vector\n",
        "import numpy as np\n",
        "\n",
        "u = np.array([1, 2, 3]) # vector u\n",
        "v = np.array([5, 6, 2]) # vector v:\n",
        "\n",
        "# Task: Project vector u on vector v\n",
        "\n",
        "# finding norm of the vector v\n",
        "v_norm = np.sqrt(sum(v**2))\t\n",
        "\n",
        "# Apply the formula as mentioned above\n",
        "# for projecting a vector onto another vector\n",
        "# find dot product using np.dot()\n",
        "proj_of_u_on_v = (np.dot(u, v)/v_norm**2)*v\n",
        "\n",
        "print(\"Projection of Vector u on Vector v is: \", proj_of_u_on_v)\n",
        "\n",
        "u_norm = np.sqrt(sum(u**2))\n",
        "proj = (np.dot(u,v)/u_norm**2)*u\n",
        "print(proj)"
      ],
      "metadata": {
        "colab": {
          "base_uri": "https://localhost:8080/"
        },
        "id": "fOqOXkPf8G9h",
        "outputId": "5b697085-ae71-4480-de4d-c070e5642621"
      },
      "execution_count": 12,
      "outputs": [
        {
          "output_type": "stream",
          "name": "stdout",
          "text": [
            "Projection of Vector u on Vector v is:  [1.76923077 2.12307692 0.70769231]\n",
            "[1.64285714 3.28571429 4.92857143]\n"
          ]
        }
      ]
    },
    {
      "cell_type": "markdown",
      "source": [
        "## Basis"
      ],
      "metadata": {
        "id": "XcRXZ3O28Lnv"
      }
    },
    {
      "cell_type": "code",
      "source": [
        "vec_old = [3, 4]\n",
        "#Standard\n",
        "w1 = [-2,4]\n",
        "w2 = [2,1]\n",
        "#Basis baru\n",
        "vec_new = np.linalg.inv(np.array([w2,w1])).dot(vec_old)\n",
        "print(vec_new)"
      ],
      "metadata": {
        "colab": {
          "base_uri": "https://localhost:8080/"
        },
        "id": "9Jrvd2BX8Ks3",
        "outputId": "fb0f733d-676e-4443-97a3-c0eee6666ff4"
      },
      "execution_count": 13,
      "outputs": [
        {
          "output_type": "stream",
          "name": "stdout",
          "text": [
            "[0.8 1.4]\n"
          ]
        }
      ]
    },
    {
      "cell_type": "code",
      "source": [
        "vec_old = [1,2,3]\n",
        "#Standard\n",
        "w1 = [1, 0, 0]\n",
        "w2 = [0, 0, 1]\n",
        "w3 = [0, 1, 0]\n",
        "#Basis baru\n",
        "vec_new = np.linalg.inv(np.array([w1, w2, w3])).dot(vec_old)\n",
        "print(vec_new)"
      ],
      "metadata": {
        "colab": {
          "base_uri": "https://localhost:8080/"
        },
        "id": "E80yszgA8NUt",
        "outputId": "58b24b5c-1e92-40a7-c7f0-b175ddcfa81d"
      },
      "execution_count": 14,
      "outputs": [
        {
          "output_type": "stream",
          "name": "stdout",
          "text": [
            "[1. 3. 2.]\n"
          ]
        }
      ]
    },
    {
      "cell_type": "markdown",
      "source": [
        "## Reflecting Bear (Exercise)\n",
        "### Background\n",
        "Panda Bear is confused. He is trying to work out how things should look when reflected in a mirror, but is getting the wrong results.\n",
        "As is the way with bears, his coordinate system is not orthonormal: so what he thinks is the direction perpendicular to the mirror isn't actually the direction the mirror reflects in.\n",
        "Help Bear write a code that will do his matrix calculations properly! \n",
        "\n",
        "### Instructions\n",
        "In this assignment you will write a Python function that will produce a transformation matrix for reflecting vectors in an arbitrarily angled mirror.\n",
        "\n",
        "Building on the last assingment, where you wrote a code to construct an orthonormal basis that spans a set of input vectors, here you will take a matrix which takes simple form in that basis, and transform it into our starting basis.\n",
        "Recall the from the last video,\n",
        "\n",
        "\\\\( T = E T_E E^{-1} \\\\)\n",
        "\n",
        "You will write a function that will construct this matrix.\n",
        "This assessment is not conceptually complicated, but will build and test your ability to express mathematical ideas in code.\n",
        "As such, your final code submission will be relatively short, but you will receive less structure on how to write it.\n",
        "\n",
        "#### Matrices in Python\n",
        "For this exercise, we shall make use of the @ operator again.\n",
        "Recall from the last exercise, we used this operator to take the dot product of vectors.\n",
        "In general the operator will combine vectors and/or matrices in the expected linear algebra way,\n",
        "i.e. it will be either the vector dot product, matrix multiplication, or matrix operation on a vector, depending on it's input.\n",
        "For example to calculate the following expressions,\n",
        "\n",
        "\\\\( a = \\mathbf{s}\\cdot\\mathbf{t} \\\\)\n",
        "\n",
        "\\\\( \\mathbf{s} = A\\mathbf{t} \\\\)\n",
        "\n",
        "\\\\( M = A B \\\\),\n",
        "\n",
        "One would use the code,\n",
        "```python\n",
        "a = s @ t\n",
        "s = A @ t\n",
        "M = A @ B\n",
        "```\n",
        "(This is in contrast to the \\\\(*\\\\) operator, which performs element-wise multiplication, or multiplication by a scalar.)\n",
        "\n",
        "You may need to use some of the following functions:\n",
        "```python\n",
        "inv(A)\n",
        "transpose(A)\n",
        "gsBasis(A)\n",
        "```\n",
        "These, respectively, take the inverse of a matrix, give the transpose of a matrix, and produce a matrix of orthonormal column vectors given a general matrix of column vectors - i.e. perform the Gram-Schmidt process.\n",
        "This exercise will require you to combine some of these functions.\n",
        "\n",
        "####Good Luck"
      ],
      "metadata": {
        "id": "1_s9HVF_8b9r"
      }
    },
    {
      "cell_type": "code",
      "source": [
        "#bearNecessities\n",
        "import matplotlib\n",
        "matplotlib.use('Agg')\n",
        "import matplotlib.pyplot as plt\n",
        "import numpy as np\n",
        "import numpy.linalg as la\n",
        "\n",
        "bear_black = (0.141,0.11,0.11)\n",
        "bear_white = (0.89,0.856,0.856)\n",
        "magenta = (0xfc/255, 0x75/255, 0xdb/255) # Brighter magenta\n",
        "orange = (218/255, 171/255, 115/255)\n",
        "green = (175/255, 219/255, 133/255)\n",
        "white = (240/255, 245/255, 250/255)\n",
        "blue1 = (70/255, 101/255, 137/255)\n",
        "blue2 = (122/255, 174/255, 215/255)\n",
        "\n",
        "def gsBasis(A) :\n",
        "    B = np.array(A, dtype=np.float_)\n",
        "    B[:, 0] = B[:, 0] / la.norm(B[:, 0])\n",
        "    B[:, 1] = B[:, 1] - B[:, 1] @ B[:, 0] * B[:, 0]\n",
        "    if la.norm(B[:, 1]) > 1e-14 :\n",
        "        B[:, 1] = B[:, 1] / la.norm(B[:, 1])\n",
        "    else :\n",
        "        B[:, 1] = np.zeros_like(B[:,1])\n",
        "    return B\n",
        "\n",
        "def draw_mirror(bearVectors) :\n",
        "    fig,ax = plt.subplots(figsize=(12, 12), dpi= 80)\n",
        "    ax.set_xlim([-3.50,3.50])\n",
        "    ax.set_ylim([-3.50,3.50])\n",
        "    ax.set_aspect(1)\n",
        "    ax.set_facecolor(blue1)\n",
        "    \n",
        "    gs=gsBasis(bearVectors)\n",
        "    ax.plot([gs[0,0]*-5,gs[0,0]*5],[gs[1,0]*-5,gs[1,0]*5], lw=2, color=green, zorder=4)\n",
        "    ax.fill([\n",
        "            -5*gs[0,0],-5*gs[0,0]-5*gs[0,1], 5*gs[0,0]-5*gs[0,1],5*gs[0,0]\n",
        "        ],[\n",
        "            -5*gs[1,0],-5*gs[1,0]-5*gs[1,1], 5*gs[1,0]-5*gs[1,1],5*gs[1,0]\n",
        "        ], color=blue2, zorder=0)\n",
        "    ax.arrow(0,0,bearVectors[0,0],bearVectors[1,0], lw=3, color=orange, zorder=5, head_width=0.1)\n",
        "    ax.arrow(0,0,bearVectors[0,1],bearVectors[1,1], lw=3, color=orange, zorder=5, head_width=0.1)\n",
        "    ax.arrow(0,0,gs[0,0],gs[1,0], lw=3, color=magenta, zorder=6, head_width=0.1)\n",
        "    ax.arrow(0,0,gs[0,1],gs[1,1], lw=3, color=magenta, zorder=6, head_width=0.1)\n",
        "    return ax\n",
        "\n",
        "bear_black_fur = np.array(\n",
        "      [[ 2.0030351 ,  2.229253  ,  2.1639012 ,  2.0809546 ,  1.9728726 ,\n",
        "         1.8974666 ,  1.8924396 ,  2.0030351 ,      np.nan,  2.7017972 ,\n",
        "         2.8500957 ,  2.9707453 ,  3.0159889 ,  2.94561   ,  2.8299874 ,\n",
        "         2.7017972 ,      np.nan,  2.1639012 ,  2.2317666 ,  2.3147132 ,\n",
        "         2.299632  ,  2.2493613 ,  2.1890365 ,  2.1211711 ,  2.1337387 ,\n",
        "         2.1639012 ,      np.nan,  2.4982011 ,  2.5610936 ,  2.6213642 ,\n",
        "         2.633986  ,  2.5536071 ,  2.5057417 ,  2.4982011 ,      np.nan,\n",
        "         2.2468478 ,  2.3247673 ,  2.4429034 ,  2.4303357 ,  2.3448755 ,\n",
        "         2.2820372 ,  2.2468478 ,      np.nan,  2.1966706 ,  2.2722074 ,\n",
        "         2.4055076 ,  2.481933  ,  2.449941  ,  2.4001756 ,  2.3237501 ,\n",
        "         2.222442  ,  2.1984479 ,  2.1966706 ,      np.nan,  1.847196  ,\n",
        "         1.7818441 ,  1.7290599 ,  1.6310321 ,  1.4575984 ,  1.3369488 ,\n",
        "         1.2791375 ,  1.3671112 ,  1.8044659 ,  1.9577914 ,  2.2367936 ,\n",
        "         2.5962289 ,  2.7520679 ,  2.9028799 ,  3.4005595 ,  3.3150993 ,\n",
        "         3.0511783 ,  2.9531506 ,  2.8676905 ,  2.7746897 ,  2.4052003 ,\n",
        "         2.2795237 ,  2.1639012 ,  1.847196  ,      np.nan,  2.0491517 ,\n",
        "         2.5112591 ,  2.3175294 ,  2.1326865 ,  2.0491517 ],\n",
        "       [-1.3186252 , -1.0902537 , -0.99238015, -0.96477475, -0.99488975,\n",
        "        -1.1153494 , -1.2408283 , -1.3186252 ,      np.nan, -1.1881273 ,\n",
        "        -1.0852346 , -1.1454645 , -1.3286636 , -1.4666904 , -1.4641808 ,\n",
        "        -1.1881273 ,      np.nan, -1.5545256 , -1.5219011 , -1.4014413 ,\n",
        "        -1.3512497 , -1.3412115 , -1.3989317 , -1.4917862 , -1.5419777 ,\n",
        "        -1.5545256 ,      np.nan, -1.4265371 , -1.3964222 , -1.4968054 ,\n",
        "        -1.6097363 , -1.64738   , -1.5545256 , -1.4265371 ,      np.nan,\n",
        "        -1.6423608 , -1.6699662 , -1.677495  , -1.7176483 , -1.7477632 ,\n",
        "        -1.7176483 , -1.6423608 ,      np.nan, -1.7223509 , -1.7622781 ,\n",
        "        -1.7764744 , -1.7613908 , -1.8767359 , -1.9805465 , -1.9991791 ,\n",
        "        -1.9672374 , -1.913114  , -1.7223509 ,      np.nan, -1.5043341 ,\n",
        "        -1.5444873 , -1.486767  , -1.1504836 , -1.0626484 , -1.11284   ,\n",
        "        -1.2558858 , -1.7452537 , -2.3902152 , -2.4378972 , -2.3575907 ,\n",
        "        -2.1467861 , -2.2446597 , -2.5527822 , -2.5527822 , -2.1919586 ,\n",
        "        -1.7828973 , -1.6850238 , -1.677495  , -1.8431272 , -2.028836  ,\n",
        "        -2.0363647 , -1.9485295 , -1.5043341 ,      np.nan, -2.5527822 ,\n",
        "        -2.5527822 , -2.4570104 , -2.4463632 , -2.5527822 ]])\n",
        "\n",
        "bear_white_fur = np.array(\n",
        "      [[ 2.229253 ,  2.4680387,  2.7017972,  2.8299874,  2.8676905,\n",
        "         2.7746897,  2.4052003,  2.2795237,  2.1639012,  1.847196 ,\n",
        "         2.0030351,  2.229253 ,     np.nan,  1.8044659,  1.8974666,\n",
        "         2.0491517,  2.1326865,  2.3175294,  2.5112591,  2.9028799,\n",
        "         2.7520679,  2.5962289,  2.2367936,  1.9577914,  1.8044659],\n",
        "       [-1.0902537, -1.0601388, -1.1881273, -1.4641809, -1.677495 ,\n",
        "        -1.8431272, -2.028836 , -2.0363647, -1.9485295, -1.5043341,\n",
        "        -1.3186252, -1.0902537,     np.nan, -2.3902152, -2.5527822,\n",
        "        -2.5527822, -2.4463632, -2.4570104, -2.5527822, -2.5527822,\n",
        "        -2.2446597, -2.1467861, -2.3575907, -2.4378972, -2.3902152]])\n",
        "\n",
        "bear_face = np.array(\n",
        "      [[ 2.2419927,  2.2526567,  2.3015334,  2.3477442,  2.441943 ,\n",
        "            np.nan,  2.5258499,  2.5113971,  2.5327621,  2.5632387,\n",
        "         2.5780058,  2.5726645,  2.5475292,  2.5258499,     np.nan,\n",
        "         2.2858075,  2.2704121,  2.2402497,  2.2283105,  2.2484187,\n",
        "         2.273554 ,  2.2858075],\n",
        "       [-1.7605035, -1.9432811, -1.9707865, -1.9654629, -1.781798 ,\n",
        "            np.nan, -1.4688862, -1.4942957, -1.5099806, -1.5112354,\n",
        "        -1.4877081, -1.466063 , -1.4588479, -1.4688862,     np.nan,\n",
        "        -1.4346933, -1.4506918, -1.4463002, -1.418381 , -1.4055194,\n",
        "        -1.4083427, -1.4346933]])"
      ],
      "metadata": {
        "id": "KYin85df8OJm"
      },
      "execution_count": 16,
      "outputs": []
    },
    {
      "cell_type": "code",
      "source": [
        "# PACKAGE\n",
        "# Run this cell once first to load the dependancies. There is no need to submit this cell.\n",
        "import numpy as np\n",
        "from numpy.linalg import norm, inv\n",
        "from numpy import transpose "
      ],
      "metadata": {
        "id": "KDs4mj9G8aov"
      },
      "execution_count": 17,
      "outputs": []
    },
    {
      "cell_type": "code",
      "source": [
        "# GRADED FUNCTION\n",
        "# This is the cell you should edit and submit.\n",
        "\n",
        "# In this function, you will return the transformation matrix T,\n",
        "# having built it out of an orthonormal basis set E that you create from Bear's Basis\n",
        "# and a transformation matrix in the mirror's coordinates TE.\n",
        "def build_reflection_matrix(bearBasis) : # The parameter bearBasis is a 2×2 matrix that is passed to the function.\n",
        "    # Use the gsBasis function on bearBasis to get the mirror's orthonormal basis.\n",
        "    E = gsBasis(bearBasis)\n",
        "    # Write a matrix in component form that perform's the mirror's reflection in the mirror's basis.\n",
        "    # Recall, the mirror operates by negating the last component of a vector.\n",
        "    # Replace a,b,c,d with appropriate values\n",
        "    TE = np.array([[1, 0],\n",
        "                   [0, -1]])\n",
        "    # Combine the matrices E and TE to produce your transformation matrix.\n",
        "    T = E @ TE @ transpose(E) # could be inv(E), but E is orthonormal so it is simpler to use transpose \n",
        "    # Finally, we return the result. There is no need to change this line.\n",
        "    return T"
      ],
      "metadata": {
        "id": "7ujtjdEq8iwX"
      },
      "execution_count": 18,
      "outputs": []
    },
    {
      "cell_type": "markdown",
      "source": [
        "## Test your code before submission\n",
        "To test the code you've written above, run the cell (select the cell above, then press the play button [ ▶| ] or press shift-enter).\n",
        "You can then use the code below to test out your function.\n",
        "You don't need to submit this cell; you can edit and run it as much as you like.\n",
        "\n",
        "The code below will show a picture of Panda Bear.\n",
        "If you have correctly implemented the function above, you will also see Bear's reflection in his mirror."
      ],
      "metadata": {
        "id": "iYgSEVdo8lQf"
      }
    },
    {
      "cell_type": "code",
      "source": [
        "# First load Pyplot, a graph plotting library.\n",
        "%matplotlib inline\n",
        "import matplotlib.pyplot as plt\n",
        "\n",
        "# This is the matrix of Bear's basis vectors. \n",
        "bearBasis = np.array(\n",
        "    [[1,   -1],\n",
        "     [1.5, 2]])\n",
        "# This line uses your code to build a transformation matrix for us to use.\n",
        "T = build_reflection_matrix(bearBasis)\n",
        "\n",
        "# Bear is drawn as a set of polygons, the vertices of which are placed as a matrix list of column vectors.\n",
        "# We have three of these non-square matrix lists: bear_white_fur, bear_black_fur, and bear_face.\n",
        "# We'll make new lists of vertices by applying the T matrix you've calculated.\n",
        "reflected_bear_white_fur = T @ bear_white_fur\n",
        "reflected_bear_black_fur = T @ bear_black_fur\n",
        "reflected_bear_face = T @ bear_face\n",
        "\n",
        "# This next line runs a code to set up the graphics environment.\n",
        "ax = draw_mirror(bearBasis)\n",
        "\n",
        "# We'll first plot Bear, his white fur, his black fur, and his face.\n",
        "ax.fill(bear_white_fur[0], bear_white_fur[1], color=bear_white, zorder=1)\n",
        "ax.fill(bear_black_fur[0], bear_black_fur[1], color=bear_black, zorder=2)\n",
        "ax.plot(bear_face[0], bear_face[1], color=bear_white, zorder=3)\n",
        "\n",
        "# Next we'll plot Bear's reflection.\n",
        "ax.fill(reflected_bear_white_fur[0], reflected_bear_white_fur[1], color=bear_white, zorder=1)\n",
        "ax.fill(reflected_bear_black_fur[0], reflected_bear_black_fur[1], color=bear_black, zorder=2)\n",
        "ax.plot(reflected_bear_face[0], reflected_bear_face[1], color=bear_white, zorder=3);"
      ],
      "metadata": {
        "colab": {
          "base_uri": "https://localhost:8080/",
          "height": 775
        },
        "id": "1Z_hMvWg8jiz",
        "outputId": "39196425-8c5d-44a7-9f5b-b12c7cf62365"
      },
      "execution_count": 19,
      "outputs": [
        {
          "output_type": "display_data",
          "data": {
            "text/plain": [
              "<Figure size 960x960 with 1 Axes>"
            ],
            "image/png": "[encoded data removed]"
          },
          "metadata": {
            "needs_background": "light"
          }
        }
      ]
    },
    {
      "cell_type": "markdown",
      "source": [
        "##contoh output\n",
        "![image.png](data:image/png;base64,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)"
      ],
      "metadata": {
        "id": "HZCk2GvQ8qoY"
      }
    },
    {
      "cell_type": "markdown",
      "source": [
        "# Bagian 2"
      ],
      "metadata": {
        "id": "e7LUMGPC-Q9_"
      }
    },
    {
      "cell_type": "markdown",
      "source": [
        "## Inverse"
      ],
      "metadata": {
        "id": "ir8SQ8gb-Upm"
      }
    },
    {
      "cell_type": "code",
      "source": [
        "import numpy as np\n",
        "  \n",
        "# Taking a 4 * 4 matrix\n",
        "A = np.array([[6, 1, 1, 3],\n",
        "              [4, -2, 5, 1],\n",
        "              [2, 8, 7, 6],\n",
        "              [3, 1, 9, 7]])\n",
        "  \n",
        "# Calculating the inverse of the matrix\n",
        "print(np.linalg.inv(A))"
      ],
      "metadata": {
        "colab": {
          "base_uri": "https://localhost:8080/"
        },
        "id": "8d07_LKp-SAi",
        "outputId": "6b0057ac-afe4-4a6e-eaa6-ac6b7dfac418"
      },
      "execution_count": 20,
      "outputs": [
        {
          "output_type": "stream",
          "name": "stdout",
          "text": [
            "[[ 0.13368984  0.10695187  0.02139037 -0.09090909]\n",
            " [-0.00229183  0.02673797  0.14820474 -0.12987013]\n",
            " [-0.12987013  0.18181818  0.06493506 -0.02597403]\n",
            " [ 0.11000764 -0.28342246 -0.11382735  0.23376623]]\n"
          ]
        }
      ]
    },
    {
      "cell_type": "code",
      "source": [
        "#https://www.geeksforgeeks.org/how-to-inverse-a-matrix-using-numpy/\n",
        "\n",
        "import numpy as np\n",
        "  \n",
        "# Inverses of several matrices can\n",
        "# be computed at once\n",
        "A = np.array([[[1., 2.], [3., 4.]],\n",
        "              [[1, 3], [3, 5]]])\n",
        "  \n",
        "# Calculating the inverse of the matrix\n",
        "print(np.linalg.inv(A))"
      ],
      "metadata": {
        "colab": {
          "base_uri": "https://localhost:8080/"
        },
        "id": "A7tmA2yS-WcS",
        "outputId": "a517447e-9d0c-4d88-f032-d66fad6bf114"
      },
      "execution_count": 21,
      "outputs": [
        {
          "output_type": "stream",
          "name": "stdout",
          "text": [
            "[[[-2.    1.  ]\n",
            "  [ 1.5  -0.5 ]]\n",
            "\n",
            " [[-1.25  0.75]\n",
            "  [ 0.75 -0.25]]]\n"
          ]
        }
      ]
    },
    {
      "cell_type": "code",
      "source": [
        "import numpy as np\n",
        "  \n",
        "# Taking a 3 * 3 matrix\n",
        "A = np.array([[6, 1, 1],\n",
        "              [4, -2, 5],\n",
        "              [2, 8, 7]])\n",
        "  \n",
        "# Calculating the inverse of the matrix\n",
        "print(np.linalg.inv(A))"
      ],
      "metadata": {
        "colab": {
          "base_uri": "https://localhost:8080/"
        },
        "id": "vRwOW2tj-Zg9",
        "outputId": "b88096bb-3d8b-472d-919d-450660a0572a"
      },
      "execution_count": 22,
      "outputs": [
        {
          "output_type": "stream",
          "name": "stdout",
          "text": [
            "[[ 0.17647059 -0.00326797 -0.02287582]\n",
            " [ 0.05882353 -0.13071895  0.08496732]\n",
            " [-0.11764706  0.1503268   0.05228758]]\n"
          ]
        }
      ]
    },
    {
      "cell_type": "markdown",
      "source": [
        "## Determinant"
      ],
      "metadata": {
        "id": "Usq0-cfm-bh2"
      }
    },
    {
      "cell_type": "code",
      "source": [
        "import numpy as np \n",
        "  \n",
        "# creating a 2X2 Numpy matrix\n",
        "n_array = np.array([[50, 29], [30, 44]])\n",
        "  \n",
        "# Displaying the Matrix\n",
        "print(\"Numpy Matrix is:\")\n",
        "print(n_array)\n",
        "  \n",
        "# calculating the determinant of matrix\n",
        "det = np.linalg.det(n_array)\n",
        "  \n",
        "print(\"\\nDeterminant of given 2X2 matrix:\")\n",
        "print(int(det))"
      ],
      "metadata": {
        "colab": {
          "base_uri": "https://localhost:8080/"
        },
        "id": "eFS3Gjmx-aoY",
        "outputId": "2e245d17-3b2c-49cd-9dcf-2f09cb60631c"
      },
      "execution_count": 23,
      "outputs": [
        {
          "output_type": "stream",
          "name": "stdout",
          "text": [
            "Numpy Matrix is:\n",
            "[[50 29]\n",
            " [30 44]]\n",
            "\n",
            "Determinant of given 2X2 matrix:\n",
            "1330\n"
          ]
        }
      ]
    },
    {
      "cell_type": "code",
      "source": [
        "# creating a 3X3 Numpy matrix\n",
        "n_array = np.array([[55, 25, 15],\n",
        "                    [30, 44, 2],\n",
        "                    [11, 45, 77]])\n",
        "  \n",
        "# Displaying the Matrix\n",
        "print(\"Numpy Matrix is:\")\n",
        "print(n_array)\n",
        "  \n",
        "# calculating the determinant of matrix\n",
        "det = np.linalg.det(n_array)\n",
        "  \n",
        "print(\"\\nDeterminant of given 3X3 square matrix:\")\n",
        "print(int(det))"
      ],
      "metadata": {
        "colab": {
          "base_uri": "https://localhost:8080/"
        },
        "id": "fLZL3PIf-d6K",
        "outputId": "e0d0ff1d-bcc6-43a5-985c-bebcf984435c"
      },
      "execution_count": 24,
      "outputs": [
        {
          "output_type": "stream",
          "name": "stdout",
          "text": [
            "Numpy Matrix is:\n",
            "[[55 25 15]\n",
            " [30 44  2]\n",
            " [11 45 77]]\n",
            "\n",
            "Determinant of given 3X3 square matrix:\n",
            "137180\n"
          ]
        }
      ]
    },
    {
      "cell_type": "code",
      "source": [
        "# creating a 5X5 Numpy matrix\n",
        "n_array = np.array([[5, 2, 1, 4, 6],\n",
        "                    [9, 4, 2, 5, 2],\n",
        "                    [11, 5, 7, 3, 9],\n",
        "                    [5, 6, 6, 7, 2],\n",
        "                    [7, 5, 9, 3, 3]])\n",
        "  \n",
        "# Displaying the Matrix\n",
        "print(\"Numpy Matrix is:\")\n",
        "print(n_array)\n",
        "  \n",
        "# calculating the determinant of matrix\n",
        "det = np.linalg.det(n_array)\n",
        "  \n",
        "print(\"\\nDeterminant of given 5X5 square matrix:\")\n",
        "print(int(det))"
      ],
      "metadata": {
        "colab": {
          "base_uri": "https://localhost:8080/"
        },
        "id": "hBxV7JtF-fj_",
        "outputId": "4323c955-c29f-48fa-f434-b8e46e139430"
      },
      "execution_count": 25,
      "outputs": [
        {
          "output_type": "stream",
          "name": "stdout",
          "text": [
            "Numpy Matrix is:\n",
            "[[ 5  2  1  4  6]\n",
            " [ 9  4  2  5  2]\n",
            " [11  5  7  3  9]\n",
            " [ 5  6  6  7  2]\n",
            " [ 7  5  9  3  3]]\n",
            "\n",
            "Determinant of given 5X5 square matrix:\n",
            "-2003\n"
          ]
        }
      ]
    },
    {
      "cell_type": "markdown",
      "source": [
        "Formula :\n",
        " \n",
        "![image.png](data:image/png;base64,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)"
      ],
      "metadata": {
        "id": "0Y6FcCyk-nGf"
      }
    },
    {
      "cell_type": "code",
      "source": [
        "#https://www.geeksforgeeks.org/how-to-calculate-the-determinant-of-a-matrix-using-numpy/\n",
        "def det(n_array):\n",
        "  deter = np.linalg.det(n_array)\n",
        "  return deter"
      ],
      "metadata": {
        "id": "m499o2V8-gz5"
      },
      "execution_count": 26,
      "outputs": []
    },
    {
      "cell_type": "code",
      "source": [
        "#https://www.geeksforgeeks.org/how-to-find-cofactor-of-a-matrix-using-numpy/?ref=rp\n",
        "def adj(matrix):\n",
        "  adjoint = np.linalg.det(matrix) * np.linalg.inv(matrix)\n",
        "  return adjoint"
      ],
      "metadata": {
        "id": "_kqdB4FJ-pF4"
      },
      "execution_count": 27,
      "outputs": []
    },
    {
      "cell_type": "code",
      "source": [
        "A = [[1, 2], [3, 4]]\n",
        "if det(A) != 0 : \n",
        "    AA = adj(A)/det(A)\n",
        "    print(AA)\n",
        "else :\n",
        "    print(\"Inverse doesn't exist\") "
      ],
      "metadata": {
        "colab": {
          "base_uri": "https://localhost:8080/"
        },
        "id": "OBp-FDr--rWL",
        "outputId": "ce94e2c9-da0e-40ae-e091-5f170cad5cc0"
      },
      "execution_count": 28,
      "outputs": [
        {
          "output_type": "stream",
          "name": "stdout",
          "text": [
            "[[-2.   1. ]\n",
            " [ 1.5 -0.5]]\n"
          ]
        }
      ]
    },
    {
      "cell_type": "code",
      "source": [
        "A = np.array([[1, 2], [3, 4]])\n",
        "  \n",
        "# Calculating the inverse of the matrix\n",
        "print(np.linalg.inv(A))"
      ],
      "metadata": {
        "colab": {
          "base_uri": "https://localhost:8080/"
        },
        "id": "waCyZQmA-seW",
        "outputId": "8ec7e3cb-eeef-4121-c528-1f7e0e5cb105"
      },
      "execution_count": 29,
      "outputs": [
        {
          "output_type": "stream",
          "name": "stdout",
          "text": [
            "[[-2.   1. ]\n",
            " [ 1.5 -0.5]]\n"
          ]
        }
      ]
    },
    {
      "cell_type": "markdown",
      "source": [
        "## Orthogonal"
      ],
      "metadata": {
        "id": "TGUkTTOc-ug_"
      }
    },
    {
      "cell_type": "code",
      "source": [
        "# https://www.geeksforgeeks.org/check-whether-given-matrix-orthogonal-not/\n",
        "\n",
        "def isOrthogonal(a, m, n) :\n",
        "\tif (m != n) :\n",
        "\t\treturn False\n",
        "\t\n",
        "\ttrans = [[0 for x in range(n)]\n",
        "\t\t\t\tfor y in range(n)]\n",
        "\t\t\t\t\n",
        "\t# Find transpose\n",
        "\tfor i in range(0, n) :\n",
        "\t\tfor j in range(0, n) :\n",
        "\t\t\ttrans[i][j] = a[j][i]\n",
        "\t\t\t\n",
        "\tprod = [[0 for x in range(n)]\n",
        "\t\t\tfor y in range(n)]\n",
        "\t\t\t\t\n",
        "\t# Find product of a[][]\n",
        "\t# and its transpose\n",
        "\tfor i in range(0, n) :\n",
        "\t\tfor j in range(0, n) :\n",
        "\t\n",
        "\t\t\tsum = 0\n",
        "\t\t\tfor k in range(0, n) :\n",
        "\t\t\n",
        "\t\t\t\t# Since we are multiplying\n",
        "\t\t\t\t# with transpose of itself.\n",
        "\t\t\t\t# We use\n",
        "\t\t\t\tsum = sum + (a[i][k] *\n",
        "\t\t\t\t\t\t\ttrans[j][k])\n",
        "\t\n",
        "\t\t\tprod[i][j] = sum\n",
        "\n",
        "\t# Check if product is\n",
        "\t# identity matrix\n",
        "\tfor i in range(0, n) :\n",
        "\t\tfor j in range(0, n) :\n",
        "\n",
        "\t\t\tif (i != j and prod[i][j] != 0) :\n",
        "\t\t\t\treturn False\n",
        "\t\t\tif (i == j and prod[i][j] != 1) :\n",
        "\t\t\t\treturn False\n",
        "\n",
        "\treturn True\n",
        "\n",
        "# Driver Code\n",
        "a = [[1, 0, 0],\n",
        "\t[0, 1, 0],\n",
        "\t[0, 0, 1]]\n",
        "\t\t\n",
        "if (isOrthogonal(a, 3, 3)) :\n",
        "\tprint (\"Yes\")\n",
        "else :\n",
        "\tprint (\"No\")\n",
        "\n",
        "# This code is contributed by\n",
        "# Manish Shaw(manishshaw1)"
      ],
      "metadata": {
        "colab": {
          "base_uri": "https://localhost:8080/"
        },
        "id": "_itKL7dp-tpM",
        "outputId": "aa410656-184c-4bae-fa42-319308989864"
      },
      "execution_count": 30,
      "outputs": [
        {
          "output_type": "stream",
          "name": "stdout",
          "text": [
            "Yes\n"
          ]
        }
      ]
    },
    {
      "cell_type": "markdown",
      "source": [
        "## Composition combination of matrix transformations"
      ],
      "metadata": {
        "id": "M-zk6aY4-0NY"
      }
    },
    {
      "cell_type": "code",
      "source": [
        "import matplotlib.pyplot as plt\n",
        "import numpy as np\n",
        "import string\n",
        "\n",
        "# points a, b and, c\n",
        "a, b, c, d = (0, 1, 0), (1, 0, 1), (0, -1, 2), (-1, 0, 3)\n",
        "\n",
        "# matrix with row vectors of points\n",
        "A = np.array([a, b, c, d])\n",
        "\n",
        "# 3x3 Identity transformation matrix\n",
        "I = np.eye(3)"
      ],
      "metadata": {
        "id": "5boAXCnU-yCV"
      },
      "execution_count": 31,
      "outputs": []
    },
    {
      "cell_type": "code",
      "source": [
        "color_lut = 'rgbc'\n",
        "fig = plt.figure()\n",
        "ax = plt.gca() #get current axes\n",
        "xs = []\n",
        "ys = []\n",
        "for row in A:\n",
        "    output_row = I @ row # @ is decorator syntax of matrix multiplication\n",
        "    x, y, i = output_row\n",
        "    xs.append(x)\n",
        "    ys.append(y)\n",
        "    i = int(i) # convert float to int for indexing\n",
        "    c = color_lut[i]\n",
        "    plt.scatter(x, y, color=c)\n",
        "    plt.text(x + 0.15, y, f\"{string.ascii_letters[i]}\")\n",
        "xs.append(xs[0])\n",
        "ys.append(ys[0])\n",
        "plt.plot(xs, ys, color=\"gray\", linestyle='dotted')\n",
        "ax.set_xticks(np.arange(-2.5, 3, 0.5))\n",
        "ax.set_yticks(np.arange(-2.5, 3, 0.5))\n",
        "plt.grid()\n",
        "plt.show()"
      ],
      "metadata": {
        "colab": {
          "base_uri": "https://localhost:8080/",
          "height": 269
        },
        "id": "gbw31D2W-10k",
        "outputId": "0fd86e54-65eb-4f7a-cee2-e70133bb9072"
      },
      "execution_count": 32,
      "outputs": [
        {
          "output_type": "display_data",
          "data": {
            "text/plain": [
              "<Figure size 432x288 with 1 Axes>"
            ],
            "image/png": "[encoded data removed]"
          },
          "metadata": {
            "needs_background": "light"
          }
        }
      ]
    },
    {
      "cell_type": "code",
      "source": [
        "# create the scaling transformation matrix\n",
        "T_s = np.array([[2, 0, 0], [0, 2, 0], [0, 0, 1]])\n",
        "\n",
        "fig = plt.figure()\n",
        "ax = plt.gca()\n",
        "xs_s = []\n",
        "ys_s = []\n",
        "for row in A:\n",
        "    output_row = T_s @ row\n",
        "    x, y, i = row\n",
        "    x_s, y_s, i_s = output_row\n",
        "    xs_s.append(x_s)\n",
        "    ys_s.append(y_s)\n",
        "    i, i_s = int(i), int(i_s) # convert float to int for indexing\n",
        "    c, c_s = color_lut[i], color_lut[i_s] # these are the same but, its good to be explicit\n",
        "    plt.scatter(x, y, color=c)\n",
        "    plt.scatter(x_s, y_s, color=c_s)\n",
        "    plt.text(x + 0.15, y, f\"{string.ascii_letters[int(i)]}\")\n",
        "    plt.text(x_s + 0.15, y_s, f\"{string.ascii_letters[int(i_s)]}'\")\n",
        "\n",
        "xs_s.append(xs_s[0])\n",
        "ys_s.append(ys_s[0])\n",
        "plt.plot(xs, ys, color=\"gray\", linestyle='dotted')\n",
        "plt.plot(xs_s, ys_s, color=\"gray\", linestyle='dotted')\n",
        "ax.set_xticks(np.arange(-2.5, 3, 0.5))\n",
        "ax.set_yticks(np.arange(-2.5, 3, 0.5))\n",
        "plt.grid()\n",
        "plt.show()"
      ],
      "metadata": {
        "colab": {
          "base_uri": "https://localhost:8080/",
          "height": 269
        },
        "id": "GZvWuRcM-3Md",
        "outputId": "d611e41c-a6c3-47e2-b69c-66109ca49a02"
      },
      "execution_count": 33,
      "outputs": [
        {
          "output_type": "display_data",
          "data": {
            "text/plain": [
              "<Figure size 432x288 with 1 Axes>"
            ],
            "image/png": "[encoded data removed]"
          },
          "metadata": {
            "needs_background": "light"
          }
        }
      ]
    },
    {
      "cell_type": "code",
      "source": [
        "# create the rotation transformation matrix\n",
        "T_r = np.array([[0, 1, 0], [-1, 0, 0], [0, 0, 1]])\n",
        "\n",
        "fig = plt.figure()\n",
        "ax = plt.gca()\n",
        "for row in A:\n",
        "    output_row = T_r @ row\n",
        "    x_r, y_r, i_r = output_row\n",
        "    i_r = int(i_r) # convert float to int for indexing\n",
        "    c_r = color_lut[i_r] # these are the same but, its good to be explicit\n",
        "    letter_r = string.ascii_letters[i_r]\n",
        "    plt.scatter(x_r, y_r, color=c_r)\n",
        "    plt.text(x_r + 0.15, y_r, f\"{letter_r}'\")\n",
        "\n",
        "plt.plot(x_r, y_r, color=\"gray\", linestyle='dotted')\n",
        "ax.set_xticks(np.arange(-2.5, 3, 0.5))\n",
        "ax.set_yticks(np.arange(-2.5, 3, 0.5))\n",
        "plt.grid()\n",
        "plt.show()"
      ],
      "metadata": {
        "colab": {
          "base_uri": "https://localhost:8080/",
          "height": 269
        },
        "id": "cmFvZPbR-4Yj",
        "outputId": "ff5be6d4-9532-4d15-cfc2-f0e120a64d14"
      },
      "execution_count": 34,
      "outputs": [
        {
          "output_type": "display_data",
          "data": {
            "text/plain": [
              "<Figure size 432x288 with 1 Axes>"
            ],
            "image/png": "[encoded data removed]"
          },
          "metadata": {
            "needs_background": "light"
          }
        }
      ]
    },
    {
      "cell_type": "code",
      "source": [
        "# create combined tranformation matrix\n",
        "T = T_s @ T_r\n",
        "# @ is decorator syntax of matrix multiplication\n",
        "fig = plt.figure()\n",
        "ax = plt.gca()\n",
        "\n",
        "xs_comb = []\n",
        "ys_comb = []\n",
        "for row in A:\n",
        "    output_row = T @ row\n",
        "    x, y, i = row\n",
        "    x_comb, y_comb, i_comb = output_row\n",
        "    xs_comb.append(x_comb)\n",
        "    ys_comb.append(y_comb)\n",
        "    i, i_comb = int(i), int(i_comb) # convert float to int for indexing\n",
        "    c, c_comb = color_lut[i], color_lut[i_comb] # these are the same but, its good to be explicit\n",
        "    letter, letter_comb = string.ascii_letters[i], string.ascii_letters[i_comb]\n",
        "    plt.scatter(x, y, color=c)\n",
        "    plt.scatter(x_comb, y_comb, color=c_comb)\n",
        "    plt.text(x + 0.15 , y, f\"{letter}\")\n",
        "    plt.text(x_comb + 0.15, y_comb, f\"{letter_comb}\")\n",
        "xs_comb.append(xs_comb[0])\n",
        "ys_comb.append(ys_comb[0])\n",
        "plt.plot(xs, ys, color=\"gray\", linestyle='dotted')\n",
        "plt.plot(xs_comb, ys_comb, color=\"gray\", linestyle='dotted')\n",
        "ax.set_xticks(np.arange(-2.5, 3, 0.5))\n",
        "ax.set_yticks(np.arange(-2.5, 3, 0.5))\n",
        "plt.grid()\n",
        "plt.show()"
      ],
      "metadata": {
        "colab": {
          "base_uri": "https://localhost:8080/",
          "height": 269
        },
        "id": "Ne-_1XCJ-5pw",
        "outputId": "2283b8ee-16e7-4a42-ab8b-4bb711f0ccb9"
      },
      "execution_count": 35,
      "outputs": [
        {
          "output_type": "display_data",
          "data": {
            "text/plain": [
              "<Figure size 432x288 with 1 Axes>"
            ],
            "image/png": "[encoded data removed]"
          },
          "metadata": {
            "needs_background": "light"
          }
        }
      ]
    },
    {
      "cell_type": "markdown",
      "source": [
        "## Gaussian elimination"
      ],
      "metadata": {
        "id": "ovJ20gk7-9Sf"
      }
    },
    {
      "cell_type": "code",
      "source": [
        "# Importing NumPy Library\n",
        "import numpy as np\n",
        "import sys\n",
        "\n",
        "# Reading number of unknowns\n",
        "n = int(input('Enter number of unknowns: '))\n",
        "14\n",
        "# Making numpy array of n x n+1 size and initializing \n",
        "# to zero for storing augmented matrix\n",
        "a = np.zeros((n,n+1))\n",
        "\n",
        "# Making numpy array of n size and initializing \n",
        "# to zero for storing solution vector\n",
        "x = np.zeros(n)\n",
        "\n",
        "# Reading augmented matrix coefficients\n",
        "print('Enter Augmented Matrix Coefficients:')\n",
        "for i in range(n):\n",
        "    for j in range(n+1):\n",
        "        a[i][j] = float(input( 'a['+str(i)+']['+ str(j)+']='))\n",
        "\n",
        "# Applying Gauss Elimination\n",
        "for i in range(n):\n",
        "    if a[i][i] == 0.0:\n",
        "        sys.exit('Divide by zero detected!')\n",
        "        \n",
        "    for j in range(i+1, n):\n",
        "        ratio = a[j][i]/a[i][i]\n",
        "        \n",
        "        for k in range(n+1):\n",
        "            a[j][k] = a[j][k] - ratio * a[i][k]\n",
        "\n",
        "# Back Substitution\n",
        "x[n-1] = a[n-1][n]/a[n-1][n-1]\n",
        "\n",
        "for i in range(n-2,-1,-1):\n",
        "    x[i] = a[i][n]\n",
        "    \n",
        "    for j in range(i+1,n):\n",
        "        x[i] = x[i] - a[i][j]*x[j]\n",
        "    \n",
        "    x[i] = x[i]/a[i][i]\n",
        "\n",
        "# Displaying solution\n",
        "print('\\nRequired solution is: ')\n",
        "for i in range(n):\n",
        "    print('X%d = %0.2f' %(i,x[i]), end = '\\t')"
      ],
      "metadata": {
        "colab": {
          "base_uri": "https://localhost:8080/"
        },
        "id": "hAWmShTj-7Kz",
        "outputId": "72873820-6e54-4e17-bccd-7d83aaf04cb9"
      },
      "execution_count": 38,
      "outputs": [
        {
          "output_type": "stream",
          "name": "stdout",
          "text": [
            "Enter number of unknowns: 3\n",
            "Enter Augmented Matrix Coefficients:\n",
            "a[0][0]=1\n",
            "a[0][1]=2\n",
            "a[0][2]=3\n",
            "a[0][3]=4\n",
            "a[1][0]=5\n",
            "a[1][1]=6\n",
            "a[1][2]=90\n",
            "a[1][3]=8\n",
            "a[2][0]=7\n",
            "a[2][1]=2\n",
            "a[2][2]=3\n",
            "a[2][3]=5\n",
            "\n",
            "Required solution is: \n",
            "X0 = 0.17\tX1 = 2.00\tX2 = -0.05\t"
          ]
        }
      ]
    },
    {
      "cell_type": "code",
      "source": [
        "import numpy as np\n",
        "vec_old = [5,2]\n",
        "#Standard\n",
        "w1 = [3,1]\n",
        "w2 = [1,1]\n",
        "#Basis baru\n",
        "vec_new = np.linalg.inv(np.array([w1,w2])).dot(vec_old)\n",
        "print(vec_new)"
      ],
      "metadata": {
        "colab": {
          "base_uri": "https://localhost:8080/"
        },
        "id": "O0t7KE0O--3c",
        "outputId": "92d16d17-e63c-4bed-c08a-bb6a5f3c6be8"
      },
      "execution_count": 37,
      "outputs": [
        {
          "output_type": "stream",
          "name": "stdout",
          "text": [
            "[1.5 0.5]\n"
          ]
        }
      ]
    },
    {
      "cell_type": "markdown",
      "source": [
        "## Gram-Schmidt process\n",
        "\n",
        "### Instructions\n",
        "In this assignment you will write a function to perform the Gram-Schmidt procedure, which takes a list of vectors and forms an orthonormal basis from this set.\n",
        "As a corollary, the procedure allows us to determine the dimension of the space spanned by the basis vectors, which is equal to or less than the space which the vectors sit.\n",
        "\n",
        "You'll start by completing a function for 4 basis vectors, before generalising to when an arbitrary number of vectors are given.\n",
        "\n",
        "Again, a framework for the function has already been written.\n",
        "Look through the code, and you'll be instructed where to make changes.\n",
        "We'll do the first two rows, and you can use this as a guide to do the last two.\n",
        "\n",
        "### Matrices in Python\n",
        "Remember the structure for matrices in *numpy* is,\n",
        "```python\n",
        "A[0, 0]  A[0, 1]  A[0, 2]  A[0, 3]\n",
        "A[1, 0]  A[1, 1]  A[1, 2]  A[1, 3]\n",
        "A[2, 0]  A[2, 1]  A[2, 2]  A[2, 3]\n",
        "A[3, 0]  A[3, 1]  A[3, 2]  A[3, 3]\n",
        "```\n",
        "You can access the value of each element individually using,\n",
        "```python\n",
        "A[n, m]\n",
        "```\n",
        "You can also access a whole row at a time using,\n",
        "```python\n",
        "A[n]\n",
        "```\n",
        "\n",
        "Building on last assignment, in this exercise you will need to select whole columns at a time.\n",
        "This can be done with,\n",
        "```python\n",
        "A[:, m]\n",
        "```\n",
        "which will select the m'th column (starting at zero).\n",
        "\n",
        "In this exercise, you will need to take the dot product between vectors. This can be done using the @ operator.\n",
        "To dot product vectors u and v, use the code,\n",
        "```python\n",
        "u @ v\n",
        "```\n",
        "\n",
        "All the code you should complete will be at the same level of indentation as the instruction comment.\n",
        "\n",
        "### How to submit\n",
        "Edit the code in the cell below to complete the assignment.\n",
        "Once you are finished and happy with it, press the *Submit Assignment* button at the top of this notebook.\n",
        "\n",
        "Please don't change any of the function names, as these will be checked by the grading script.\n",
        "\n",
        "If you have further questions about submissions or programming assignments, here is a [list](https://www.coursera.org/learn/linear-algebra-machine-learning/discussions/weeks/1/threads/jB4klkn5EeibtBIQyzFmQg) of Q&A. You can also raise an issue on the discussion forum. Good luck!"
      ],
      "metadata": {
        "id": "ipk0upKp_Usg"
      }
    },
    {
      "cell_type": "code",
      "source": [
        "# GRADED FUNCTION\n",
        "import numpy as np\n",
        "import numpy.linalg as la\n",
        "\n",
        "verySmallNumber = 1e-14 # That's 1×10⁻¹⁴ = 0.00000000000001\n",
        "\n",
        "# Our first function will perform the Gram-Schmidt procedure for 4 basis vectors.\n",
        "# We'll take this list of vectors as the columns of a matrix, A.\n",
        "# We'll then go through the vectors one at a time and set them to be orthogonal\n",
        "# to all the vectors that came before it. Before normalising.\n",
        "# Follow the instructions inside the function at each comment.\n",
        "# You will be told where to add code to complete the function.\n",
        "def gsBasis4(A) :\n",
        "    B = np.array(A, dtype=np.float_) # Make B as a copy of A, since we're going to alter it's values.\n",
        "    # The zeroth column is easy, since it has no other vectors to make it normal to.\n",
        "    # All that needs to be done is to normalise it. I.e. divide by its modulus, or norm.\n",
        "    B[:, 0] = B[:, 0] / la.norm(B[:, 0])\n",
        "    # For the first column, we need to subtract any overlap with our new zeroth vector.\n",
        "    B[:, 1] = B[:, 1] - B[:, 1] @ B[:, 0] * B[:, 0]\n",
        "    # If there's anything left after that subtraction, then B[:, 1] is linearly independant of B[:, 0]\n",
        "    # If this is the case, we can normalise it. Otherwise we'll set that vector to zero.\n",
        "    if la.norm(B[:, 1]) > verySmallNumber :\n",
        "        B[:, 1] = B[:, 1] / la.norm(B[:, 1])\n",
        "    else :\n",
        "        B[:, 1] = np.zeros_like(B[:, 1])\n",
        "    # Now we need to repeat the process for column 2.\n",
        "    # Insert two lines of code, the first to subtract the overlap with the zeroth vector,\n",
        "    # and the second to subtract the overlap with the first.\n",
        "    B[:, 2] = B[:, 2] - B[:, 2] @ B[:, 0] * B[:, 0]\n",
        "    B[:, 2] = B[:, 2] - B[:, 2] @ B[:, 1] * B[:, 1]\n",
        "    # Again we'll need to normalise our new vector.\n",
        "    # Copy and adapt the normalisation fragment from above to column 2.\n",
        "    if la.norm(B[:, 2]) > verySmallNumber :\n",
        "        B[:, 2] = B[:, 2] / la.norm(B[:, 2])\n",
        "    else :\n",
        "        B[:, 2] = np.zeros_like(B[:, 2])\n",
        "        \n",
        "    # Finally, column three:\n",
        "    # Insert code to subtract the overlap with the first three vectors.\n",
        "    B[:, 3] = B[:, 3] - B[:, 3] @ B[:, 0] * B[:, 0]\n",
        "    B[:, 3] = B[:, 3] - B[:, 3] @ B[:, 1] * B[:, 1]\n",
        "    B[:, 3] = B[:, 3] - B[:, 3] @ B[:, 2] * B[:, 2]\n",
        "    # Now normalise if possible\n",
        "    \n",
        "    if la.norm(B[:, 3]) > verySmallNumber :\n",
        "        B[:, 3] = B[:, 3] / la.norm(B[:, 3])\n",
        "    else :\n",
        "        B[:, 3] = np.zeros_like(B[:, 3])\n",
        "    \n",
        "    \n",
        "    # Finally, we return the result:\n",
        "    return B\n",
        "\n",
        "# The second part of this exercise will generalise the procedure.\n",
        "# Previously, we could only have four vectors, and there was a lot of repeating in the code.\n",
        "# We'll use a for-loop here to iterate the process for each vector.\n",
        "def gsBasis(A) :\n",
        "    B = np.array(A, dtype=np.float_) # Make B as a copy of A, since we're going to alter it's values.\n",
        "    # Loop over all vectors, starting with zero, label them with i\n",
        "    for i in range(B.shape[1]) :\n",
        "        # Inside that loop, loop over all previous vectors, j, to subtract.\n",
        "        for j in range(i) :\n",
        "            # Complete the code to subtract the overlap with previous vectors.\n",
        "            # you'll need the current vector B[:, i] and a previous vector B[:, j]\n",
        "            B[:, i] = B[:, i] - B[:, i] @ B[:, j] * B[:, j]\n",
        "        # Next insert code to do the normalisation test for B[:, i]\n",
        "        if la.norm(B[:, i]) > verySmallNumber :\n",
        "            B[:, i] = B[:, i] / la.norm(B[:, i])\n",
        "        else :\n",
        "            B[:, i] = np.zeros_like(B[:, i])\n",
        "        \n",
        "            \n",
        "    # Finally, we return the result:\n",
        "    return B\n",
        "\n",
        "# This function uses the Gram-schmidt process to calculate the dimension\n",
        "# spanned by a list of vectors.\n",
        "# Since each vector is normalised to one, or is zero,\n",
        "# the sum of all the norms will be the dimension.\n",
        "def dimensions(A) :\n",
        "    return np.sum(la.norm(gsBasis(A), axis=0))"
      ],
      "metadata": {
        "id": "3g7fwgET_GfP"
      },
      "execution_count": 39,
      "outputs": []
    },
    {
      "cell_type": "markdown",
      "source": [
        "## Test your code before submission\n",
        "To test the code you've written above, run the cell (select the cell above, then press the play button [ ▶| ] or press shift-enter).\n",
        "You can then use the code below to test out your function.\n",
        "You don't need to submit this cell; you can edit and run it as much as you like.\n",
        "\n",
        "Try out your code on tricky test cases!"
      ],
      "metadata": {
        "id": "_VZxzrC0_hDP"
      }
    },
    {
      "cell_type": "code",
      "source": [
        "V = np.array([[1,0,2,6],\n",
        "              [0,1,8,2],\n",
        "              [2,8,3,1],\n",
        "              [1,-6,2,3]], dtype=np.float_)\n",
        "gsBasis4(V)"
      ],
      "metadata": {
        "colab": {
          "base_uri": "https://localhost:8080/"
        },
        "id": "vK-9imaG_dgM",
        "outputId": "0047c771-b3e7-4923-be4b-f460638dda18"
      },
      "execution_count": 40,
      "outputs": [
        {
          "output_type": "execute_result",
          "data": {
            "text/plain": [
              "array([[ 0.40824829, -0.1814885 ,  0.04982278,  0.89325973],\n",
              "       [ 0.        ,  0.1088931 ,  0.99349591, -0.03328918],\n",
              "       [ 0.81649658,  0.50816781, -0.06462163, -0.26631346],\n",
              "       [ 0.40824829, -0.83484711,  0.07942048, -0.36063281]])"
            ]
          },
          "metadata": {},
          "execution_count": 40
        }
      ]
    },
    {
      "cell_type": "code",
      "source": [
        "# Once you've done Gram-Schmidt once,\n",
        "# doing it again should give you the same result. Test this:\n",
        "U = gsBasis4(V)\n",
        "gsBasis4(U)"
      ],
      "metadata": {
        "colab": {
          "base_uri": "https://localhost:8080/"
        },
        "id": "kS7SmTR6_kY4",
        "outputId": "13c72cec-8d24-49d6-a304-b468707b1cea"
      },
      "execution_count": 41,
      "outputs": [
        {
          "output_type": "execute_result",
          "data": {
            "text/plain": [
              "array([[ 0.40824829, -0.1814885 ,  0.04982278,  0.89325973],\n",
              "       [ 0.        ,  0.1088931 ,  0.99349591, -0.03328918],\n",
              "       [ 0.81649658,  0.50816781, -0.06462163, -0.26631346],\n",
              "       [ 0.40824829, -0.83484711,  0.07942048, -0.36063281]])"
            ]
          },
          "metadata": {},
          "execution_count": 41
        }
      ]
    },
    {
      "cell_type": "code",
      "source": [
        "# Try the general function too.\n",
        "gsBasis(V)"
      ],
      "metadata": {
        "colab": {
          "base_uri": "https://localhost:8080/"
        },
        "id": "Xe3uO5mG_lZ0",
        "outputId": "0c259df4-8f60-4d1f-9682-d2f03fd5b37f"
      },
      "execution_count": 42,
      "outputs": [
        {
          "output_type": "execute_result",
          "data": {
            "text/plain": [
              "array([[ 0.40824829, -0.1814885 ,  0.04982278,  0.89325973],\n",
              "       [ 0.        ,  0.1088931 ,  0.99349591, -0.03328918],\n",
              "       [ 0.81649658,  0.50816781, -0.06462163, -0.26631346],\n",
              "       [ 0.40824829, -0.83484711,  0.07942048, -0.36063281]])"
            ]
          },
          "metadata": {},
          "execution_count": 42
        }
      ]
    },
    {
      "cell_type": "code",
      "source": [
        "# See what happens for non-square matrices\n",
        "A = np.array([[3,2,3],\n",
        "              [2,5,-1],\n",
        "              [2,4,8],\n",
        "              [12,2,1]], dtype=np.float_)\n",
        "gsBasis(A)"
      ],
      "metadata": {
        "colab": {
          "base_uri": "https://localhost:8080/"
        },
        "id": "PoR7Z9FR_oaN",
        "outputId": "ebd72055-725e-4efa-cbf3-b540bfd1bdde"
      },
      "execution_count": 43,
      "outputs": [
        {
          "output_type": "execute_result",
          "data": {
            "text/plain": [
              "array([[ 0.23643312,  0.18771349,  0.22132104],\n",
              "       [ 0.15762208,  0.74769023, -0.64395812],\n",
              "       [ 0.15762208,  0.57790444,  0.72904263],\n",
              "       [ 0.94573249, -0.26786082, -0.06951101]])"
            ]
          },
          "metadata": {},
          "execution_count": 43
        }
      ]
    },
    {
      "cell_type": "code",
      "source": [
        "dimensions(A)"
      ],
      "metadata": {
        "colab": {
          "base_uri": "https://localhost:8080/"
        },
        "id": "Iq2vLGQh_pI7",
        "outputId": "51aeddba-3088-4824-c80e-91f65f43bda2"
      },
      "execution_count": 44,
      "outputs": [
        {
          "output_type": "execute_result",
          "data": {
            "text/plain": [
              "3.0"
            ]
          },
          "metadata": {},
          "execution_count": 44
        }
      ]
    },
    {
      "cell_type": "code",
      "source": [
        "B = np.array([[6,2,1,7,5],\n",
        "              [2,8,5,-4,1],\n",
        "              [1,-6,3,2,8]], dtype=np.float_)\n",
        "gsBasis(B)"
      ],
      "metadata": {
        "colab": {
          "base_uri": "https://localhost:8080/"
        },
        "id": "f-M0erla_p5D",
        "outputId": "2a4f2c19-713f-44f5-e00b-9b2575218a42"
      },
      "execution_count": 45,
      "outputs": [
        {
          "output_type": "execute_result",
          "data": {
            "text/plain": [
              "array([[ 0.93704257, -0.12700832, -0.32530002,  0.        ,  0.        ],\n",
              "       [ 0.31234752,  0.72140727,  0.61807005,  0.        ,  0.        ],\n",
              "       [ 0.15617376, -0.6807646 ,  0.71566005,  0.        ,  0.        ]])"
            ]
          },
          "metadata": {},
          "execution_count": 45
        }
      ]
    },
    {
      "cell_type": "code",
      "source": [
        "dimensions(B)"
      ],
      "metadata": {
        "colab": {
          "base_uri": "https://localhost:8080/"
        },
        "id": "5bOYdmUW_qwm",
        "outputId": "655e6f67-f572-4279-d059-261bb9ee1a5f"
      },
      "execution_count": 46,
      "outputs": [
        {
          "output_type": "execute_result",
          "data": {
            "text/plain": [
              "3.0"
            ]
          },
          "metadata": {},
          "execution_count": 46
        }
      ]
    },
    {
      "cell_type": "code",
      "source": [
        "# Now let's see what happens when we have one vector that is a linear combination of the others.\n",
        "C = np.array([[1,0,2],\n",
        "              [0,1,-3],\n",
        "              [1,0,2]], dtype=np.float_)\n",
        "gsBasis(C)"
      ],
      "metadata": {
        "colab": {
          "base_uri": "https://localhost:8080/"
        },
        "id": "GAMDf_sm_rW3",
        "outputId": "5cb69da6-081c-4431-cfc8-4dd326d067cb"
      },
      "execution_count": 47,
      "outputs": [
        {
          "output_type": "execute_result",
          "data": {
            "text/plain": [
              "array([[0.70710678, 0.        , 0.        ],\n",
              "       [0.        , 1.        , 0.        ],\n",
              "       [0.70710678, 0.        , 0.        ]])"
            ]
          },
          "metadata": {},
          "execution_count": 47
        }
      ]
    },
    {
      "cell_type": "code",
      "source": [
        "dimensions(C)"
      ],
      "metadata": {
        "colab": {
          "base_uri": "https://localhost:8080/"
        },
        "id": "u8mw1Kf__tdK",
        "outputId": "b16c5661-3fc9-410f-b793-171615516433"
      },
      "execution_count": 48,
      "outputs": [
        {
          "output_type": "execute_result",
          "data": {
            "text/plain": [
              "2.0"
            ]
          },
          "metadata": {},
          "execution_count": 48
        }
      ]
    },
    {
      "cell_type": "markdown",
      "source": [
        "## PageRank (Exercise)\n",
        "In this notebook, you'll build on your knowledge of eigenvectors and eigenvalues by exploring the PageRank algorithm.\n",
        "The notebook is in two parts, the first is a worksheet to get you up to speed with how the algorithm works - here we will look at a micro-internet with fewer than 10 websites and see what it does and what can go wrong.\n",
        "The second is an assessment which will test your application of eigentheory to this problem by writing code and calculating the page rank of a large network representing a sub-section of the internet."
      ],
      "metadata": {
        "id": "Pdgg3jSeAW1P"
      }
    },
    {
      "cell_type": "markdown",
      "source": [
        "## Part 1 - Worksheet\n",
        "### Introduction\n",
        "\n",
        "PageRank (developed by Larry Page and Sergey Brin) revolutionized web search by generating a\n",
        "ranked list of web pages based on the underlying connectivity of the web. The PageRank algorithm is\n",
        "based on an ideal random web surfer who, when reaching a page, goes to the next page by clicking on a\n",
        "link. The surfer has equal probability of clicking any link on the page and, when reaching a page with no\n",
        "links, has equal probability of moving to any other page by typing in its URL. In addition, the surfer may\n",
        "occasionally choose to type in a random URL instead of following the links on a page. The PageRank is\n",
        "the ranked order of the pages from the most to the least probable page the surfer will be viewing.\n"
      ],
      "metadata": {
        "id": "ku-BbZfbAc_Y"
      }
    },
    {
      "cell_type": "code",
      "source": [
        "import numpy as np\n",
        "import numpy.linalg as la\n",
        "np.set_printoptions(suppress=True)\n",
        "\n",
        "def generate_internet(n) :\n",
        "    c = np.full([n,n], np.arange(n))\n",
        "    c = (abs(np.random.standard_cauchy([n,n])/2) > (np.abs(c - c.T) + 1)) + 0\n",
        "    c = (c+1e-10) / np.sum((c+1e-10), axis=0)\n",
        "    return c"
      ],
      "metadata": {
        "id": "9NMOUS7eAXyL"
      },
      "execution_count": 49,
      "outputs": []
    },
    {
      "cell_type": "code",
      "source": [
        "# Before we begin, let's load the libraries.\n",
        "%pylab notebook\n",
        "import numpy as np\n",
        "import numpy.linalg as la\n",
        "#from readonly.PageRankFunctions import *\n",
        "np.set_printoptions(suppress=True)"
      ],
      "metadata": {
        "colab": {
          "base_uri": "https://localhost:8080/"
        },
        "id": "_ulxGxUyAfnJ",
        "outputId": "2d901176-586e-44a9-b2e3-99eb98beb09f"
      },
      "execution_count": 50,
      "outputs": [
        {
          "output_type": "stream",
          "name": "stdout",
          "text": [
            "Populating the interactive namespace from numpy and matplotlib\n"
          ]
        },
        {
          "output_type": "stream",
          "name": "stderr",
          "text": [
            "/usr/local/lib/python3.7/dist-packages/IPython/core/magics/pylab.py:160: UserWarning: pylab import has clobbered these variables: ['det']\n",
            "`%matplotlib` prevents importing * from pylab and numpy\n",
            "  \"\\n`%matplotlib` prevents importing * from pylab and numpy\"\n"
          ]
        }
      ]
    },
    {
      "cell_type": "markdown",
      "source": [
        "### PageRank as a linear algebra problem\n",
        "Let's imagine a micro-internet, with just 6 websites (**A**vocado, **B**ullseye, **C**atBabel, **D**romeda, **e**Tings, and **F**aceSpace).\n",
        "Each website links to some of the others, and this forms a network as shown,\n",
        "\n",
        "![A Micro-Internet](readonly/internet.png \"A Micro-Internet\")\n",
        "\n",
        "The design principle of PageRank is that important websites will be linked to by important websites.\n",
        "This somewhat recursive principle will form the basis of our thinking.\n",
        "\n",
        "Imagine we have 100 *Procrastinating Pat*s on our micro-internet, each viewing a single website at a time.\n",
        "Each minute the Pats follow a link on their website to another site on the micro-internet.\n",
        "After a while, the websites that are most linked to will have more Pats visiting them, and in the long run, each minute for every Pat that leaves a website, another will enter keeping the total numbers of Pats on each website constant.\n",
        "The PageRank is simply the ranking of websites by how many Pats they have on them at the end of this process.\n",
        "\n",
        "We represent the number of Pats on each website with the vector,\n",
        "$$\\mathbf{r} = \\begin{bmatrix} r_A \\\\ r_B \\\\ r_C \\\\ r_D \\\\ r_E \\\\ r_F \\end{bmatrix}$$\n",
        "And say that the number of Pats on each website in minute $i+1$ is related to those at minute $i$ by the matrix transformation\n",
        "\n",
        "$$ \\mathbf{r}^{(i+1)} = L \\,\\mathbf{r}^{(i)}$$\n",
        "with the matrix $L$ taking the form,\n",
        "$$ L = \\begin{bmatrix}\n",
        "L_{A→A} & L_{B→A} & L_{C→A} & L_{D→A} & L_{E→A} & L_{F→A} \\\\\n",
        "L_{A→B} & L_{B→B} & L_{C→B} & L_{D→B} & L_{E→B} & L_{F→B} \\\\\n",
        "L_{A→C} & L_{B→C} & L_{C→C} & L_{D→C} & L_{E→C} & L_{F→C} \\\\\n",
        "L_{A→D} & L_{B→D} & L_{C→D} & L_{D→D} & L_{E→D} & L_{F→D} \\\\\n",
        "L_{A→E} & L_{B→E} & L_{C→E} & L_{D→E} & L_{E→E} & L_{F→E} \\\\\n",
        "L_{A→F} & L_{B→F} & L_{C→F} & L_{D→F} & L_{E→F} & L_{F→F} \\\\\n",
        "\\end{bmatrix}\n",
        "$$\n",
        "where the columns represent the probability of leaving a website for any other website, and sum to one.\n",
        "The rows determine how likely you are to enter a website from any other, though these need not add to one.\n",
        "The long time behaviour of this system is when $ \\mathbf{r}^{(i+1)} = \\mathbf{r}^{(i)}$, so we'll drop the superscripts here, and that allows us to write,\n",
        "$$ L \\,\\mathbf{r} = \\mathbf{r}$$\n",
        "\n",
        "which is an eigenvalue equation for the matrix $L$, with eigenvalue 1 (this is guaranteed by the probabalistic structure of the matrix $L$).\n",
        "\n",
        "Complete the matrix $L$ below, we've left out the column for which websites the *FaceSpace* website (F) links to.\n",
        "Remember, this is the probability to click on another website from this one, so each column should add to one (by scaling by the number of links)."
      ],
      "metadata": {
        "id": "LLxDii1oAjHR"
      }
    },
    {
      "cell_type": "code",
      "source": [
        "# Replace the ??? here with the probability of clicking a link to each website when leaving Website F (FaceSpace).\n",
        "L = np.array([[0,   1/2, 1/3, 0, 0,   0 ],\n",
        "              [1/3, 0,   0,   0, 1/2, 0 ],\n",
        "              [1/3, 1/2, 0,   1, 0,   1/2 ],\n",
        "              [1/3, 0,   1/3, 0, 1/2, 1/2 ],\n",
        "              [0,   0,   0,   0, 0,   0 ],\n",
        "              [0,   0,   1/3, 0, 0,   0 ]])"
      ],
      "metadata": {
        "id": "HakKVLP-Ahev"
      },
      "execution_count": 51,
      "outputs": []
    },
    {
      "cell_type": "markdown",
      "source": [
        "In principle, we could use a linear algebra library, as below, to calculate the eigenvalues and vectors.\n",
        "And this would work for a small system. But this gets unmanagable for large systems.\n",
        "And since we only care about the principal eigenvector (the one with the largest eigenvalue, which will be 1 in this case), we can use the *power iteration method* which will scale better, and is faster for large systems.\n",
        "\n",
        "Use the code below to peek at the PageRank for this micro-internet."
      ],
      "metadata": {
        "id": "PQMZlg7NAu6I"
      }
    },
    {
      "cell_type": "code",
      "source": [
        "eVals, eVecs = la.eig(L) # Gets the eigenvalues and vectors\n",
        "order = np.absolute(eVals).argsort()[::-1] # Orders them by their eigenvalues\n",
        "eVals = eVals[order]\n",
        "eVecs = eVecs[:,order]\n",
        "\n",
        "r = eVecs[:, 0] # Sets r to be the principal eigenvector\n",
        "100 * np.real(r / np.sum(r)) # Make this eigenvector sum to one, then multiply by 100 Procrastinating Pats"
      ],
      "metadata": {
        "colab": {
          "base_uri": "https://localhost:8080/"
        },
        "id": "ARWb90_GAq-P",
        "outputId": "aa08833a-691e-4b0d-dd26-10a5c2d87399"
      },
      "execution_count": 52,
      "outputs": [
        {
          "output_type": "execute_result",
          "data": {
            "text/plain": [
              "array([16.        ,  5.33333333, 40.        , 25.33333333,  0.        ,\n",
              "       13.33333333])"
            ]
          },
          "metadata": {},
          "execution_count": 52
        }
      ]
    },
    {
      "cell_type": "markdown",
      "source": [
        "We can see from this list, the number of Procrastinating Pats that we expect to find on each website after long times.\n",
        "Putting them in order of *popularity* (based on this metric), the PageRank of this micro-internet is:\n",
        "\n",
        "**C**atBabel, **D**romeda, **A**vocado, **F**aceSpace, **B**ullseye, **e**Tings\n",
        "\n",
        "Referring back to the micro-internet diagram, is this what you would have expected?\n",
        "Convince yourself that based on which pages seem important given which others link to them, that this is a sensible ranking.\n",
        "\n",
        "Let's now try to get the same result using the Power-Iteration method that was covered in the video.\n",
        "This method will be much better at dealing with large systems.\n",
        "\n",
        "First let's set up our initial vector, $\\mathbf{r}^{(0)}$, so that we have our 100 Procrastinating Pats equally distributed on each of our 6 websites."
      ],
      "metadata": {
        "id": "ZmJoc19TAzWY"
      }
    },
    {
      "cell_type": "code",
      "source": [
        "r = 100 * np.ones(6) / 6 # Sets up this vector (6 entries of 1/6 × 100 each)\n",
        "r # Shows it's value"
      ],
      "metadata": {
        "colab": {
          "base_uri": "https://localhost:8080/"
        },
        "id": "ej591l00AxB6",
        "outputId": "602f5d26-3bf3-454f-9ed9-f3bfd58566a8"
      },
      "execution_count": 53,
      "outputs": [
        {
          "output_type": "execute_result",
          "data": {
            "text/plain": [
              "array([16.66666667, 16.66666667, 16.66666667, 16.66666667, 16.66666667,\n",
              "       16.66666667])"
            ]
          },
          "metadata": {},
          "execution_count": 53
        }
      ]
    },
    {
      "cell_type": "markdown",
      "source": [
        "Next, let's update the vector to the next minute, with the matrix $L$.\n",
        "Run the following cell multiple times, until the answer stabilises."
      ],
      "metadata": {
        "id": "97pv2WkuA2XB"
      }
    },
    {
      "cell_type": "code",
      "source": [
        "r = L @ r # Apply matrix L to r\n",
        "r # Show it's value\n",
        "# Re-run this cell multiple times to converge to the correct answer."
      ],
      "metadata": {
        "colab": {
          "base_uri": "https://localhost:8080/"
        },
        "id": "4DYsZVWXA1BX",
        "outputId": "3572babf-9e57-4355-cade-5fa2a3c4b99d"
      },
      "execution_count": 54,
      "outputs": [
        {
          "output_type": "execute_result",
          "data": {
            "text/plain": [
              "array([13.88888889, 13.88888889, 38.88888889, 27.77777778,  0.        ,\n",
              "        5.55555556])"
            ]
          },
          "metadata": {},
          "execution_count": 54
        }
      ]
    },
    {
      "cell_type": "markdown",
      "source": [
        "We can automate applying this matrix multiple times as follows,"
      ],
      "metadata": {
        "id": "PJaWLcLMA5lH"
      }
    },
    {
      "cell_type": "code",
      "source": [
        "r = 100 * np.ones(6) / 6 # Sets up this vector (6 entries of 1/6 × 100 each)\n",
        "for i in np.arange(100) : # Repeat 100 times\n",
        "    r = L @ r\n",
        "r"
      ],
      "metadata": {
        "colab": {
          "base_uri": "https://localhost:8080/"
        },
        "id": "4nNwoHbvA3Q_",
        "outputId": "5458ac44-9178-456c-8d8e-e3d15de44fe6"
      },
      "execution_count": 55,
      "outputs": [
        {
          "output_type": "execute_result",
          "data": {
            "text/plain": [
              "array([16.        ,  5.33333333, 40.        , 25.33333333,  0.        ,\n",
              "       13.33333333])"
            ]
          },
          "metadata": {},
          "execution_count": 55
        }
      ]
    },
    {
      "cell_type": "markdown",
      "source": [
        "Or even better, we can keep running until we get to the required tolerance."
      ],
      "metadata": {
        "id": "iU4JE02jA9BA"
      }
    },
    {
      "cell_type": "code",
      "source": [
        "r = 100 * np.ones(6) / 6 # Sets up this vector (6 entries of 1/6 × 100 each)\n",
        "lastR = r\n",
        "r = L @ r\n",
        "i = 0\n",
        "while la.norm(lastR - r) > 0.01 :\n",
        "    lastR = r\n",
        "    r = L @ r\n",
        "    i += 1\n",
        "print(str(i) + \" iterations to convergence.\")\n",
        "r"
      ],
      "metadata": {
        "colab": {
          "base_uri": "https://localhost:8080/"
        },
        "id": "pSI4B18tA7fy",
        "outputId": "bdad01ec-8835-4935-8a52-472f16fcd7c9"
      },
      "execution_count": 56,
      "outputs": [
        {
          "output_type": "stream",
          "name": "stdout",
          "text": [
            "18 iterations to convergence.\n"
          ]
        },
        {
          "output_type": "execute_result",
          "data": {
            "text/plain": [
              "array([16.00149917,  5.33252025, 39.99916911, 25.3324738 ,  0.        ,\n",
              "       13.33433767])"
            ]
          },
          "metadata": {},
          "execution_count": 56
        }
      ]
    },
    {
      "cell_type": "markdown",
      "source": [
        "See how the PageRank order is established fairly quickly, and the vector converges on the value we calculated earlier after a few tens of repeats.\n",
        "\n",
        "Congratulations! You've just calculated your first PageRank!"
      ],
      "metadata": {
        "id": "ZaVut0bXA_wH"
      }
    },
    {
      "cell_type": "markdown",
      "source": [
        "### Damping Parameter\n",
        "The system we just studied converged fairly quickly to the correct answer.\n",
        "Let's consider an extension to our micro-internet where things start to go wrong.\n",
        "\n",
        "Say a new website is added to the micro-internet: *Geoff's* Website.\n",
        "This website is linked to by *FaceSpace* and only links to itself.\n",
        "![An Expanded Micro-Internet](readonly/internet2.png \"An Expanded Micro-Internet\")\n",
        "\n",
        "Intuitively, only *FaceSpace*, which is in the bottom half of the page rank, links to this website amongst the two others it links to,\n",
        "so we might expect *Geoff's* site to have a correspondingly low PageRank score.\n",
        "\n",
        "Build the new $L$ matrix for the expanded micro-internet, and use Power-Iteration on the Procrastinating Pat vector.\n",
        "See what happens…"
      ],
      "metadata": {
        "id": "ICjr1_BiBBy4"
      }
    },
    {
      "cell_type": "code",
      "source": [
        " # We'll call this one L2, to distinguish it from the previous L.\n",
        "L2 = np.array([[0,   1/2, 1/3, 0, 0,   0, 0 ],\n",
        "               [1/3, 0,   0,   0, 1/2, 0, 0 ],\n",
        "               [1/3, 1/2, 0,   1, 0,   0, 0 ],\n",
        "               [1/3, 0,   1/3, 0, 1/2, 0, 0 ],\n",
        "               [0,   0,   0,   0, 0,   0, 0 ],\n",
        "               [0,   0,   1/3, 0, 0,   1, 0 ],\n",
        "               [0,   0,   0,   0, 0,   0, 1 ]])"
      ],
      "metadata": {
        "id": "YUotMgj3A-Gg"
      },
      "execution_count": 58,
      "outputs": []
    },
    {
      "cell_type": "code",
      "source": [
        "r = 100 * np.ones(7) / 7 # Sets up this vector (6 entries of 1/6 × 100 each)\n",
        "lastR = r\n",
        "r = L2 @ r\n",
        "i = 0\n",
        "while la.norm(lastR - r) > 0.01 :\n",
        "    lastR = r\n",
        "    r = L2 @ r\n",
        "    i += 1\n",
        "print(str(i) + \" iterations to convergence.\")\n",
        "r"
      ],
      "metadata": {
        "colab": {
          "base_uri": "https://localhost:8080/"
        },
        "id": "6FeBwDcTBChx",
        "outputId": "b281c9fc-261e-46a6-9d2a-1b8740e3b11b"
      },
      "execution_count": 59,
      "outputs": [
        {
          "output_type": "stream",
          "name": "stdout",
          "text": [
            "46 iterations to convergence.\n"
          ]
        },
        {
          "output_type": "execute_result",
          "data": {
            "text/plain": [
              "array([ 0.01077429,  0.00420324,  0.02131321,  0.01251789,  0.        ,\n",
              "       85.66547709, 14.28571429])"
            ]
          },
          "metadata": {},
          "execution_count": 59
        }
      ]
    },
    {
      "cell_type": "markdown",
      "source": [
        "That's no good! *Geoff* seems to be taking all the traffic on the micro-internet, and somehow coming at the top of the PageRank.\n",
        "This behaviour can be understood, because once a Pat get's to *Geoff's* Website, they can't leave, as all links head back to Geoff.\n",
        "\n",
        "To combat this, we can add a small probability that the Procrastinating Pats don't follow any link on a webpage, but instead visit a website on the micro-internet at random.\n",
        "We'll say the probability of them following a link is $d$ and the probability of choosing a random website is therefore $1-d$.\n",
        "We can use a new matrix to work out where the Pat's visit each minute.\n",
        "$$ M = d \\, L + \\frac{1-d}{n} \\, J $$\n",
        "where $J$ is an $n\\times n$ matrix where every element is one.\n",
        "\n",
        "If $d$ is one, we have the case we had previously, whereas if $d$ is zero, we will always visit a random webpage and therefore all webpages will be equally likely and equally ranked.\n",
        "For this extension to work best, $1-d$ should be somewhat small - though we won't go into a discussion about exactly how small.\n",
        "\n",
        "Let's retry this PageRank with this extension."
      ],
      "metadata": {
        "id": "tAzfn7yPBO0B"
      }
    },
    {
      "cell_type": "code",
      "source": [
        "d = 0.5 # Feel free to play with this parameter after running the code once.\n",
        "M = d * L2 + (1-d)/7 * np.ones([7, 7]) # np.ones() is the J matrix, with ones for each entry."
      ],
      "metadata": {
        "id": "yFlYVet0BNLl"
      },
      "execution_count": 60,
      "outputs": []
    },
    {
      "cell_type": "code",
      "source": [
        "r = 100 * np.ones(7) / 7 # Sets up this vector (6 entries of 1/6 × 100 each)\n",
        "lastR = r\n",
        "r = M @ r\n",
        "i = 0\n",
        "while la.norm(lastR - r) > 0.01 :\n",
        "    lastR = r\n",
        "    r = M @ r\n",
        "    i += 1\n",
        "print(str(i) + \" iterations to convergence.\")\n",
        "r"
      ],
      "metadata": {
        "colab": {
          "base_uri": "https://localhost:8080/"
        },
        "id": "IssfOZRYBQZ1",
        "outputId": "8885399a-90fa-40ec-cd3d-e81f20dc5c43"
      },
      "execution_count": 61,
      "outputs": [
        {
          "output_type": "stream",
          "name": "stdout",
          "text": [
            "8 iterations to convergence.\n"
          ]
        },
        {
          "output_type": "execute_result",
          "data": {
            "text/plain": [
              "array([13.13619674, 11.11812027, 19.27885503, 14.33173875,  7.14285714,\n",
              "       20.70651779, 14.28571429])"
            ]
          },
          "metadata": {},
          "execution_count": 61
        }
      ]
    },
    {
      "cell_type": "markdown",
      "source": [
        "This is certainly better, the PageRank gives sensible numbers for the Procrastinating Pats that end up on each webpage.\n",
        "This method still predicts Geoff has a high ranking webpage however.\n",
        "This could be seen as a consequence of using a small network. We could also get around the problem by not counting self-links when producing the L matrix (an if a website has no outgoing links, make it link to all websites equally).\n",
        "We won't look further down this route, as this is in the realm of improvements to PageRank, rather than eigenproblems.\n",
        "\n",
        "You are now in a good position, having gained an understanding of PageRank, to produce your own code to calculate the PageRank of a website with thousands of entries.\n",
        "\n",
        "Good Luck!"
      ],
      "metadata": {
        "id": "MryCvF-_BStw"
      }
    },
    {
      "cell_type": "markdown",
      "source": [
        "## Part 2 - Assessment\n",
        "In this assessment, you will be asked to produce a function that can calculate the PageRank for an arbitrarily large probability matrix.\n",
        "This, the final assignment of the course, will give less guidance than previous assessments.\n",
        "You will be expected to utilise code from earlier in the worksheet and re-purpose it to your needs.\n",
        "\n",
        "### How to submit\n",
        "Edit the code in the cell below to complete the assignment.\n",
        "Once you are finished and happy with it, press the *Submit Assignment* button at the top of this notebook.\n",
        "\n",
        "Please don't change any of the function names, as these will be checked by the grading script.\n",
        "\n",
        "If you have further questions about submissions or programming assignments, here is a [list](https://www.coursera.org/learn/linear-algebra-machine-learning/discussions/weeks/1/threads/jB4klkn5EeibtBIQyzFmQg) of Q&A. You can also raise an issue on the discussion forum. Good luck!"
      ],
      "metadata": {
        "id": "TGDKCHSEBUYB"
      }
    },
    {
      "cell_type": "code",
      "source": [
        "# PACKAGE\n",
        "# Here are the imports again, just in case you need them.\n",
        "# There is no need to edit or submit this cell.\n",
        "import numpy as np\n",
        "import numpy.linalg as la\n",
        "#from readonly.PageRankFunctions import *\n",
        "np.set_printoptions(suppress=True)\n",
        "# GRADED FUNCTION\n",
        "# Complete this function to provide the PageRank for an arbitrarily sized internet.\n",
        "# I.e. the principal eigenvector of the damped system, using the power iteration method.\n",
        "# (Normalisation doesn't matter here)\n",
        "# The functions inputs are the linkMatrix, and d the damping parameter - as defined in this worksheet.\n",
        "# (The damping parameter, d, will be set by the function - no need to set this yourself.)\n",
        "def pageRank(linkMatrix, d) :\n",
        "    n = linkMatrix.shape[0]\n",
        "    M = d * linkMatrix + (1-d)/n * np.ones([n, n])\n",
        "    r = 100 * np.ones(n) / n \n",
        "    last = r\n",
        "    r = M @ r\n",
        "    while la.norm(last - r) > 0.01 :\n",
        "        last = r\n",
        "        r = M @ r\n",
        "    return r"
      ],
      "metadata": {
        "id": "1nPJCTxBBRQu"
      },
      "execution_count": 64,
      "outputs": []
    },
    {
      "cell_type": "markdown",
      "source": [
        "### Test your code before submission\n",
        "To test the code you've written above, run the cell (select the cell above, then press the play button [ ▶| ] or press shift-enter).\n",
        "You can then use the code below to test out your function.\n",
        "You don't need to submit this cell; you can edit and run it as much as you like."
      ],
      "metadata": {
        "id": "4xmWqNRjBbVY"
      }
    },
    {
      "cell_type": "code",
      "source": [
        "# Use the following function to generate internets of different sizes.\n",
        "generate_internet(5)"
      ],
      "metadata": {
        "colab": {
          "base_uri": "https://localhost:8080/"
        },
        "id": "Yra6Bx7eBXoU",
        "outputId": "b10522ef-4073-4aaf-814c-73f1ad0c1f07"
      },
      "execution_count": 65,
      "outputs": [
        {
          "output_type": "execute_result",
          "data": {
            "text/plain": [
              "array([[0.2       , 0.2       , 0.5       , 0.33333333, 0.        ],\n",
              "       [0.2       , 0.2       , 0.        , 0.33333333, 0.        ],\n",
              "       [0.2       , 0.2       , 0.5       , 0.        , 0.        ],\n",
              "       [0.2       , 0.2       , 0.        , 0.        , 0.        ],\n",
              "       [0.2       , 0.2       , 0.        , 0.33333333, 1.        ]])"
            ]
          },
          "metadata": {},
          "execution_count": 65
        }
      ]
    },
    {
      "cell_type": "code",
      "source": [
        "# Test your PageRank method against the built in \"eig\" method.\n",
        "# You should see yours is a lot faster for large internets\n",
        "L = generate_internet(10)"
      ],
      "metadata": {
        "id": "fpVOn7uQBcYr"
      },
      "execution_count": 66,
      "outputs": []
    },
    {
      "cell_type": "code",
      "source": [
        "pageRank(L, 1)"
      ],
      "metadata": {
        "colab": {
          "base_uri": "https://localhost:8080/"
        },
        "id": "7z4OJ7exBfYX",
        "outputId": "f8b7f131-d53f-4c8b-cf23-aa4a66c50e67"
      },
      "execution_count": 67,
      "outputs": [
        {
          "output_type": "execute_result",
          "data": {
            "text/plain": [
              "array([ 0.00000001,  0.00000001,  0.01720032,  0.00000001,  0.00000001,\n",
              "        0.01720031,  0.00000001,  0.00688013,  0.00000001, 99.95871917])"
            ]
          },
          "metadata": {},
          "execution_count": 67
        }
      ]
    },
    {
      "cell_type": "code",
      "source": [
        "# Do note, this is calculating the eigenvalues of the link matrix, L,\n",
        "# without any damping. It may give different results that your pageRank function.\n",
        "# If you wish, you could modify this cell to include damping.\n",
        "# (There is no credit for this though)\n",
        "eVals, eVecs = la.eig(L) # Gets the eigenvalues and vectors\n",
        "order = np.absolute(eVals).argsort()[::-1] # Orders them by their eigenvalues\n",
        "eVals = eVals[order]\n",
        "eVecs = eVecs[:,order]\n",
        "\n",
        "r = eVecs[:, 0]\n",
        "100 * np.real(r / np.sum(r))"
      ],
      "metadata": {
        "colab": {
          "base_uri": "https://localhost:8080/"
        },
        "id": "YB5enKR4BgtA",
        "outputId": "1ce16a0e-9602-4413-d82e-5005f1156bfc"
      },
      "execution_count": 68,
      "outputs": [
        {
          "output_type": "execute_result",
          "data": {
            "text/plain": [
              "array([ 0.00000001,  0.00000001,  0.00000022,  0.00000001,  0.00000001,\n",
              "        0.00000021,  0.00000001,  0.00000009,  0.00000001, 99.9999994 ])"
            ]
          },
          "metadata": {},
          "execution_count": 68
        }
      ]
    },
    {
      "cell_type": "code",
      "source": [
        "# You may wish to view the PageRank graphically.\n",
        "# This code will draw a bar chart, for each (numbered) website on the generated internet,\n",
        "# The height of each bar will be the score in the PageRank.\n",
        "# Run this code to see the PageRank for each internet you generate.\n",
        "# Hopefully you should see what you might expect\n",
        "# - there are a few clusters of important websites, but most on the internet are rubbish!\n",
        "%pylab notebook\n",
        "r = pageRank(generate_internet(100), 0.9)\n",
        "plt.bar(arange(r.shape[0]), r);"
      ],
      "metadata": {
        "colab": {
          "base_uri": "https://localhost:8080/",
          "height": 34
        },
        "id": "7l43slOBBhhH",
        "outputId": "237ea936-0b7f-44e4-d1c1-87774742d557"
      },
      "execution_count": 69,
      "outputs": [
        {
          "output_type": "stream",
          "name": "stdout",
          "text": [
            "Populating the interactive namespace from numpy and matplotlib\n"
          ]
        },
        {
          "output_type": "display_data",
          "data": {
            "text/plain": [
              "<IPython.core.display.Javascript object>"
            ],
            "application/javascript": [
              "/* Put everything inside the global mpl namespace */\n",
              "window.mpl = {};\n",
              "\n",
              "\n",
              "mpl.get_websocket_type = function() {\n",
              "    if (typeof(WebSocket) !== 'undefined') {\n",
              "        return WebSocket;\n",
              "    } else if (typeof(MozWebSocket) !== 'undefined') {\n",
              "        return MozWebSocket;\n",
              "    } else {\n",
              "        alert('Your browser does not have WebSocket support. ' +\n",
              "              'Please try Chrome, Safari or Firefox ≥ 6. ' +\n",
              "              'Firefox 4 and 5 are also supported but you ' +\n",
              "              'have to enable WebSockets in about:config.');\n",
              "    };\n",
              "}\n",
              "\n",
              "mpl.figure = function(figure_id, websocket, ondownload, parent_element) {\n",
              "    this.id = figure_id;\n",
              "\n",
              "    this.ws = websocket;\n",
              "\n",
              "    this.supports_binary = (this.ws.binaryType != undefined);\n",
              "\n",
              "    if (!this.supports_binary) {\n",
              "        var warnings = document.getElementById(\"mpl-warnings\");\n",
              "        if (warnings) {\n",
              "            warnings.style.display = 'block';\n",
              "            warnings.textContent = (\n",
              "                \"This browser does not support binary websocket messages. \" +\n",
              "                    \"Performance may be slow.\");\n",
              "        }\n",
              "    }\n",
              "\n",
              "    this.imageObj = new Image();\n",
              "\n",
              "    this.context = undefined;\n",
              "    this.message = undefined;\n",
              "    this.canvas = undefined;\n",
              "    this.rubberband_canvas = undefined;\n",
              "    this.rubberband_context = undefined;\n",
              "    this.format_dropdown = undefined;\n",
              "\n",
              "    this.image_mode = 'full';\n",
              "\n",
              "    this.root = $('<div/>');\n",
              "    this._root_extra_style(this.root)\n",
              "    this.root.attr('style', 'display: inline-block');\n",
              "\n",
              "    $(parent_element).append(this.root);\n",
              "\n",
              "    this._init_header(this);\n",
              "    this._init_canvas(this);\n",
              "    this._init_toolbar(this);\n",
              "\n",
              "    var fig = this;\n",
              "\n",
              "    this.waiting = false;\n",
              "\n",
              "    this.ws.onopen =  function () {\n",
              "            fig.send_message(\"supports_binary\", {value: fig.supports_binary});\n",
              "            fig.send_message(\"send_image_mode\", {});\n",
              "            if (mpl.ratio != 1) {\n",
              "                fig.send_message(\"set_dpi_ratio\", {'dpi_ratio': mpl.ratio});\n",
              "            }\n",
              "            fig.send_message(\"refresh\", {});\n",
              "        }\n",
              "\n",
              "    this.imageObj.onload = function() {\n",
              "            if (fig.image_mode == 'full') {\n",
              "                // Full images could contain transparency (where diff images\n",
              "                // almost always do), so we need to clear the canvas so that\n",
              "                // there is no ghosting.\n",
              "                fig.context.clearRect(0, 0, fig.canvas.width, fig.canvas.height);\n",
              "            }\n",
              "            fig.context.drawImage(fig.imageObj, 0, 0);\n",
              "        };\n",
              "\n",
              "    this.imageObj.onunload = function() {\n",
              "        fig.ws.close();\n",
              "    }\n",
              "\n",
              "    this.ws.onmessage = this._make_on_message_function(this);\n",
              "\n",
              "    this.ondownload = ondownload;\n",
              "}\n",
              "\n",
              "mpl.figure.prototype._init_header = function() {\n",
              "    var titlebar = $(\n",
              "        '<div class=\"ui-dialog-titlebar ui-widget-header ui-corner-all ' +\n",
              "        'ui-helper-clearfix\"/>');\n",
              "    var titletext = $(\n",
              "        '<div class=\"ui-dialog-title\" style=\"width: 100%; ' +\n",
              "        'text-align: center; padding: 3px;\"/>');\n",
              "    titlebar.append(titletext)\n",
              "    this.root.append(titlebar);\n",
              "    this.header = titletext[0];\n",
              "}\n",
              "\n",
              "\n",
              "\n",
              "mpl.figure.prototype._canvas_extra_style = function(canvas_div) {\n",
              "\n",
              "}\n",
              "\n",
              "\n",
              "mpl.figure.prototype._root_extra_style = function(canvas_div) {\n",
              "\n",
              "}\n",
              "\n",
              "mpl.figure.prototype._init_canvas = function() {\n",
              "    var fig = this;\n",
              "\n",
              "    var canvas_div = $('<div/>');\n",
              "\n",
              "    canvas_div.attr('style', 'position: relative; clear: both; outline: 0');\n",
              "\n",
              "    function canvas_keyboard_event(event) {\n",
              "        return fig.key_event(event, event['data']);\n",
              "    }\n",
              "\n",
              "    canvas_div.keydown('key_press', canvas_keyboard_event);\n",
              "    canvas_div.keyup('key_release', canvas_keyboard_event);\n",
              "    this.canvas_div = canvas_div\n",
              "    this._canvas_extra_style(canvas_div)\n",
              "    this.root.append(canvas_div);\n",
              "\n",
              "    var canvas = $('<canvas/>');\n",
              "    canvas.addClass('mpl-canvas');\n",
              "    canvas.attr('style', \"left: 0; top: 0; z-index: 0; outline: 0\")\n",
              "\n",
              "    this.canvas = canvas[0];\n",
              "    this.context = canvas[0].getContext(\"2d\");\n",
              "\n",
              "    var backingStore = this.context.backingStorePixelRatio ||\n",
              "\tthis.context.webkitBackingStorePixelRatio ||\n",
              "\tthis.context.mozBackingStorePixelRatio ||\n",
              "\tthis.context.msBackingStorePixelRatio ||\n",
              "\tthis.context.oBackingStorePixelRatio ||\n",
              "\tthis.context.backingStorePixelRatio || 1;\n",
              "\n",
              "    mpl.ratio = (window.devicePixelRatio || 1) / backingStore;\n",
              "\n",
              "    var rubberband = $('<canvas/>');\n",
              "    rubberband.attr('style', \"position: absolute; left: 0; top: 0; z-index: 1;\")\n",
              "\n",
              "    var pass_mouse_events = true;\n",
              "\n",
              "    canvas_div.resizable({\n",
              "        start: function(event, ui) {\n",
              "            pass_mouse_events = false;\n",
              "        },\n",
              "        resize: function(event, ui) {\n",
              "            fig.request_resize(ui.size.width, ui.size.height);\n",
              "        },\n",
              "        stop: function(event, ui) {\n",
              "            pass_mouse_events = true;\n",
              "            fig.request_resize(ui.size.width, ui.size.height);\n",
              "        },\n",
              "    });\n",
              "\n",
              "    function mouse_event_fn(event) {\n",
              "        if (pass_mouse_events)\n",
              "            return fig.mouse_event(event, event['data']);\n",
              "    }\n",
              "\n",
              "    rubberband.mousedown('button_press', mouse_event_fn);\n",
              "    rubberband.mouseup('button_release', mouse_event_fn);\n",
              "    // Throttle sequential mouse events to 1 every 20ms.\n",
              "    rubberband.mousemove('motion_notify', mouse_event_fn);\n",
              "\n",
              "    rubberband.mouseenter('figure_enter', mouse_event_fn);\n",
              "    rubberband.mouseleave('figure_leave', mouse_event_fn);\n",
              "\n",
              "    canvas_div.on(\"wheel\", function (event) {\n",
              "        event = event.originalEvent;\n",
              "        event['data'] = 'scroll'\n",
              "        if (event.deltaY < 0) {\n",
              "            event.step = 1;\n",
              "        } else {\n",
              "            event.step = -1;\n",
              "        }\n",
              "        mouse_event_fn(event);\n",
              "    });\n",
              "\n",
              "    canvas_div.append(canvas);\n",
              "    canvas_div.append(rubberband);\n",
              "\n",
              "    this.rubberband = rubberband;\n",
              "    this.rubberband_canvas = rubberband[0];\n",
              "    this.rubberband_context = rubberband[0].getContext(\"2d\");\n",
              "    this.rubberband_context.strokeStyle = \"#000000\";\n",
              "\n",
              "    this._resize_canvas = function(width, height) {\n",
              "        // Keep the size of the canvas, canvas container, and rubber band\n",
              "        // canvas in synch.\n",
              "        canvas_div.css('width', width)\n",
              "        canvas_div.css('height', height)\n",
              "\n",
              "        canvas.attr('width', width * mpl.ratio);\n",
              "        canvas.attr('height', height * mpl.ratio);\n",
              "        canvas.attr('style', 'width: ' + width + 'px; height: ' + height + 'px;');\n",
              "\n",
              "        rubberband.attr('width', width);\n",
              "        rubberband.attr('height', height);\n",
              "    }\n",
              "\n",
              "    // Set the figure to an initial 600x600px, this will subsequently be updated\n",
              "    // upon first draw.\n",
              "    this._resize_canvas(600, 600);\n",
              "\n",
              "    // Disable right mouse context menu.\n",
              "    $(this.rubberband_canvas).bind(\"contextmenu\",function(e){\n",
              "        return false;\n",
              "    });\n",
              "\n",
              "    function set_focus () {\n",
              "        canvas.focus();\n",
              "        canvas_div.focus();\n",
              "    }\n",
              "\n",
              "    window.setTimeout(set_focus, 100);\n",
              "}\n",
              "\n",
              "mpl.figure.prototype._init_toolbar = function() {\n",
              "    var fig = this;\n",
              "\n",
              "    var nav_element = $('<div/>');\n",
              "    nav_element.attr('style', 'width: 100%');\n",
              "    this.root.append(nav_element);\n",
              "\n",
              "    // Define a callback function for later on.\n",
              "    function toolbar_event(event) {\n",
              "        return fig.toolbar_button_onclick(event['data']);\n",
              "    }\n",
              "    function toolbar_mouse_event(event) {\n",
              "        return fig.toolbar_button_onmouseover(event['data']);\n",
              "    }\n",
              "\n",
              "    for(var toolbar_ind in mpl.toolbar_items) {\n",
              "        var name = mpl.toolbar_items[toolbar_ind][0];\n",
              "        var tooltip = mpl.toolbar_items[toolbar_ind][1];\n",
              "        var image = mpl.toolbar_items[toolbar_ind][2];\n",
              "        var method_name = mpl.toolbar_items[toolbar_ind][3];\n",
              "\n",
              "        if (!name) {\n",
              "            // put a spacer in here.\n",
              "            continue;\n",
              "        }\n",
              "        var button = $('<button/>');\n",
              "        button.addClass('ui-button ui-widget ui-state-default ui-corner-all ' +\n",
              "                        'ui-button-icon-only');\n",
              "        button.attr('role', 'button');\n",
              "        button.attr('aria-disabled', 'false');\n",
              "        button.click(method_name, toolbar_event);\n",
              "        button.mouseover(tooltip, toolbar_mouse_event);\n",
              "\n",
              "        var icon_img = $('<span/>');\n",
              "        icon_img.addClass('ui-button-icon-primary ui-icon');\n",
              "        icon_img.addClass(image);\n",
              "        icon_img.addClass('ui-corner-all');\n",
              "\n",
              "        var tooltip_span = $('<span/>');\n",
              "        tooltip_span.addClass('ui-button-text');\n",
              "        tooltip_span.html(tooltip);\n",
              "\n",
              "        button.append(icon_img);\n",
              "        button.append(tooltip_span);\n",
              "\n",
              "        nav_element.append(button);\n",
              "    }\n",
              "\n",
              "    var fmt_picker_span = $('<span/>');\n",
              "\n",
              "    var fmt_picker = $('<select/>');\n",
              "    fmt_picker.addClass('mpl-toolbar-option ui-widget ui-widget-content');\n",
              "    fmt_picker_span.append(fmt_picker);\n",
              "    nav_element.append(fmt_picker_span);\n",
              "    this.format_dropdown = fmt_picker[0];\n",
              "\n",
              "    for (var ind in mpl.extensions) {\n",
              "        var fmt = mpl.extensions[ind];\n",
              "        var option = $(\n",
              "            '<option/>', {selected: fmt === mpl.default_extension}).html(fmt);\n",
              "        fmt_picker.append(option);\n",
              "    }\n",
              "\n",
              "    // Add hover states to the ui-buttons\n",
              "    $( \".ui-button\" ).hover(\n",
              "        function() { $(this).addClass(\"ui-state-hover\");},\n",
              "        function() { $(this).removeClass(\"ui-state-hover\");}\n",
              "    );\n",
              "\n",
              "    var status_bar = $('<span class=\"mpl-message\"/>');\n",
              "    nav_element.append(status_bar);\n",
              "    this.message = status_bar[0];\n",
              "}\n",
              "\n",
              "mpl.figure.prototype.request_resize = function(x_pixels, y_pixels) {\n",
              "    // Request matplotlib to resize the figure. Matplotlib will then trigger a resize in the client,\n",
              "    // which will in turn request a refresh of the image.\n",
              "    this.send_message('resize', {'width': x_pixels, 'height': y_pixels});\n",
              "}\n",
              "\n",
              "mpl.figure.prototype.send_message = function(type, properties) {\n",
              "    properties['type'] = type;\n",
              "    properties['figure_id'] = this.id;\n",
              "    this.ws.send(JSON.stringify(properties));\n",
              "}\n",
              "\n",
              "mpl.figure.prototype.send_draw_message = function() {\n",
              "    if (!this.waiting) {\n",
              "        this.waiting = true;\n",
              "        this.ws.send(JSON.stringify({type: \"draw\", figure_id: this.id}));\n",
              "    }\n",
              "}\n",
              "\n",
              "\n",
              "mpl.figure.prototype.handle_save = function(fig, msg) {\n",
              "    var format_dropdown = fig.format_dropdown;\n",
              "    var format = format_dropdown.options[format_dropdown.selectedIndex].value;\n",
              "    fig.ondownload(fig, format);\n",
              "}\n",
              "\n",
              "\n",
              "mpl.figure.prototype.handle_resize = function(fig, msg) {\n",
              "    var size = msg['size'];\n",
              "    if (size[0] != fig.canvas.width || size[1] != fig.canvas.height) {\n",
              "        fig._resize_canvas(size[0], size[1]);\n",
              "        fig.send_message(\"refresh\", {});\n",
              "    };\n",
              "}\n",
              "\n",
              "mpl.figure.prototype.handle_rubberband = function(fig, msg) {\n",
              "    var x0 = msg['x0'] / mpl.ratio;\n",
              "    var y0 = (fig.canvas.height - msg['y0']) / mpl.ratio;\n",
              "    var x1 = msg['x1'] / mpl.ratio;\n",
              "    var y1 = (fig.canvas.height - msg['y1']) / mpl.ratio;\n",
              "    x0 = Math.floor(x0) + 0.5;\n",
              "    y0 = Math.floor(y0) + 0.5;\n",
              "    x1 = Math.floor(x1) + 0.5;\n",
              "    y1 = Math.floor(y1) + 0.5;\n",
              "    var min_x = Math.min(x0, x1);\n",
              "    var min_y = Math.min(y0, y1);\n",
              "    var width = Math.abs(x1 - x0);\n",
              "    var height = Math.abs(y1 - y0);\n",
              "\n",
              "    fig.rubberband_context.clearRect(\n",
              "        0, 0, fig.canvas.width / mpl.ratio, fig.canvas.height / mpl.ratio);\n",
              "\n",
              "    fig.rubberband_context.strokeRect(min_x, min_y, width, height);\n",
              "}\n",
              "\n",
              "mpl.figure.prototype.handle_figure_label = function(fig, msg) {\n",
              "    // Updates the figure title.\n",
              "    fig.header.textContent = msg['label'];\n",
              "}\n",
              "\n",
              "mpl.figure.prototype.handle_cursor = function(fig, msg) {\n",
              "    var cursor = msg['cursor'];\n",
              "    switch(cursor)\n",
              "    {\n",
              "    case 0:\n",
              "        cursor = 'pointer';\n",
              "        break;\n",
              "    case 1:\n",
              "        cursor = 'default';\n",
              "        break;\n",
              "    case 2:\n",
              "        cursor = 'crosshair';\n",
              "        break;\n",
              "    case 3:\n",
              "        cursor = 'move';\n",
              "        break;\n",
              "    }\n",
              "    fig.rubberband_canvas.style.cursor = cursor;\n",
              "}\n",
              "\n",
              "mpl.figure.prototype.handle_message = function(fig, msg) {\n",
              "    fig.message.textContent = msg['message'];\n",
              "}\n",
              "\n",
              "mpl.figure.prototype.handle_draw = function(fig, msg) {\n",
              "    // Request the server to send over a new figure.\n",
              "    fig.send_draw_message();\n",
              "}\n",
              "\n",
              "mpl.figure.prototype.handle_image_mode = function(fig, msg) {\n",
              "    fig.image_mode = msg['mode'];\n",
              "}\n",
              "\n",
              "mpl.figure.prototype.updated_canvas_event = function() {\n",
              "    // Called whenever the canvas gets updated.\n",
              "    this.send_message(\"ack\", {});\n",
              "}\n",
              "\n",
              "// A function to construct a web socket function for onmessage handling.\n",
              "// Called in the figure constructor.\n",
              "mpl.figure.prototype._make_on_message_function = function(fig) {\n",
              "    return function socket_on_message(evt) {\n",
              "        if (evt.data instanceof Blob) {\n",
              "            /* FIXME: We get \"Resource interpreted as Image but\n",
              "             * transferred with MIME type text/plain:\" errors on\n",
              "             * Chrome.  But how to set the MIME type?  It doesn't seem\n",
              "             * to be part of the websocket stream */\n",
              "            evt.data.type = \"image/png\";\n",
              "\n",
              "            /* Free the memory for the previous frames */\n",
              "            if (fig.imageObj.src) {\n",
              "                (window.URL || window.webkitURL).revokeObjectURL(\n",
              "                    fig.imageObj.src);\n",
              "            }\n",
              "\n",
              "            fig.imageObj.src = (window.URL || window.webkitURL).createObjectURL(\n",
              "                evt.data);\n",
              "            fig.updated_canvas_event();\n",
              "            fig.waiting = false;\n",
              "            return;\n",
              "        }\n",
              "        else if (typeof evt.data === 'string' && evt.data.slice(0, 21) == \"data:image/png;base64\") {\n",
              "            fig.imageObj.src = evt.data;\n",
              "            fig.updated_canvas_event();\n",
              "            fig.waiting = false;\n",
              "            return;\n",
              "        }\n",
              "\n",
              "        var msg = JSON.parse(evt.data);\n",
              "        var msg_type = msg['type'];\n",
              "\n",
              "        // Call the  \"handle_{type}\" callback, which takes\n",
              "        // the figure and JSON message as its only arguments.\n",
              "        try {\n",
              "            var callback = fig[\"handle_\" + msg_type];\n",
              "        } catch (e) {\n",
              "            console.log(\"No handler for the '\" + msg_type + \"' message type: \", msg);\n",
              "            return;\n",
              "        }\n",
              "\n",
              "        if (callback) {\n",
              "            try {\n",
              "                // console.log(\"Handling '\" + msg_type + \"' message: \", msg);\n",
              "                callback(fig, msg);\n",
              "            } catch (e) {\n",
              "                console.log(\"Exception inside the 'handler_\" + msg_type + \"' callback:\", e, e.stack, msg);\n",
              "            }\n",
              "        }\n",
              "    };\n",
              "}\n",
              "\n",
              "// from http://stackoverflow.com/questions/1114465/getting-mouse-location-in-canvas\n",
              "mpl.findpos = function(e) {\n",
              "    //this section is from http://www.quirksmode.org/js/events_properties.html\n",
              "    var targ;\n",
              "    if (!e)\n",
              "        e = window.event;\n",
              "    if (e.target)\n",
              "        targ = e.target;\n",
              "    else if (e.srcElement)\n",
              "        targ = e.srcElement;\n",
              "    if (targ.nodeType == 3) // defeat Safari bug\n",
              "        targ = targ.parentNode;\n",
              "\n",
              "    // jQuery normalizes the pageX and pageY\n",
              "    // pageX,Y are the mouse positions relative to the document\n",
              "    // offset() returns the position of the element relative to the document\n",
              "    var x = e.pageX - $(targ).offset().left;\n",
              "    var y = e.pageY - $(targ).offset().top;\n",
              "\n",
              "    return {\"x\": x, \"y\": y};\n",
              "};\n",
              "\n",
              "/*\n",
              " * return a copy of an object with only non-object keys\n",
              " * we need this to avoid circular references\n",
              " * http://stackoverflow.com/a/24161582/3208463\n",
              " */\n",
              "function simpleKeys (original) {\n",
              "  return Object.keys(original).reduce(function (obj, key) {\n",
              "    if (typeof original[key] !== 'object')\n",
              "        obj[key] = original[key]\n",
              "    return obj;\n",
              "  }, {});\n",
              "}\n",
              "\n",
              "mpl.figure.prototype.mouse_event = function(event, name) {\n",
              "    var canvas_pos = mpl.findpos(event)\n",
              "\n",
              "    if (name === 'button_press')\n",
              "    {\n",
              "        this.canvas.focus();\n",
              "        this.canvas_div.focus();\n",
              "    }\n",
              "\n",
              "    var x = canvas_pos.x * mpl.ratio;\n",
              "    var y = canvas_pos.y * mpl.ratio;\n",
              "\n",
              "    this.send_message(name, {x: x, y: y, button: event.button,\n",
              "                             step: event.step,\n",
              "                             guiEvent: simpleKeys(event)});\n",
              "\n",
              "    /* This prevents the web browser from automatically changing to\n",
              "     * the text insertion cursor when the button is pressed.  We want\n",
              "     * to control all of the cursor setting manually through the\n",
              "     * 'cursor' event from matplotlib */\n",
              "    event.preventDefault();\n",
              "    return false;\n",
              "}\n",
              "\n",
              "mpl.figure.prototype._key_event_extra = function(event, name) {\n",
              "    // Handle any extra behaviour associated with a key event\n",
              "}\n",
              "\n",
              "mpl.figure.prototype.key_event = function(event, name) {\n",
              "\n",
              "    // Prevent repeat events\n",
              "    if (name == 'key_press')\n",
              "    {\n",
              "        if (event.which === this._key)\n",
              "            return;\n",
              "        else\n",
              "            this._key = event.which;\n",
              "    }\n",
              "    if (name == 'key_release')\n",
              "        this._key = null;\n",
              "\n",
              "    var value = '';\n",
              "    if (event.ctrlKey && event.which != 17)\n",
              "        value += \"ctrl+\";\n",
              "    if (event.altKey && event.which != 18)\n",
              "        value += \"alt+\";\n",
              "    if (event.shiftKey && event.which != 16)\n",
              "        value += \"shift+\";\n",
              "\n",
              "    value += 'k';\n",
              "    value += event.which.toString();\n",
              "\n",
              "    this._key_event_extra(event, name);\n",
              "\n",
              "    this.send_message(name, {key: value,\n",
              "                             guiEvent: simpleKeys(event)});\n",
              "    return false;\n",
              "}\n",
              "\n",
              "mpl.figure.prototype.toolbar_button_onclick = function(name) {\n",
              "    if (name == 'download') {\n",
              "        this.handle_save(this, null);\n",
              "    } else {\n",
              "        this.send_message(\"toolbar_button\", {name: name});\n",
              "    }\n",
              "};\n",
              "\n",
              "mpl.figure.prototype.toolbar_button_onmouseover = function(tooltip) {\n",
              "    this.message.textContent = tooltip;\n",
              "};\n",
              "mpl.toolbar_items = [[\"Home\", \"Reset original view\", \"fa fa-home icon-home\", \"home\"], [\"Back\", \"Back to previous view\", \"fa fa-arrow-left icon-arrow-left\", \"back\"], [\"Forward\", \"Forward to next view\", \"fa fa-arrow-right icon-arrow-right\", \"forward\"], [\"\", \"\", \"\", \"\"], [\"Pan\", \"Pan axes with left mouse, zoom with right\", \"fa fa-arrows icon-move\", \"pan\"], [\"Zoom\", \"Zoom to rectangle\", \"fa fa-square-o icon-check-empty\", \"zoom\"], [\"\", \"\", \"\", \"\"], [\"Download\", \"Download plot\", \"fa fa-floppy-o icon-save\", \"download\"]];\n",
              "\n",
              "mpl.extensions = [\"eps\", \"jpeg\", \"pdf\", \"png\", \"ps\", \"raw\", \"svg\", \"tif\"];\n",
              "\n",
              "mpl.default_extension = \"png\";var comm_websocket_adapter = function(comm) {\n",
              "    // Create a \"websocket\"-like object which calls the given IPython comm\n",
              "    // object with the appropriate methods. Currently this is a non binary\n",
              "    // socket, so there is still some room for performance tuning.\n",
              "    var ws = {};\n",
              "\n",
              "    ws.close = function() {\n",
              "        comm.close()\n",
              "    };\n",
              "    ws.send = function(m) {\n",
              "        //console.log('sending', m);\n",
              "        comm.send(m);\n",
              "    };\n",
              "    // Register the callback with on_msg.\n",
              "    comm.on_msg(function(msg) {\n",
              "        //console.log('receiving', msg['content']['data'], msg);\n",
              "        // Pass the mpl event to the overridden (by mpl) onmessage function.\n",
              "        ws.onmessage(msg['content']['data'])\n",
              "    });\n",
              "    return ws;\n",
              "}\n",
              "\n",
              "mpl.mpl_figure_comm = function(comm, msg) {\n",
              "    // This is the function which gets called when the mpl process\n",
              "    // starts-up an IPython Comm through the \"matplotlib\" channel.\n",
              "\n",
              "    var id = msg.content.data.id;\n",
              "    // Get hold of the div created by the display call when the Comm\n",
              "    // socket was opened in Python.\n",
              "    var element = $(\"#\" + id);\n",
              "    var ws_proxy = comm_websocket_adapter(comm)\n",
              "\n",
              "    function ondownload(figure, format) {\n",
              "        window.open(figure.imageObj.src);\n",
              "    }\n",
              "\n",
              "    var fig = new mpl.figure(id, ws_proxy,\n",
              "                           ondownload,\n",
              "                           element.get(0));\n",
              "\n",
              "    // Call onopen now - mpl needs it, as it is assuming we've passed it a real\n",
              "    // web socket which is closed, not our websocket->open comm proxy.\n",
              "    ws_proxy.onopen();\n",
              "\n",
              "    fig.parent_element = element.get(0);\n",
              "    fig.cell_info = mpl.find_output_cell(\"<div id='\" + id + \"'></div>\");\n",
              "    if (!fig.cell_info) {\n",
              "        console.error(\"Failed to find cell for figure\", id, fig);\n",
              "        return;\n",
              "    }\n",
              "\n",
              "    var output_index = fig.cell_info[2]\n",
              "    var cell = fig.cell_info[0];\n",
              "\n",
              "};\n",
              "\n",
              "mpl.figure.prototype.handle_close = function(fig, msg) {\n",
              "    var width = fig.canvas.width/mpl.ratio\n",
              "    fig.root.unbind('remove')\n",
              "\n",
              "    // Update the output cell to use the data from the current canvas.\n",
              "    fig.push_to_output();\n",
              "    var dataURL = fig.canvas.toDataURL();\n",
              "    // Re-enable the keyboard manager in IPython - without this line, in FF,\n",
              "    // the notebook keyboard shortcuts fail.\n",
              "    IPython.keyboard_manager.enable()\n",
              "    $(fig.parent_element).html('<img src=\"' + dataURL + '\" width=\"' + width + '\">');\n",
              "    fig.close_ws(fig, msg);\n",
              "}\n",
              "\n",
              "mpl.figure.prototype.close_ws = function(fig, msg){\n",
              "    fig.send_message('closing', msg);\n",
              "    // fig.ws.close()\n",
              "}\n",
              "\n",
              "mpl.figure.prototype.push_to_output = function(remove_interactive) {\n",
              "    // Turn the data on the canvas into data in the output cell.\n",
              "    var width = this.canvas.width/mpl.ratio\n",
              "    var dataURL = this.canvas.toDataURL();\n",
              "    this.cell_info[1]['text/html'] = '<img src=\"' + dataURL + '\" width=\"' + width + '\">';\n",
              "}\n",
              "\n",
              "mpl.figure.prototype.updated_canvas_event = function() {\n",
              "    // Tell IPython that the notebook contents must change.\n",
              "    IPython.notebook.set_dirty(true);\n",
              "    this.send_message(\"ack\", {});\n",
              "    var fig = this;\n",
              "    // Wait a second, then push the new image to the DOM so\n",
              "    // that it is saved nicely (might be nice to debounce this).\n",
              "    setTimeout(function () { fig.push_to_output() }, 1000);\n",
              "}\n",
              "\n",
              "mpl.figure.prototype._init_toolbar = function() {\n",
              "    var fig = this;\n",
              "\n",
              "    var nav_element = $('<div/>');\n",
              "    nav_element.attr('style', 'width: 100%');\n",
              "    this.root.append(nav_element);\n",
              "\n",
              "    // Define a callback function for later on.\n",
              "    function toolbar_event(event) {\n",
              "        return fig.toolbar_button_onclick(event['data']);\n",
              "    }\n",
              "    function toolbar_mouse_event(event) {\n",
              "        return fig.toolbar_button_onmouseover(event['data']);\n",
              "    }\n",
              "\n",
              "    for(var toolbar_ind in mpl.toolbar_items){\n",
              "        var name = mpl.toolbar_items[toolbar_ind][0];\n",
              "        var tooltip = mpl.toolbar_items[toolbar_ind][1];\n",
              "        var image = mpl.toolbar_items[toolbar_ind][2];\n",
              "        var method_name = mpl.toolbar_items[toolbar_ind][3];\n",
              "\n",
              "        if (!name) { continue; };\n",
              "\n",
              "        var button = $('<button class=\"btn btn-default\" href=\"#\" title=\"' + name + '\"><i class=\"fa ' + image + ' fa-lg\"></i></button>');\n",
              "        button.click(method_name, toolbar_event);\n",
              "        button.mouseover(tooltip, toolbar_mouse_event);\n",
              "        nav_element.append(button);\n",
              "    }\n",
              "\n",
              "    // Add the status bar.\n",
              "    var status_bar = $('<span class=\"mpl-message\" style=\"text-align:right; float: right;\"/>');\n",
              "    nav_element.append(status_bar);\n",
              "    this.message = status_bar[0];\n",
              "\n",
              "    // Add the close button to the window.\n",
              "    var buttongrp = $('<div class=\"btn-group inline pull-right\"></div>');\n",
              "    var button = $('<button class=\"btn btn-mini btn-primary\" href=\"#\" title=\"Stop Interaction\"><i class=\"fa fa-power-off icon-remove icon-large\"></i></button>');\n",
              "    button.click(function (evt) { fig.handle_close(fig, {}); } );\n",
              "    button.mouseover('Stop Interaction', toolbar_mouse_event);\n",
              "    buttongrp.append(button);\n",
              "    var titlebar = this.root.find($('.ui-dialog-titlebar'));\n",
              "    titlebar.prepend(buttongrp);\n",
              "}\n",
              "\n",
              "mpl.figure.prototype._root_extra_style = function(el){\n",
              "    var fig = this\n",
              "    el.on(\"remove\", function(){\n",
              "\tfig.close_ws(fig, {});\n",
              "    });\n",
              "}\n",
              "\n",
              "mpl.figure.prototype._canvas_extra_style = function(el){\n",
              "    // this is important to make the div 'focusable\n",
              "    el.attr('tabindex', 0)\n",
              "    // reach out to IPython and tell the keyboard manager to turn it's self\n",
              "    // off when our div gets focus\n",
              "\n",
              "    // location in version 3\n",
              "    if (IPython.notebook.keyboard_manager) {\n",
              "        IPython.notebook.keyboard_manager.register_events(el);\n",
              "    }\n",
              "    else {\n",
              "        // location in version 2\n",
              "        IPython.keyboard_manager.register_events(el);\n",
              "    }\n",
              "\n",
              "}\n",
              "\n",
              "mpl.figure.prototype._key_event_extra = function(event, name) {\n",
              "    var manager = IPython.notebook.keyboard_manager;\n",
              "    if (!manager)\n",
              "        manager = IPython.keyboard_manager;\n",
              "\n",
              "    // Check for shift+enter\n",
              "    if (event.shiftKey && event.which == 13) {\n",
              "        this.canvas_div.blur();\n",
              "        // select the cell after this one\n",
              "        var index = IPython.notebook.find_cell_index(this.cell_info[0]);\n",
              "        IPython.notebook.select(index + 1);\n",
              "    }\n",
              "}\n",
              "\n",
              "mpl.figure.prototype.handle_save = function(fig, msg) {\n",
              "    fig.ondownload(fig, null);\n",
              "}\n",
              "\n",
              "\n",
              "mpl.find_output_cell = function(html_output) {\n",
              "    // Return the cell and output element which can be found *uniquely* in the notebook.\n",
              "    // Note - this is a bit hacky, but it is done because the \"notebook_saving.Notebook\"\n",
              "    // IPython event is triggered only after the cells have been serialised, which for\n",
              "    // our purposes (turning an active figure into a static one), is too late.\n",
              "    var cells = IPython.notebook.get_cells();\n",
              "    var ncells = cells.length;\n",
              "    for (var i=0; i<ncells; i++) {\n",
              "        var cell = cells[i];\n",
              "        if (cell.cell_type === 'code'){\n",
              "            for (var j=0; j<cell.output_area.outputs.length; j++) {\n",
              "                var data = cell.output_area.outputs[j];\n",
              "                if (data.data) {\n",
              "                    // IPython >= 3 moved mimebundle to data attribute of output\n",
              "                    data = data.data;\n",
              "                }\n",
              "                if (data['text/html'] == html_output) {\n",
              "                    return [cell, data, j];\n",
              "                }\n",
              "            }\n",
              "        }\n",
              "    }\n",
              "}\n",
              "\n",
              "// Register the function which deals with the matplotlib target/channel.\n",
              "// The kernel may be null if the page has been refreshed.\n",
              "if (IPython.notebook.kernel != null) {\n",
              "    IPython.notebook.kernel.comm_manager.register_target('matplotlib', mpl.mpl_figure_comm);\n",
              "}\n"
            ]
          },
          "metadata": {}
        },
        {
          "output_type": "display_data",
          "data": {
            "text/plain": [
              "<IPython.core.display.HTML object>"
            ],
            "text/html": [
              "<div id='49441401-fd32-4faa-8350-dcf75b39f8e1'></div>"
            ]
          },
          "metadata": {}
        },
        {
          "output_type": "display_data",
          "data": {
            "text/plain": [
              "<IPython.core.display.Javascript object>"
            ],
            "application/javascript": [
              "/* Put everything inside the global mpl namespace */\n",
              "window.mpl = {};\n",
              "\n",
              "\n",
              "mpl.get_websocket_type = function() {\n",
              "    if (typeof(WebSocket) !== 'undefined') {\n",
              "        return WebSocket;\n",
              "    } else if (typeof(MozWebSocket) !== 'undefined') {\n",
              "        return MozWebSocket;\n",
              "    } else {\n",
              "        alert('Your browser does not have WebSocket support. ' +\n",
              "              'Please try Chrome, Safari or Firefox ≥ 6. ' +\n",
              "              'Firefox 4 and 5 are also supported but you ' +\n",
              "              'have to enable WebSockets in about:config.');\n",
              "    };\n",
              "}\n",
              "\n",
              "mpl.figure = function(figure_id, websocket, ondownload, parent_element) {\n",
              "    this.id = figure_id;\n",
              "\n",
              "    this.ws = websocket;\n",
              "\n",
              "    this.supports_binary = (this.ws.binaryType != undefined);\n",
              "\n",
              "    if (!this.supports_binary) {\n",
              "        var warnings = document.getElementById(\"mpl-warnings\");\n",
              "        if (warnings) {\n",
              "            warnings.style.display = 'block';\n",
              "            warnings.textContent = (\n",
              "                \"This browser does not support binary websocket messages. \" +\n",
              "                    \"Performance may be slow.\");\n",
              "        }\n",
              "    }\n",
              "\n",
              "    this.imageObj = new Image();\n",
              "\n",
              "    this.context = undefined;\n",
              "    this.message = undefined;\n",
              "    this.canvas = undefined;\n",
              "    this.rubberband_canvas = undefined;\n",
              "    this.rubberband_context = undefined;\n",
              "    this.format_dropdown = undefined;\n",
              "\n",
              "    this.image_mode = 'full';\n",
              "\n",
              "    this.root = $('<div/>');\n",
              "    this._root_extra_style(this.root)\n",
              "    this.root.attr('style', 'display: inline-block');\n",
              "\n",
              "    $(parent_element).append(this.root);\n",
              "\n",
              "    this._init_header(this);\n",
              "    this._init_canvas(this);\n",
              "    this._init_toolbar(this);\n",
              "\n",
              "    var fig = this;\n",
              "\n",
              "    this.waiting = false;\n",
              "\n",
              "    this.ws.onopen =  function () {\n",
              "            fig.send_message(\"supports_binary\", {value: fig.supports_binary});\n",
              "            fig.send_message(\"send_image_mode\", {});\n",
              "            if (mpl.ratio != 1) {\n",
              "                fig.send_message(\"set_dpi_ratio\", {'dpi_ratio': mpl.ratio});\n",
              "            }\n",
              "            fig.send_message(\"refresh\", {});\n",
              "        }\n",
              "\n",
              "    this.imageObj.onload = function() {\n",
              "            if (fig.image_mode == 'full') {\n",
              "                // Full images could contain transparency (where diff images\n",
              "                // almost always do), so we need to clear the canvas so that\n",
              "                // there is no ghosting.\n",
              "                fig.context.clearRect(0, 0, fig.canvas.width, fig.canvas.height);\n",
              "            }\n",
              "            fig.context.drawImage(fig.imageObj, 0, 0);\n",
              "        };\n",
              "\n",
              "    this.imageObj.onunload = function() {\n",
              "        fig.ws.close();\n",
              "    }\n",
              "\n",
              "    this.ws.onmessage = this._make_on_message_function(this);\n",
              "\n",
              "    this.ondownload = ondownload;\n",
              "}\n",
              "\n",
              "mpl.figure.prototype._init_header = function() {\n",
              "    var titlebar = $(\n",
              "        '<div class=\"ui-dialog-titlebar ui-widget-header ui-corner-all ' +\n",
              "        'ui-helper-clearfix\"/>');\n",
              "    var titletext = $(\n",
              "        '<div class=\"ui-dialog-title\" style=\"width: 100%; ' +\n",
              "        'text-align: center; padding: 3px;\"/>');\n",
              "    titlebar.append(titletext)\n",
              "    this.root.append(titlebar);\n",
              "    this.header = titletext[0];\n",
              "}\n",
              "\n",
              "\n",
              "\n",
              "mpl.figure.prototype._canvas_extra_style = function(canvas_div) {\n",
              "\n",
              "}\n",
              "\n",
              "\n",
              "mpl.figure.prototype._root_extra_style = function(canvas_div) {\n",
              "\n",
              "}\n",
              "\n",
              "mpl.figure.prototype._init_canvas = function() {\n",
              "    var fig = this;\n",
              "\n",
              "    var canvas_div = $('<div/>');\n",
              "\n",
              "    canvas_div.attr('style', 'position: relative; clear: both; outline: 0');\n",
              "\n",
              "    function canvas_keyboard_event(event) {\n",
              "        return fig.key_event(event, event['data']);\n",
              "    }\n",
              "\n",
              "    canvas_div.keydown('key_press', canvas_keyboard_event);\n",
              "    canvas_div.keyup('key_release', canvas_keyboard_event);\n",
              "    this.canvas_div = canvas_div\n",
              "    this._canvas_extra_style(canvas_div)\n",
              "    this.root.append(canvas_div);\n",
              "\n",
              "    var canvas = $('<canvas/>');\n",
              "    canvas.addClass('mpl-canvas');\n",
              "    canvas.attr('style', \"left: 0; top: 0; z-index: 0; outline: 0\")\n",
              "\n",
              "    this.canvas = canvas[0];\n",
              "    this.context = canvas[0].getContext(\"2d\");\n",
              "\n",
              "    var backingStore = this.context.backingStorePixelRatio ||\n",
              "\tthis.context.webkitBackingStorePixelRatio ||\n",
              "\tthis.context.mozBackingStorePixelRatio ||\n",
              "\tthis.context.msBackingStorePixelRatio ||\n",
              "\tthis.context.oBackingStorePixelRatio ||\n",
              "\tthis.context.backingStorePixelRatio || 1;\n",
              "\n",
              "    mpl.ratio = (window.devicePixelRatio || 1) / backingStore;\n",
              "\n",
              "    var rubberband = $('<canvas/>');\n",
              "    rubberband.attr('style', \"position: absolute; left: 0; top: 0; z-index: 1;\")\n",
              "\n",
              "    var pass_mouse_events = true;\n",
              "\n",
              "    canvas_div.resizable({\n",
              "        start: function(event, ui) {\n",
              "            pass_mouse_events = false;\n",
              "        },\n",
              "        resize: function(event, ui) {\n",
              "            fig.request_resize(ui.size.width, ui.size.height);\n",
              "        },\n",
              "        stop: function(event, ui) {\n",
              "            pass_mouse_events = true;\n",
              "            fig.request_resize(ui.size.width, ui.size.height);\n",
              "        },\n",
              "    });\n",
              "\n",
              "    function mouse_event_fn(event) {\n",
              "        if (pass_mouse_events)\n",
              "            return fig.mouse_event(event, event['data']);\n",
              "    }\n",
              "\n",
              "    rubberband.mousedown('button_press', mouse_event_fn);\n",
              "    rubberband.mouseup('button_release', mouse_event_fn);\n",
              "    // Throttle sequential mouse events to 1 every 20ms.\n",
              "    rubberband.mousemove('motion_notify', mouse_event_fn);\n",
              "\n",
              "    rubberband.mouseenter('figure_enter', mouse_event_fn);\n",
              "    rubberband.mouseleave('figure_leave', mouse_event_fn);\n",
              "\n",
              "    canvas_div.on(\"wheel\", function (event) {\n",
              "        event = event.originalEvent;\n",
              "        event['data'] = 'scroll'\n",
              "        if (event.deltaY < 0) {\n",
              "            event.step = 1;\n",
              "        } else {\n",
              "            event.step = -1;\n",
              "        }\n",
              "        mouse_event_fn(event);\n",
              "    });\n",
              "\n",
              "    canvas_div.append(canvas);\n",
              "    canvas_div.append(rubberband);\n",
              "\n",
              "    this.rubberband = rubberband;\n",
              "    this.rubberband_canvas = rubberband[0];\n",
              "    this.rubberband_context = rubberband[0].getContext(\"2d\");\n",
              "    this.rubberband_context.strokeStyle = \"#000000\";\n",
              "\n",
              "    this._resize_canvas = function(width, height) {\n",
              "        // Keep the size of the canvas, canvas container, and rubber band\n",
              "        // canvas in synch.\n",
              "        canvas_div.css('width', width)\n",
              "        canvas_div.css('height', height)\n",
              "\n",
              "        canvas.attr('width', width * mpl.ratio);\n",
              "        canvas.attr('height', height * mpl.ratio);\n",
              "        canvas.attr('style', 'width: ' + width + 'px; height: ' + height + 'px;');\n",
              "\n",
              "        rubberband.attr('width', width);\n",
              "        rubberband.attr('height', height);\n",
              "    }\n",
              "\n",
              "    // Set the figure to an initial 600x600px, this will subsequently be updated\n",
              "    // upon first draw.\n",
              "    this._resize_canvas(600, 600);\n",
              "\n",
              "    // Disable right mouse context menu.\n",
              "    $(this.rubberband_canvas).bind(\"contextmenu\",function(e){\n",
              "        return false;\n",
              "    });\n",
              "\n",
              "    function set_focus () {\n",
              "        canvas.focus();\n",
              "        canvas_div.focus();\n",
              "    }\n",
              "\n",
              "    window.setTimeout(set_focus, 100);\n",
              "}\n",
              "\n",
              "mpl.figure.prototype._init_toolbar = function() {\n",
              "    var fig = this;\n",
              "\n",
              "    var nav_element = $('<div/>');\n",
              "    nav_element.attr('style', 'width: 100%');\n",
              "    this.root.append(nav_element);\n",
              "\n",
              "    // Define a callback function for later on.\n",
              "    function toolbar_event(event) {\n",
              "        return fig.toolbar_button_onclick(event['data']);\n",
              "    }\n",
              "    function toolbar_mouse_event(event) {\n",
              "        return fig.toolbar_button_onmouseover(event['data']);\n",
              "    }\n",
              "\n",
              "    for(var toolbar_ind in mpl.toolbar_items) {\n",
              "        var name = mpl.toolbar_items[toolbar_ind][0];\n",
              "        var tooltip = mpl.toolbar_items[toolbar_ind][1];\n",
              "        var image = mpl.toolbar_items[toolbar_ind][2];\n",
              "        var method_name = mpl.toolbar_items[toolbar_ind][3];\n",
              "\n",
              "        if (!name) {\n",
              "            // put a spacer in here.\n",
              "            continue;\n",
              "        }\n",
              "        var button = $('<button/>');\n",
              "        button.addClass('ui-button ui-widget ui-state-default ui-corner-all ' +\n",
              "                        'ui-button-icon-only');\n",
              "        button.attr('role', 'button');\n",
              "        button.attr('aria-disabled', 'false');\n",
              "        button.click(method_name, toolbar_event);\n",
              "        button.mouseover(tooltip, toolbar_mouse_event);\n",
              "\n",
              "        var icon_img = $('<span/>');\n",
              "        icon_img.addClass('ui-button-icon-primary ui-icon');\n",
              "        icon_img.addClass(image);\n",
              "        icon_img.addClass('ui-corner-all');\n",
              "\n",
              "        var tooltip_span = $('<span/>');\n",
              "        tooltip_span.addClass('ui-button-text');\n",
              "        tooltip_span.html(tooltip);\n",
              "\n",
              "        button.append(icon_img);\n",
              "        button.append(tooltip_span);\n",
              "\n",
              "        nav_element.append(button);\n",
              "    }\n",
              "\n",
              "    var fmt_picker_span = $('<span/>');\n",
              "\n",
              "    var fmt_picker = $('<select/>');\n",
              "    fmt_picker.addClass('mpl-toolbar-option ui-widget ui-widget-content');\n",
              "    fmt_picker_span.append(fmt_picker);\n",
              "    nav_element.append(fmt_picker_span);\n",
              "    this.format_dropdown = fmt_picker[0];\n",
              "\n",
              "    for (var ind in mpl.extensions) {\n",
              "        var fmt = mpl.extensions[ind];\n",
              "        var option = $(\n",
              "            '<option/>', {selected: fmt === mpl.default_extension}).html(fmt);\n",
              "        fmt_picker.append(option);\n",
              "    }\n",
              "\n",
              "    // Add hover states to the ui-buttons\n",
              "    $( \".ui-button\" ).hover(\n",
              "        function() { $(this).addClass(\"ui-state-hover\");},\n",
              "        function() { $(this).removeClass(\"ui-state-hover\");}\n",
              "    );\n",
              "\n",
              "    var status_bar = $('<span class=\"mpl-message\"/>');\n",
              "    nav_element.append(status_bar);\n",
              "    this.message = status_bar[0];\n",
              "}\n",
              "\n",
              "mpl.figure.prototype.request_resize = function(x_pixels, y_pixels) {\n",
              "    // Request matplotlib to resize the figure. Matplotlib will then trigger a resize in the client,\n",
              "    // which will in turn request a refresh of the image.\n",
              "    this.send_message('resize', {'width': x_pixels, 'height': y_pixels});\n",
              "}\n",
              "\n",
              "mpl.figure.prototype.send_message = function(type, properties) {\n",
              "    properties['type'] = type;\n",
              "    properties['figure_id'] = this.id;\n",
              "    this.ws.send(JSON.stringify(properties));\n",
              "}\n",
              "\n",
              "mpl.figure.prototype.send_draw_message = function() {\n",
              "    if (!this.waiting) {\n",
              "        this.waiting = true;\n",
              "        this.ws.send(JSON.stringify({type: \"draw\", figure_id: this.id}));\n",
              "    }\n",
              "}\n",
              "\n",
              "\n",
              "mpl.figure.prototype.handle_save = function(fig, msg) {\n",
              "    var format_dropdown = fig.format_dropdown;\n",
              "    var format = format_dropdown.options[format_dropdown.selectedIndex].value;\n",
              "    fig.ondownload(fig, format);\n",
              "}\n",
              "\n",
              "\n",
              "mpl.figure.prototype.handle_resize = function(fig, msg) {\n",
              "    var size = msg['size'];\n",
              "    if (size[0] != fig.canvas.width || size[1] != fig.canvas.height) {\n",
              "        fig._resize_canvas(size[0], size[1]);\n",
              "        fig.send_message(\"refresh\", {});\n",
              "    };\n",
              "}\n",
              "\n",
              "mpl.figure.prototype.handle_rubberband = function(fig, msg) {\n",
              "    var x0 = msg['x0'] / mpl.ratio;\n",
              "    var y0 = (fig.canvas.height - msg['y0']) / mpl.ratio;\n",
              "    var x1 = msg['x1'] / mpl.ratio;\n",
              "    var y1 = (fig.canvas.height - msg['y1']) / mpl.ratio;\n",
              "    x0 = Math.floor(x0) + 0.5;\n",
              "    y0 = Math.floor(y0) + 0.5;\n",
              "    x1 = Math.floor(x1) + 0.5;\n",
              "    y1 = Math.floor(y1) + 0.5;\n",
              "    var min_x = Math.min(x0, x1);\n",
              "    var min_y = Math.min(y0, y1);\n",
              "    var width = Math.abs(x1 - x0);\n",
              "    var height = Math.abs(y1 - y0);\n",
              "\n",
              "    fig.rubberband_context.clearRect(\n",
              "        0, 0, fig.canvas.width / mpl.ratio, fig.canvas.height / mpl.ratio);\n",
              "\n",
              "    fig.rubberband_context.strokeRect(min_x, min_y, width, height);\n",
              "}\n",
              "\n",
              "mpl.figure.prototype.handle_figure_label = function(fig, msg) {\n",
              "    // Updates the figure title.\n",
              "    fig.header.textContent = msg['label'];\n",
              "}\n",
              "\n",
              "mpl.figure.prototype.handle_cursor = function(fig, msg) {\n",
              "    var cursor = msg['cursor'];\n",
              "    switch(cursor)\n",
              "    {\n",
              "    case 0:\n",
              "        cursor = 'pointer';\n",
              "        break;\n",
              "    case 1:\n",
              "        cursor = 'default';\n",
              "        break;\n",
              "    case 2:\n",
              "        cursor = 'crosshair';\n",
              "        break;\n",
              "    case 3:\n",
              "        cursor = 'move';\n",
              "        break;\n",
              "    }\n",
              "    fig.rubberband_canvas.style.cursor = cursor;\n",
              "}\n",
              "\n",
              "mpl.figure.prototype.handle_message = function(fig, msg) {\n",
              "    fig.message.textContent = msg['message'];\n",
              "}\n",
              "\n",
              "mpl.figure.prototype.handle_draw = function(fig, msg) {\n",
              "    // Request the server to send over a new figure.\n",
              "    fig.send_draw_message();\n",
              "}\n",
              "\n",
              "mpl.figure.prototype.handle_image_mode = function(fig, msg) {\n",
              "    fig.image_mode = msg['mode'];\n",
              "}\n",
              "\n",
              "mpl.figure.prototype.updated_canvas_event = function() {\n",
              "    // Called whenever the canvas gets updated.\n",
              "    this.send_message(\"ack\", {});\n",
              "}\n",
              "\n",
              "// A function to construct a web socket function for onmessage handling.\n",
              "// Called in the figure constructor.\n",
              "mpl.figure.prototype._make_on_message_function = function(fig) {\n",
              "    return function socket_on_message(evt) {\n",
              "        if (evt.data instanceof Blob) {\n",
              "            /* FIXME: We get \"Resource interpreted as Image but\n",
              "             * transferred with MIME type text/plain:\" errors on\n",
              "             * Chrome.  But how to set the MIME type?  It doesn't seem\n",
              "             * to be part of the websocket stream */\n",
              "            evt.data.type = \"image/png\";\n",
              "\n",
              "            /* Free the memory for the previous frames */\n",
              "            if (fig.imageObj.src) {\n",
              "                (window.URL || window.webkitURL).revokeObjectURL(\n",
              "                    fig.imageObj.src);\n",
              "            }\n",
              "\n",
              "            fig.imageObj.src = (window.URL || window.webkitURL).createObjectURL(\n",
              "                evt.data);\n",
              "            fig.updated_canvas_event();\n",
              "            fig.waiting = false;\n",
              "            return;\n",
              "        }\n",
              "        else if (typeof evt.data === 'string' && evt.data.slice(0, 21) == \"data:image/png;base64\") {\n",
              "            fig.imageObj.src = evt.data;\n",
              "            fig.updated_canvas_event();\n",
              "            fig.waiting = false;\n",
              "            return;\n",
              "        }\n",
              "\n",
              "        var msg = JSON.parse(evt.data);\n",
              "        var msg_type = msg['type'];\n",
              "\n",
              "        // Call the  \"handle_{type}\" callback, which takes\n",
              "        // the figure and JSON message as its only arguments.\n",
              "        try {\n",
              "            var callback = fig[\"handle_\" + msg_type];\n",
              "        } catch (e) {\n",
              "            console.log(\"No handler for the '\" + msg_type + \"' message type: \", msg);\n",
              "            return;\n",
              "        }\n",
              "\n",
              "        if (callback) {\n",
              "            try {\n",
              "                // console.log(\"Handling '\" + msg_type + \"' message: \", msg);\n",
              "                callback(fig, msg);\n",
              "            } catch (e) {\n",
              "                console.log(\"Exception inside the 'handler_\" + msg_type + \"' callback:\", e, e.stack, msg);\n",
              "            }\n",
              "        }\n",
              "    };\n",
              "}\n",
              "\n",
              "// from http://stackoverflow.com/questions/1114465/getting-mouse-location-in-canvas\n",
              "mpl.findpos = function(e) {\n",
              "    //this section is from http://www.quirksmode.org/js/events_properties.html\n",
              "    var targ;\n",
              "    if (!e)\n",
              "        e = window.event;\n",
              "    if (e.target)\n",
              "        targ = e.target;\n",
              "    else if (e.srcElement)\n",
              "        targ = e.srcElement;\n",
              "    if (targ.nodeType == 3) // defeat Safari bug\n",
              "        targ = targ.parentNode;\n",
              "\n",
              "    // jQuery normalizes the pageX and pageY\n",
              "    // pageX,Y are the mouse positions relative to the document\n",
              "    // offset() returns the position of the element relative to the document\n",
              "    var x = e.pageX - $(targ).offset().left;\n",
              "    var y = e.pageY - $(targ).offset().top;\n",
              "\n",
              "    return {\"x\": x, \"y\": y};\n",
              "};\n",
              "\n",
              "/*\n",
              " * return a copy of an object with only non-object keys\n",
              " * we need this to avoid circular references\n",
              " * http://stackoverflow.com/a/24161582/3208463\n",
              " */\n",
              "function simpleKeys (original) {\n",
              "  return Object.keys(original).reduce(function (obj, key) {\n",
              "    if (typeof original[key] !== 'object')\n",
              "        obj[key] = original[key]\n",
              "    return obj;\n",
              "  }, {});\n",
              "}\n",
              "\n",
              "mpl.figure.prototype.mouse_event = function(event, name) {\n",
              "    var canvas_pos = mpl.findpos(event)\n",
              "\n",
              "    if (name === 'button_press')\n",
              "    {\n",
              "        this.canvas.focus();\n",
              "        this.canvas_div.focus();\n",
              "    }\n",
              "\n",
              "    var x = canvas_pos.x * mpl.ratio;\n",
              "    var y = canvas_pos.y * mpl.ratio;\n",
              "\n",
              "    this.send_message(name, {x: x, y: y, button: event.button,\n",
              "                             step: event.step,\n",
              "                             guiEvent: simpleKeys(event)});\n",
              "\n",
              "    /* This prevents the web browser from automatically changing to\n",
              "     * the text insertion cursor when the button is pressed.  We want\n",
              "     * to control all of the cursor setting manually through the\n",
              "     * 'cursor' event from matplotlib */\n",
              "    event.preventDefault();\n",
              "    return false;\n",
              "}\n",
              "\n",
              "mpl.figure.prototype._key_event_extra = function(event, name) {\n",
              "    // Handle any extra behaviour associated with a key event\n",
              "}\n",
              "\n",
              "mpl.figure.prototype.key_event = function(event, name) {\n",
              "\n",
              "    // Prevent repeat events\n",
              "    if (name == 'key_press')\n",
              "    {\n",
              "        if (event.which === this._key)\n",
              "            return;\n",
              "        else\n",
              "            this._key = event.which;\n",
              "    }\n",
              "    if (name == 'key_release')\n",
              "        this._key = null;\n",
              "\n",
              "    var value = '';\n",
              "    if (event.ctrlKey && event.which != 17)\n",
              "        value += \"ctrl+\";\n",
              "    if (event.altKey && event.which != 18)\n",
              "        value += \"alt+\";\n",
              "    if (event.shiftKey && event.which != 16)\n",
              "        value += \"shift+\";\n",
              "\n",
              "    value += 'k';\n",
              "    value += event.which.toString();\n",
              "\n",
              "    this._key_event_extra(event, name);\n",
              "\n",
              "    this.send_message(name, {key: value,\n",
              "                             guiEvent: simpleKeys(event)});\n",
              "    return false;\n",
              "}\n",
              "\n",
              "mpl.figure.prototype.toolbar_button_onclick = function(name) {\n",
              "    if (name == 'download') {\n",
              "        this.handle_save(this, null);\n",
              "    } else {\n",
              "        this.send_message(\"toolbar_button\", {name: name});\n",
              "    }\n",
              "};\n",
              "\n",
              "mpl.figure.prototype.toolbar_button_onmouseover = function(tooltip) {\n",
              "    this.message.textContent = tooltip;\n",
              "};\n",
              "mpl.toolbar_items = [[\"Home\", \"Reset original view\", \"fa fa-home icon-home\", \"home\"], [\"Back\", \"Back to previous view\", \"fa fa-arrow-left icon-arrow-left\", \"back\"], [\"Forward\", \"Forward to next view\", \"fa fa-arrow-right icon-arrow-right\", \"forward\"], [\"\", \"\", \"\", \"\"], [\"Pan\", \"Pan axes with left mouse, zoom with right\", \"fa fa-arrows icon-move\", \"pan\"], [\"Zoom\", \"Zoom to rectangle\", \"fa fa-square-o icon-check-empty\", \"zoom\"], [\"\", \"\", \"\", \"\"], [\"Download\", \"Download plot\", \"fa fa-floppy-o icon-save\", \"download\"]];\n",
              "\n",
              "mpl.extensions = [\"eps\", \"jpeg\", \"pdf\", \"png\", \"ps\", \"raw\", \"svg\", \"tif\"];\n",
              "\n",
              "mpl.default_extension = \"png\";var comm_websocket_adapter = function(comm) {\n",
              "    // Create a \"websocket\"-like object which calls the given IPython comm\n",
              "    // object with the appropriate methods. Currently this is a non binary\n",
              "    // socket, so there is still some room for performance tuning.\n",
              "    var ws = {};\n",
              "\n",
              "    ws.close = function() {\n",
              "        comm.close()\n",
              "    };\n",
              "    ws.send = function(m) {\n",
              "        //console.log('sending', m);\n",
              "        comm.send(m);\n",
              "    };\n",
              "    // Register the callback with on_msg.\n",
              "    comm.on_msg(function(msg) {\n",
              "        //console.log('receiving', msg['content']['data'], msg);\n",
              "        // Pass the mpl event to the overridden (by mpl) onmessage function.\n",
              "        ws.onmessage(msg['content']['data'])\n",
              "    });\n",
              "    return ws;\n",
              "}\n",
              "\n",
              "mpl.mpl_figure_comm = function(comm, msg) {\n",
              "    // This is the function which gets called when the mpl process\n",
              "    // starts-up an IPython Comm through the \"matplotlib\" channel.\n",
              "\n",
              "    var id = msg.content.data.id;\n",
              "    // Get hold of the div created by the display call when the Comm\n",
              "    // socket was opened in Python.\n",
              "    var element = $(\"#\" + id);\n",
              "    var ws_proxy = comm_websocket_adapter(comm)\n",
              "\n",
              "    function ondownload(figure, format) {\n",
              "        window.open(figure.imageObj.src);\n",
              "    }\n",
              "\n",
              "    var fig = new mpl.figure(id, ws_proxy,\n",
              "                           ondownload,\n",
              "                           element.get(0));\n",
              "\n",
              "    // Call onopen now - mpl needs it, as it is assuming we've passed it a real\n",
              "    // web socket which is closed, not our websocket->open comm proxy.\n",
              "    ws_proxy.onopen();\n",
              "\n",
              "    fig.parent_element = element.get(0);\n",
              "    fig.cell_info = mpl.find_output_cell(\"<div id='\" + id + \"'></div>\");\n",
              "    if (!fig.cell_info) {\n",
              "        console.error(\"Failed to find cell for figure\", id, fig);\n",
              "        return;\n",
              "    }\n",
              "\n",
              "    var output_index = fig.cell_info[2]\n",
              "    var cell = fig.cell_info[0];\n",
              "\n",
              "};\n",
              "\n",
              "mpl.figure.prototype.handle_close = function(fig, msg) {\n",
              "    var width = fig.canvas.width/mpl.ratio\n",
              "    fig.root.unbind('remove')\n",
              "\n",
              "    // Update the output cell to use the data from the current canvas.\n",
              "    fig.push_to_output();\n",
              "    var dataURL = fig.canvas.toDataURL();\n",
              "    // Re-enable the keyboard manager in IPython - without this line, in FF,\n",
              "    // the notebook keyboard shortcuts fail.\n",
              "    IPython.keyboard_manager.enable()\n",
              "    $(fig.parent_element).html('<img src=\"' + dataURL + '\" width=\"' + width + '\">');\n",
              "    fig.close_ws(fig, msg);\n",
              "}\n",
              "\n",
              "mpl.figure.prototype.close_ws = function(fig, msg){\n",
              "    fig.send_message('closing', msg);\n",
              "    // fig.ws.close()\n",
              "}\n",
              "\n",
              "mpl.figure.prototype.push_to_output = function(remove_interactive) {\n",
              "    // Turn the data on the canvas into data in the output cell.\n",
              "    var width = this.canvas.width/mpl.ratio\n",
              "    var dataURL = this.canvas.toDataURL();\n",
              "    this.cell_info[1]['text/html'] = '<img src=\"' + dataURL + '\" width=\"' + width + '\">';\n",
              "}\n",
              "\n",
              "mpl.figure.prototype.updated_canvas_event = function() {\n",
              "    // Tell IPython that the notebook contents must change.\n",
              "    IPython.notebook.set_dirty(true);\n",
              "    this.send_message(\"ack\", {});\n",
              "    var fig = this;\n",
              "    // Wait a second, then push the new image to the DOM so\n",
              "    // that it is saved nicely (might be nice to debounce this).\n",
              "    setTimeout(function () { fig.push_to_output() }, 1000);\n",
              "}\n",
              "\n",
              "mpl.figure.prototype._init_toolbar = function() {\n",
              "    var fig = this;\n",
              "\n",
              "    var nav_element = $('<div/>');\n",
              "    nav_element.attr('style', 'width: 100%');\n",
              "    this.root.append(nav_element);\n",
              "\n",
              "    // Define a callback function for later on.\n",
              "    function toolbar_event(event) {\n",
              "        return fig.toolbar_button_onclick(event['data']);\n",
              "    }\n",
              "    function toolbar_mouse_event(event) {\n",
              "        return fig.toolbar_button_onmouseover(event['data']);\n",
              "    }\n",
              "\n",
              "    for(var toolbar_ind in mpl.toolbar_items){\n",
              "        var name = mpl.toolbar_items[toolbar_ind][0];\n",
              "        var tooltip = mpl.toolbar_items[toolbar_ind][1];\n",
              "        var image = mpl.toolbar_items[toolbar_ind][2];\n",
              "        var method_name = mpl.toolbar_items[toolbar_ind][3];\n",
              "\n",
              "        if (!name) { continue; };\n",
              "\n",
              "        var button = $('<button class=\"btn btn-default\" href=\"#\" title=\"' + name + '\"><i class=\"fa ' + image + ' fa-lg\"></i></button>');\n",
              "        button.click(method_name, toolbar_event);\n",
              "        button.mouseover(tooltip, toolbar_mouse_event);\n",
              "        nav_element.append(button);\n",
              "    }\n",
              "\n",
              "    // Add the status bar.\n",
              "    var status_bar = $('<span class=\"mpl-message\" style=\"text-align:right; float: right;\"/>');\n",
              "    nav_element.append(status_bar);\n",
              "    this.message = status_bar[0];\n",
              "\n",
              "    // Add the close button to the window.\n",
              "    var buttongrp = $('<div class=\"btn-group inline pull-right\"></div>');\n",
              "    var button = $('<button class=\"btn btn-mini btn-primary\" href=\"#\" title=\"Stop Interaction\"><i class=\"fa fa-power-off icon-remove icon-large\"></i></button>');\n",
              "    button.click(function (evt) { fig.handle_close(fig, {}); } );\n",
              "    button.mouseover('Stop Interaction', toolbar_mouse_event);\n",
              "    buttongrp.append(button);\n",
              "    var titlebar = this.root.find($('.ui-dialog-titlebar'));\n",
              "    titlebar.prepend(buttongrp);\n",
              "}\n",
              "\n",
              "mpl.figure.prototype._root_extra_style = function(el){\n",
              "    var fig = this\n",
              "    el.on(\"remove\", function(){\n",
              "\tfig.close_ws(fig, {});\n",
              "    });\n",
              "}\n",
              "\n",
              "mpl.figure.prototype._canvas_extra_style = function(el){\n",
              "    // this is important to make the div 'focusable\n",
              "    el.attr('tabindex', 0)\n",
              "    // reach out to IPython and tell the keyboard manager to turn it's self\n",
              "    // off when our div gets focus\n",
              "\n",
              "    // location in version 3\n",
              "    if (IPython.notebook.keyboard_manager) {\n",
              "        IPython.notebook.keyboard_manager.register_events(el);\n",
              "    }\n",
              "    else {\n",
              "        // location in version 2\n",
              "        IPython.keyboard_manager.register_events(el);\n",
              "    }\n",
              "\n",
              "}\n",
              "\n",
              "mpl.figure.prototype._key_event_extra = function(event, name) {\n",
              "    var manager = IPython.notebook.keyboard_manager;\n",
              "    if (!manager)\n",
              "        manager = IPython.keyboard_manager;\n",
              "\n",
              "    // Check for shift+enter\n",
              "    if (event.shiftKey && event.which == 13) {\n",
              "        this.canvas_div.blur();\n",
              "        // select the cell after this one\n",
              "        var index = IPython.notebook.find_cell_index(this.cell_info[0]);\n",
              "        IPython.notebook.select(index + 1);\n",
              "    }\n",
              "}\n",
              "\n",
              "mpl.figure.prototype.handle_save = function(fig, msg) {\n",
              "    fig.ondownload(fig, null);\n",
              "}\n",
              "\n",
              "\n",
              "mpl.find_output_cell = function(html_output) {\n",
              "    // Return the cell and output element which can be found *uniquely* in the notebook.\n",
              "    // Note - this is a bit hacky, but it is done because the \"notebook_saving.Notebook\"\n",
              "    // IPython event is triggered only after the cells have been serialised, which for\n",
              "    // our purposes (turning an active figure into a static one), is too late.\n",
              "    var cells = IPython.notebook.get_cells();\n",
              "    var ncells = cells.length;\n",
              "    for (var i=0; i<ncells; i++) {\n",
              "        var cell = cells[i];\n",
              "        if (cell.cell_type === 'code'){\n",
              "            for (var j=0; j<cell.output_area.outputs.length; j++) {\n",
              "                var data = cell.output_area.outputs[j];\n",
              "                if (data.data) {\n",
              "                    // IPython >= 3 moved mimebundle to data attribute of output\n",
              "                    data = data.data;\n",
              "                }\n",
              "                if (data['text/html'] == html_output) {\n",
              "                    return [cell, data, j];\n",
              "                }\n",
              "            }\n",
              "        }\n",
              "    }\n",
              "}\n",
              "\n",
              "// Register the function which deals with the matplotlib target/channel.\n",
              "// The kernel may be null if the page has been refreshed.\n",
              "if (IPython.notebook.kernel != null) {\n",
              "    IPython.notebook.kernel.comm_manager.register_target('matplotlib', mpl.mpl_figure_comm);\n",
              "}\n"
            ]
          },
          "metadata": {}
        },
        {
          "output_type": "display_data",
          "data": {
            "text/plain": [
              "<IPython.core.display.HTML object>"
            ],
            "text/html": [
              "<div id='0641690b-0d62-4fee-8b7a-57bf3986628f'></div>"
            ]
          },
          "metadata": {}
        }
      ]
    }
  ]
}