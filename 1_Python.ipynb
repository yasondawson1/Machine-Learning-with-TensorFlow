{
  "nbformat": 4,
  "nbformat_minor": 0,
  "metadata": {
    "colab": {
      "provenance": [],
      "collapsed_sections": [],
      "toc_visible": true
    },
    "kernelspec": {
      "name": "python3",
      "display_name": "Python 3"
    },
    "language_info": {
      "name": "python"
    }
  },
  "cells": [
    {
      "cell_type": "markdown",
      "source": [
        "**Python - Yason Dawson Imawan**"
      ],
      "metadata": {
        "id": "3myCGVxf40ue"
      }
    },
    {
      "cell_type": "markdown",
      "source": [
        "# Bagian 1"
      ],
      "metadata": {
        "id": "lFySozwP6vM4"
      }
    },
    {
      "cell_type": "markdown",
      "source": [
        "## Tipe Data"
      ],
      "metadata": {
        "id": "wjRAz4xq5H_3"
      }
    },
    {
      "cell_type": "code",
      "source": [
        "a = 10\n",
        "print(a, \"bertipe\", type(a))"
      ],
      "metadata": {
        "colab": {
          "base_uri": "https://localhost:8080/"
        },
        "id": "NPFcd0Gd41sF",
        "outputId": "382273db-a414-43b5-e366-a0d6b44c7365"
      },
      "execution_count": 1,
      "outputs": [
        {
          "output_type": "stream",
          "name": "stdout",
          "text": [
            "10 bertipe <class 'int'>\n"
          ]
        }
      ]
    },
    {
      "cell_type": "code",
      "source": [
        "nama = 'Toni'\n",
        "print(nama, \"bertipe\", type(nama))"
      ],
      "metadata": {
        "colab": {
          "base_uri": "https://localhost:8080/"
        },
        "id": "zK-MOHNB5K9M",
        "outputId": "25cde142-b751-4ba9-c4b6-149f4a95e9dc"
      },
      "execution_count": 2,
      "outputs": [
        {
          "output_type": "stream",
          "name": "stdout",
          "text": [
            "Toni bertipe <class 'str'>\n"
          ]
        }
      ]
    },
    {
      "cell_type": "code",
      "source": [
        "hasil = False\n",
        "print(hasil, \"bertipe\", type(hasil))"
      ],
      "metadata": {
        "colab": {
          "base_uri": "https://localhost:8080/"
        },
        "id": "GFFBa2Om5MDn",
        "outputId": "4c9ccc6a-297f-4b41-a90e-1fa67b502b11"
      },
      "execution_count": 3,
      "outputs": [
        {
          "output_type": "stream",
          "name": "stdout",
          "text": [
            "False bertipe <class 'bool'>\n"
          ]
        }
      ]
    },
    {
      "cell_type": "code",
      "source": [
        "b = 25.987\n",
        "print(b , \"bertipe\", type(b))"
      ],
      "metadata": {
        "colab": {
          "base_uri": "https://localhost:8080/"
        },
        "id": "HMXZr1tn5NAw",
        "outputId": "3703b365-597b-43b3-8a75-b11506d0f9c2"
      },
      "execution_count": 4,
      "outputs": [
        {
          "output_type": "stream",
          "name": "stdout",
          "text": [
            "25.987 bertipe <class 'float'>\n"
          ]
        }
      ]
    },
    {
      "cell_type": "code",
      "source": [
        "c = complex(2+3j)\n",
        "print(c , \"bertipe\", type(c))"
      ],
      "metadata": {
        "colab": {
          "base_uri": "https://localhost:8080/"
        },
        "id": "QdCtfb4K5OR3",
        "outputId": "72a1caff-d3ef-46cb-c53a-8ea70a21f3e8"
      },
      "execution_count": 5,
      "outputs": [
        {
          "output_type": "stream",
          "name": "stdout",
          "text": [
            "(2+3j) bertipe <class 'complex'>\n"
          ]
        }
      ]
    },
    {
      "cell_type": "code",
      "source": [
        "a = 9\n",
        "a = 'Tono'\n",
        "print(a, \"bertipe\", type(a))"
      ],
      "metadata": {
        "colab": {
          "base_uri": "https://localhost:8080/"
        },
        "id": "w_EHuZl75PPL",
        "outputId": "b0a187d5-9f9b-4426-e19d-2793cfb591f4"
      },
      "execution_count": 6,
      "outputs": [
        {
          "output_type": "stream",
          "name": "stdout",
          "text": [
            "Tono bertipe <class 'str'>\n"
          ]
        }
      ]
    },
    {
      "cell_type": "markdown",
      "source": [
        "## Operations"
      ],
      "metadata": {
        "id": "FTncIqRm5RCX"
      }
    },
    {
      "cell_type": "code",
      "source": [
        "print(3+3)"
      ],
      "metadata": {
        "colab": {
          "base_uri": "https://localhost:8080/"
        },
        "id": "SBz5dAHx5QVY",
        "outputId": "ab19b693-81e1-4278-ac13-c13014d7466b"
      },
      "execution_count": 7,
      "outputs": [
        {
          "output_type": "stream",
          "name": "stdout",
          "text": [
            "6\n"
          ]
        }
      ]
    },
    {
      "cell_type": "code",
      "source": [
        "print(3*3)"
      ],
      "metadata": {
        "colab": {
          "base_uri": "https://localhost:8080/"
        },
        "id": "sMlSjfqh5VBa",
        "outputId": "f529da70-f335-477e-9284-ab54ee55fd3e"
      },
      "execution_count": 8,
      "outputs": [
        {
          "output_type": "stream",
          "name": "stdout",
          "text": [
            "9\n"
          ]
        }
      ]
    },
    {
      "cell_type": "code",
      "source": [
        "print(3**3)"
      ],
      "metadata": {
        "colab": {
          "base_uri": "https://localhost:8080/"
        },
        "id": "6AbSaBY15V21",
        "outputId": "91c04357-03cf-47ff-9abc-c3d503cf9b7c"
      },
      "execution_count": 10,
      "outputs": [
        {
          "output_type": "stream",
          "name": "stdout",
          "text": [
            "27\n"
          ]
        }
      ]
    },
    {
      "cell_type": "code",
      "source": [
        "print(9/3)"
      ],
      "metadata": {
        "colab": {
          "base_uri": "https://localhost:8080/"
        },
        "id": "zpNnZqzK5WoL",
        "outputId": "8b90d2d4-09ed-405c-d3c2-70963deeb926"
      },
      "execution_count": 11,
      "outputs": [
        {
          "output_type": "stream",
          "name": "stdout",
          "text": [
            "3.0\n"
          ]
        }
      ]
    },
    {
      "cell_type": "code",
      "source": [
        "print(25%7)\n",
        "#%, mod, sisa pembagian"
      ],
      "metadata": {
        "colab": {
          "base_uri": "https://localhost:8080/"
        },
        "id": "4EYFJJPa5YHy",
        "outputId": "5f531b0c-5891-4e55-cc53-7c8dc673de51"
      },
      "execution_count": 12,
      "outputs": [
        {
          "output_type": "stream",
          "name": "stdout",
          "text": [
            "4\n"
          ]
        }
      ]
    },
    {
      "cell_type": "code",
      "source": [
        "print(max(2,3,4))\n",
        "print(min(2,3,4))\n",
        "print(round(5.49))"
      ],
      "metadata": {
        "colab": {
          "base_uri": "https://localhost:8080/"
        },
        "id": "oOF7O_Xo5ZVr",
        "outputId": "b3c23e68-5828-4215-b0e5-6be7ca8f859c"
      },
      "execution_count": 13,
      "outputs": [
        {
          "output_type": "stream",
          "name": "stdout",
          "text": [
            "4\n",
            "2\n",
            "5\n"
          ]
        }
      ]
    },
    {
      "cell_type": "code",
      "source": [
        "print(9**(1/2))"
      ],
      "metadata": {
        "colab": {
          "base_uri": "https://localhost:8080/"
        },
        "id": "45nbAX4p5aWg",
        "outputId": "d3586712-0aa8-472d-aed3-2e820179c524"
      },
      "execution_count": 14,
      "outputs": [
        {
          "output_type": "stream",
          "name": "stdout",
          "text": [
            "3.0\n"
          ]
        }
      ]
    },
    {
      "cell_type": "markdown",
      "source": [
        "## String"
      ],
      "metadata": {
        "id": "lVou-zr-5cuP"
      }
    },
    {
      "cell_type": "code",
      "source": [
        "print(\"Hello World\")\n",
        "print(\"Welcome to Python\")"
      ],
      "metadata": {
        "colab": {
          "base_uri": "https://localhost:8080/"
        },
        "id": "IKwmFIqE5ble",
        "outputId": "d54b5272-43da-4979-9f00-88a91cf06171"
      },
      "execution_count": 15,
      "outputs": [
        {
          "output_type": "stream",
          "name": "stdout",
          "text": [
            "Hello World\n",
            "Welcome to Python\n"
          ]
        }
      ]
    },
    {
      "cell_type": "code",
      "source": [
        "kutipantiga = \"\"\"this is a long string that is made up of several lines and non-printable characters such as TAB ( \\t ) and they will show up that way when displayed. NEWLINEs within the string, whether explicitly given like this within the brackets [ \\n ], or just a NEWLINE within the variable assignment will also show up.\n",
        "\"\"\"\n",
        "print(kutipantiga)"
      ],
      "metadata": {
        "colab": {
          "base_uri": "https://localhost:8080/"
        },
        "id": "oMr9tyHP5eMd",
        "outputId": "3063f4cd-be06-40ff-83d9-c0d3aa752125"
      },
      "execution_count": 16,
      "outputs": [
        {
          "output_type": "stream",
          "name": "stdout",
          "text": [
            "this is a long string that is made up of several lines and non-printable characters such as TAB ( \t ) and they will show up that way when displayed. NEWLINEs within the string, whether explicitly given like this within the brackets [ \n",
            " ], or just a NEWLINE within the variable assignment will also show up.\n",
            "\n"
          ]
        }
      ]
    },
    {
      "cell_type": "code",
      "source": [
        "nama = \"Toni\"\n",
        "umur = 120\n",
        "print(\"Nama aku \" + nama)\n",
        "print(\"Umur saya \" + str(umur))\n",
        "print(nama + \" adalah namaku.\")\n",
        "print(str(umur) + \" adalah umurku.\")\n",
        "print('nama ', nama, 'umur ', umur)"
      ],
      "metadata": {
        "colab": {
          "base_uri": "https://localhost:8080/"
        },
        "id": "fuiQ2lV55f-X",
        "outputId": "22e7bbd2-a251-41e5-ddd4-f592165d3b2e"
      },
      "execution_count": 17,
      "outputs": [
        {
          "output_type": "stream",
          "name": "stdout",
          "text": [
            "Nama aku Toni\n",
            "Umur saya 120\n",
            "Toni adalah namaku.\n",
            "120 adalah umurku.\n",
            "nama  Toni umur  120\n"
          ]
        }
      ]
    },
    {
      "cell_type": "code",
      "source": [
        "a =20\n",
        "b = 90\n",
        "print (str(a) + str(b))"
      ],
      "metadata": {
        "colab": {
          "base_uri": "https://localhost:8080/"
        },
        "id": "uRvwOxBr5ijw",
        "outputId": "8018057e-ccfc-447c-cfe9-c239a576be39"
      },
      "execution_count": 18,
      "outputs": [
        {
          "output_type": "stream",
          "name": "stdout",
          "text": [
            "2090\n"
          ]
        }
      ]
    },
    {
      "cell_type": "code",
      "source": [
        "nama = \"Toni\"\n",
        "umur = 120\n",
        "print(\"Nama aku \" + nama)\n",
        "print(\"Umur saya \" + str(umur))\n",
        "nama = \"Bella\"\n",
        "print(nama + \" adalah namaku.\")\n",
        "print(nama + \" namaku.\")"
      ],
      "metadata": {
        "colab": {
          "base_uri": "https://localhost:8080/"
        },
        "id": "UUbvAuEq5js9",
        "outputId": "1befe6f5-85a5-449e-81fa-e58c99dd8402"
      },
      "execution_count": 19,
      "outputs": [
        {
          "output_type": "stream",
          "name": "stdout",
          "text": [
            "Nama aku Toni\n",
            "Umur saya 120\n",
            "Bella adalah namaku.\n",
            "Bella namaku.\n"
          ]
        }
      ]
    },
    {
      "cell_type": "code",
      "source": [
        "name = \"Bella\"\n",
        "#       12345\n",
        "#       01234\n",
        "print(name.upper())\n",
        "print(name.lower())\n",
        "print(name.capitalize())\n",
        "print(name.isupper())\n",
        "print(name.islower())\n",
        "print(len(name))\n",
        "print(name[1:4])\n",
        "#index selalu mulai dari 0\n",
        "print(name.index(\"l\"))"
      ],
      "metadata": {
        "colab": {
          "base_uri": "https://localhost:8080/"
        },
        "id": "CCvx1Gf85kpj",
        "outputId": "c472cf77-eedd-4283-c8d0-df04738cfd2a"
      },
      "execution_count": 20,
      "outputs": [
        {
          "output_type": "stream",
          "name": "stdout",
          "text": [
            "BELLA\n",
            "bella\n",
            "Bella\n",
            "False\n",
            "False\n",
            "5\n",
            "ell\n",
            "2\n"
          ]
        }
      ]
    },
    {
      "cell_type": "code",
      "source": [
        "\"Hello {} umur saya {}\". format(nama, umur)"
      ],
      "metadata": {
        "colab": {
          "base_uri": "https://localhost:8080/",
          "height": 35
        },
        "id": "XZ7RsCvc5lxd",
        "outputId": "d8f1e057-2493-4dfd-ca1c-7be2ac95a86f"
      },
      "execution_count": 21,
      "outputs": [
        {
          "output_type": "execute_result",
          "data": {
            "text/plain": [
              "'Hello Bella umur saya 120'"
            ],
            "application/vnd.google.colaboratory.intrinsic+json": {
              "type": "string"
            }
          },
          "metadata": {},
          "execution_count": 21
        }
      ]
    },
    {
      "cell_type": "markdown",
      "source": [
        "## Functions"
      ],
      "metadata": {
        "id": "H7WKJfxY5of_"
      }
    },
    {
      "cell_type": "code",
      "source": [
        "def perkenalan (nama, asal):\n",
        "  print(f\"Perkenalkan saya {nama} dari {asal}\")\n",
        "\n",
        "perkenalan(\"Alvin\", \"Jawa Timur\")"
      ],
      "metadata": {
        "colab": {
          "base_uri": "https://localhost:8080/"
        },
        "id": "M34JAzZK5njl",
        "outputId": "9cd4122e-0c54-4212-f436-b6f7791ecfcb"
      },
      "execution_count": 22,
      "outputs": [
        {
          "output_type": "stream",
          "name": "stdout",
          "text": [
            "Perkenalkan saya Alvin dari Jawa Timur\n"
          ]
        }
      ]
    },
    {
      "cell_type": "code",
      "source": [
        "def luasSegitiga (alas, tinggi):\n",
        "    luas = (alas * tinggi)/2\n",
        "    print(\"Luas segitiga =\",luas)\n",
        "\n",
        "luasSegitiga(3,6)"
      ],
      "metadata": {
        "colab": {
          "base_uri": "https://localhost:8080/"
        },
        "id": "GC1sl3eH5qhj",
        "outputId": "776d3d07-5a8e-4079-bc33-a4e49e06a0e4"
      },
      "execution_count": 23,
      "outputs": [
        {
          "output_type": "stream",
          "name": "stdout",
          "text": [
            "Luas segitiga = 9.0\n"
          ]
        }
      ]
    },
    {
      "cell_type": "code",
      "source": [
        "#Excercise\n",
        "#Buatlah sebuah fungsi untuk menghitung volume balok \n",
        "def volumeBalok(panjang, lebar, tinggi):\n",
        "  #rumus\n",
        "  Volume = panjang * lebar * tinggi\n",
        "  #cetak hasil\n",
        "  print(\"Volume Balok =\", Volume)\n",
        "\n",
        "#panggil fungsi volume balok\n",
        "volumeBalok(5,6,7)"
      ],
      "metadata": {
        "colab": {
          "base_uri": "https://localhost:8080/"
        },
        "id": "ZJTm4gNH5rXw",
        "outputId": "32f42165-512e-4dd3-f711-bce890a8be21"
      },
      "execution_count": 24,
      "outputs": [
        {
          "output_type": "stream",
          "name": "stdout",
          "text": [
            "Volume Balok = 210\n"
          ]
        }
      ]
    },
    {
      "cell_type": "code",
      "source": [
        "i = 4\n",
        "if i == 1:\n",
        "    print(1)\n",
        "elif i == 2:\n",
        "    print(2)\n",
        "else :\n",
        "    print(\"Not 1 and 2\")"
      ],
      "metadata": {
        "colab": {
          "base_uri": "https://localhost:8080/"
        },
        "id": "pEtZ6ldL5sTO",
        "outputId": "08281773-ba12-4ddb-fa54-6eca3c29cce7"
      },
      "execution_count": 25,
      "outputs": [
        {
          "output_type": "stream",
          "name": "stdout",
          "text": [
            "Not 1 and 2\n"
          ]
        }
      ]
    },
    {
      "cell_type": "code",
      "source": [
        "friends = [\"A\", \"B\", \"C\"]\n",
        "print(friends)            #[\"A\", \"B\", \"C\"]\n",
        "print(friends[0])         #A\n",
        "print(friends[-1])        #C\n",
        "print(friends[1:])        #[\"B\", \"C\"]\n",
        "print(friends[0:2])       #[\"A\", \"B\"]"
      ],
      "metadata": {
        "colab": {
          "base_uri": "https://localhost:8080/"
        },
        "id": "dc5hbxjf5tTs",
        "outputId": "9b740af0-21e7-482b-f1a2-d679f9453467"
      },
      "execution_count": 26,
      "outputs": [
        {
          "output_type": "stream",
          "name": "stdout",
          "text": [
            "['A', 'B', 'C']\n",
            "A\n",
            "C\n",
            "['B', 'C']\n",
            "['A', 'B']\n"
          ]
        }
      ]
    },
    {
      "cell_type": "code",
      "source": [
        "X = [\"A\", \"B\", \"C\"]\n",
        "Y = [1, 2, 3]\n",
        "X.extend(Y)\n",
        "print(X)"
      ],
      "metadata": {
        "colab": {
          "base_uri": "https://localhost:8080/"
        },
        "id": "C8RsyV9t5uL5",
        "outputId": "1987b4ae-90b4-4920-9c30-7d60d386a1d4"
      },
      "execution_count": 27,
      "outputs": [
        {
          "output_type": "stream",
          "name": "stdout",
          "text": [
            "['A', 'B', 'C', 1, 2, 3]\n"
          ]
        }
      ]
    },
    {
      "cell_type": "code",
      "source": [
        "X.append(\"D\")    \n",
        "print(X)"
      ],
      "metadata": {
        "colab": {
          "base_uri": "https://localhost:8080/"
        },
        "id": "TRtE6qYU5vSc",
        "outputId": "92d35eb2-106a-477a-d751-f02155223ceb"
      },
      "execution_count": 28,
      "outputs": [
        {
          "output_type": "stream",
          "name": "stdout",
          "text": [
            "['A', 'B', 'C', 1, 2, 3, 'D']\n"
          ]
        }
      ]
    },
    {
      "cell_type": "code",
      "source": [
        "X.insert(1, \"D\")\n",
        "print(X)"
      ],
      "metadata": {
        "colab": {
          "base_uri": "https://localhost:8080/"
        },
        "id": "JmkWJkGP5wVz",
        "outputId": "72b1e0b7-3d07-4028-fe59-f72438460a6e"
      },
      "execution_count": 29,
      "outputs": [
        {
          "output_type": "stream",
          "name": "stdout",
          "text": [
            "['A', 'D', 'B', 'C', 1, 2, 3, 'D']\n"
          ]
        }
      ]
    },
    {
      "cell_type": "code",
      "source": [
        "X.clear()\n",
        "print(X)"
      ],
      "metadata": {
        "colab": {
          "base_uri": "https://localhost:8080/"
        },
        "id": "G8c3zXRr5xZW",
        "outputId": "c9efcda6-8d01-4919-888a-fcd9041bbed1"
      },
      "execution_count": 30,
      "outputs": [
        {
          "output_type": "stream",
          "name": "stdout",
          "text": [
            "[]\n"
          ]
        }
      ]
    },
    {
      "cell_type": "code",
      "source": [
        "X = [\"A\", \"B\", \"C\"]\n",
        "Y = [1, 2, 3]\n",
        "X.pop()\n",
        "print(X)"
      ],
      "metadata": {
        "colab": {
          "base_uri": "https://localhost:8080/"
        },
        "id": "IUzoCB995yWv",
        "outputId": "ed832971-98d5-42f0-9ed9-5acbd382ecb2"
      },
      "execution_count": 31,
      "outputs": [
        {
          "output_type": "stream",
          "name": "stdout",
          "text": [
            "['A', 'B']\n"
          ]
        }
      ]
    },
    {
      "cell_type": "code",
      "source": [
        "X.index(\"B\")           \n",
        "print(X)"
      ],
      "metadata": {
        "colab": {
          "base_uri": "https://localhost:8080/"
        },
        "id": "xbDGJ8Sl5zeT",
        "outputId": "aa62d7da-c3d5-4ede-a86c-049a23002b5a"
      },
      "execution_count": 32,
      "outputs": [
        {
          "output_type": "stream",
          "name": "stdout",
          "text": [
            "['A', 'B']\n"
          ]
        }
      ]
    },
    {
      "cell_type": "code",
      "source": [
        "X.count(\"B\")           \n",
        "print(X)"
      ],
      "metadata": {
        "colab": {
          "base_uri": "https://localhost:8080/"
        },
        "id": "GcFvkaal50Qs",
        "outputId": "488eb8ea-2b93-4158-e714-aa13c621161c"
      },
      "execution_count": 33,
      "outputs": [
        {
          "output_type": "stream",
          "name": "stdout",
          "text": [
            "['A', 'B']\n"
          ]
        }
      ]
    },
    {
      "cell_type": "code",
      "source": [
        "X.sort()\n",
        "print(X)"
      ],
      "metadata": {
        "colab": {
          "base_uri": "https://localhost:8080/"
        },
        "id": "VA9bjrs851RQ",
        "outputId": "e5bd65d3-9c5d-4dd9-dbf6-20713028c2c8"
      },
      "execution_count": 34,
      "outputs": [
        {
          "output_type": "stream",
          "name": "stdout",
          "text": [
            "['A', 'B']\n"
          ]
        }
      ]
    },
    {
      "cell_type": "code",
      "source": [
        "X.reverse()     \n",
        "print(X)"
      ],
      "metadata": {
        "colab": {
          "base_uri": "https://localhost:8080/"
        },
        "id": "qCzBZrrB53EV",
        "outputId": "317069ff-21cc-448b-c2b2-fd142fce5635"
      },
      "execution_count": 35,
      "outputs": [
        {
          "output_type": "stream",
          "name": "stdout",
          "text": [
            "['B', 'A']\n"
          ]
        }
      ]
    },
    {
      "cell_type": "code",
      "source": [
        "X2 = X.copy()\n",
        "print(X2)"
      ],
      "metadata": {
        "colab": {
          "base_uri": "https://localhost:8080/"
        },
        "id": "LtHHwjLy53gI",
        "outputId": "1203d240-f543-4fbd-fdd4-56c0d05646f1"
      },
      "execution_count": 36,
      "outputs": [
        {
          "output_type": "stream",
          "name": "stdout",
          "text": [
            "['B', 'A']\n"
          ]
        }
      ]
    },
    {
      "cell_type": "markdown",
      "source": [
        "## Dictionary"
      ],
      "metadata": {
        "id": "s5C4WMbJ55CY"
      }
    },
    {
      "cell_type": "code",
      "source": [
        "# mendefinisikan dictionary\n",
        "id_divisi = {\n",
        "    71 : 'IT',\n",
        "    82 : 'Finance',\n",
        "    91 : 'Data'\n",
        "}\n",
        "\n",
        "# mengakses data menggunakan key\n",
        "print(\"Divisi dengan kode 71:\", id_divisi[71])"
      ],
      "metadata": {
        "colab": {
          "base_uri": "https://localhost:8080/"
        },
        "id": "jJyA85Rk54fQ",
        "outputId": "9491e5e7-6f53-4a52-9687-881b35b93a7d"
      },
      "execution_count": 37,
      "outputs": [
        {
          "output_type": "stream",
          "name": "stdout",
          "text": [
            "Divisi dengan kode 71: IT\n"
          ]
        }
      ]
    },
    {
      "cell_type": "code",
      "source": [
        "days_in_a_week = {\n",
        "        \"Mon\": \"Monday\",\n",
        "        \"Tue\": \"Tuesday\",\n",
        "        \"Wed\": \"Wednesday\",\n",
        "        \"Thu\": \"Thursday\",\n",
        "        \"Fri\": \"Friday\",\n",
        "        \"Sat\": \"Saturday\",\n",
        "        \"Sun\": \"Sunday\"\n",
        "    }\n",
        "days_in_a_week[\"Mon\"]"
      ],
      "metadata": {
        "colab": {
          "base_uri": "https://localhost:8080/",
          "height": 35
        },
        "id": "sWzGdV6558gH",
        "outputId": "9ae596d4-6daa-4eaf-b3e1-adf810858cb7"
      },
      "execution_count": 38,
      "outputs": [
        {
          "output_type": "execute_result",
          "data": {
            "text/plain": [
              "'Monday'"
            ],
            "application/vnd.google.colaboratory.intrinsic+json": {
              "type": "string"
            }
          },
          "metadata": {},
          "execution_count": 38
        }
      ]
    },
    {
      "cell_type": "markdown",
      "source": [
        "## Pengulangan"
      ],
      "metadata": {
        "id": "_nSMomJR5-hw"
      }
    },
    {
      "cell_type": "code",
      "source": [
        "#for loops\n",
        "angka = [1,2,3,4,5]\n",
        "for x in angka:\n",
        "    print(x)"
      ],
      "metadata": {
        "colab": {
          "base_uri": "https://localhost:8080/"
        },
        "id": "6bw56pLl59WT",
        "outputId": "55e792a0-c266-40f1-b5e7-284e6d83ac8f"
      },
      "execution_count": 39,
      "outputs": [
        {
          "output_type": "stream",
          "name": "stdout",
          "text": [
            "1\n",
            "2\n",
            "3\n",
            "4\n",
            "5\n"
          ]
        }
      ]
    },
    {
      "cell_type": "code",
      "source": [
        "#for loops\n",
        "buah = [\"nanas\", \"apel\", \"jeruk\"]\n",
        "for makanan in buah:\n",
        "    print (\"Saya suka makan\", makanan)"
      ],
      "metadata": {
        "colab": {
          "base_uri": "https://localhost:8080/"
        },
        "id": "JZ1tm49n6Aje",
        "outputId": "7ab06ae5-9555-4114-dc8f-a6a742d74026"
      },
      "execution_count": 40,
      "outputs": [
        {
          "output_type": "stream",
          "name": "stdout",
          "text": [
            "Saya suka makan nanas\n",
            "Saya suka makan apel\n",
            "Saya suka makan jeruk\n"
          ]
        }
      ]
    },
    {
      "cell_type": "code",
      "source": [
        "#while loops\n",
        "count = 0\n",
        "while (count < 9):\n",
        "    print (\"The count is: \", count)\n",
        "    count = count + 1\n",
        "\n",
        "print (\"Good bye!\")"
      ],
      "metadata": {
        "colab": {
          "base_uri": "https://localhost:8080/"
        },
        "id": "sSvpCtKF6BYp",
        "outputId": "1ef4d5e7-5c01-4dd3-a16b-ee3eb5d2b6c1"
      },
      "execution_count": 41,
      "outputs": [
        {
          "output_type": "stream",
          "name": "stdout",
          "text": [
            "The count is:  0\n",
            "The count is:  1\n",
            "The count is:  2\n",
            "The count is:  3\n",
            "The count is:  4\n",
            "The count is:  5\n",
            "The count is:  6\n",
            "The count is:  7\n",
            "The count is:  8\n",
            "Good bye!\n"
          ]
        }
      ]
    },
    {
      "cell_type": "code",
      "source": [
        "#Nested Loops\n",
        "i = 2\n",
        "while(i < 100):\n",
        "    j = 2\n",
        "    while(j <= (i/j)):\n",
        "        if not(i%j): break\n",
        "        j = j + 1\n",
        "    if (j > i/j) : print(i, \" is prime\")\n",
        "    i = i + 1\n",
        "\n",
        "print(\"Good bye!\")"
      ],
      "metadata": {
        "colab": {
          "base_uri": "https://localhost:8080/"
        },
        "id": "vWps1tpG6CYp",
        "outputId": "54bb08e2-0231-42e4-d705-e26c42acd353"
      },
      "execution_count": 42,
      "outputs": [
        {
          "output_type": "stream",
          "name": "stdout",
          "text": [
            "2  is prime\n",
            "3  is prime\n",
            "5  is prime\n",
            "7  is prime\n",
            "11  is prime\n",
            "13  is prime\n",
            "17  is prime\n",
            "19  is prime\n",
            "23  is prime\n",
            "29  is prime\n",
            "31  is prime\n",
            "37  is prime\n",
            "41  is prime\n",
            "43  is prime\n",
            "47  is prime\n",
            "53  is prime\n",
            "59  is prime\n",
            "61  is prime\n",
            "67  is prime\n",
            "71  is prime\n",
            "73  is prime\n",
            "79  is prime\n",
            "83  is prime\n",
            "89  is prime\n",
            "97  is prime\n",
            "Good bye!\n"
          ]
        }
      ]
    },
    {
      "cell_type": "markdown",
      "source": [
        "## Exercise"
      ],
      "metadata": {
        "id": "FsTeg5FA6E3n"
      }
    },
    {
      "cell_type": "code",
      "source": [
        "#Buat program untuk menghitung jumlah seluruh angka ganjil dalam suatu list\n",
        "# Input: list berisi angka-angka\n",
        "# Output: jumlah seluruh angka ganjil \n",
        "\n",
        "#Program untuk menghitung banyaknya angka ganjil ataupun genap secara random\n",
        "#serta menghitung jumlah bilangan tersebut\n",
        "\n",
        "minimum = int(input(\" Please Enter the Minimum Value : \")) \n",
        "maximum = int(input(\" Please Enter the Maximum Value : \"))\n",
        "\n",
        "even_total = 0\n",
        "odd_total = 0\n",
        " \n",
        "for number in range(minimum, maximum + 1):\n",
        "    if(number % 2 == 0):\n",
        "        even_total = even_total + number\n",
        "    else:\n",
        "        odd_total = odd_total + number\n",
        " \n",
        "print(\"The Sum of Even Numbers from 1 to {0} = {1}\".format(number, even_total))\n",
        "print(\"The Sum of Odd Numbers from 1 to {0} = {1}\".format(number, odd_total))"
      ],
      "metadata": {
        "colab": {
          "base_uri": "https://localhost:8080/"
        },
        "id": "sbGpAUEj6HCZ",
        "outputId": "2eaa8036-ef48-4528-c791-37124c70546e"
      },
      "execution_count": 43,
      "outputs": [
        {
          "output_type": "stream",
          "name": "stdout",
          "text": [
            " Please Enter the Minimum Value : 10\n",
            " Please Enter the Maximum Value : 100\n",
            "The Sum of Even Numbers from 1 to 100 = 2530\n",
            "The Sum of Odd Numbers from 1 to 100 = 2475\n"
          ]
        }
      ]
    },
    {
      "cell_type": "code",
      "source": [
        "# Python Program to find Sum of Even and Odd Numbers in a List\n",
        "\n",
        "NumList = []\n",
        "Even_Sum = 0\n",
        "Odd_Sum = 0\n",
        "j = 0\n",
        "\n",
        "Number = int(input(\"Please enter the Total Number of List Elements: \"))\n",
        "for i in range(1, Number + 1):\n",
        "    value = int(input(\"Please enter the Value of %d Element : \" %i))\n",
        "    NumList.append(value)\n",
        "\n",
        "while(j < Number):\n",
        "    if(NumList[j] % 2 == 0):\n",
        "        Even_Sum = Even_Sum + NumList[j]\n",
        "    else:\n",
        "        Odd_Sum = Odd_Sum + NumList[j]\n",
        "    j = j+ 1\n",
        "\n",
        "print(\"\\nThe Sum of Even Numbers in this List =  \", Even_Sum)\n",
        "print(\"The Sum of Odd Numbers in this List =  \", Odd_Sum)"
      ],
      "metadata": {
        "colab": {
          "base_uri": "https://localhost:8080/"
        },
        "id": "MoveO2Oy6Il6",
        "outputId": "aff484a0-efe6-4ba2-a342-d2e7f0b9158d"
      },
      "execution_count": 44,
      "outputs": [
        {
          "output_type": "stream",
          "name": "stdout",
          "text": [
            "Please enter the Total Number of List Elements: 6\n",
            "Please enter the Value of 1 Element : 1\n",
            "Please enter the Value of 2 Element : 2\n",
            "Please enter the Value of 3 Element : 4\n",
            "Please enter the Value of 4 Element : 2\n",
            "Please enter the Value of 5 Element : 5\n",
            "Please enter the Value of 6 Element : 1\n",
            "\n",
            "The Sum of Even Numbers in this List =   8\n",
            "The Sum of Odd Numbers in this List =   7\n"
          ]
        }
      ]
    },
    {
      "cell_type": "code",
      "source": [
        "#Diberikan input suatu angka, tampilkan formasi piramida bintang dengan tinggi sesuai dengan angka yang diinputkan\n",
        "# Input: suatu angka (n)\n",
        "# Output: piramida dengan tinggi n\n",
        "\n",
        "#    *\n",
        "#   ***\n",
        "#  *****  contoh output untuk n = 5\n",
        "# *******\n",
        "#*********\n",
        "\n",
        "# Python 3.x code to demonstrate star pattern\n",
        " \n",
        "# Function to demonstrate printing pattern triangle\n",
        "def triangle(n):\n",
        "     \n",
        "    # number of spaces\n",
        "    k = n - 1\n",
        " \n",
        "    # outer loop to handle number of rows\n",
        "    for i in range(0, n):\n",
        "     \n",
        "        # inner loop to handle number spaces\n",
        "        # values changing acc. to requirement\n",
        "        for j in range(0, k):\n",
        "            print(end=\" \")\n",
        "     \n",
        "        # decrementing k after each loop\n",
        "        k = k - 1\n",
        "     \n",
        "        # inner loop to handle number of columns\n",
        "        # values changing acc. to outer loop\n",
        "        for j in range(0, i+1):\n",
        "         \n",
        "            # printing stars\n",
        "            print(\"* \", end=\"\")\n",
        "     \n",
        "        # ending line after each row\n",
        "        print(\"\\r\")\n",
        " \n",
        "# Driver Code\n",
        "n = 5\n",
        "triangle(n)"
      ],
      "metadata": {
        "colab": {
          "base_uri": "https://localhost:8080/"
        },
        "id": "Elf81xsh6Ls6",
        "outputId": "f9914133-b26f-44b3-8e2b-272ad1398047"
      },
      "execution_count": 45,
      "outputs": [
        {
          "output_type": "stream",
          "name": "stdout",
          "text": [
            "    * \r\n",
            "   * * \r\n",
            "  * * * \r\n",
            " * * * * \r\n",
            "* * * * * \r\n"
          ]
        }
      ]
    },
    {
      "cell_type": "markdown",
      "source": [
        "# Bagian 2"
      ],
      "metadata": {
        "id": "QsKf1_MC6q_A"
      }
    },
    {
      "cell_type": "code",
      "source": [
        "class apel(): \n",
        "\tdef __init__(self):\n",
        "\t\tsuper().__init__()\n",
        "\t\tprint(\"apel adalah buah\")\n",
        "\tdef apaIni(self):\n",
        "\t\tprint(\"apel\")\n",
        "\tdef warna(self):\n",
        "\t\tprint(\"warna merah\")\n",
        "\n",
        "A = apel()\n",
        "A.apaIni()\n",
        "A.warna()\n",
        "A.__init__()"
      ],
      "metadata": {
        "colab": {
          "base_uri": "https://localhost:8080/"
        },
        "id": "Ngq4qSBd6Q3Q",
        "outputId": "0f10b71f-a184-4a31-ac80-10db8e32d547"
      },
      "execution_count": 46,
      "outputs": [
        {
          "output_type": "stream",
          "name": "stdout",
          "text": [
            "apel adalah buah\n",
            "apel\n",
            "warna merah\n",
            "apel adalah buah\n"
          ]
        }
      ]
    },
    {
      "cell_type": "code",
      "source": [
        "class komputer() :\n",
        "  def __init__(self):\n",
        "    self.__maxprice = 900\n",
        "    print(self.__maxprice)\n",
        "  def sell(self,price):\n",
        "    self.__maxprice = price\n",
        "    print(self.__maxprice)\n",
        "    \n",
        "c = komputer()\n",
        "c.sell(1000)\n",
        "print(c)"
      ],
      "metadata": {
        "colab": {
          "base_uri": "https://localhost:8080/"
        },
        "id": "iSUmCyJx6xYC",
        "outputId": "fb7d9e2b-db39-47a9-fcf5-9d1e56f47426"
      },
      "execution_count": 47,
      "outputs": [
        {
          "output_type": "stream",
          "name": "stdout",
          "text": [
            "900\n",
            "1000\n",
            "<__main__.komputer object at 0x7f327a373b50>\n"
          ]
        }
      ]
    },
    {
      "cell_type": "code",
      "source": [
        "class beo :\n",
        "\tdef terbang(self):\n",
        "\t\tprint(\"beo terbang\")\n",
        "\tdef warna (self):\n",
        "\t\tprint(\"beo merah\")\n",
        "class merpati :\n",
        "\tdef terbang(self):\n",
        "\t\tprint(\"merpati terbang\")\n",
        "\tdef warna (self):\n",
        "\t\tprint(\"merpati putih\")\n",
        "def terbang(burung):\n",
        "  burung.terbang()\n",
        "  burung.warna()\n",
        "\n",
        "\n",
        "Beo=beo()\n",
        "Merpati = merpati()\n",
        "\n",
        "terbang(Beo)\n",
        "terbang(Merpati)"
      ],
      "metadata": {
        "colab": {
          "base_uri": "https://localhost:8080/"
        },
        "id": "WZCZaK3x6ytJ",
        "outputId": "9ebc0492-3d4f-44b1-a5ad-d9c234c00b42"
      },
      "execution_count": 48,
      "outputs": [
        {
          "output_type": "stream",
          "name": "stdout",
          "text": [
            "beo terbang\n",
            "beo merah\n",
            "merpati terbang\n",
            "merpati putih\n"
          ]
        }
      ]
    },
    {
      "cell_type": "code",
      "source": [
        "class Point():\n",
        "  def __init__(self, x= 0,y=0):\n",
        "    self.x = x\n",
        "    self.y = y\n",
        "    hasil  = x+y\n",
        "    print(hasil)\n",
        "p1 = Point(1,2)\n",
        "p2 = Point(2, 3)"
      ],
      "metadata": {
        "colab": {
          "base_uri": "https://localhost:8080/"
        },
        "id": "eiuzZ2RM60NN",
        "outputId": "094b1d29-497f-43dc-f1b6-1a0291f4b31a"
      },
      "execution_count": 49,
      "outputs": [
        {
          "output_type": "stream",
          "name": "stdout",
          "text": [
            "3\n",
            "5\n"
          ]
        }
      ]
    },
    {
      "cell_type": "code",
      "source": [
        "listku = [1,2,3,4,5]\n",
        "myIter = iter(listku)\n",
        "next(myIter)\n",
        "next(myIter)"
      ],
      "metadata": {
        "colab": {
          "base_uri": "https://localhost:8080/"
        },
        "id": "NTARxPtu61kx",
        "outputId": "3a2aefaf-bbcd-4f3b-b29c-43ae5e1de858"
      },
      "execution_count": 50,
      "outputs": [
        {
          "output_type": "execute_result",
          "data": {
            "text/plain": [
              "2"
            ]
          },
          "metadata": {},
          "execution_count": 50
        }
      ]
    },
    {
      "cell_type": "code",
      "source": [
        "class lemari() :\n",
        "  def __init__(self, barang=\"baju\"):\n",
        "   self.set_barang(barang)\n",
        "  def get_barang(self):\n",
        "   return self._barang\n",
        "  def set_barang(self, barang):\n",
        "   self._barang = barang\n",
        "   print(barang) \n",
        "    \n",
        "d = lemari()\n",
        "d.get_barang()\n",
        "d.set_barang(\"pita\")"
      ],
      "metadata": {
        "colab": {
          "base_uri": "https://localhost:8080/"
        },
        "id": "UvnJOnJ_63ut",
        "outputId": "e399041c-6657-477e-bb19-807d4c385c47"
      },
      "execution_count": 51,
      "outputs": [
        {
          "output_type": "stream",
          "name": "stdout",
          "text": [
            "baju\n",
            "pita\n"
          ]
        }
      ]
    },
    {
      "cell_type": "markdown",
      "source": [
        "## Regex"
      ],
      "metadata": {
        "id": "0LAOhGr_66S4"
      }
    },
    {
      "cell_type": "markdown",
      "source": [
        "Regex adalah singkatan dari Regular Expresion.\n",
        "\n",
        "\n",
        "Regex merupakan sebuah teks (string) yang mendefinisikan sebuah pola pencarian sehingga dapat membantu kita untuk melakukan matching (pencocokan), locate (pencarian), dan manipulasi teks."
      ],
      "metadata": {
        "id": "AxlTXKE6684C"
      }
    },
    {
      "cell_type": "code",
      "source": [
        "import re\n",
        "\n",
        "string = 'haii 15. Nomor kamu 34. NOmor dia 12544162'\n",
        "pattern = '\\d+'\n",
        "\n",
        "result = re.findall(pattern, string) \n",
        "print(result)"
      ],
      "metadata": {
        "colab": {
          "base_uri": "https://localhost:8080/"
        },
        "id": "sBO0oUWX65Fw",
        "outputId": "4399bc1a-4461-437f-c349-0d1d4fe2d4e8"
      },
      "execution_count": 52,
      "outputs": [
        {
          "output_type": "stream",
          "name": "stdout",
          "text": [
            "['15', '34', '12544162']\n"
          ]
        }
      ]
    },
    {
      "cell_type": "code",
      "source": [
        "string = 'haii 15. Nomor kamu 34'\n",
        "pattern = '\\d+'\n",
        "\n",
        "result = re.split(pattern, string) \n",
        "print(result)"
      ],
      "metadata": {
        "colab": {
          "base_uri": "https://localhost:8080/"
        },
        "id": "UfpeDQBX7ANF",
        "outputId": "bcb51c4e-9ec5-40c2-99e7-6c97dba9e0d8"
      },
      "execution_count": 53,
      "outputs": [
        {
          "output_type": "stream",
          "name": "stdout",
          "text": [
            "['haii ', '. Nomor kamu ', '']\n"
          ]
        }
      ]
    },
    {
      "cell_type": "code",
      "source": [
        "def coba(n):\n",
        "  print(n)\n",
        "  return lambda a : a * n\n",
        "test1= coba(2)\n",
        "print(test1(3))\n",
        "\n",
        "test2 = coba(3)\n",
        "print(test2(6))"
      ],
      "metadata": {
        "colab": {
          "base_uri": "https://localhost:8080/"
        },
        "id": "hmFBzxdg7CmU",
        "outputId": "efe076c8-1d8a-48af-d577-8fd132cef05d"
      },
      "execution_count": 54,
      "outputs": [
        {
          "output_type": "stream",
          "name": "stdout",
          "text": [
            "2\n",
            "6\n",
            "3\n",
            "18\n"
          ]
        }
      ]
    },
    {
      "cell_type": "code",
      "source": [
        "#Mencari Teks tanpa regex\n",
        "def is_phone_number(text):\n",
        "    if len(text) != 11:\n",
        "        return False\n",
        "    for i in range(0, 3):\n",
        "      if not text[i].isdecimal():\n",
        "        return False\n",
        "      if text[3] != ' ':\n",
        "        return False\n",
        "    for i in range(4, 11):\n",
        "        if not text[i].isdecimal():\n",
        "            return False\n",
        "    return True\n",
        "print('021 8229311 adalah nomor telepon:')\n",
        "print(is_phone_number('021 8229311'))\n",
        "print('Hello Hello adalah nomor telepon:')\n",
        "print(is_phone_number('Hello Hello'))"
      ],
      "metadata": {
        "colab": {
          "base_uri": "https://localhost:8080/"
        },
        "id": "4YwzBuq07Ddu",
        "outputId": "2766f4e6-5e7e-4c4f-a007-38b52f235aae"
      },
      "execution_count": 55,
      "outputs": [
        {
          "output_type": "stream",
          "name": "stdout",
          "text": [
            "021 8229311 adalah nomor telepon:\n",
            "True\n",
            "Hello Hello adalah nomor telepon:\n",
            "False\n"
          ]
        }
      ]
    },
    {
      "cell_type": "code",
      "source": [
        "#Mencari Teks dengan regex\n",
        "pesan = 'Panggil saya di nomor 061 7981011 besok. Kalau sore bisa hubungi kantor saya di 061 7939999.'\n",
        "for i in range(len(pesan)):\n",
        "    text = pesan[i:i+11]\n",
        "    if is_phone_number(text):\n",
        "        print(\"Nomor telepon ditemukan:\", text)"
      ],
      "metadata": {
        "colab": {
          "base_uri": "https://localhost:8080/"
        },
        "id": "dXZkyZ127EmL",
        "outputId": "c87c0009-0128-442f-917f-674c959af0d1"
      },
      "execution_count": 56,
      "outputs": [
        {
          "output_type": "stream",
          "name": "stdout",
          "text": [
            "Nomor telepon ditemukan: 061 7981011\n",
            "Nomor telepon ditemukan: 061 7939999\n"
          ]
        }
      ]
    },
    {
      "cell_type": "code",
      "source": [
        "#Membuat Objek Regex\n",
        "import re\n",
        "no_telp_regex = re.compile(r'(\\d\\d\\d) (\\d\\d\\d\\d\\d\\d\\d)')\n",
        "mo = no_telp_regex.search('Nomor telepon saya 021 8273467.')\n",
        "mo.group()"
      ],
      "metadata": {
        "colab": {
          "base_uri": "https://localhost:8080/",
          "height": 35
        },
        "id": "AMsF33R_7Fzf",
        "outputId": "fb275180-7304-4c6a-f147-e9fbb60a56a3"
      },
      "execution_count": 57,
      "outputs": [
        {
          "output_type": "execute_result",
          "data": {
            "text/plain": [
              "'021 8273467'"
            ],
            "application/vnd.google.colaboratory.intrinsic+json": {
              "type": "string"
            }
          },
          "metadata": {},
          "execution_count": 57
        }
      ]
    },
    {
      "cell_type": "code",
      "source": [
        "mo.group(1)"
      ],
      "metadata": {
        "colab": {
          "base_uri": "https://localhost:8080/",
          "height": 35
        },
        "id": "MK7uuPsY7G1P",
        "outputId": "792f6d0c-5021-4389-895f-ad6c4af936c3"
      },
      "execution_count": 58,
      "outputs": [
        {
          "output_type": "execute_result",
          "data": {
            "text/plain": [
              "'021'"
            ],
            "application/vnd.google.colaboratory.intrinsic+json": {
              "type": "string"
            }
          },
          "metadata": {},
          "execution_count": 58
        }
      ]
    },
    {
      "cell_type": "code",
      "source": [
        "mo.group(2)"
      ],
      "metadata": {
        "colab": {
          "base_uri": "https://localhost:8080/",
          "height": 35
        },
        "id": "PDLyPFjQ7IiP",
        "outputId": "f7a1ed06-57c1-4a82-c259-35074322b3ec"
      },
      "execution_count": 59,
      "outputs": [
        {
          "output_type": "execute_result",
          "data": {
            "text/plain": [
              "'8273467'"
            ],
            "application/vnd.google.colaboratory.intrinsic+json": {
              "type": "string"
            }
          },
          "metadata": {},
          "execution_count": 59
        }
      ]
    },
    {
      "cell_type": "code",
      "source": [
        "mo.groups()\n",
        "kode_area, no_telp = mo.groups()\n",
        "print(kode_area)"
      ],
      "metadata": {
        "colab": {
          "base_uri": "https://localhost:8080/"
        },
        "id": "KrBNAvf97Iv0",
        "outputId": "064e6e92-1cc2-4981-8af5-d4df155effb4"
      },
      "execution_count": 60,
      "outputs": [
        {
          "output_type": "stream",
          "name": "stdout",
          "text": [
            "021\n"
          ]
        }
      ]
    },
    {
      "cell_type": "code",
      "source": [
        "print(no_telp)"
      ],
      "metadata": {
        "colab": {
          "base_uri": "https://localhost:8080/"
        },
        "id": "_sGiCeJc7JxB",
        "outputId": "8c9795b6-1ff7-4c4b-93bc-ad1258ae5b40"
      },
      "execution_count": 61,
      "outputs": [
        {
          "output_type": "stream",
          "name": "stdout",
          "text": [
            "8273467\n"
          ]
        }
      ]
    },
    {
      "cell_type": "markdown",
      "source": [
        "## Exercise"
      ],
      "metadata": {
        "id": "Z7kEoYca7MRR"
      }
    },
    {
      "cell_type": "code",
      "source": [
        "def tambah(x, y):\n",
        "    return x + y\n",
        "\n",
        "def pengurangan(x, y):\n",
        "    return x - y\n",
        "\n",
        "def perkalian(x, y):\n",
        "    return x * y\n",
        "\n",
        "def bagi(x, y):\n",
        "    return x / y\n",
        "\n",
        "\n",
        "print(\"Pilihlah nomer dibawah ini.\")\n",
        "print(\"1.Tambah\")\n",
        "print(\"2.Kurang\")\n",
        "print(\"3.Kali\")\n",
        "print(\"4.Pembagian\")\n",
        "\n",
        "while True:\n",
        "    # take input from the user\n",
        "    choice = input(\"Masukkan pilihan anda(1/2/3/4): \")\n",
        "\n",
        "    # check if choice is one of the four options\n",
        "    if choice in ('1', '2', '3', '4'):\n",
        "        num1 = float(input(\"Masukkan angka petama : \"))\n",
        "        num2 = float(input(\"Masukkan angka kedua : \"))\n",
        "\n",
        "        if choice == '1':\n",
        "            print(num1, \"+\", num2, \"=\", tambah(num1, num2))\n",
        "\n",
        "        elif choice == '2':\n",
        "            print(num1, \"-\", num2, \"=\", pengurangan(num1, num2))\n",
        "\n",
        "        elif choice == '3':\n",
        "            print(num1, \"*\", num2, \"=\", perkalian(num1, num2))\n",
        "\n",
        "        elif choice == '4':\n",
        "            print(num1, \"/\", num2, \"=\", bagi(num1, num2))\n",
        "        \n",
        "        # check if user wants another calculation\n",
        "        # break the while loop if answer is no\n",
        "        next_calculation = input(\"Masih ingin melanjutkan? (yes/no): \")\n",
        "        if next_calculation == \"no\":\n",
        "          break\n",
        "    \n",
        "    else:\n",
        "        print(\"Invalid Input\")"
      ],
      "metadata": {
        "colab": {
          "base_uri": "https://localhost:8080/"
        },
        "id": "6cwdV8z77KsD",
        "outputId": "20d54419-d4c7-41f9-a286-5c34d9331785"
      },
      "execution_count": 62,
      "outputs": [
        {
          "name": "stdout",
          "output_type": "stream",
          "text": [
            "Pilihlah nomer dibawah ini.\n",
            "1.Tambah\n",
            "2.Kurang\n",
            "3.Kali\n",
            "4.Pembagian\n",
            "Masukkan pilihan anda(1/2/3/4): 2\n",
            "Masukkan angka petama : 90\n",
            "Masukkan angka kedua : 46\n",
            "90.0 - 46.0 = 44.0\n",
            "Masih ingin melanjutkan? (yes/no): no\n"
          ]
        }
      ]
    }
  ]
}