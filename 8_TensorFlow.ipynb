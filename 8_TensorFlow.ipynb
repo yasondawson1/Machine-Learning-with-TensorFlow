{
  "nbformat": 4,
  "nbformat_minor": 0,
  "metadata": {
    "colab": {
      "provenance": [],
      "collapsed_sections": [],
      "toc_visible": true
    },
    "kernelspec": {
      "name": "python3",
      "display_name": "Python 3"
    },
    "language_info": {
      "name": "python"
    }
  },
  "cells": [
    {
      "cell_type": "markdown",
      "source": [
        "TensorFlow - Yason Dawson"
      ],
      "metadata": {
        "id": "D3LJv3f33JAG"
      }
    },
    {
      "cell_type": "markdown",
      "source": [
        "# TFLite_Linear Regression"
      ],
      "metadata": {
        "id": "40SyBrsc4xdG"
      }
    },
    {
      "cell_type": "markdown",
      "source": [
        "## Setup"
      ],
      "metadata": {
        "id": "_iapL99X3LU1"
      }
    },
    {
      "cell_type": "code",
      "source": [
        "try:\n",
        "    %tensorflow_version 2.x\n",
        "except:\n",
        "    pass"
      ],
      "metadata": {
        "colab": {
          "base_uri": "https://localhost:8080/"
        },
        "id": "e56Ir6GW3K3s",
        "outputId": "fae83107-6968-40dd-ed36-d86a8e4ff257"
      },
      "execution_count": 1,
      "outputs": [
        {
          "output_type": "stream",
          "name": "stdout",
          "text": [
            "Colab only includes TensorFlow 2.x; %tensorflow_version has no effect.\n"
          ]
        }
      ]
    },
    {
      "cell_type": "code",
      "source": [
        "import pathlib\n",
        "import numpy as np\n",
        "import matplotlib.pyplot as plt\n",
        "\n",
        "import tensorflow as tf\n",
        "\n",
        "print('\\u2022 Using TensorFlow Version:', tf.__version__)"
      ],
      "metadata": {
        "colab": {
          "base_uri": "https://localhost:8080/"
        },
        "id": "1fiRuk0K3dE2",
        "outputId": "034e9a05-95a5-498a-d2ee-fd0e7374ec32"
      },
      "execution_count": 2,
      "outputs": [
        {
          "output_type": "stream",
          "name": "stdout",
          "text": [
            "• Using TensorFlow Version: 2.8.2\n"
          ]
        }
      ]
    },
    {
      "cell_type": "markdown",
      "source": [
        "## Create a Basic Model of the Form y = mx + c"
      ],
      "metadata": {
        "id": "IQvXazmZ3Ri7"
      }
    },
    {
      "cell_type": "code",
      "source": [
        "# Create a simple Keras model.\n",
        "x = [-1, 0, 1, 2, 3, 4]\n",
        "y = [-3, -1, 1, 3, 5, 7]\n",
        "\n",
        "model = tf.keras.models.Sequential([\n",
        "        tf.keras.layers.Dense(units=1, input_shape=[1])\n",
        "])\n",
        "\n",
        "model.compile(optimizer='sgd',\n",
        "              loss='mean_squared_error')\n",
        "\n",
        "model.fit(x, y, epochs=200)"
      ],
      "metadata": {
        "colab": {
          "base_uri": "https://localhost:8080/"
        },
        "id": "9FeCC6z93PYn",
        "outputId": "1027960c-6bd0-40cd-9963-9bfaf626a608"
      },
      "execution_count": 3,
      "outputs": [
        {
          "output_type": "stream",
          "name": "stdout",
          "text": [
            "Epoch 1/200\n",
            "1/1 [==============================] - 1s 624ms/step - loss: 43.1035\n",
            "Epoch 2/200\n",
            "1/1 [==============================] - 0s 14ms/step - loss: 34.2791\n",
            "Epoch 3/200\n",
            "1/1 [==============================] - 0s 11ms/step - loss: 27.3289\n",
            "Epoch 4/200\n",
            "1/1 [==============================] - 0s 12ms/step - loss: 21.8535\n",
            "Epoch 5/200\n",
            "1/1 [==============================] - 0s 11ms/step - loss: 17.5384\n",
            "Epoch 6/200\n",
            "1/1 [==============================] - 0s 9ms/step - loss: 14.1364\n",
            "Epoch 7/200\n",
            "1/1 [==============================] - 0s 11ms/step - loss: 11.4530\n",
            "Epoch 8/200\n",
            "1/1 [==============================] - 0s 13ms/step - loss: 9.3350\n",
            "Epoch 9/200\n",
            "1/1 [==============================] - 0s 12ms/step - loss: 7.6620\n",
            "Epoch 10/200\n",
            "1/1 [==============================] - 0s 13ms/step - loss: 6.3392\n",
            "Epoch 11/200\n",
            "1/1 [==============================] - 0s 10ms/step - loss: 5.2921\n",
            "Epoch 12/200\n",
            "1/1 [==============================] - 0s 12ms/step - loss: 4.4621\n",
            "Epoch 13/200\n",
            "1/1 [==============================] - 0s 13ms/step - loss: 3.8029\n",
            "Epoch 14/200\n",
            "1/1 [==============================] - 0s 12ms/step - loss: 3.2783\n",
            "Epoch 15/200\n",
            "1/1 [==============================] - 0s 14ms/step - loss: 2.8597\n",
            "Epoch 16/200\n",
            "1/1 [==============================] - 0s 12ms/step - loss: 2.5245\n",
            "Epoch 17/200\n",
            "1/1 [==============================] - 0s 15ms/step - loss: 2.2552\n",
            "Epoch 18/200\n",
            "1/1 [==============================] - 0s 11ms/step - loss: 2.0379\n",
            "Epoch 19/200\n",
            "1/1 [==============================] - 0s 15ms/step - loss: 1.8614\n",
            "Epoch 20/200\n",
            "1/1 [==============================] - 0s 17ms/step - loss: 1.7173\n",
            "Epoch 21/200\n",
            "1/1 [==============================] - 0s 14ms/step - loss: 1.5987\n",
            "Epoch 22/200\n",
            "1/1 [==============================] - 0s 11ms/step - loss: 1.5003\n",
            "Epoch 23/200\n",
            "1/1 [==============================] - 0s 23ms/step - loss: 1.4179\n",
            "Epoch 24/200\n",
            "1/1 [==============================] - 0s 11ms/step - loss: 1.3482\n",
            "Epoch 25/200\n",
            "1/1 [==============================] - 0s 13ms/step - loss: 1.2886\n",
            "Epoch 26/200\n",
            "1/1 [==============================] - 0s 12ms/step - loss: 1.2371\n",
            "Epoch 27/200\n",
            "1/1 [==============================] - 0s 14ms/step - loss: 1.1919\n",
            "Epoch 28/200\n",
            "1/1 [==============================] - 0s 12ms/step - loss: 1.1519\n",
            "Epoch 29/200\n",
            "1/1 [==============================] - 0s 20ms/step - loss: 1.1160\n",
            "Epoch 30/200\n",
            "1/1 [==============================] - 0s 20ms/step - loss: 1.0834\n",
            "Epoch 31/200\n",
            "1/1 [==============================] - 0s 14ms/step - loss: 1.0536\n",
            "Epoch 32/200\n",
            "1/1 [==============================] - 0s 16ms/step - loss: 1.0260\n",
            "Epoch 33/200\n",
            "1/1 [==============================] - 0s 12ms/step - loss: 1.0002\n",
            "Epoch 34/200\n",
            "1/1 [==============================] - 0s 15ms/step - loss: 0.9760\n",
            "Epoch 35/200\n",
            "1/1 [==============================] - 0s 12ms/step - loss: 0.9531\n",
            "Epoch 36/200\n",
            "1/1 [==============================] - 0s 12ms/step - loss: 0.9312\n",
            "Epoch 37/200\n",
            "1/1 [==============================] - 0s 13ms/step - loss: 0.9103\n",
            "Epoch 38/200\n",
            "1/1 [==============================] - 0s 14ms/step - loss: 0.8902\n",
            "Epoch 39/200\n",
            "1/1 [==============================] - 0s 13ms/step - loss: 0.8708\n",
            "Epoch 40/200\n",
            "1/1 [==============================] - 0s 14ms/step - loss: 0.8520\n",
            "Epoch 41/200\n",
            "1/1 [==============================] - 0s 17ms/step - loss: 0.8338\n",
            "Epoch 42/200\n",
            "1/1 [==============================] - 0s 14ms/step - loss: 0.8162\n",
            "Epoch 43/200\n",
            "1/1 [==============================] - 0s 12ms/step - loss: 0.7990\n",
            "Epoch 44/200\n",
            "1/1 [==============================] - 0s 15ms/step - loss: 0.7822\n",
            "Epoch 45/200\n",
            "1/1 [==============================] - 0s 10ms/step - loss: 0.7659\n",
            "Epoch 46/200\n",
            "1/1 [==============================] - 0s 15ms/step - loss: 0.7500\n",
            "Epoch 47/200\n",
            "1/1 [==============================] - 0s 14ms/step - loss: 0.7344\n",
            "Epoch 48/200\n",
            "1/1 [==============================] - 0s 13ms/step - loss: 0.7192\n",
            "Epoch 49/200\n",
            "1/1 [==============================] - 0s 10ms/step - loss: 0.7043\n",
            "Epoch 50/200\n",
            "1/1 [==============================] - 0s 11ms/step - loss: 0.6898\n",
            "Epoch 51/200\n",
            "1/1 [==============================] - 0s 11ms/step - loss: 0.6755\n",
            "Epoch 52/200\n",
            "1/1 [==============================] - 0s 10ms/step - loss: 0.6616\n",
            "Epoch 53/200\n",
            "1/1 [==============================] - 0s 9ms/step - loss: 0.6480\n",
            "Epoch 54/200\n",
            "1/1 [==============================] - 0s 10ms/step - loss: 0.6346\n",
            "Epoch 55/200\n",
            "1/1 [==============================] - 0s 10ms/step - loss: 0.6216\n",
            "Epoch 56/200\n",
            "1/1 [==============================] - 0s 15ms/step - loss: 0.6088\n",
            "Epoch 57/200\n",
            "1/1 [==============================] - 0s 10ms/step - loss: 0.5963\n",
            "Epoch 58/200\n",
            "1/1 [==============================] - 0s 12ms/step - loss: 0.5840\n",
            "Epoch 59/200\n",
            "1/1 [==============================] - 0s 13ms/step - loss: 0.5720\n",
            "Epoch 60/200\n",
            "1/1 [==============================] - 0s 10ms/step - loss: 0.5602\n",
            "Epoch 61/200\n",
            "1/1 [==============================] - 0s 12ms/step - loss: 0.5487\n",
            "Epoch 62/200\n",
            "1/1 [==============================] - 0s 10ms/step - loss: 0.5375\n",
            "Epoch 63/200\n",
            "1/1 [==============================] - 0s 7ms/step - loss: 0.5264\n",
            "Epoch 64/200\n",
            "1/1 [==============================] - 0s 10ms/step - loss: 0.5156\n",
            "Epoch 65/200\n",
            "1/1 [==============================] - 0s 12ms/step - loss: 0.5050\n",
            "Epoch 66/200\n",
            "1/1 [==============================] - 0s 12ms/step - loss: 0.4946\n",
            "Epoch 67/200\n",
            "1/1 [==============================] - 0s 14ms/step - loss: 0.4845\n",
            "Epoch 68/200\n",
            "1/1 [==============================] - 0s 14ms/step - loss: 0.4745\n",
            "Epoch 69/200\n",
            "1/1 [==============================] - 0s 17ms/step - loss: 0.4648\n",
            "Epoch 70/200\n",
            "1/1 [==============================] - 0s 18ms/step - loss: 0.4552\n",
            "Epoch 71/200\n",
            "1/1 [==============================] - 0s 13ms/step - loss: 0.4459\n",
            "Epoch 72/200\n",
            "1/1 [==============================] - 0s 17ms/step - loss: 0.4367\n",
            "Epoch 73/200\n",
            "1/1 [==============================] - 0s 12ms/step - loss: 0.4277\n",
            "Epoch 74/200\n",
            "1/1 [==============================] - 0s 12ms/step - loss: 0.4190\n",
            "Epoch 75/200\n",
            "1/1 [==============================] - 0s 10ms/step - loss: 0.4103\n",
            "Epoch 76/200\n",
            "1/1 [==============================] - 0s 10ms/step - loss: 0.4019\n",
            "Epoch 77/200\n",
            "1/1 [==============================] - 0s 23ms/step - loss: 0.3937\n",
            "Epoch 78/200\n",
            "1/1 [==============================] - 0s 14ms/step - loss: 0.3856\n",
            "Epoch 79/200\n",
            "1/1 [==============================] - 0s 9ms/step - loss: 0.3777\n",
            "Epoch 80/200\n",
            "1/1 [==============================] - 0s 13ms/step - loss: 0.3699\n",
            "Epoch 81/200\n",
            "1/1 [==============================] - 0s 11ms/step - loss: 0.3623\n",
            "Epoch 82/200\n",
            "1/1 [==============================] - 0s 12ms/step - loss: 0.3549\n",
            "Epoch 83/200\n",
            "1/1 [==============================] - 0s 11ms/step - loss: 0.3476\n",
            "Epoch 84/200\n",
            "1/1 [==============================] - 0s 9ms/step - loss: 0.3404\n",
            "Epoch 85/200\n",
            "1/1 [==============================] - 0s 12ms/step - loss: 0.3334\n",
            "Epoch 86/200\n",
            "1/1 [==============================] - 0s 13ms/step - loss: 0.3266\n",
            "Epoch 87/200\n",
            "1/1 [==============================] - 0s 10ms/step - loss: 0.3199\n",
            "Epoch 88/200\n",
            "1/1 [==============================] - 0s 11ms/step - loss: 0.3133\n",
            "Epoch 89/200\n",
            "1/1 [==============================] - 0s 17ms/step - loss: 0.3069\n",
            "Epoch 90/200\n",
            "1/1 [==============================] - 0s 9ms/step - loss: 0.3006\n",
            "Epoch 91/200\n",
            "1/1 [==============================] - 0s 12ms/step - loss: 0.2944\n",
            "Epoch 92/200\n",
            "1/1 [==============================] - 0s 11ms/step - loss: 0.2884\n",
            "Epoch 93/200\n",
            "1/1 [==============================] - 0s 10ms/step - loss: 0.2824\n",
            "Epoch 94/200\n",
            "1/1 [==============================] - 0s 9ms/step - loss: 0.2766\n",
            "Epoch 95/200\n",
            "1/1 [==============================] - 0s 13ms/step - loss: 0.2709\n",
            "Epoch 96/200\n",
            "1/1 [==============================] - 0s 9ms/step - loss: 0.2654\n",
            "Epoch 97/200\n",
            "1/1 [==============================] - 0s 18ms/step - loss: 0.2599\n",
            "Epoch 98/200\n",
            "1/1 [==============================] - 0s 11ms/step - loss: 0.2546\n",
            "Epoch 99/200\n",
            "1/1 [==============================] - 0s 10ms/step - loss: 0.2494\n",
            "Epoch 100/200\n",
            "1/1 [==============================] - 0s 10ms/step - loss: 0.2442\n",
            "Epoch 101/200\n",
            "1/1 [==============================] - 0s 13ms/step - loss: 0.2392\n",
            "Epoch 102/200\n",
            "1/1 [==============================] - 0s 12ms/step - loss: 0.2343\n",
            "Epoch 103/200\n",
            "1/1 [==============================] - 0s 16ms/step - loss: 0.2295\n",
            "Epoch 104/200\n",
            "1/1 [==============================] - 0s 22ms/step - loss: 0.2248\n",
            "Epoch 105/200\n",
            "1/1 [==============================] - 0s 15ms/step - loss: 0.2202\n",
            "Epoch 106/200\n",
            "1/1 [==============================] - 0s 9ms/step - loss: 0.2156\n",
            "Epoch 107/200\n",
            "1/1 [==============================] - 0s 12ms/step - loss: 0.2112\n",
            "Epoch 108/200\n",
            "1/1 [==============================] - 0s 11ms/step - loss: 0.2069\n",
            "Epoch 109/200\n",
            "1/1 [==============================] - 0s 14ms/step - loss: 0.2026\n",
            "Epoch 110/200\n",
            "1/1 [==============================] - 0s 12ms/step - loss: 0.1985\n",
            "Epoch 111/200\n",
            "1/1 [==============================] - 0s 11ms/step - loss: 0.1944\n",
            "Epoch 112/200\n",
            "1/1 [==============================] - 0s 13ms/step - loss: 0.1904\n",
            "Epoch 113/200\n",
            "1/1 [==============================] - 0s 15ms/step - loss: 0.1865\n",
            "Epoch 114/200\n",
            "1/1 [==============================] - 0s 11ms/step - loss: 0.1827\n",
            "Epoch 115/200\n",
            "1/1 [==============================] - 0s 9ms/step - loss: 0.1789\n",
            "Epoch 116/200\n",
            "1/1 [==============================] - 0s 15ms/step - loss: 0.1752\n",
            "Epoch 117/200\n",
            "1/1 [==============================] - 0s 12ms/step - loss: 0.1716\n",
            "Epoch 118/200\n",
            "1/1 [==============================] - 0s 17ms/step - loss: 0.1681\n",
            "Epoch 119/200\n",
            "1/1 [==============================] - 0s 13ms/step - loss: 0.1646\n",
            "Epoch 120/200\n",
            "1/1 [==============================] - 0s 13ms/step - loss: 0.1613\n",
            "Epoch 121/200\n",
            "1/1 [==============================] - 0s 12ms/step - loss: 0.1580\n",
            "Epoch 122/200\n",
            "1/1 [==============================] - 0s 10ms/step - loss: 0.1547\n",
            "Epoch 123/200\n",
            "1/1 [==============================] - 0s 13ms/step - loss: 0.1515\n",
            "Epoch 124/200\n",
            "1/1 [==============================] - 0s 12ms/step - loss: 0.1484\n",
            "Epoch 125/200\n",
            "1/1 [==============================] - 0s 13ms/step - loss: 0.1454\n",
            "Epoch 126/200\n",
            "1/1 [==============================] - 0s 16ms/step - loss: 0.1424\n",
            "Epoch 127/200\n",
            "1/1 [==============================] - 0s 12ms/step - loss: 0.1395\n",
            "Epoch 128/200\n",
            "1/1 [==============================] - 0s 12ms/step - loss: 0.1366\n",
            "Epoch 129/200\n",
            "1/1 [==============================] - 0s 13ms/step - loss: 0.1338\n",
            "Epoch 130/200\n",
            "1/1 [==============================] - 0s 14ms/step - loss: 0.1310\n",
            "Epoch 131/200\n",
            "1/1 [==============================] - 0s 11ms/step - loss: 0.1283\n",
            "Epoch 132/200\n",
            "1/1 [==============================] - 0s 12ms/step - loss: 0.1257\n",
            "Epoch 133/200\n",
            "1/1 [==============================] - 0s 12ms/step - loss: 0.1231\n",
            "Epoch 134/200\n",
            "1/1 [==============================] - 0s 12ms/step - loss: 0.1206\n",
            "Epoch 135/200\n",
            "1/1 [==============================] - 0s 13ms/step - loss: 0.1181\n",
            "Epoch 136/200\n",
            "1/1 [==============================] - 0s 13ms/step - loss: 0.1157\n",
            "Epoch 137/200\n",
            "1/1 [==============================] - 0s 14ms/step - loss: 0.1133\n",
            "Epoch 138/200\n",
            "1/1 [==============================] - 0s 15ms/step - loss: 0.1110\n",
            "Epoch 139/200\n",
            "1/1 [==============================] - 0s 11ms/step - loss: 0.1087\n",
            "Epoch 140/200\n",
            "1/1 [==============================] - 0s 15ms/step - loss: 0.1065\n",
            "Epoch 141/200\n",
            "1/1 [==============================] - 0s 11ms/step - loss: 0.1043\n",
            "Epoch 142/200\n",
            "1/1 [==============================] - 0s 12ms/step - loss: 0.1022\n",
            "Epoch 143/200\n",
            "1/1 [==============================] - 0s 10ms/step - loss: 0.1001\n",
            "Epoch 144/200\n",
            "1/1 [==============================] - 0s 11ms/step - loss: 0.0980\n",
            "Epoch 145/200\n",
            "1/1 [==============================] - 0s 9ms/step - loss: 0.0960\n",
            "Epoch 146/200\n",
            "1/1 [==============================] - 0s 8ms/step - loss: 0.0940\n",
            "Epoch 147/200\n",
            "1/1 [==============================] - 0s 12ms/step - loss: 0.0921\n",
            "Epoch 148/200\n",
            "1/1 [==============================] - 0s 13ms/step - loss: 0.0902\n",
            "Epoch 149/200\n",
            "1/1 [==============================] - 0s 10ms/step - loss: 0.0883\n",
            "Epoch 150/200\n",
            "1/1 [==============================] - 0s 9ms/step - loss: 0.0865\n",
            "Epoch 151/200\n",
            "1/1 [==============================] - 0s 10ms/step - loss: 0.0847\n",
            "Epoch 152/200\n",
            "1/1 [==============================] - 0s 12ms/step - loss: 0.0830\n",
            "Epoch 153/200\n",
            "1/1 [==============================] - 0s 13ms/step - loss: 0.0813\n",
            "Epoch 154/200\n",
            "1/1 [==============================] - 0s 11ms/step - loss: 0.0796\n",
            "Epoch 155/200\n",
            "1/1 [==============================] - 0s 11ms/step - loss: 0.0780\n",
            "Epoch 156/200\n",
            "1/1 [==============================] - 0s 9ms/step - loss: 0.0764\n",
            "Epoch 157/200\n",
            "1/1 [==============================] - 0s 9ms/step - loss: 0.0748\n",
            "Epoch 158/200\n",
            "1/1 [==============================] - 0s 10ms/step - loss: 0.0733\n",
            "Epoch 159/200\n",
            "1/1 [==============================] - 0s 17ms/step - loss: 0.0718\n",
            "Epoch 160/200\n",
            "1/1 [==============================] - 0s 14ms/step - loss: 0.0703\n",
            "Epoch 161/200\n",
            "1/1 [==============================] - 0s 13ms/step - loss: 0.0689\n",
            "Epoch 162/200\n",
            "1/1 [==============================] - 0s 13ms/step - loss: 0.0674\n",
            "Epoch 163/200\n",
            "1/1 [==============================] - 0s 11ms/step - loss: 0.0661\n",
            "Epoch 164/200\n",
            "1/1 [==============================] - 0s 11ms/step - loss: 0.0647\n",
            "Epoch 165/200\n",
            "1/1 [==============================] - 0s 15ms/step - loss: 0.0634\n",
            "Epoch 166/200\n",
            "1/1 [==============================] - 0s 11ms/step - loss: 0.0621\n",
            "Epoch 167/200\n",
            "1/1 [==============================] - 0s 14ms/step - loss: 0.0608\n",
            "Epoch 168/200\n",
            "1/1 [==============================] - 0s 12ms/step - loss: 0.0596\n",
            "Epoch 169/200\n",
            "1/1 [==============================] - 0s 13ms/step - loss: 0.0583\n",
            "Epoch 170/200\n",
            "1/1 [==============================] - 0s 13ms/step - loss: 0.0571\n",
            "Epoch 171/200\n",
            "1/1 [==============================] - 0s 13ms/step - loss: 0.0560\n",
            "Epoch 172/200\n",
            "1/1 [==============================] - 0s 12ms/step - loss: 0.0548\n",
            "Epoch 173/200\n",
            "1/1 [==============================] - 0s 13ms/step - loss: 0.0537\n",
            "Epoch 174/200\n",
            "1/1 [==============================] - 0s 13ms/step - loss: 0.0526\n",
            "Epoch 175/200\n",
            "1/1 [==============================] - 0s 16ms/step - loss: 0.0515\n",
            "Epoch 176/200\n",
            "1/1 [==============================] - 0s 15ms/step - loss: 0.0504\n",
            "Epoch 177/200\n",
            "1/1 [==============================] - 0s 15ms/step - loss: 0.0494\n",
            "Epoch 178/200\n",
            "1/1 [==============================] - 0s 16ms/step - loss: 0.0484\n",
            "Epoch 179/200\n",
            "1/1 [==============================] - 0s 12ms/step - loss: 0.0474\n",
            "Epoch 180/200\n",
            "1/1 [==============================] - 0s 11ms/step - loss: 0.0464\n",
            "Epoch 181/200\n",
            "1/1 [==============================] - 0s 13ms/step - loss: 0.0455\n",
            "Epoch 182/200\n",
            "1/1 [==============================] - 0s 14ms/step - loss: 0.0445\n",
            "Epoch 183/200\n",
            "1/1 [==============================] - 0s 11ms/step - loss: 0.0436\n",
            "Epoch 184/200\n",
            "1/1 [==============================] - 0s 12ms/step - loss: 0.0427\n",
            "Epoch 185/200\n",
            "1/1 [==============================] - 0s 12ms/step - loss: 0.0418\n",
            "Epoch 186/200\n",
            "1/1 [==============================] - 0s 12ms/step - loss: 0.0410\n",
            "Epoch 187/200\n",
            "1/1 [==============================] - 0s 15ms/step - loss: 0.0401\n",
            "Epoch 188/200\n",
            "1/1 [==============================] - 0s 12ms/step - loss: 0.0393\n",
            "Epoch 189/200\n",
            "1/1 [==============================] - 0s 12ms/step - loss: 0.0385\n",
            "Epoch 190/200\n",
            "1/1 [==============================] - 0s 12ms/step - loss: 0.0377\n",
            "Epoch 191/200\n",
            "1/1 [==============================] - 0s 14ms/step - loss: 0.0369\n",
            "Epoch 192/200\n",
            "1/1 [==============================] - 0s 13ms/step - loss: 0.0362\n",
            "Epoch 193/200\n",
            "1/1 [==============================] - 0s 10ms/step - loss: 0.0354\n",
            "Epoch 194/200\n",
            "1/1 [==============================] - 0s 10ms/step - loss: 0.0347\n",
            "Epoch 195/200\n",
            "1/1 [==============================] - 0s 13ms/step - loss: 0.0340\n",
            "Epoch 196/200\n",
            "1/1 [==============================] - 0s 12ms/step - loss: 0.0333\n",
            "Epoch 197/200\n",
            "1/1 [==============================] - 0s 11ms/step - loss: 0.0326\n",
            "Epoch 198/200\n",
            "1/1 [==============================] - 0s 9ms/step - loss: 0.0320\n",
            "Epoch 199/200\n",
            "1/1 [==============================] - 0s 10ms/step - loss: 0.0313\n",
            "Epoch 200/200\n",
            "1/1 [==============================] - 0s 10ms/step - loss: 0.0307\n"
          ]
        },
        {
          "output_type": "execute_result",
          "data": {
            "text/plain": [
              "<keras.callbacks.History at 0x7ff60beaea10>"
            ]
          },
          "metadata": {},
          "execution_count": 3
        }
      ]
    },
    {
      "cell_type": "markdown",
      "source": [
        "## Generate a SavedModel"
      ],
      "metadata": {
        "id": "0KiL67oO4ove"
      }
    },
    {
      "cell_type": "code",
      "source": [
        "export_dir = 'saved_model/1'\n",
        "tf.saved_model.save(model, export_dir)"
      ],
      "metadata": {
        "id": "efoxhSBc3Tqa"
      },
      "execution_count": 4,
      "outputs": []
    },
    {
      "cell_type": "markdown",
      "source": [
        "## Convert the SavedModel to TFLite"
      ],
      "metadata": {
        "id": "pT0c20fT46Et"
      }
    },
    {
      "cell_type": "code",
      "source": [
        "# Convert the model.\n",
        "converter = tf.lite.TFLiteConverter.from_saved_model(export_dir)\n",
        "tflite_model = converter.convert()"
      ],
      "metadata": {
        "id": "HjVWkcCH4pxs"
      },
      "execution_count": 5,
      "outputs": []
    },
    {
      "cell_type": "code",
      "source": [
        "tflite_model_file = pathlib.Path('model.tflite')\n",
        "tflite_model_file.write_bytes(tflite_model)"
      ],
      "metadata": {
        "colab": {
          "base_uri": "https://localhost:8080/"
        },
        "id": "36M8WbIM45lF",
        "outputId": "ab0604e9-5c09-45df-ec83-19578db05d3b"
      },
      "execution_count": 6,
      "outputs": [
        {
          "output_type": "execute_result",
          "data": {
            "text/plain": [
              "884"
            ]
          },
          "metadata": {},
          "execution_count": 6
        }
      ]
    },
    {
      "cell_type": "markdown",
      "source": [
        "## Initialize the TFLite Interpreter To Try It Out"
      ],
      "metadata": {
        "id": "betlgH1q49v6"
      }
    },
    {
      "cell_type": "code",
      "source": [
        "# Load TFLite model and allocate tensors.\n",
        "interpreter = tf.lite.Interpreter(model_content=tflite_model)\n",
        "interpreter.allocate_tensors()\n",
        "\n",
        "# Get input and output tensors.\n",
        "input_details = interpreter.get_input_details()\n",
        "output_details = interpreter.get_output_details()"
      ],
      "metadata": {
        "id": "X2M-Wg2K48hW"
      },
      "execution_count": 7,
      "outputs": []
    },
    {
      "cell_type": "code",
      "source": [
        "# Test the TensorFlow Lite model on random input data.\n",
        "input_shape = input_details[0]['shape']\n",
        "inputs, outputs = [], []\n",
        "for _ in range(100):\n",
        "    input_data = np.array(np.random.random_sample(input_shape), dtype=np.float32)\n",
        "    interpreter.set_tensor(input_details[0]['index'], input_data)\n",
        "    \n",
        "    interpreter.invoke()\n",
        "    tflite_results = interpreter.get_tensor(output_details[0]['index'])\n",
        "    \n",
        "    # Test the TensorFlow model on random input data.\n",
        "    tf_results = model(tf.constant(input_data))\n",
        "    output_data = np.array(tf_results)\n",
        "    \n",
        "    inputs.append(input_data[0][0])\n",
        "    outputs.append(output_data[0][0])"
      ],
      "metadata": {
        "id": "Xu_g_dw84-30"
      },
      "execution_count": 8,
      "outputs": []
    },
    {
      "cell_type": "markdown",
      "source": [
        "## Visualize the Model"
      ],
      "metadata": {
        "id": "Y8tuHsvi5A5I"
      }
    },
    {
      "cell_type": "code",
      "source": [
        "%matplotlib inline\n",
        "\n",
        "plt.plot(inputs, outputs, 'r')\n",
        "plt.show()"
      ],
      "metadata": {
        "colab": {
          "base_uri": "https://localhost:8080/",
          "height": 265
        },
        "id": "Z5VqM9mc4_t8",
        "outputId": "8029d9ee-b4bd-48a1-cf66-ae9cf44e14c7"
      },
      "execution_count": 9,
      "outputs": [
        {
          "output_type": "display_data",
          "data": {
            "text/plain": [
              "<Figure size 432x288 with 1 Axes>"
            ],
            "image/png": "[encoded data removed]"
          },
          "metadata": {
            "needs_background": "light"
          }
        }
      ]
    },
    {
      "cell_type": "markdown",
      "source": [
        "## Download Fashion MNIST Dataset"
      ],
      "metadata": {
        "id": "AtUqEyZs5RS0"
      }
    },
    {
      "cell_type": "code",
      "source": [
        "try:\n",
        "    from google.colab import files\n",
        "    files.download(tflite_model_file)\n",
        "except:\n",
        "    pass"
      ],
      "metadata": {
        "colab": {
          "base_uri": "https://localhost:8080/",
          "height": 34
        },
        "id": "qsNsb-Cj5B40",
        "outputId": "0917236c-dbbd-412c-f888-7c81a21b8215"
      },
      "execution_count": 10,
      "outputs": [
        {
          "output_type": "display_data",
          "data": {
            "text/plain": [
              "<IPython.core.display.Javascript object>"
            ],
            "application/javascript": [
              "\n",
              "    async function download(id, filename, size) {\n",
              "      if (!google.colab.kernel.accessAllowed) {\n",
              "        return;\n",
              "      }\n",
              "      const div = document.createElement('div');\n",
              "      const label = document.createElement('label');\n",
              "      label.textContent = `Downloading \"${filename}\": `;\n",
              "      div.appendChild(label);\n",
              "      const progress = document.createElement('progress');\n",
              "      progress.max = size;\n",
              "      div.appendChild(progress);\n",
              "      document.body.appendChild(div);\n",
              "\n",
              "      const buffers = [];\n",
              "      let downloaded = 0;\n",
              "\n",
              "      const channel = await google.colab.kernel.comms.open(id);\n",
              "      // Send a message to notify the kernel that we're ready.\n",
              "      channel.send({})\n",
              "\n",
              "      for await (const message of channel.messages) {\n",
              "        // Send a message to notify the kernel that we're ready.\n",
              "        channel.send({})\n",
              "        if (message.buffers) {\n",
              "          for (const buffer of message.buffers) {\n",
              "            buffers.push(buffer);\n",
              "            downloaded += buffer.byteLength;\n",
              "            progress.value = downloaded;\n",
              "          }\n",
              "        }\n",
              "      }\n",
              "      const blob = new Blob(buffers, {type: 'application/binary'});\n",
              "      const a = document.createElement('a');\n",
              "      a.href = window.URL.createObjectURL(blob);\n",
              "      a.download = filename;\n",
              "      div.appendChild(a);\n",
              "      a.click();\n",
              "      div.remove();\n",
              "    }\n",
              "  "
            ]
          },
          "metadata": {}
        },
        {
          "output_type": "display_data",
          "data": {
            "text/plain": [
              "<IPython.core.display.Javascript object>"
            ],
            "application/javascript": [
              "download(\"download_d92ff145-eb67-4de5-9211-af2e762317d3\", \"model.tflite\", 884)"
            ]
          },
          "metadata": {}
        }
      ]
    },
    {
      "cell_type": "code",
      "source": [
        "import pathlib\n",
        "import numpy as np\n",
        "import matplotlib.pyplot as plt\n",
        "\n",
        "import tensorflow as tf\n",
        "import tensorflow_datasets as tfds\n",
        "tfds.disable_progress_bar()\n",
        "\n",
        "\n",
        "print('\\u2022 Using TensorFlow Version:', tf.__version__)\n",
        "print('\\u2022 GPU Device Found.' if tf.test.is_gpu_available() \n",
        "else '\\u2022 GPU Device Not Found. Running on CPU')"
      ],
      "metadata": {
        "colab": {
          "base_uri": "https://localhost:8080/"
        },
        "id": "3-psTJg35SQ1",
        "outputId": "95ecc2bc-bd9d-4106-ccb0-ad294465859f"
      },
      "execution_count": 11,
      "outputs": [
        {
          "output_type": "stream",
          "name": "stderr",
          "text": [
            "WARNING:tensorflow:From <ipython-input-11-a4016538ddfa>:11: is_gpu_available (from tensorflow.python.framework.test_util) is deprecated and will be removed in a future version.\n",
            "Instructions for updating:\n",
            "Use `tf.config.list_physical_devices('GPU')` instead.\n"
          ]
        },
        {
          "output_type": "stream",
          "name": "stdout",
          "text": [
            "• Using TensorFlow Version: 2.8.2\n",
            "• GPU Device Not Found. Running on CPU\n"
          ]
        }
      ]
    },
    {
      "cell_type": "code",
      "source": [
        "splits = ['train[:80%]+test[:80%]','train[80%:90%]+test[80%:90%]', 'train[90%:]+test[90%:]']\n",
        "\n",
        "splits, info = tfds.load('fashion_mnist', with_info=True, as_supervised=True, split=splits)\n",
        "\n",
        "(train_examples, validation_examples, test_examples) = splits\n",
        "\n",
        "num_examples = info.splits['train'].num_examples\n",
        "num_classes = info.features['label'].num_classes"
      ],
      "metadata": {
        "colab": {
          "base_uri": "https://localhost:8080/"
        },
        "id": "_1FjM9y45XiZ",
        "outputId": "fead98ec-bddc-4858-eb24-11f0e7375d25"
      },
      "execution_count": 12,
      "outputs": [
        {
          "output_type": "stream",
          "name": "stdout",
          "text": [
            "\u001b[1mDownloading and preparing dataset 29.45 MiB (download: 29.45 MiB, generated: 36.42 MiB, total: 65.87 MiB) to ~/tensorflow_datasets/fashion_mnist/3.0.1...\u001b[0m\n",
            "\u001b[1mDataset fashion_mnist downloaded and prepared to ~/tensorflow_datasets/fashion_mnist/3.0.1. Subsequent calls will reuse this data.\u001b[0m\n"
          ]
        }
      ]
    },
    {
      "cell_type": "markdown",
      "source": [
        "The class names are not included with the dataset, so we will specify them here."
      ],
      "metadata": {
        "id": "EUjg37tT5hH_"
      }
    },
    {
      "cell_type": "code",
      "source": [
        "class_names = ['T-shirt_top', 'Trouser', 'Pullover', 'Dress', 'Coat',\n",
        "               'Sandal', 'Shirt', 'Sneaker', 'Bag', 'Ankle boot']"
      ],
      "metadata": {
        "id": "5WOUcdHc5eoI"
      },
      "execution_count": 13,
      "outputs": []
    },
    {
      "cell_type": "code",
      "source": [
        "# Create a labels.txt file with the class names\n",
        "with open('labels.txt', 'w') as f:\n",
        "    f.write('\\n'.join(class_names))"
      ],
      "metadata": {
        "id": "q8yV8Dba5h8i"
      },
      "execution_count": 14,
      "outputs": []
    },
    {
      "cell_type": "code",
      "source": [
        "# The images in the dataset are 28 by 28 pixels.\n",
        "IMG_SIZE = 28"
      ],
      "metadata": {
        "id": "OvjB1Wvn5ilP"
      },
      "execution_count": 15,
      "outputs": []
    },
    {
      "cell_type": "markdown",
      "source": [
        "## Preprocessing data"
      ],
      "metadata": {
        "id": "CchOZ3-r5o-v"
      }
    },
    {
      "cell_type": "code",
      "source": [
        "def format_example(image, label):\n",
        "    \n",
        "    image =tf.cast(x=image, dtype = tf.float32) #YOUR CODE HERE\n",
        "        \n",
        "    # Normalize the image in the range [0, 1]\n",
        "    image = image * 1.0/255.0\n",
        "    \n",
        "    return image, label"
      ],
      "metadata": {
        "id": "oBMB0Yk35jNG"
      },
      "execution_count": 16,
      "outputs": []
    },
    {
      "cell_type": "code",
      "source": [
        "# Specify the batch size\n",
        "BATCH_SIZE = 256"
      ],
      "metadata": {
        "id": "IDJ577L854pO"
      },
      "execution_count": 17,
      "outputs": []
    },
    {
      "cell_type": "code",
      "source": [
        "# Create Datasets\n",
        "train_batches = train_examples.cache().shuffle(num_examples//4).batch(BATCH_SIZE).map(format_example).prefetch(1)\n",
        "validation_batches = validation_examples.cache().batch(BATCH_SIZE).map(format_example)\n",
        "test_batches = test_examples.batch(1).map(format_example)"
      ],
      "metadata": {
        "id": "Ix__4WUm57OJ"
      },
      "execution_count": 18,
      "outputs": []
    },
    {
      "cell_type": "markdown",
      "source": [
        "## Building The Model"
      ],
      "metadata": {
        "id": "e0pGEogb6Aus"
      }
    },
    {
      "cell_type": "code",
      "source": [
        "model = tf.keras.Sequential([\n",
        "    # Set the input shape to (28, 28, 1), kernel size=3, filters=16 and use ReLU activation,\n",
        "    tf.keras.layers.Conv2D(16,(3,3), activation='relu', input_shape=(28,28,1)),\n",
        "    tf.keras.layers.MaxPooling2D(),\n",
        "      \n",
        "    # Set the number of filters to 32, kernel size to 3 and use ReLU activation \n",
        "    tf.keras.layers.Conv2D(32,(3,3), activation = 'relu'),\n",
        "      \n",
        "    # Flatten the output layer to 1 dimension\n",
        "    tf.keras.layers.Flatten(),\n",
        "      \n",
        "    # Add a fully connected layer with 64 hidden units and ReLU activation\n",
        "    tf.keras.layers.Dense(units = 64, activation = 'relu'),\n",
        "      \n",
        "    # Attach a final softmax classification head\n",
        "    tf.keras.layers.Dense(units=10, activation='softmax')])\n",
        "\n",
        "# Set the appropriate loss function and use accuracy as your metric\n",
        "model.compile(optimizer='adam',\n",
        "              loss= 'sparse_categorical_crossentropy' ,#YOUR CODE HERE,\n",
        "              metrics= ['accuracy'] )#YOUR CODE HERE"
      ],
      "metadata": {
        "id": "vzS0GlmQ58qQ"
      },
      "execution_count": 19,
      "outputs": []
    },
    {
      "cell_type": "code",
      "source": [
        "model.fit(train_batches, \n",
        "          epochs=10,\n",
        "          validation_data=validation_batches)"
      ],
      "metadata": {
        "colab": {
          "base_uri": "https://localhost:8080/"
        },
        "id": "mMLymTfv6DSt",
        "outputId": "0f84dd42-a944-45b6-bcbe-071595b64417"
      },
      "execution_count": 20,
      "outputs": [
        {
          "output_type": "stream",
          "name": "stdout",
          "text": [
            "Epoch 1/10\n",
            "219/219 [==============================] - 29s 125ms/step - loss: 0.6047 - accuracy: 0.7871 - val_loss: 0.4110 - val_accuracy: 0.8504\n",
            "Epoch 2/10\n",
            "219/219 [==============================] - 24s 112ms/step - loss: 0.3852 - accuracy: 0.8648 - val_loss: 0.3460 - val_accuracy: 0.8753\n",
            "Epoch 3/10\n",
            "219/219 [==============================] - 25s 112ms/step - loss: 0.3399 - accuracy: 0.8819 - val_loss: 0.3268 - val_accuracy: 0.8813\n",
            "Epoch 4/10\n",
            "219/219 [==============================] - 24s 110ms/step - loss: 0.3072 - accuracy: 0.8914 - val_loss: 0.3079 - val_accuracy: 0.8870\n",
            "Epoch 5/10\n",
            "219/219 [==============================] - 24s 111ms/step - loss: 0.2863 - accuracy: 0.8990 - val_loss: 0.2874 - val_accuracy: 0.8976\n",
            "Epoch 6/10\n",
            "219/219 [==============================] - 24s 110ms/step - loss: 0.2684 - accuracy: 0.9041 - val_loss: 0.2868 - val_accuracy: 0.8961\n",
            "Epoch 7/10\n",
            "219/219 [==============================] - 24s 109ms/step - loss: 0.2509 - accuracy: 0.9111 - val_loss: 0.2808 - val_accuracy: 0.8994\n",
            "Epoch 8/10\n",
            "219/219 [==============================] - 24s 109ms/step - loss: 0.2463 - accuracy: 0.9114 - val_loss: 0.2556 - val_accuracy: 0.9083\n",
            "Epoch 9/10\n",
            "219/219 [==============================] - 24s 109ms/step - loss: 0.2280 - accuracy: 0.9178 - val_loss: 0.2600 - val_accuracy: 0.9071\n",
            "Epoch 10/10\n",
            "219/219 [==============================] - 25s 116ms/step - loss: 0.2200 - accuracy: 0.9206 - val_loss: 0.2635 - val_accuracy: 0.9054\n"
          ]
        },
        {
          "output_type": "execute_result",
          "data": {
            "text/plain": [
              "<keras.callbacks.History at 0x7ff5fe240a10>"
            ]
          },
          "metadata": {},
          "execution_count": 20
        }
      ]
    },
    {
      "cell_type": "code",
      "source": [
        "# EXERCISE: Use the tf.saved_model API to save your model in the SavedModel format. \n",
        "export_dir = 'saved_model/1'\n",
        "\n",
        "tf.saved_model.save(model,export_dir=export_dir)"
      ],
      "metadata": {
        "id": "v9BA5yws6EwM"
      },
      "execution_count": 21,
      "outputs": []
    },
    {
      "cell_type": "code",
      "source": [
        "#@title Select mode of optimization\n",
        "mode = \"Speed\" #@param [\"Default\", \"Storage\", \"Speed\"]\n",
        "\n",
        "if mode == 'Storage':\n",
        "    optimization = tf.lite.Optimize.OPTIMIZE_FOR_SIZE\n",
        "elif mode == 'Speed':\n",
        "    optimization = tf.lite.Optimize.OPTIMIZE_FOR_LATENCY\n",
        "else:\n",
        "    optimization = tf.lite.Optimize.DEFAULT"
      ],
      "metadata": {
        "id": "cJrvcAM56FmA"
      },
      "execution_count": 22,
      "outputs": []
    },
    {
      "cell_type": "code",
      "source": [
        "converter = tf.lite.TFLiteConverter.from_saved_model(export_dir)# YOUR CODE HERE\n",
        "\n",
        "# Set the optimzations\n",
        "converter.optimizations = [optimization]# YOUR CODE HERE\n",
        "\n",
        "# Invoke the converter to finally generate the TFLite model\n",
        "tflite_model = converter.convert()# YOUR CODE HERE"
      ],
      "metadata": {
        "colab": {
          "base_uri": "https://localhost:8080/"
        },
        "id": "2n40umxd6Hwg",
        "outputId": "1289ce4e-6846-4e68-f65f-fd67e7ca6ad2"
      },
      "execution_count": 23,
      "outputs": [
        {
          "output_type": "stream",
          "name": "stderr",
          "text": [
            "WARNING:absl:Optimization option OPTIMIZE_FOR_LATENCY is deprecated, please use optimizations=[Optimize.DEFAULT] instead.\n",
            "WARNING:absl:Optimization option OPTIMIZE_FOR_LATENCY is deprecated, please use optimizations=[Optimize.DEFAULT] instead.\n",
            "WARNING:absl:Optimization option OPTIMIZE_FOR_LATENCY is deprecated, please use optimizations=[Optimize.DEFAULT] instead.\n"
          ]
        }
      ]
    },
    {
      "cell_type": "code",
      "source": [
        "tflite_model_file = pathlib.Path('./model.tflite')\n",
        "tflite_model_file.write_bytes(tflite_model)"
      ],
      "metadata": {
        "colab": {
          "base_uri": "https://localhost:8080/"
        },
        "id": "f1NY7XKo6Jzg",
        "outputId": "b81fc543-9e25-4a94-d34c-6788dae0e39f"
      },
      "execution_count": 24,
      "outputs": [
        {
          "output_type": "execute_result",
          "data": {
            "text/plain": [
              "259648"
            ]
          },
          "metadata": {},
          "execution_count": 24
        }
      ]
    },
    {
      "cell_type": "markdown",
      "source": [
        "## Test the Model with TFLite Interpreter "
      ],
      "metadata": {
        "id": "QXC-BnTQ6MLF"
      }
    },
    {
      "cell_type": "code",
      "source": [
        "# Load TFLite model and allocate tensors.\n",
        "interpreter = tf.lite.Interpreter(model_content=tflite_model)\n",
        "interpreter.allocate_tensors()\n",
        "\n",
        "input_index = interpreter.get_input_details()[0][\"index\"]\n",
        "output_index = interpreter.get_output_details()[0][\"index\"]"
      ],
      "metadata": {
        "id": "J1eoLK0e6LHV"
      },
      "execution_count": 25,
      "outputs": []
    },
    {
      "cell_type": "code",
      "source": [
        "# Gather results for the randomly sampled test images\n",
        "predictions = []\n",
        "test_labels = []\n",
        "test_images = []\n",
        "\n",
        "for img, label in test_batches.take(50):\n",
        "    interpreter.set_tensor(input_index, img)\n",
        "    interpreter.invoke()\n",
        "    predictions.append(interpreter.get_tensor(output_index))\n",
        "    test_labels.append(label[0])\n",
        "    test_images.append(np.array(img))"
      ],
      "metadata": {
        "id": "Ey3_PPSY6NaF"
      },
      "execution_count": 26,
      "outputs": []
    },
    {
      "cell_type": "code",
      "source": [
        "#@title Utility functions for plotting\n",
        "# Utilities for plotting\n",
        "\n",
        "def plot_image(i, predictions_array, true_label, img):\n",
        "    predictions_array, true_label, img = predictions_array[i], true_label[i], img[i]\n",
        "    plt.grid(False)\n",
        "    plt.xticks([])\n",
        "    plt.yticks([])\n",
        "    \n",
        "    img = np.squeeze(img)\n",
        "    \n",
        "    plt.imshow(img, cmap=plt.cm.binary)\n",
        "    \n",
        "    predicted_label = np.argmax(predictions_array)\n",
        "    \n",
        "    if predicted_label == true_label.numpy():\n",
        "        color = 'green'\n",
        "    else:\n",
        "        color = 'red'\n",
        "    \n",
        "    plt.xlabel(\"{} {:2.0f}% ({})\".format(class_names[predicted_label],\n",
        "                                         100*np.max(predictions_array),\n",
        "                                         class_names[true_label]), color=color)\n",
        "\n",
        "def plot_value_array(i, predictions_array, true_label):\n",
        "    predictions_array, true_label = predictions_array[i], true_label[i]\n",
        "    plt.grid(False)\n",
        "    plt.xticks(list(range(10)), class_names, rotation='vertical')\n",
        "    plt.yticks([])\n",
        "    thisplot = plt.bar(range(10), predictions_array[0], color=\"#777777\")\n",
        "    plt.ylim([0, 1])\n",
        "    predicted_label = np.argmax(predictions_array[0])\n",
        "\n",
        "    thisplot[predicted_label].set_color('red')\n",
        "    thisplot[true_label].set_color('green')"
      ],
      "metadata": {
        "id": "dEf_FDVz6OHY"
      },
      "execution_count": 27,
      "outputs": []
    },
    {
      "cell_type": "code",
      "source": [
        "#@title Visualize the outputs { run: \"auto\" }\n",
        "index = 13 #@param {type:\"slider\", min:1, max:50, step:1}\n",
        "plt.figure(figsize=(6,3))\n",
        "plt.subplot(1,2,1)\n",
        "plot_image(index, predictions, test_labels, test_images)\n",
        "plt.show()\n",
        "plot_value_array(index, predictions, test_labels)\n",
        "plt.show()"
      ],
      "metadata": {
        "colab": {
          "base_uri": "https://localhost:8080/",
          "height": 489
        },
        "id": "-ZQOz0BH6Oub",
        "outputId": "00ef6f62-bf34-4827-ba26-f394cff580b4"
      },
      "execution_count": 28,
      "outputs": [
        {
          "output_type": "display_data",
          "data": {
            "text/plain": [
              "<Figure size 432x216 with 1 Axes>"
            ],
            "image/png": "[encoded data removed]"
          },
          "metadata": {}
        },
        {
          "output_type": "display_data",
          "data": {
            "text/plain": [
              "<Figure size 432x288 with 1 Axes>"
            ],
            "image/png": "[encoded data removed]"
          },
          "metadata": {
            "needs_background": "light"
          }
        }
      ]
    },
    {
      "cell_type": "markdown",
      "source": [
        "## Download the TFLite Model and Assets"
      ],
      "metadata": {
        "id": "nIHLQxjr6ZXA"
      }
    },
    {
      "cell_type": "code",
      "source": [
        "try:\n",
        "    from google.colab import files\n",
        "    \n",
        "    files.download(tflite_model_file)\n",
        "    files.download('labels.txt')\n",
        "except:\n",
        "    pass"
      ],
      "metadata": {
        "colab": {
          "base_uri": "https://localhost:8080/",
          "height": 52
        },
        "id": "ZvMEvN7r6Pbr",
        "outputId": "9797962f-ebab-4a36-a5f0-b0772986e7ea"
      },
      "execution_count": 29,
      "outputs": [
        {
          "output_type": "display_data",
          "data": {
            "text/plain": [
              "<IPython.core.display.Javascript object>"
            ],
            "application/javascript": [
              "\n",
              "    async function download(id, filename, size) {\n",
              "      if (!google.colab.kernel.accessAllowed) {\n",
              "        return;\n",
              "      }\n",
              "      const div = document.createElement('div');\n",
              "      const label = document.createElement('label');\n",
              "      label.textContent = `Downloading \"${filename}\": `;\n",
              "      div.appendChild(label);\n",
              "      const progress = document.createElement('progress');\n",
              "      progress.max = size;\n",
              "      div.appendChild(progress);\n",
              "      document.body.appendChild(div);\n",
              "\n",
              "      const buffers = [];\n",
              "      let downloaded = 0;\n",
              "\n",
              "      const channel = await google.colab.kernel.comms.open(id);\n",
              "      // Send a message to notify the kernel that we're ready.\n",
              "      channel.send({})\n",
              "\n",
              "      for await (const message of channel.messages) {\n",
              "        // Send a message to notify the kernel that we're ready.\n",
              "        channel.send({})\n",
              "        if (message.buffers) {\n",
              "          for (const buffer of message.buffers) {\n",
              "            buffers.push(buffer);\n",
              "            downloaded += buffer.byteLength;\n",
              "            progress.value = downloaded;\n",
              "          }\n",
              "        }\n",
              "      }\n",
              "      const blob = new Blob(buffers, {type: 'application/binary'});\n",
              "      const a = document.createElement('a');\n",
              "      a.href = window.URL.createObjectURL(blob);\n",
              "      a.download = filename;\n",
              "      div.appendChild(a);\n",
              "      a.click();\n",
              "      div.remove();\n",
              "    }\n",
              "  "
            ]
          },
          "metadata": {}
        },
        {
          "output_type": "display_data",
          "data": {
            "text/plain": [
              "<IPython.core.display.Javascript object>"
            ],
            "application/javascript": [
              "download(\"download_29d43880-6b64-4163-8419-0c478b7c1254\", \"model.tflite\", 259648)"
            ]
          },
          "metadata": {}
        },
        {
          "output_type": "display_data",
          "data": {
            "text/plain": [
              "<IPython.core.display.Javascript object>"
            ],
            "application/javascript": [
              "\n",
              "    async function download(id, filename, size) {\n",
              "      if (!google.colab.kernel.accessAllowed) {\n",
              "        return;\n",
              "      }\n",
              "      const div = document.createElement('div');\n",
              "      const label = document.createElement('label');\n",
              "      label.textContent = `Downloading \"${filename}\": `;\n",
              "      div.appendChild(label);\n",
              "      const progress = document.createElement('progress');\n",
              "      progress.max = size;\n",
              "      div.appendChild(progress);\n",
              "      document.body.appendChild(div);\n",
              "\n",
              "      const buffers = [];\n",
              "      let downloaded = 0;\n",
              "\n",
              "      const channel = await google.colab.kernel.comms.open(id);\n",
              "      // Send a message to notify the kernel that we're ready.\n",
              "      channel.send({})\n",
              "\n",
              "      for await (const message of channel.messages) {\n",
              "        // Send a message to notify the kernel that we're ready.\n",
              "        channel.send({})\n",
              "        if (message.buffers) {\n",
              "          for (const buffer of message.buffers) {\n",
              "            buffers.push(buffer);\n",
              "            downloaded += buffer.byteLength;\n",
              "            progress.value = downloaded;\n",
              "          }\n",
              "        }\n",
              "      }\n",
              "      const blob = new Blob(buffers, {type: 'application/binary'});\n",
              "      const a = document.createElement('a');\n",
              "      a.href = window.URL.createObjectURL(blob);\n",
              "      a.download = filename;\n",
              "      div.appendChild(a);\n",
              "      a.click();\n",
              "      div.remove();\n",
              "    }\n",
              "  "
            ]
          },
          "metadata": {}
        },
        {
          "output_type": "display_data",
          "data": {
            "text/plain": [
              "<IPython.core.display.Javascript object>"
            ],
            "application/javascript": [
              "download(\"download_d9ab8ad1-38d0-4a67-9193-bfe2612680c9\", \"labels.txt\", 75)"
            ]
          },
          "metadata": {}
        }
      ]
    },
    {
      "cell_type": "code",
      "source": [
        "!mkdir -p test_images"
      ],
      "metadata": {
        "id": "wv_fk6gg6bBJ"
      },
      "execution_count": 30,
      "outputs": []
    },
    {
      "cell_type": "code",
      "source": [
        "from PIL import Image\n",
        "\n",
        "for index, (image, label) in enumerate(test_batches.take(50)):\n",
        "    image = tf.cast(image * 255.0, tf.uint8)\n",
        "    image = tf.squeeze(image).numpy()\n",
        "    pil_image = Image.fromarray(image)\n",
        "    pil_image.save('test_images/{}_{}.jpg'.format(class_names[label[0]].lower(), index))"
      ],
      "metadata": {
        "id": "4V8UG6F96cQJ"
      },
      "execution_count": 31,
      "outputs": []
    },
    {
      "cell_type": "code",
      "source": [
        "!ls test_images"
      ],
      "metadata": {
        "colab": {
          "base_uri": "https://localhost:8080/"
        },
        "id": "SUJCAnrL6c3f",
        "outputId": "47d15180-61e4-43e9-cc85-c0e07d49f9ce"
      },
      "execution_count": 32,
      "outputs": [
        {
          "output_type": "stream",
          "name": "stdout",
          "text": [
            "'ankle boot_10.jpg'   coat_26.jpg       sandal_2.jpg\t trouser_16.jpg\n",
            "'ankle boot_17.jpg'   coat_31.jpg       sandal_35.jpg\t trouser_20.jpg\n",
            "'ankle boot_19.jpg'   coat_46.jpg       shirt_24.jpg\t trouser_36.jpg\n",
            "'ankle boot_4.jpg'    coat_47.jpg       shirt_27.jpg\t trouser_38.jpg\n",
            " bag_18.jpg\t      coat_48.jpg       shirt_28.jpg\t t-shirt_top_15.jpg\n",
            " bag_22.jpg\t      dress_12.jpg      shirt_29.jpg\t t-shirt_top_1.jpg\n",
            " bag_30.jpg\t      dress_45.jpg      shirt_43.jpg\t t-shirt_top_25.jpg\n",
            " bag_32.jpg\t      dress_6.jpg       shirt_5.jpg\t t-shirt_top_34.jpg\n",
            " bag_33.jpg\t      pullover_44.jpg   sneaker_13.jpg\t t-shirt_top_37.jpg\n",
            " bag_39.jpg\t      pullover_9.jpg    sneaker_21.jpg\t t-shirt_top_49.jpg\n",
            " bag_3.jpg\t      sandal_0.jpg      sneaker_40.jpg\t t-shirt_top_8.jpg\n",
            " bag_7.jpg\t      sandal_14.jpg     sneaker_41.jpg\n",
            " coat_11.jpg\t      sandal_23.jpg     sneaker_42.jpg\n"
          ]
        }
      ]
    },
    {
      "cell_type": "code",
      "source": [
        "!zip -qq fmnist_test_images.zip -r test_images/"
      ],
      "metadata": {
        "id": "_bwcT6_n6djy"
      },
      "execution_count": 33,
      "outputs": []
    },
    {
      "cell_type": "code",
      "source": [
        "try:\n",
        "    files.download('fmnist_test_images.zip')\n",
        "except:\n",
        "    pass"
      ],
      "metadata": {
        "colab": {
          "base_uri": "https://localhost:8080/",
          "height": 34
        },
        "id": "drOsPajR6eQJ",
        "outputId": "d079e05b-bbb2-41a9-93c0-e427c710c6f2"
      },
      "execution_count": 34,
      "outputs": [
        {
          "output_type": "display_data",
          "data": {
            "text/plain": [
              "<IPython.core.display.Javascript object>"
            ],
            "application/javascript": [
              "\n",
              "    async function download(id, filename, size) {\n",
              "      if (!google.colab.kernel.accessAllowed) {\n",
              "        return;\n",
              "      }\n",
              "      const div = document.createElement('div');\n",
              "      const label = document.createElement('label');\n",
              "      label.textContent = `Downloading \"${filename}\": `;\n",
              "      div.appendChild(label);\n",
              "      const progress = document.createElement('progress');\n",
              "      progress.max = size;\n",
              "      div.appendChild(progress);\n",
              "      document.body.appendChild(div);\n",
              "\n",
              "      const buffers = [];\n",
              "      let downloaded = 0;\n",
              "\n",
              "      const channel = await google.colab.kernel.comms.open(id);\n",
              "      // Send a message to notify the kernel that we're ready.\n",
              "      channel.send({})\n",
              "\n",
              "      for await (const message of channel.messages) {\n",
              "        // Send a message to notify the kernel that we're ready.\n",
              "        channel.send({})\n",
              "        if (message.buffers) {\n",
              "          for (const buffer of message.buffers) {\n",
              "            buffers.push(buffer);\n",
              "            downloaded += buffer.byteLength;\n",
              "            progress.value = downloaded;\n",
              "          }\n",
              "        }\n",
              "      }\n",
              "      const blob = new Blob(buffers, {type: 'application/binary'});\n",
              "      const a = document.createElement('a');\n",
              "      a.href = window.URL.createObjectURL(blob);\n",
              "      a.download = filename;\n",
              "      div.appendChild(a);\n",
              "      a.click();\n",
              "      div.remove();\n",
              "    }\n",
              "  "
            ]
          },
          "metadata": {}
        },
        {
          "output_type": "display_data",
          "data": {
            "text/plain": [
              "<IPython.core.display.Javascript object>"
            ],
            "application/javascript": [
              "download(\"download_cb6de848-6734-490c-a6b7-993fe39a8e45\", \"fmnist_test_images.zip\", 39775)"
            ]
          },
          "metadata": {}
        }
      ]
    },
    {
      "cell_type": "markdown",
      "source": [
        "# TFDS Dataset"
      ],
      "metadata": {
        "id": "wOK81Mfm6y1d"
      }
    },
    {
      "cell_type": "code",
      "source": [
        "!pip install -q tfds-nightly tensorflow matplotlib"
      ],
      "metadata": {
        "colab": {
          "base_uri": "https://localhost:8080/"
        },
        "id": "y2QGZ1lV6lIJ",
        "outputId": "d1faa9fa-07bb-4800-fd54-9761c829e90d"
      },
      "execution_count": 35,
      "outputs": [
        {
          "output_type": "stream",
          "name": "stdout",
          "text": [
            "\u001b[K     |████████████████████████████████| 4.7 MB 5.0 MB/s \n",
            "\u001b[?25h"
          ]
        }
      ]
    },
    {
      "cell_type": "code",
      "source": [
        "import matplotlib.pyplot as plt\n",
        "import numpy as np\n",
        "import tensorflow as tf\n",
        "\n",
        "import tensorflow_datasets as tfds"
      ],
      "metadata": {
        "id": "0dhjjsDS611j"
      },
      "execution_count": 36,
      "outputs": []
    },
    {
      "cell_type": "markdown",
      "source": [
        "## Find available datasets\n",
        "\n",
        "All dataset builders are subclass of `tfds.core.DatasetBuilder`. To get the list of available builders, use `tfds.list_builders()` or look at our [catalog](https://www.tensorflow.org/datasets/catalog/overview)."
      ],
      "metadata": {
        "id": "pu6Y3GmP64Bo"
      }
    },
    {
      "cell_type": "code",
      "source": [
        "tfds.list_builders()"
      ],
      "metadata": {
        "colab": {
          "base_uri": "https://localhost:8080/"
        },
        "id": "yAr34CeN62gr",
        "outputId": "c3e0480c-ca86-4002-ada2-d70ef520ebd2"
      },
      "execution_count": 37,
      "outputs": [
        {
          "output_type": "execute_result",
          "data": {
            "text/plain": [
              "['abstract_reasoning',\n",
              " 'accentdb',\n",
              " 'aeslc',\n",
              " 'aflw2k3d',\n",
              " 'ag_news_subset',\n",
              " 'ai2_arc',\n",
              " 'ai2_arc_with_ir',\n",
              " 'amazon_us_reviews',\n",
              " 'anli',\n",
              " 'answer_equivalence',\n",
              " 'arc',\n",
              " 'asqa',\n",
              " 'asset',\n",
              " 'assin2',\n",
              " 'bair_robot_pushing_small',\n",
              " 'bccd',\n",
              " 'beans',\n",
              " 'bee_dataset',\n",
              " 'beir',\n",
              " 'big_patent',\n",
              " 'bigearthnet',\n",
              " 'billsum',\n",
              " 'binarized_mnist',\n",
              " 'binary_alpha_digits',\n",
              " 'ble_wind_field',\n",
              " 'blimp',\n",
              " 'booksum',\n",
              " 'bool_q',\n",
              " 'c4',\n",
              " 'caltech101',\n",
              " 'caltech_birds2010',\n",
              " 'caltech_birds2011',\n",
              " 'cardiotox',\n",
              " 'cars196',\n",
              " 'cassava',\n",
              " 'cats_vs_dogs',\n",
              " 'celeb_a',\n",
              " 'celeb_a_hq',\n",
              " 'cfq',\n",
              " 'cherry_blossoms',\n",
              " 'chexpert',\n",
              " 'cifar10',\n",
              " 'cifar100',\n",
              " 'cifar10_1',\n",
              " 'cifar10_corrupted',\n",
              " 'citrus_leaves',\n",
              " 'cityscapes',\n",
              " 'civil_comments',\n",
              " 'clevr',\n",
              " 'clic',\n",
              " 'clinc_oos',\n",
              " 'cmaterdb',\n",
              " 'cnn_dailymail',\n",
              " 'coco',\n",
              " 'coco_captions',\n",
              " 'coil100',\n",
              " 'colorectal_histology',\n",
              " 'colorectal_histology_large',\n",
              " 'common_voice',\n",
              " 'coqa',\n",
              " 'cos_e',\n",
              " 'cosmos_qa',\n",
              " 'covid19',\n",
              " 'covid19sum',\n",
              " 'crema_d',\n",
              " 'criteo',\n",
              " 'cs_restaurants',\n",
              " 'curated_breast_imaging_ddsm',\n",
              " 'cycle_gan',\n",
              " 'd4rl_adroit_door',\n",
              " 'd4rl_adroit_hammer',\n",
              " 'd4rl_adroit_pen',\n",
              " 'd4rl_adroit_relocate',\n",
              " 'd4rl_antmaze',\n",
              " 'd4rl_mujoco_ant',\n",
              " 'd4rl_mujoco_halfcheetah',\n",
              " 'd4rl_mujoco_hopper',\n",
              " 'd4rl_mujoco_walker2d',\n",
              " 'dart',\n",
              " 'davis',\n",
              " 'deep1b',\n",
              " 'deep_weeds',\n",
              " 'definite_pronoun_resolution',\n",
              " 'dementiabank',\n",
              " 'diabetic_retinopathy_detection',\n",
              " 'diamonds',\n",
              " 'div2k',\n",
              " 'dmlab',\n",
              " 'doc_nli',\n",
              " 'dolphin_number_word',\n",
              " 'domainnet',\n",
              " 'downsampled_imagenet',\n",
              " 'drop',\n",
              " 'dsprites',\n",
              " 'dtd',\n",
              " 'duke_ultrasound',\n",
              " 'e2e_cleaned',\n",
              " 'efron_morris75',\n",
              " 'emnist',\n",
              " 'eraser_multi_rc',\n",
              " 'esnli',\n",
              " 'eurosat',\n",
              " 'fashion_mnist',\n",
              " 'flic',\n",
              " 'flores',\n",
              " 'food101',\n",
              " 'forest_fires',\n",
              " 'fuss',\n",
              " 'gap',\n",
              " 'geirhos_conflict_stimuli',\n",
              " 'gem',\n",
              " 'genomics_ood',\n",
              " 'german_credit_numeric',\n",
              " 'gigaword',\n",
              " 'glove100_angular',\n",
              " 'glue',\n",
              " 'goemotions',\n",
              " 'gov_report',\n",
              " 'gpt3',\n",
              " 'gref',\n",
              " 'groove',\n",
              " 'grounded_scan',\n",
              " 'gsm8k',\n",
              " 'gtzan',\n",
              " 'gtzan_music_speech',\n",
              " 'hellaswag',\n",
              " 'higgs',\n",
              " 'hillstrom',\n",
              " 'horses_or_humans',\n",
              " 'howell',\n",
              " 'i_naturalist2017',\n",
              " 'i_naturalist2018',\n",
              " 'imagenet2012',\n",
              " 'imagenet2012_corrupted',\n",
              " 'imagenet2012_fewshot',\n",
              " 'imagenet2012_multilabel',\n",
              " 'imagenet2012_real',\n",
              " 'imagenet2012_subset',\n",
              " 'imagenet_a',\n",
              " 'imagenet_lt',\n",
              " 'imagenet_r',\n",
              " 'imagenet_resized',\n",
              " 'imagenet_sketch',\n",
              " 'imagenet_v2',\n",
              " 'imagenette',\n",
              " 'imagewang',\n",
              " 'imdb_reviews',\n",
              " 'irc_disentanglement',\n",
              " 'iris',\n",
              " 'istella',\n",
              " 'kddcup99',\n",
              " 'kitti',\n",
              " 'kmnist',\n",
              " 'lambada',\n",
              " 'lfw',\n",
              " 'librispeech',\n",
              " 'librispeech_lm',\n",
              " 'libritts',\n",
              " 'ljspeech',\n",
              " 'lm1b',\n",
              " 'locomotion',\n",
              " 'lost_and_found',\n",
              " 'lsun',\n",
              " 'lvis',\n",
              " 'malaria',\n",
              " 'math_dataset',\n",
              " 'math_qa',\n",
              " 'mctaco',\n",
              " 'media_sum',\n",
              " 'mlqa',\n",
              " 'mnist',\n",
              " 'mnist_corrupted',\n",
              " 'movie_lens',\n",
              " 'movie_rationales',\n",
              " 'movielens',\n",
              " 'moving_mnist',\n",
              " 'mrqa',\n",
              " 'mslr_web',\n",
              " 'mt_opt',\n",
              " 'multi_news',\n",
              " 'multi_nli',\n",
              " 'multi_nli_mismatch',\n",
              " 'natural_questions',\n",
              " 'natural_questions_open',\n",
              " 'newsroom',\n",
              " 'nsynth',\n",
              " 'nyu_depth_v2',\n",
              " 'ogbg_molpcba',\n",
              " 'omniglot',\n",
              " 'open_images_challenge2019_detection',\n",
              " 'open_images_v4',\n",
              " 'openbookqa',\n",
              " 'opinion_abstracts',\n",
              " 'opinosis',\n",
              " 'opus',\n",
              " 'oxford_flowers102',\n",
              " 'oxford_iiit_pet',\n",
              " 'para_crawl',\n",
              " 'pass',\n",
              " 'patch_camelyon',\n",
              " 'paws_wiki',\n",
              " 'paws_x_wiki',\n",
              " 'penguins',\n",
              " 'pet_finder',\n",
              " 'pg19',\n",
              " 'piqa',\n",
              " 'places365_small',\n",
              " 'plant_leaves',\n",
              " 'plant_village',\n",
              " 'plantae_k',\n",
              " 'protein_net',\n",
              " 'qa4mre',\n",
              " 'qasc',\n",
              " 'quac',\n",
              " 'quality',\n",
              " 'quickdraw_bitmap',\n",
              " 'race',\n",
              " 'radon',\n",
              " 'reddit',\n",
              " 'reddit_disentanglement',\n",
              " 'reddit_tifu',\n",
              " 'ref_coco',\n",
              " 'resisc45',\n",
              " 'rlu_atari',\n",
              " 'rlu_atari_checkpoints',\n",
              " 'rlu_atari_checkpoints_ordered',\n",
              " 'rlu_control_suite',\n",
              " 'rlu_dmlab_explore_object_rewards_few',\n",
              " 'rlu_dmlab_explore_object_rewards_many',\n",
              " 'rlu_dmlab_rooms_select_nonmatching_object',\n",
              " 'rlu_dmlab_rooms_watermaze',\n",
              " 'rlu_dmlab_seekavoid_arena01',\n",
              " 'rlu_locomotion',\n",
              " 'rlu_rwrl',\n",
              " 'robomimic_ph',\n",
              " 'robonet',\n",
              " 'robosuite_panda_pick_place_can',\n",
              " 'rock_paper_scissors',\n",
              " 'rock_you',\n",
              " 's3o4d',\n",
              " 'salient_span_wikipedia',\n",
              " 'samsum',\n",
              " 'savee',\n",
              " 'scan',\n",
              " 'scene_parse150',\n",
              " 'schema_guided_dialogue',\n",
              " 'sci_tail',\n",
              " 'scicite',\n",
              " 'scientific_papers',\n",
              " 'scrolls',\n",
              " 'sentiment140',\n",
              " 'shapes3d',\n",
              " 'sift1m',\n",
              " 'simpte',\n",
              " 'siscore',\n",
              " 'smallnorb',\n",
              " 'smartwatch_gestures',\n",
              " 'snli',\n",
              " 'so2sat',\n",
              " 'speech_commands',\n",
              " 'spoken_digit',\n",
              " 'squad',\n",
              " 'squad_question_generation',\n",
              " 'stanford_dogs',\n",
              " 'stanford_online_products',\n",
              " 'star_cfq',\n",
              " 'starcraft_video',\n",
              " 'stl10',\n",
              " 'story_cloze',\n",
              " 'summscreen',\n",
              " 'sun397',\n",
              " 'super_glue',\n",
              " 'svhn_cropped',\n",
              " 'symmetric_solids',\n",
              " 'tao',\n",
              " 'ted_hrlr_translate',\n",
              " 'ted_multi_translate',\n",
              " 'tedlium',\n",
              " 'tf_flowers',\n",
              " 'the300w_lp',\n",
              " 'tiny_shakespeare',\n",
              " 'titanic',\n",
              " 'trec',\n",
              " 'trivia_qa',\n",
              " 'tydi_qa',\n",
              " 'uc_merced',\n",
              " 'ucf101',\n",
              " 'unified_qa',\n",
              " 'vctk',\n",
              " 'visual_domain_decathlon',\n",
              " 'voc',\n",
              " 'voxceleb',\n",
              " 'voxforge',\n",
              " 'waymo_open_dataset',\n",
              " 'web_graph',\n",
              " 'web_nlg',\n",
              " 'web_questions',\n",
              " 'wider_face',\n",
              " 'wiki40b',\n",
              " 'wiki_auto',\n",
              " 'wiki_bio',\n",
              " 'wiki_dialog',\n",
              " 'wiki_table_questions',\n",
              " 'wiki_table_text',\n",
              " 'wikiann',\n",
              " 'wikihow',\n",
              " 'wikipedia',\n",
              " 'wikipedia_toxicity_subtypes',\n",
              " 'wine_quality',\n",
              " 'winogrande',\n",
              " 'wit',\n",
              " 'wit_kaggle',\n",
              " 'wmt13_translate',\n",
              " 'wmt14_translate',\n",
              " 'wmt15_translate',\n",
              " 'wmt16_translate',\n",
              " 'wmt17_translate',\n",
              " 'wmt18_translate',\n",
              " 'wmt19_translate',\n",
              " 'wmt_t2t_translate',\n",
              " 'wmt_translate',\n",
              " 'wordnet',\n",
              " 'wsc273',\n",
              " 'xnli',\n",
              " 'xquad',\n",
              " 'xsum',\n",
              " 'xtreme_pawsx',\n",
              " 'xtreme_s',\n",
              " 'xtreme_xnli',\n",
              " 'yelp_polarity_reviews',\n",
              " 'yes_no',\n",
              " 'youtube_vis',\n",
              " 'huggingface:acronym_identification',\n",
              " 'huggingface:ade_corpus_v2',\n",
              " 'huggingface:adv_glue',\n",
              " 'huggingface:adversarial_qa',\n",
              " 'huggingface:aeslc',\n",
              " 'huggingface:afrikaans_ner_corpus',\n",
              " 'huggingface:ag_news',\n",
              " 'huggingface:ai2_arc',\n",
              " 'huggingface:air_dialogue',\n",
              " 'huggingface:ajgt_twitter_ar',\n",
              " 'huggingface:allegro_reviews',\n",
              " 'huggingface:allocine',\n",
              " 'huggingface:alt',\n",
              " 'huggingface:amazon_polarity',\n",
              " 'huggingface:amazon_reviews_multi',\n",
              " 'huggingface:amazon_us_reviews',\n",
              " 'huggingface:ambig_qa',\n",
              " 'huggingface:americas_nli',\n",
              " 'huggingface:ami',\n",
              " 'huggingface:amttl',\n",
              " 'huggingface:anli',\n",
              " 'huggingface:app_reviews',\n",
              " 'huggingface:aqua_rat',\n",
              " 'huggingface:aquamuse',\n",
              " 'huggingface:ar_cov19',\n",
              " 'huggingface:ar_res_reviews',\n",
              " 'huggingface:ar_sarcasm',\n",
              " 'huggingface:arabic_billion_words',\n",
              " 'huggingface:arabic_pos_dialect',\n",
              " 'huggingface:arabic_speech_corpus',\n",
              " 'huggingface:arcd',\n",
              " 'huggingface:arsentd_lev',\n",
              " 'huggingface:art',\n",
              " 'huggingface:arxiv_dataset',\n",
              " 'huggingface:ascent_kb',\n",
              " 'huggingface:aslg_pc12',\n",
              " 'huggingface:asnq',\n",
              " 'huggingface:asset',\n",
              " 'huggingface:assin',\n",
              " 'huggingface:assin2',\n",
              " 'huggingface:atomic',\n",
              " 'huggingface:autshumato',\n",
              " 'huggingface:babi_qa',\n",
              " 'huggingface:banking77',\n",
              " 'huggingface:bbaw_egyptian',\n",
              " 'huggingface:bbc_hindi_nli',\n",
              " 'huggingface:bc2gm_corpus',\n",
              " 'huggingface:beans',\n",
              " 'huggingface:best2009',\n",
              " 'huggingface:bianet',\n",
              " 'huggingface:bible_para',\n",
              " 'huggingface:big_patent',\n",
              " 'huggingface:bigbench',\n",
              " 'huggingface:billsum',\n",
              " 'huggingface:bing_coronavirus_query_set',\n",
              " 'huggingface:biomrc',\n",
              " 'huggingface:biosses',\n",
              " 'huggingface:biwi_kinect_head_pose',\n",
              " 'huggingface:blbooks',\n",
              " 'huggingface:blbooksgenre',\n",
              " 'huggingface:blended_skill_talk',\n",
              " 'huggingface:blimp',\n",
              " 'huggingface:blog_authorship_corpus',\n",
              " 'huggingface:bn_hate_speech',\n",
              " 'huggingface:bnl_newspapers',\n",
              " 'huggingface:bookcorpus',\n",
              " 'huggingface:bookcorpusopen',\n",
              " 'huggingface:boolq',\n",
              " 'huggingface:bprec',\n",
              " 'huggingface:break_data',\n",
              " 'huggingface:brwac',\n",
              " 'huggingface:bsd_ja_en',\n",
              " 'huggingface:bswac',\n",
              " 'huggingface:c3',\n",
              " 'huggingface:c4',\n",
              " 'huggingface:cail2018',\n",
              " 'huggingface:caner',\n",
              " 'huggingface:capes',\n",
              " 'huggingface:casino',\n",
              " 'huggingface:catalonia_independence',\n",
              " 'huggingface:cats_vs_dogs',\n",
              " 'huggingface:cawac',\n",
              " 'huggingface:cbt',\n",
              " 'huggingface:cc100',\n",
              " 'huggingface:cc_news',\n",
              " 'huggingface:ccaligned_multilingual',\n",
              " 'huggingface:cdsc',\n",
              " 'huggingface:cdt',\n",
              " 'huggingface:cedr',\n",
              " 'huggingface:cfq',\n",
              " 'huggingface:chr_en',\n",
              " 'huggingface:cifar10',\n",
              " 'huggingface:cifar100',\n",
              " 'huggingface:circa',\n",
              " 'huggingface:civil_comments',\n",
              " 'huggingface:clickbait_news_bg',\n",
              " 'huggingface:climate_fever',\n",
              " 'huggingface:clinc_oos',\n",
              " 'huggingface:clue',\n",
              " 'huggingface:cmrc2018',\n",
              " 'huggingface:cmu_hinglish_dog',\n",
              " 'huggingface:cnn_dailymail',\n",
              " 'huggingface:coached_conv_pref',\n",
              " 'huggingface:coarse_discourse',\n",
              " 'huggingface:codah',\n",
              " 'huggingface:code_search_net',\n",
              " 'huggingface:code_x_glue_cc_clone_detection_big_clone_bench',\n",
              " 'huggingface:code_x_glue_cc_clone_detection_poj104',\n",
              " 'huggingface:code_x_glue_cc_cloze_testing_all',\n",
              " 'huggingface:code_x_glue_cc_cloze_testing_maxmin',\n",
              " 'huggingface:code_x_glue_cc_code_completion_line',\n",
              " 'huggingface:code_x_glue_cc_code_completion_token',\n",
              " 'huggingface:code_x_glue_cc_code_refinement',\n",
              " 'huggingface:code_x_glue_cc_code_to_code_trans',\n",
              " 'huggingface:code_x_glue_cc_defect_detection',\n",
              " 'huggingface:code_x_glue_ct_code_to_text',\n",
              " 'huggingface:code_x_glue_tc_nl_code_search_adv',\n",
              " 'huggingface:code_x_glue_tc_text_to_code',\n",
              " 'huggingface:code_x_glue_tt_text_to_text',\n",
              " 'huggingface:com_qa',\n",
              " 'huggingface:common_gen',\n",
              " 'huggingface:common_language',\n",
              " 'huggingface:common_voice',\n",
              " 'huggingface:commonsense_qa',\n",
              " 'huggingface:competition_math',\n",
              " 'huggingface:compguesswhat',\n",
              " 'huggingface:conceptnet5',\n",
              " 'huggingface:conceptual_12m',\n",
              " 'huggingface:conceptual_captions',\n",
              " 'huggingface:conll2000',\n",
              " 'huggingface:conll2002',\n",
              " 'huggingface:conll2003',\n",
              " 'huggingface:conll2012_ontonotesv5',\n",
              " 'huggingface:conllpp',\n",
              " 'huggingface:consumer-finance-complaints',\n",
              " 'huggingface:conv_ai',\n",
              " 'huggingface:conv_ai_2',\n",
              " 'huggingface:conv_ai_3',\n",
              " 'huggingface:conv_questions',\n",
              " 'huggingface:coqa',\n",
              " 'huggingface:cord19',\n",
              " 'huggingface:cornell_movie_dialog',\n",
              " 'huggingface:cos_e',\n",
              " 'huggingface:cosmos_qa',\n",
              " 'huggingface:counter',\n",
              " 'huggingface:covid_qa_castorini',\n",
              " 'huggingface:covid_qa_deepset',\n",
              " 'huggingface:covid_qa_ucsd',\n",
              " 'huggingface:covid_tweets_japanese',\n",
              " 'huggingface:covost2',\n",
              " 'huggingface:cppe-5',\n",
              " 'huggingface:craigslist_bargains',\n",
              " 'huggingface:crawl_domain',\n",
              " 'huggingface:crd3',\n",
              " 'huggingface:crime_and_punish',\n",
              " 'huggingface:crows_pairs',\n",
              " 'huggingface:cryptonite',\n",
              " 'huggingface:cs_restaurants',\n",
              " 'huggingface:cuad',\n",
              " 'huggingface:curiosity_dialogs',\n",
              " 'huggingface:daily_dialog',\n",
              " 'huggingface:dane',\n",
              " 'huggingface:danish_political_comments',\n",
              " 'huggingface:dart',\n",
              " 'huggingface:datacommons_factcheck',\n",
              " 'huggingface:dbpedia_14',\n",
              " 'huggingface:dbrd',\n",
              " 'huggingface:deal_or_no_dialog',\n",
              " 'huggingface:definite_pronoun_resolution',\n",
              " 'huggingface:dengue_filipino',\n",
              " 'huggingface:dialog_re',\n",
              " 'huggingface:diplomacy_detection',\n",
              " 'huggingface:disaster_response_messages',\n",
              " 'huggingface:discofuse',\n",
              " 'huggingface:discovery',\n",
              " 'huggingface:disfl_qa',\n",
              " 'huggingface:doc2dial',\n",
              " 'huggingface:docred',\n",
              " 'huggingface:doqa',\n",
              " 'huggingface:dream',\n",
              " 'huggingface:drop',\n",
              " 'huggingface:duorc',\n",
              " 'huggingface:dutch_social',\n",
              " 'huggingface:dyk',\n",
              " 'huggingface:e2e_nlg',\n",
              " 'huggingface:e2e_nlg_cleaned',\n",
              " 'huggingface:ecb',\n",
              " 'huggingface:ecthr_cases',\n",
              " 'huggingface:eduge',\n",
              " 'huggingface:ehealth_kd',\n",
              " 'huggingface:eitb_parcc',\n",
              " 'huggingface:electricity_load_diagrams',\n",
              " 'huggingface:eli5',\n",
              " 'huggingface:eli5_category',\n",
              " 'huggingface:elkarhizketak',\n",
              " 'huggingface:emea',\n",
              " 'huggingface:emo',\n",
              " 'huggingface:emotion',\n",
              " 'huggingface:emotone_ar',\n",
              " 'huggingface:empathetic_dialogues',\n",
              " 'huggingface:enriched_web_nlg',\n",
              " 'huggingface:enwik8',\n",
              " 'huggingface:eraser_multi_rc',\n",
              " 'huggingface:esnli',\n",
              " 'huggingface:eth_py150_open',\n",
              " 'huggingface:ethos',\n",
              " 'huggingface:ett',\n",
              " 'huggingface:eu_regulatory_ir',\n",
              " 'huggingface:eurlex',\n",
              " 'huggingface:euronews',\n",
              " 'huggingface:europa_eac_tm',\n",
              " 'huggingface:europa_ecdc_tm',\n",
              " 'huggingface:europarl_bilingual',\n",
              " 'huggingface:event2Mind',\n",
              " 'huggingface:evidence_infer_treatment',\n",
              " 'huggingface:exams',\n",
              " 'huggingface:factckbr',\n",
              " 'huggingface:fake_news_english',\n",
              " 'huggingface:fake_news_filipino',\n",
              " 'huggingface:farsi_news',\n",
              " 'huggingface:fashion_mnist',\n",
              " 'huggingface:fever',\n",
              " 'huggingface:few_rel',\n",
              " 'huggingface:financial_phrasebank',\n",
              " 'huggingface:finer',\n",
              " 'huggingface:flores',\n",
              " 'huggingface:flue',\n",
              " 'huggingface:food101',\n",
              " 'huggingface:fquad',\n",
              " 'huggingface:freebase_qa',\n",
              " 'huggingface:gap',\n",
              " 'huggingface:gem',\n",
              " 'huggingface:generated_reviews_enth',\n",
              " 'huggingface:generics_kb',\n",
              " 'huggingface:german_legal_entity_recognition',\n",
              " 'huggingface:germaner',\n",
              " 'huggingface:germeval_14',\n",
              " 'huggingface:giga_fren',\n",
              " 'huggingface:gigaword',\n",
              " 'huggingface:glucose',\n",
              " 'huggingface:glue',\n",
              " 'huggingface:gnad10',\n",
              " 'huggingface:go_emotions',\n",
              " 'huggingface:gooaq',\n",
              " 'huggingface:google_wellformed_query',\n",
              " 'huggingface:grail_qa',\n",
              " 'huggingface:great_code',\n",
              " 'huggingface:greek_legal_code',\n",
              " 'huggingface:gsm8k',\n",
              " 'huggingface:guardian_authorship',\n",
              " 'huggingface:gutenberg_time',\n",
              " 'huggingface:hans',\n",
              " 'huggingface:hansards',\n",
              " 'huggingface:hard',\n",
              " 'huggingface:harem',\n",
              " 'huggingface:has_part',\n",
              " 'huggingface:hate_offensive',\n",
              " 'huggingface:hate_speech18',\n",
              " 'huggingface:hate_speech_filipino',\n",
              " 'huggingface:hate_speech_offensive',\n",
              " 'huggingface:hate_speech_pl',\n",
              " 'huggingface:hate_speech_portuguese',\n",
              " 'huggingface:hatexplain',\n",
              " 'huggingface:hausa_voa_ner',\n",
              " 'huggingface:hausa_voa_topics',\n",
              " 'huggingface:hda_nli_hindi',\n",
              " 'huggingface:head_qa',\n",
              " 'huggingface:health_fact',\n",
              " 'huggingface:hebrew_projectbenyehuda',\n",
              " 'huggingface:hebrew_sentiment',\n",
              " 'huggingface:hebrew_this_world',\n",
              " 'huggingface:hellaswag',\n",
              " 'huggingface:hendrycks_test',\n",
              " 'huggingface:hind_encorp',\n",
              " 'huggingface:hindi_discourse',\n",
              " 'huggingface:hippocorpus',\n",
              " 'huggingface:hkcancor',\n",
              " 'huggingface:hlgd',\n",
              " 'huggingface:hope_edi',\n",
              " 'huggingface:hotpot_qa',\n",
              " 'huggingface:hover',\n",
              " 'huggingface:hrenwac_para',\n",
              " 'huggingface:hrwac',\n",
              " 'huggingface:humicroedit',\n",
              " 'huggingface:hybrid_qa',\n",
              " 'huggingface:hyperpartisan_news_detection',\n",
              " 'huggingface:iapp_wiki_qa_squad',\n",
              " 'huggingface:id_clickbait',\n",
              " 'huggingface:id_liputan6',\n",
              " 'huggingface:id_nergrit_corpus',\n",
              " 'huggingface:id_newspapers_2018',\n",
              " 'huggingface:id_panl_bppt',\n",
              " 'huggingface:id_puisi',\n",
              " 'huggingface:igbo_english_machine_translation',\n",
              " 'huggingface:igbo_monolingual',\n",
              " 'huggingface:igbo_ner',\n",
              " 'huggingface:ilist',\n",
              " 'huggingface:imagenet-1k',\n",
              " 'huggingface:imagenet_sketch',\n",
              " 'huggingface:imdb',\n",
              " 'huggingface:imdb_urdu_reviews',\n",
              " 'huggingface:imppres',\n",
              " 'huggingface:indic_glue',\n",
              " 'huggingface:indonli',\n",
              " 'huggingface:indonlu',\n",
              " 'huggingface:inquisitive_qg',\n",
              " 'huggingface:interpress_news_category_tr',\n",
              " 'huggingface:interpress_news_category_tr_lite',\n",
              " 'huggingface:irc_disentangle',\n",
              " 'huggingface:isixhosa_ner_corpus',\n",
              " 'huggingface:isizulu_ner_corpus',\n",
              " 'huggingface:iwslt2017',\n",
              " 'huggingface:jeopardy',\n",
              " 'huggingface:jfleg',\n",
              " 'huggingface:jigsaw_toxicity_pred',\n",
              " 'huggingface:jigsaw_unintended_bias',\n",
              " 'huggingface:jnlpba',\n",
              " 'huggingface:journalists_questions',\n",
              " 'huggingface:kan_hope',\n",
              " 'huggingface:kannada_news',\n",
              " 'huggingface:kd_conv',\n",
              " 'huggingface:kde4',\n",
              " 'huggingface:kelm',\n",
              " 'huggingface:kilt_tasks',\n",
              " 'huggingface:kilt_wikipedia',\n",
              " 'huggingface:kinnews_kirnews',\n",
              " 'huggingface:klue',\n",
              " 'huggingface:kor_3i4k',\n",
              " 'huggingface:kor_hate',\n",
              " 'huggingface:kor_ner',\n",
              " 'huggingface:kor_nli',\n",
              " 'huggingface:kor_nlu',\n",
              " 'huggingface:kor_qpair',\n",
              " 'huggingface:kor_sae',\n",
              " 'huggingface:kor_sarcasm',\n",
              " 'huggingface:labr',\n",
              " 'huggingface:lama',\n",
              " 'huggingface:lambada',\n",
              " 'huggingface:large_spanish_corpus',\n",
              " 'huggingface:laroseda',\n",
              " 'huggingface:lc_quad',\n",
              " 'huggingface:lccc',\n",
              " 'huggingface:lener_br',\n",
              " 'huggingface:lex_glue',\n",
              " 'huggingface:liar',\n",
              " 'huggingface:librispeech_asr',\n",
              " 'huggingface:librispeech_lm',\n",
              " 'huggingface:limit',\n",
              " 'huggingface:lince',\n",
              " 'huggingface:linnaeus',\n",
              " 'huggingface:liveqa',\n",
              " 'huggingface:lj_speech',\n",
              " 'huggingface:lm1b',\n",
              " 'huggingface:lst20',\n",
              " 'huggingface:m_lama',\n",
              " 'huggingface:mac_morpho',\n",
              " 'huggingface:makhzan',\n",
              " 'huggingface:masakhaner',\n",
              " 'huggingface:math_dataset',\n",
              " 'huggingface:math_qa',\n",
              " 'huggingface:matinf',\n",
              " 'huggingface:mbpp',\n",
              " 'huggingface:mc4',\n",
              " 'huggingface:mc_taco',\n",
              " 'huggingface:md_gender_bias',\n",
              " 'huggingface:mdd',\n",
              " 'huggingface:med_hop',\n",
              " 'huggingface:medal',\n",
              " 'huggingface:medical_dialog',\n",
              " 'huggingface:medical_questions_pairs',\n",
              " 'huggingface:medmcqa',\n",
              " 'huggingface:menyo20k_mt',\n",
              " 'huggingface:meta_woz',\n",
              " 'huggingface:metashift',\n",
              " 'huggingface:metooma',\n",
              " 'huggingface:metrec',\n",
              " 'huggingface:miam',\n",
              " 'huggingface:mkb',\n",
              " 'huggingface:mkqa',\n",
              " 'huggingface:mlqa',\n",
              " 'huggingface:mlsum',\n",
              " 'huggingface:mnist',\n",
              " 'huggingface:mocha',\n",
              " 'huggingface:monash_tsf',\n",
              " 'huggingface:moroco',\n",
              " 'huggingface:movie_rationales',\n",
              " 'huggingface:mrqa',\n",
              " 'huggingface:ms_marco',\n",
              " 'huggingface:ms_terms',\n",
              " 'huggingface:msr_genomics_kbcomp',\n",
              " 'huggingface:msr_sqa',\n",
              " 'huggingface:msr_text_compression',\n",
              " 'huggingface:msr_zhen_translation_parity',\n",
              " 'huggingface:msra_ner',\n",
              " 'huggingface:mt_eng_vietnamese',\n",
              " 'huggingface:muchocine',\n",
              " 'huggingface:multi_booked',\n",
              " 'huggingface:multi_eurlex',\n",
              " 'huggingface:multi_news',\n",
              " 'huggingface:multi_nli',\n",
              " 'huggingface:multi_nli_mismatch',\n",
              " 'huggingface:multi_para_crawl',\n",
              " 'huggingface:multi_re_qa',\n",
              " 'huggingface:multi_woz_v22',\n",
              " 'huggingface:multi_x_science_sum',\n",
              " 'huggingface:multidoc2dial',\n",
              " 'huggingface:multilingual_librispeech',\n",
              " 'huggingface:mutual_friends',\n",
              " 'huggingface:mwsc',\n",
              " 'huggingface:myanmar_news',\n",
              " 'huggingface:narrativeqa',\n",
              " 'huggingface:narrativeqa_manual',\n",
              " 'huggingface:natural_questions',\n",
              " 'huggingface:ncbi_disease',\n",
              " 'huggingface:nchlt',\n",
              " 'huggingface:ncslgr',\n",
              " 'huggingface:nell',\n",
              " 'huggingface:neural_code_search',\n",
              " 'huggingface:news_commentary',\n",
              " 'huggingface:newsgroup',\n",
              " 'huggingface:newsph',\n",
              " 'huggingface:newsph_nli',\n",
              " 'huggingface:newspop',\n",
              " 'huggingface:newsqa',\n",
              " 'huggingface:newsroom',\n",
              " 'huggingface:nkjp-ner',\n",
              " 'huggingface:nli_tr',\n",
              " 'huggingface:nlu_evaluation_data',\n",
              " 'huggingface:norec',\n",
              " 'huggingface:norne',\n",
              " 'huggingface:norwegian_ner',\n",
              " 'huggingface:nq_open',\n",
              " 'huggingface:nsmc',\n",
              " 'huggingface:numer_sense',\n",
              " 'huggingface:numeric_fused_head',\n",
              " 'huggingface:oclar',\n",
              " 'huggingface:offcombr',\n",
              " 'huggingface:offenseval2020_tr',\n",
              " 'huggingface:offenseval_dravidian',\n",
              " 'huggingface:ofis_publik',\n",
              " 'huggingface:ohsumed',\n",
              " 'huggingface:ollie',\n",
              " 'huggingface:omp',\n",
              " 'huggingface:onestop_english',\n",
              " 'huggingface:onestop_qa',\n",
              " 'huggingface:open_subtitles',\n",
              " 'huggingface:openai_humaneval',\n",
              " 'huggingface:openbookqa',\n",
              " 'huggingface:openslr',\n",
              " 'huggingface:openwebtext',\n",
              " 'huggingface:opinosis',\n",
              " 'huggingface:opus100',\n",
              " 'huggingface:opus_books',\n",
              " 'huggingface:opus_dgt',\n",
              " 'huggingface:opus_dogc',\n",
              " 'huggingface:opus_elhuyar',\n",
              " 'huggingface:opus_euconst',\n",
              " 'huggingface:opus_finlex',\n",
              " 'huggingface:opus_fiskmo',\n",
              " 'huggingface:opus_gnome',\n",
              " 'huggingface:opus_infopankki',\n",
              " 'huggingface:opus_memat',\n",
              " 'huggingface:opus_montenegrinsubs',\n",
              " 'huggingface:opus_openoffice',\n",
              " 'huggingface:opus_paracrawl',\n",
              " 'huggingface:opus_rf',\n",
              " 'huggingface:opus_tedtalks',\n",
              " 'huggingface:opus_ubuntu',\n",
              " 'huggingface:opus_wikipedia',\n",
              " 'huggingface:opus_xhosanavy',\n",
              " 'huggingface:orange_sum',\n",
              " 'huggingface:oscar',\n",
              " 'huggingface:para_crawl',\n",
              " 'huggingface:para_pat',\n",
              " 'huggingface:parsinlu_reading_comprehension',\n",
              " 'huggingface:pass',\n",
              " 'huggingface:paws',\n",
              " 'huggingface:paws-x',\n",
              " 'huggingface:pec',\n",
              " 'huggingface:peer_read',\n",
              " 'huggingface:peoples_daily_ner',\n",
              " 'huggingface:per_sent',\n",
              " 'huggingface:persian_ner',\n",
              " 'huggingface:pg19',\n",
              " 'huggingface:php',\n",
              " 'huggingface:piaf',\n",
              " 'huggingface:pib',\n",
              " 'huggingface:piqa',\n",
              " 'huggingface:pn_summary',\n",
              " 'huggingface:poem_sentiment',\n",
              " 'huggingface:polemo2',\n",
              " 'huggingface:poleval2019_cyberbullying',\n",
              " 'huggingface:poleval2019_mt',\n",
              " 'huggingface:polsum',\n",
              " 'huggingface:polyglot_ner',\n",
              " 'huggingface:prachathai67k',\n",
              " 'huggingface:pragmeval',\n",
              " 'huggingface:proto_qa',\n",
              " 'huggingface:psc',\n",
              " 'huggingface:ptb_text_only',\n",
              " 'huggingface:pubmed',\n",
              " 'huggingface:pubmed_qa',\n",
              " 'huggingface:py_ast',\n",
              " 'huggingface:qa4mre',\n",
              " 'huggingface:qa_srl',\n",
              " 'huggingface:qa_zre',\n",
              " 'huggingface:qangaroo',\n",
              " 'huggingface:qanta',\n",
              " 'huggingface:qasc',\n",
              " 'huggingface:qasper',\n",
              " 'huggingface:qed',\n",
              " 'huggingface:qed_amara',\n",
              " 'huggingface:quac',\n",
              " 'huggingface:quail',\n",
              " 'huggingface:quarel',\n",
              " 'huggingface:quartz',\n",
              " 'huggingface:quickdraw',\n",
              " 'huggingface:quora',\n",
              " 'huggingface:quoref',\n",
              " 'huggingface:race',\n",
              " 'huggingface:re_dial',\n",
              " 'huggingface:reasoning_bg',\n",
              " 'huggingface:recipe_nlg',\n",
              " 'huggingface:reclor',\n",
              " 'huggingface:red_caps',\n",
              " 'huggingface:reddit',\n",
              " 'huggingface:reddit_tifu',\n",
              " 'huggingface:refresd',\n",
              " 'huggingface:reuters21578',\n",
              " 'huggingface:riddle_sense',\n",
              " 'huggingface:ro_sent',\n",
              " 'huggingface:ro_sts',\n",
              " 'huggingface:ro_sts_parallel',\n",
              " 'huggingface:roman_urdu',\n",
              " 'huggingface:roman_urdu_hate_speech',\n",
              " 'huggingface:ronec',\n",
              " 'huggingface:ropes',\n",
              " 'huggingface:rotten_tomatoes',\n",
              " 'huggingface:russian_super_glue',\n",
              " 'huggingface:rvl_cdip',\n",
              " 'huggingface:s2orc',\n",
              " 'huggingface:samsum',\n",
              " 'huggingface:sanskrit_classic',\n",
              " 'huggingface:saudinewsnet',\n",
              " 'huggingface:sberquad',\n",
              " 'huggingface:sbu_captions',\n",
              " 'huggingface:scan',\n",
              " 'huggingface:scb_mt_enth_2020',\n",
              " 'huggingface:scene_parse_150',\n",
              " 'huggingface:schema_guided_dstc8',\n",
              " 'huggingface:scicite',\n",
              " 'huggingface:scielo',\n",
              " 'huggingface:scientific_papers',\n",
              " 'huggingface:scifact',\n",
              " 'huggingface:sciq',\n",
              " 'huggingface:scitail',\n",
              " 'huggingface:scitldr',\n",
              " 'huggingface:search_qa',\n",
              " 'huggingface:sede',\n",
              " 'huggingface:selqa',\n",
              " 'huggingface:sem_eval_2010_task_8',\n",
              " 'huggingface:sem_eval_2014_task_1',\n",
              " 'huggingface:sem_eval_2018_task_1',\n",
              " 'huggingface:sem_eval_2020_task_11',\n",
              " 'huggingface:sent_comp',\n",
              " 'huggingface:senti_lex',\n",
              " 'huggingface:senti_ws',\n",
              " 'huggingface:sentiment140',\n",
              " 'huggingface:sepedi_ner',\n",
              " 'huggingface:sesotho_ner_corpus',\n",
              " 'huggingface:setimes',\n",
              " 'huggingface:setswana_ner_corpus',\n",
              " 'huggingface:sharc',\n",
              " 'huggingface:sharc_modified',\n",
              " 'huggingface:sick',\n",
              " 'huggingface:silicone',\n",
              " 'huggingface:simple_questions_v2',\n",
              " 'huggingface:siswati_ner_corpus',\n",
              " 'huggingface:smartdata',\n",
              " 'huggingface:sms_spam',\n",
              " 'huggingface:snips_built_in_intents',\n",
              " 'huggingface:snli',\n",
              " 'huggingface:snow_simplified_japanese_corpus',\n",
              " 'huggingface:so_stacksample',\n",
              " 'huggingface:social_bias_frames',\n",
              " 'huggingface:social_i_qa',\n",
              " 'huggingface:sofc_materials_articles',\n",
              " 'huggingface:sogou_news',\n",
              " 'huggingface:spanish_billion_words',\n",
              " 'huggingface:spc',\n",
              " 'huggingface:species_800',\n",
              " 'huggingface:speech_commands',\n",
              " 'huggingface:spider',\n",
              " 'huggingface:squad',\n",
              " 'huggingface:squad_adversarial',\n",
              " 'huggingface:squad_es',\n",
              " 'huggingface:squad_it',\n",
              " 'huggingface:squad_kor_v1',\n",
              " 'huggingface:squad_kor_v2',\n",
              " 'huggingface:squad_v1_pt',\n",
              " 'huggingface:squad_v2',\n",
              " 'huggingface:squadshifts',\n",
              " 'huggingface:srwac',\n",
              " 'huggingface:sst',\n",
              " 'huggingface:stereoset',\n",
              " 'huggingface:story_cloze',\n",
              " 'huggingface:stsb_mt_sv',\n",
              " 'huggingface:stsb_multi_mt',\n",
              " 'huggingface:style_change_detection',\n",
              " 'huggingface:subjqa',\n",
              " 'huggingface:super_glue',\n",
              " 'huggingface:superb',\n",
              " 'huggingface:svhn',\n",
              " 'huggingface:swag',\n",
              " 'huggingface:swahili',\n",
              " 'huggingface:swahili_news',\n",
              " 'huggingface:swda',\n",
              " 'huggingface:swedish_medical_ner',\n",
              " 'huggingface:swedish_ner_corpus',\n",
              " 'huggingface:swedish_reviews',\n",
              " 'huggingface:swiss_judgment_prediction',\n",
              " 'huggingface:tab_fact',\n",
              " 'huggingface:tamilmixsentiment',\n",
              " 'huggingface:tanzil',\n",
              " 'huggingface:tapaco',\n",
              " 'huggingface:tashkeela',\n",
              " 'huggingface:taskmaster1',\n",
              " 'huggingface:taskmaster2',\n",
              " 'huggingface:taskmaster3',\n",
              " 'huggingface:tatoeba',\n",
              " 'huggingface:ted_hrlr',\n",
              " 'huggingface:ted_iwlst2013',\n",
              " 'huggingface:ted_multi',\n",
              " 'huggingface:ted_talks_iwslt',\n",
              " 'huggingface:telugu_books',\n",
              " 'huggingface:telugu_news',\n",
              " 'huggingface:tep_en_fa_para',\n",
              " 'huggingface:text2log',\n",
              " 'huggingface:textvqa',\n",
              " 'huggingface:thai_toxicity_tweet',\n",
              " 'huggingface:thainer',\n",
              " 'huggingface:thaiqa_squad',\n",
              " 'huggingface:thaisum',\n",
              " 'huggingface:the_pile',\n",
              " 'huggingface:the_pile_books3',\n",
              " 'huggingface:the_pile_openwebtext2',\n",
              " 'huggingface:the_pile_stack_exchange',\n",
              " 'huggingface:tilde_model',\n",
              " 'huggingface:time_dial',\n",
              " 'huggingface:times_of_india_news_headlines',\n",
              " 'huggingface:timit_asr',\n",
              " 'huggingface:tiny_shakespeare',\n",
              " 'huggingface:tlc',\n",
              " 'huggingface:tmu_gfm_dataset',\n",
              " 'huggingface:tne',\n",
              " 'huggingface:told-br',\n",
              " 'huggingface:totto',\n",
              " 'huggingface:trec',\n",
              " 'huggingface:trivia_qa',\n",
              " 'huggingface:truthful_qa',\n",
              " 'huggingface:tsac',\n",
              " 'huggingface:ttc4900',\n",
              " 'huggingface:tunizi',\n",
              " 'huggingface:tuple_ie',\n",
              " 'huggingface:turk',\n",
              " 'huggingface:turkic_xwmt',\n",
              " 'huggingface:turkish_movie_sentiment',\n",
              " 'huggingface:turkish_ner',\n",
              " ...]"
            ]
          },
          "metadata": {},
          "execution_count": 37
        }
      ]
    },
    {
      "cell_type": "markdown",
      "source": [
        "## Load a dataset\n",
        "\n",
        "### tfds.load\n",
        "\n",
        "The easiest way of loading a dataset is `tfds.load`. It will:\n",
        "\n",
        "1. Download the data and save it as [`tfrecord`](https://www.tensorflow.org/tutorials/load_data/tfrecord) files.\n",
        "2. Load the `tfrecord` and create the `tf.data.Dataset`.\n"
      ],
      "metadata": {
        "id": "C73mJHnW668W"
      }
    },
    {
      "cell_type": "code",
      "source": [
        "ds = tfds.load('mnist', split='train', shuffle_files=True)\n",
        "assert isinstance(ds, tf.data.Dataset)\n",
        "print(ds)"
      ],
      "metadata": {
        "colab": {
          "base_uri": "https://localhost:8080/"
        },
        "id": "WtO26IIl65Qr",
        "outputId": "aaffdf45-15f5-4237-eb92-b1092631b979"
      },
      "execution_count": 38,
      "outputs": [
        {
          "output_type": "stream",
          "name": "stdout",
          "text": [
            "\u001b[1mDownloading and preparing dataset 11.06 MiB (download: 11.06 MiB, generated: 21.00 MiB, total: 32.06 MiB) to ~/tensorflow_datasets/mnist/3.0.1...\u001b[0m\n",
            "\u001b[1mDataset mnist downloaded and prepared to ~/tensorflow_datasets/mnist/3.0.1. Subsequent calls will reuse this data.\u001b[0m\n",
            "<PrefetchDataset element_spec={'image': TensorSpec(shape=(28, 28, 1), dtype=tf.uint8, name=None), 'label': TensorSpec(shape=(), dtype=tf.int64, name=None)}>\n"
          ]
        }
      ]
    },
    {
      "cell_type": "code",
      "source": [
        "builder = tfds.builder('mnist')\n",
        "# 1. Create the tfrecord files (no-op if already exists)\n",
        "builder.download_and_prepare()\n",
        "# 2. Load the `tf.data.Dataset`\n",
        "ds = builder.as_dataset(split='train', shuffle_files=True)\n",
        "print(ds)"
      ],
      "metadata": {
        "colab": {
          "base_uri": "https://localhost:8080/"
        },
        "id": "ZYlvlRQq68yd",
        "outputId": "2a4b0c44-fda1-4bd4-cc27-be527a53fcc7"
      },
      "execution_count": 39,
      "outputs": [
        {
          "output_type": "stream",
          "name": "stdout",
          "text": [
            "<PrefetchDataset element_spec={'image': TensorSpec(shape=(28, 28, 1), dtype=tf.uint8, name=None), 'label': TensorSpec(shape=(), dtype=tf.int64, name=None)}>\n"
          ]
        }
      ]
    },
    {
      "cell_type": "markdown",
      "source": [
        "## Iterate over a dataset"
      ],
      "metadata": {
        "id": "ghFE6PsC7JnN"
      }
    },
    {
      "cell_type": "markdown",
      "source": [
        "### As dict\n",
        "\n",
        "By default, the `tf.data.Dataset` object contains a `dict` of `tf.Tensor`s:"
      ],
      "metadata": {
        "id": "L_oTdoyp7PRN"
      }
    },
    {
      "cell_type": "code",
      "source": [
        "ds = tfds.load('mnist', split='train')\n",
        "ds = ds.take(1)  # Only take a single example\n",
        "\n",
        "for example in ds:  # example is `{'image': tf.Tensor, 'label': tf.Tensor}`\n",
        "  print(list(example.keys()))\n",
        "  image = example[\"image\"]\n",
        "  label = example[\"label\"]\n",
        "  print(image.shape, label)"
      ],
      "metadata": {
        "colab": {
          "base_uri": "https://localhost:8080/"
        },
        "id": "2EmFohqf69u9",
        "outputId": "b2ecb0d1-0562-46f4-d0f2-3c94eee92f7f"
      },
      "execution_count": 40,
      "outputs": [
        {
          "output_type": "stream",
          "name": "stdout",
          "text": [
            "['image', 'label']\n",
            "(28, 28, 1) tf.Tensor(4, shape=(), dtype=int64)\n"
          ]
        }
      ]
    },
    {
      "cell_type": "markdown",
      "source": [
        "### As tuple (`as_supervised=True`)\n",
        "\n",
        "By using `as_supervised=True`, you can get a tuple `(features, label)` instead for supervised datasets."
      ],
      "metadata": {
        "id": "sdhFvoZG7Lwl"
      }
    },
    {
      "cell_type": "code",
      "source": [
        "ds = tfds.load('mnist', split='train', as_supervised=True)\n",
        "ds = ds.take(1)\n",
        "\n",
        "for image, label in ds:  # example is (image, label)\n",
        "  print(image.shape, label)"
      ],
      "metadata": {
        "colab": {
          "base_uri": "https://localhost:8080/"
        },
        "id": "dyYykvu26-uv",
        "outputId": "445fa76d-e7c7-47be-d6c6-8344af0b5376"
      },
      "execution_count": 41,
      "outputs": [
        {
          "output_type": "stream",
          "name": "stdout",
          "text": [
            "(28, 28, 1) tf.Tensor(4, shape=(), dtype=int64)\n"
          ]
        }
      ]
    },
    {
      "cell_type": "markdown",
      "source": [
        "### As numpy (`tfds.as_numpy`)\n",
        "\n",
        "Uses `tfds.as_numpy` to convert:\n",
        "\n",
        "*   `tf.Tensor` -> `np.array`\n",
        "*   `tf.data.Dataset` -> `Iterator[Tree[np.array]]` (`Tree` can be arbitrary nested `Dict`, `Tuple`)\n",
        "\n"
      ],
      "metadata": {
        "id": "V_fCKw5Z7Rf9"
      }
    },
    {
      "cell_type": "code",
      "source": [
        "ds = tfds.load('mnist', split='train', as_supervised=True)\n",
        "ds = ds.take(1)\n",
        "\n",
        "for image, label in tfds.as_numpy(ds):\n",
        "  print(type(image), type(label), label)"
      ],
      "metadata": {
        "colab": {
          "base_uri": "https://localhost:8080/"
        },
        "id": "JMagsTt66_f8",
        "outputId": "3e86bdc8-7e96-4b81-8d90-1cd9908b60bd"
      },
      "execution_count": 42,
      "outputs": [
        {
          "output_type": "stream",
          "name": "stdout",
          "text": [
            "<class 'numpy.ndarray'> <class 'numpy.int64'> 4\n"
          ]
        }
      ]
    },
    {
      "cell_type": "markdown",
      "source": [
        "### As batched tf.Tensor (`batch_size=-1`)\n",
        "\n",
        "By using `batch_size=-1`, you can load the full dataset in a single batch.\n",
        "\n",
        "This can be combined with `as_supervised=True` and `tfds.as_numpy` to get the the data as `(np.array, np.array)`:\n"
      ],
      "metadata": {
        "id": "s2bJ7sj57Tid"
      }
    },
    {
      "cell_type": "code",
      "source": [
        "image, label = tfds.as_numpy(tfds.load(\n",
        "    'mnist',\n",
        "    split='test',\n",
        "    batch_size=-1,\n",
        "    as_supervised=True,\n",
        "))\n",
        "\n",
        "print(type(image), image.shape)"
      ],
      "metadata": {
        "colab": {
          "base_uri": "https://localhost:8080/"
        },
        "id": "aiWWI3iy7SgD",
        "outputId": "cd70e02d-8672-40e4-ead0-56fc0b2dad23"
      },
      "execution_count": 43,
      "outputs": [
        {
          "output_type": "stream",
          "name": "stdout",
          "text": [
            "<class 'numpy.ndarray'> (10000, 28, 28, 1)\n"
          ]
        }
      ]
    },
    {
      "cell_type": "markdown",
      "source": [
        "## Benchmark your datasets\n",
        "\n",
        "Benchmarking a dataset is a simple `tfds.benchmark` call on any iterable (e.g. `tf.data.Dataset`, `tfds.as_numpy`,...).\n"
      ],
      "metadata": {
        "id": "d7e6pMuO7Vmq"
      }
    },
    {
      "cell_type": "code",
      "source": [
        "ds = tfds.load('mnist', split='train')\n",
        "ds = ds.batch(32).prefetch(1)\n",
        "\n",
        "tfds.benchmark(ds, batch_size=32)\n",
        "tfds.benchmark(ds, batch_size=32)  # Second epoch much faster due to auto-caching"
      ],
      "metadata": {
        "colab": {
          "base_uri": "https://localhost:8080/",
          "height": 369
        },
        "id": "k3gd-QwK7UUy",
        "outputId": "7e2f7f03-b9ee-467a-aa4f-5dad1be83178"
      },
      "execution_count": 44,
      "outputs": [
        {
          "output_type": "stream",
          "name": "stdout",
          "text": [
            "\n",
            "************ Summary ************\n",
            "\n",
            "Examples/sec (First included) 12006.86 ex/sec (total: 60000 ex, 5.00 sec)\n",
            "Examples/sec (First only) 898.69 ex/sec (total: 32 ex, 0.04 sec)\n",
            "Examples/sec (First excluded) 12086.58 ex/sec (total: 59968 ex, 4.96 sec)\n",
            "\n",
            "************ Summary ************\n",
            "\n",
            "Examples/sec (First included) 89053.80 ex/sec (total: 60000 ex, 0.67 sec)\n",
            "Examples/sec (First only) 1204.54 ex/sec (total: 32 ex, 0.03 sec)\n",
            "Examples/sec (First excluded) 92659.90 ex/sec (total: 59968 ex, 0.65 sec)\n"
          ]
        },
        {
          "output_type": "execute_result",
          "data": {
            "text/plain": [
              "BenchmarkResult(stats=             duration  num_examples           avg\n",
              "first+lasts  0.673750         60000  89053.795541\n",
              "first        0.026566            32   1204.542722\n",
              "lasts        0.647184         59968  92659.898288, raw_stats=                     duration\n",
              "start_time        2394.007447\n",
              "first_batch_time  2394.034013\n",
              "end_time          2394.681197\n",
              "num_iter          1875.000000)"
            ],
            "text/html": [
              "<strong>BenchmarkResult:</strong><br/><div>\n",
              "<style scoped>\n",
              "    .dataframe tbody tr th:only-of-type {\n",
              "        vertical-align: middle;\n",
              "    }\n",
              "\n",
              "    .dataframe tbody tr th {\n",
              "        vertical-align: top;\n",
              "    }\n",
              "\n",
              "    .dataframe thead th {\n",
              "        text-align: right;\n",
              "    }\n",
              "</style>\n",
              "<table border=\"1\" class=\"dataframe\">\n",
              "  <thead>\n",
              "    <tr style=\"text-align: right;\">\n",
              "      <th></th>\n",
              "      <th>duration</th>\n",
              "      <th>num_examples</th>\n",
              "      <th>avg</th>\n",
              "    </tr>\n",
              "  </thead>\n",
              "  <tbody>\n",
              "    <tr>\n",
              "      <th>first+lasts</th>\n",
              "      <td>0.673750</td>\n",
              "      <td>60000</td>\n",
              "      <td>89053.795541</td>\n",
              "    </tr>\n",
              "    <tr>\n",
              "      <th>first</th>\n",
              "      <td>0.026566</td>\n",
              "      <td>32</td>\n",
              "      <td>1204.542722</td>\n",
              "    </tr>\n",
              "    <tr>\n",
              "      <th>lasts</th>\n",
              "      <td>0.647184</td>\n",
              "      <td>59968</td>\n",
              "      <td>92659.898288</td>\n",
              "    </tr>\n",
              "  </tbody>\n",
              "</table>\n",
              "</div>"
            ]
          },
          "metadata": {},
          "execution_count": 44
        }
      ]
    },
    {
      "cell_type": "markdown",
      "source": [
        "## Visualization"
      ],
      "metadata": {
        "id": "Z2TyrvMI7YxA"
      }
    },
    {
      "cell_type": "markdown",
      "source": [
        "### tfds.as_dataframe\n",
        "\n",
        "`tf.data.Dataset` objects can be converted to [`pandas.DataFrame`](https://pandas.pydata.org/pandas-docs/stable/reference/api/pandas.DataFrame.html) with `tfds.as_dataframe` to be visualized on [Colab](https://colab.research.google.com).\n",
        "\n",
        "* Add the `tfds.core.DatasetInfo` as second argument of `tfds.as_dataframe` to visualize images, audio, texts, videos,...\n",
        "* Use `ds.take(x)` to only display the first `x` examples. `pandas.DataFrame` will load the full dataset in-memory, and can be very expensive to display."
      ],
      "metadata": {
        "id": "aNy60fkO7kGv"
      }
    },
    {
      "cell_type": "code",
      "source": [
        "ds, info = tfds.load('mnist', split='train', with_info=True)\n",
        "\n",
        "tfds.as_dataframe(ds.take(4), info)"
      ],
      "metadata": {
        "colab": {
          "base_uri": "https://localhost:8080/",
          "height": 184
        },
        "id": "K8ewNNV87Wgc",
        "outputId": "eaf967d0-3fc3-4aec-b79c-a1b02486a0a2"
      },
      "execution_count": 45,
      "outputs": [
        {
          "output_type": "execute_result",
          "data": {
            "text/plain": [
              "                                               image  label\n",
              "0  [[[0], [0], [0], [0], [0], [0], [0], [0], [0],...      4\n",
              "1  [[[0], [0], [0], [0], [0], [0], [0], [0], [0],...      1\n",
              "2  [[[0], [0], [0], [0], [0], [0], [0], [0], [0],...      0\n",
              "3  [[[0], [0], [0], [0], [0], [0], [0], [0], [0],...      7"
            ],
            "text/html": [
              "\n",
              "  <div id=\"df-f0b99a34-3c2d-4012-b764-8e942e8f00a9\">\n",
              "    <div class=\"colab-df-container\">\n",
              "      <style type=\"text/css\">\n",
              "</style>\n",
              "<table id=\"T_23355_\">\n",
              "  <thead>\n",
              "    <tr>\n",
              "      <th class=\"blank level0\" >&nbsp;</th>\n",
              "      <th class=\"col_heading level0 col0\" >image</th>\n",
              "      <th class=\"col_heading level0 col1\" >label</th>\n",
              "    </tr>\n",
              "  </thead>\n",
              "  <tbody>\n",
              "    <tr>\n",
              "      <th id=\"T_23355_level0_row0\" class=\"row_heading level0 row0\" >0</th>\n",
              "      <td id=\"T_23355_row0_col0\" class=\"data row0 col0\" ><img src=\"data:image/png;base64,iVBORw0KGgoAAAANSUhEUgAAABwAAAAcCAAAAABXZoBIAAAAzElEQVR4nGNgGPQg5F8qjMmEIRn1XwinRvnvp2QxdTIyMjAwMDDksd17jCnpeN6CgYGBQZfhAhbzLP+WMzAwyPz8IAkXQuh8ycDAwMAQyHr1ORZJYQYGBgYGKYYDDFgkAxgZGBikMxnnISQZYQz2J0KXjwvpqV00+YfpnsS/f//++/v3bxiSGAuMYfp97rN3b1cz7MDiEQgI+bcGmYsatlH/T+PUyPD2jwVOOaOP23Br3P3vZyZOO///v7qGARd4/EkBt7FvbuOWoyIAAPBxN9oBRuu9AAAAAElFTkSuQmCC\" alt=\"Img\" /></td>\n",
              "      <td id=\"T_23355_row0_col1\" class=\"data row0 col1\" >4</td>\n",
              "    </tr>\n",
              "    <tr>\n",
              "      <th id=\"T_23355_level0_row1\" class=\"row_heading level0 row1\" >1</th>\n",
              "      <td id=\"T_23355_row1_col0\" class=\"data row1 col0\" ><img src=\"data:image/png;base64,iVBORw0KGgoAAAANSUhEUgAAABwAAAAcCAAAAABXZoBIAAAAmklEQVR4nGNgGOyAc/5KJlxyjIv+/TPEJan9798HWRgH3YhQBoZHj3HpfP/vVxQuOYF//54ieGjGNjEwXMalkeHbv3+eeCTfseAy1oCVYeofXBp3/f8lgUtO/su/azhtnPLvXwJOycv//uGU0//5bx1OySP//hngkuN5+u8tG4oIkj/VJBmO/8Il6cvAMBunlSIvX3DjlKQmAACHtTHZmy2LVAAAAABJRU5ErkJggg==\" alt=\"Img\" /></td>\n",
              "      <td id=\"T_23355_row1_col1\" class=\"data row1 col1\" >1</td>\n",
              "    </tr>\n",
              "    <tr>\n",
              "      <th id=\"T_23355_level0_row2\" class=\"row_heading level0 row2\" >2</th>\n",
              "      <td id=\"T_23355_row2_col0\" class=\"data row2 col0\" ><img src=\"data:image/png;base64,iVBORw0KGgoAAAANSUhEUgAAABwAAAAcCAAAAABXZoBIAAAA+0lEQVR4nM3QvyuEARzH8feVniSFiTBcKf8A85ESNqwkdbeY5NdmY/UXiM0z+Ad0SXZ1g0vJjw0Xi86pc13eD8NleJ47q3zG76tv3x/wJxk+jQ7bf8NldT9obdNl1fWW1nGh6mtLPIm0oJVWlvuIvOvMWx1qtqWa0U2aULNNNnCtT+MQapi0waK6CoR6mcS8Wuhq4Fqj1PZjU5NQnX0DUine433dD1qZBwjOrM/EsVc9AmCj6c5MWT8XADjX2mgMi+otABN1k0/YVncAFu/VLWLbPgNBduRxLBMQHe/FZ+Zs5EtLm8kP9F81MHrZTScNelZK6sFcXzP9o3wDadaKxdoXqEQAAAAASUVORK5CYII=\" alt=\"Img\" /></td>\n",
              "      <td id=\"T_23355_row2_col1\" class=\"data row2 col1\" >0</td>\n",
              "    </tr>\n",
              "    <tr>\n",
              "      <th id=\"T_23355_level0_row3\" class=\"row_heading level0 row3\" >3</th>\n",
              "      <td id=\"T_23355_row3_col0\" class=\"data row3 col0\" ><img src=\"data:image/png;base64,iVBORw0KGgoAAAANSUhEUgAAABwAAAAcCAAAAABXZoBIAAAA40lEQVR4nGNgGJpg//8OdCEWKM2obvgv/++6/zcZnJQebPuNqkjvLxI4IIgiJ3/v79/3b//9/fvv7993f/9NQzE2TZ6hc8J3JwYGBgaGK7cYeJE12n79+1cCxlH9+/cVB5LOlxy/pryHSUYyMO78gSR5W/vzU7gxfAz/cfq36fvfDw445Fr+/P3bg12KMebb37+7WbDKKSz89/fvNRmscjpb//79u0YBq5z0yb9//2bhcEvXv78fs1ixyzX//PsuHYc+gbvwAMcEmX//3kFzJxOc9YCRoesJLp3sx9+p4JIjGQAAnrpmBs0pxioAAAAASUVORK5CYII=\" alt=\"Img\" /></td>\n",
              "      <td id=\"T_23355_row3_col1\" class=\"data row3 col1\" >7</td>\n",
              "    </tr>\n",
              "  </tbody>\n",
              "</table>\n",
              "\n",
              "      <button class=\"colab-df-convert\" onclick=\"convertToInteractive('df-f0b99a34-3c2d-4012-b764-8e942e8f00a9')\"\n",
              "              title=\"Convert this dataframe to an interactive table.\"\n",
              "              style=\"display:none;\">\n",
              "        \n",
              "  <svg xmlns=\"http://www.w3.org/2000/svg\" height=\"24px\"viewBox=\"0 0 24 24\"\n",
              "       width=\"24px\">\n",
              "    <path d=\"M0 0h24v24H0V0z\" fill=\"none\"/>\n",
              "    <path d=\"M18.56 5.44l.94 2.06.94-2.06 2.06-.94-2.06-.94-.94-2.06-.94 2.06-2.06.94zm-11 1L8.5 8.5l.94-2.06 2.06-.94-2.06-.94L8.5 2.5l-.94 2.06-2.06.94zm10 10l.94 2.06.94-2.06 2.06-.94-2.06-.94-.94-2.06-.94 2.06-2.06.94z\"/><path d=\"M17.41 7.96l-1.37-1.37c-.4-.4-.92-.59-1.43-.59-.52 0-1.04.2-1.43.59L10.3 9.45l-7.72 7.72c-.78.78-.78 2.05 0 2.83L4 21.41c.39.39.9.59 1.41.59.51 0 1.02-.2 1.41-.59l7.78-7.78 2.81-2.81c.8-.78.8-2.07 0-2.86zM5.41 20L4 18.59l7.72-7.72 1.47 1.35L5.41 20z\"/>\n",
              "  </svg>\n",
              "      </button>\n",
              "      \n",
              "  <style>\n",
              "    .colab-df-container {\n",
              "      display:flex;\n",
              "      flex-wrap:wrap;\n",
              "      gap: 12px;\n",
              "    }\n",
              "\n",
              "    .colab-df-convert {\n",
              "      background-color: #E8F0FE;\n",
              "      border: none;\n",
              "      border-radius: 50%;\n",
              "      cursor: pointer;\n",
              "      display: none;\n",
              "      fill: #1967D2;\n",
              "      height: 32px;\n",
              "      padding: 0 0 0 0;\n",
              "      width: 32px;\n",
              "    }\n",
              "\n",
              "    .colab-df-convert:hover {\n",
              "      background-color: #E2EBFA;\n",
              "      box-shadow: 0px 1px 2px rgba(60, 64, 67, 0.3), 0px 1px 3px 1px rgba(60, 64, 67, 0.15);\n",
              "      fill: #174EA6;\n",
              "    }\n",
              "\n",
              "    [theme=dark] .colab-df-convert {\n",
              "      background-color: #3B4455;\n",
              "      fill: #D2E3FC;\n",
              "    }\n",
              "\n",
              "    [theme=dark] .colab-df-convert:hover {\n",
              "      background-color: #434B5C;\n",
              "      box-shadow: 0px 1px 3px 1px rgba(0, 0, 0, 0.15);\n",
              "      filter: drop-shadow(0px 1px 2px rgba(0, 0, 0, 0.3));\n",
              "      fill: #FFFFFF;\n",
              "    }\n",
              "  </style>\n",
              "\n",
              "      <script>\n",
              "        const buttonEl =\n",
              "          document.querySelector('#df-f0b99a34-3c2d-4012-b764-8e942e8f00a9 button.colab-df-convert');\n",
              "        buttonEl.style.display =\n",
              "          google.colab.kernel.accessAllowed ? 'block' : 'none';\n",
              "\n",
              "        async function convertToInteractive(key) {\n",
              "          const element = document.querySelector('#df-f0b99a34-3c2d-4012-b764-8e942e8f00a9');\n",
              "          const dataTable =\n",
              "            await google.colab.kernel.invokeFunction('convertToInteractive',\n",
              "                                                     [key], {});\n",
              "          if (!dataTable) return;\n",
              "\n",
              "          const docLinkHtml = 'Like what you see? Visit the ' +\n",
              "            '<a target=\"_blank\" href=https://colab.research.google.com/notebooks/data_table.ipynb>data table notebook</a>'\n",
              "            + ' to learn more about interactive tables.';\n",
              "          element.innerHTML = '';\n",
              "          dataTable['output_type'] = 'display_data';\n",
              "          await google.colab.output.renderOutput(dataTable, element);\n",
              "          const docLink = document.createElement('div');\n",
              "          docLink.innerHTML = docLinkHtml;\n",
              "          element.appendChild(docLink);\n",
              "        }\n",
              "      </script>\n",
              "    </div>\n",
              "  </div>\n",
              "  "
            ]
          },
          "metadata": {},
          "execution_count": 45
        }
      ]
    },
    {
      "cell_type": "markdown",
      "source": [
        "### tfds.show_examples\n",
        "\n",
        "`tfds.show_examples` returns a `matplotlib.figure.Figure` (only image datasets supported now):"
      ],
      "metadata": {
        "id": "W_9nyc_e7lGV"
      }
    },
    {
      "cell_type": "code",
      "source": [
        "ds, info = tfds.load('mnist', split='train', with_info=True)\n",
        "\n",
        "fig = tfds.show_examples(ds, info)"
      ],
      "metadata": {
        "colab": {
          "base_uri": "https://localhost:8080/",
          "height": 534
        },
        "id": "XC9E63xR7a93",
        "outputId": "b14059a8-c220-4b22-97fc-a83e4b85fe99"
      },
      "execution_count": 46,
      "outputs": [
        {
          "output_type": "display_data",
          "data": {
            "text/plain": [
              "<Figure size 648x648 with 9 Axes>"
            ],
            "image/png": "[encoded data removed]"
          },
          "metadata": {}
        }
      ]
    },
    {
      "cell_type": "markdown",
      "source": [
        "## Access the dataset metadata\n",
        "\n",
        "All builders include a `tfds.core.DatasetInfo` object containing the dataset metadata.\n",
        "\n",
        "It can be accessed through:\n",
        "\n",
        "*   The `tfds.load` API:\n"
      ],
      "metadata": {
        "id": "cAJJs9T17q2-"
      }
    },
    {
      "cell_type": "code",
      "source": [
        "ds, info = tfds.load('mnist', with_info=True)"
      ],
      "metadata": {
        "id": "iCbHRl0y7nLd"
      },
      "execution_count": 47,
      "outputs": []
    },
    {
      "cell_type": "code",
      "source": [
        "builder = tfds.builder('mnist')\n",
        "info = builder.info"
      ],
      "metadata": {
        "id": "LufgYrSH7r5s"
      },
      "execution_count": 48,
      "outputs": []
    },
    {
      "cell_type": "code",
      "source": [
        "print(info)"
      ],
      "metadata": {
        "colab": {
          "base_uri": "https://localhost:8080/"
        },
        "id": "UlWUK_JO7smY",
        "outputId": "57bb6846-322f-4e80-d061-e8b176f3423d"
      },
      "execution_count": 49,
      "outputs": [
        {
          "output_type": "stream",
          "name": "stdout",
          "text": [
            "tfds.core.DatasetInfo(\n",
            "    name='mnist',\n",
            "    full_name='mnist/3.0.1',\n",
            "    description=\"\"\"\n",
            "    The MNIST database of handwritten digits.\n",
            "    \"\"\",\n",
            "    homepage='http://yann.lecun.com/exdb/mnist/',\n",
            "    data_path='~/tensorflow_datasets/mnist/3.0.1',\n",
            "    file_format=tfrecord,\n",
            "    download_size=11.06 MiB,\n",
            "    dataset_size=21.00 MiB,\n",
            "    features=FeaturesDict({\n",
            "        'image': Image(shape=(28, 28, 1), dtype=tf.uint8),\n",
            "        'label': ClassLabel(shape=(), dtype=tf.int64, num_classes=10),\n",
            "    }),\n",
            "    supervised_keys=('image', 'label'),\n",
            "    disable_shuffling=False,\n",
            "    splits={\n",
            "        'test': <SplitInfo num_examples=10000, num_shards=1>,\n",
            "        'train': <SplitInfo num_examples=60000, num_shards=1>,\n",
            "    },\n",
            "    citation=\"\"\"@article{lecun2010mnist,\n",
            "      title={MNIST handwritten digit database},\n",
            "      author={LeCun, Yann and Cortes, Corinna and Burges, CJ},\n",
            "      journal={ATT Labs [Online]. Available: http://yann.lecun.com/exdb/mnist},\n",
            "      volume={2},\n",
            "      year={2010}\n",
            "    }\"\"\",\n",
            ")\n"
          ]
        }
      ]
    },
    {
      "cell_type": "code",
      "source": [
        "info.features"
      ],
      "metadata": {
        "colab": {
          "base_uri": "https://localhost:8080/"
        },
        "id": "yHtSrHJj7tTM",
        "outputId": "68421f25-88fa-40d0-ae57-848efc806b87"
      },
      "execution_count": 50,
      "outputs": [
        {
          "output_type": "execute_result",
          "data": {
            "text/plain": [
              "FeaturesDict({\n",
              "    'image': Image(shape=(28, 28, 1), dtype=tf.uint8),\n",
              "    'label': ClassLabel(shape=(), dtype=tf.int64, num_classes=10),\n",
              "})"
            ]
          },
          "metadata": {},
          "execution_count": 50
        }
      ]
    },
    {
      "cell_type": "code",
      "source": [
        "print(info.features[\"label\"].num_classes)\n",
        "print(info.features[\"label\"].names)\n",
        "print(info.features[\"label\"].int2str(7))  # Human readable version (8 -> 'cat')\n",
        "print(info.features[\"label\"].str2int('7'))"
      ],
      "metadata": {
        "colab": {
          "base_uri": "https://localhost:8080/"
        },
        "id": "8xjoiMJZ7umw",
        "outputId": "ea823cb3-9c85-4c11-ebc9-cc840892d4ce"
      },
      "execution_count": 51,
      "outputs": [
        {
          "output_type": "stream",
          "name": "stdout",
          "text": [
            "10\n",
            "['0', '1', '2', '3', '4', '5', '6', '7', '8', '9']\n",
            "7\n",
            "7\n"
          ]
        }
      ]
    },
    {
      "cell_type": "code",
      "source": [
        "print(info.features.shape)\n",
        "print(info.features.dtype)\n",
        "print(info.features['image'].shape)\n",
        "print(info.features['image'].dtype)"
      ],
      "metadata": {
        "colab": {
          "base_uri": "https://localhost:8080/"
        },
        "id": "1zwTGUnf7vM3",
        "outputId": "41a3aa5f-79e7-458b-d7d2-2c70511e45c1"
      },
      "execution_count": 52,
      "outputs": [
        {
          "output_type": "stream",
          "name": "stdout",
          "text": [
            "{'image': (28, 28, 1), 'label': ()}\n",
            "{'image': tf.uint8, 'label': tf.int64}\n",
            "(28, 28, 1)\n",
            "<dtype: 'uint8'>\n"
          ]
        }
      ]
    },
    {
      "cell_type": "code",
      "source": [
        "print(info.splits)"
      ],
      "metadata": {
        "colab": {
          "base_uri": "https://localhost:8080/"
        },
        "id": "S8Yy6Bd77v1n",
        "outputId": "06e2a6f7-a440-42de-d303-5aac80c03ec5"
      },
      "execution_count": 53,
      "outputs": [
        {
          "output_type": "stream",
          "name": "stdout",
          "text": [
            "{'test': <SplitInfo num_examples=10000, num_shards=1>, 'train': <SplitInfo num_examples=60000, num_shards=1>}\n"
          ]
        }
      ]
    },
    {
      "cell_type": "code",
      "source": [
        "print(list(info.splits.keys()))"
      ],
      "metadata": {
        "colab": {
          "base_uri": "https://localhost:8080/"
        },
        "id": "qQ67Cw-b7xDC",
        "outputId": "6a4281a7-f378-4e65-9cac-e2024de5e3cf"
      },
      "execution_count": 54,
      "outputs": [
        {
          "output_type": "stream",
          "name": "stdout",
          "text": [
            "['test', 'train']\n"
          ]
        }
      ]
    },
    {
      "cell_type": "code",
      "source": [
        "print(info.splits['train'].num_examples)\n",
        "print(info.splits['train'].filenames)\n",
        "print(info.splits['train'].num_shards)"
      ],
      "metadata": {
        "colab": {
          "base_uri": "https://localhost:8080/"
        },
        "id": "OR62IbZ97xwh",
        "outputId": "4fc43b8b-4238-4e5c-b9e7-49bfd1437d80"
      },
      "execution_count": 55,
      "outputs": [
        {
          "output_type": "stream",
          "name": "stdout",
          "text": [
            "60000\n",
            "['mnist-train.tfrecord-00000-of-00001']\n",
            "1\n"
          ]
        }
      ]
    },
    {
      "cell_type": "code",
      "source": [
        "print(info.splits['train[15%:75%]'].num_examples)\n",
        "print(info.splits['train[15%:75%]'].file_instructions)"
      ],
      "metadata": {
        "colab": {
          "base_uri": "https://localhost:8080/"
        },
        "id": "DizOM8557yht",
        "outputId": "27df7e1b-1d53-4fad-bce8-49cb3f161479"
      },
      "execution_count": 56,
      "outputs": [
        {
          "output_type": "stream",
          "name": "stdout",
          "text": [
            "36000\n",
            "[FileInstruction(filename='~/tensorflow_datasets/mnist/3.0.1/mnist-train.tfrecord-00000-of-00001', skip=9000, take=36000, num_examples=36000)]\n"
          ]
        }
      ]
    },
    {
      "cell_type": "markdown",
      "source": [
        "#TDFS Rock_Paper_Scissor"
      ],
      "metadata": {
        "id": "p232es0773pa"
      }
    },
    {
      "cell_type": "markdown",
      "source": [
        "## Setup"
      ],
      "metadata": {
        "id": "rK7FQdzN7852"
      }
    },
    {
      "cell_type": "code",
      "source": [
        "try:\n",
        "    %tensorflow_version 2.x\n",
        "except:\n",
        "    pass"
      ],
      "metadata": {
        "colab": {
          "base_uri": "https://localhost:8080/"
        },
        "id": "oN1f10dN7zk6",
        "outputId": "063bf7cc-ce89-4b72-add4-35c30e6e0907"
      },
      "execution_count": 57,
      "outputs": [
        {
          "output_type": "stream",
          "name": "stdout",
          "text": [
            "Colab only includes TensorFlow 2.x; %tensorflow_version has no effect.\n"
          ]
        }
      ]
    },
    {
      "cell_type": "code",
      "source": [
        "# Use all imports\n",
        "import tensorflow as tf\n",
        "import tensorflow_datasets as tfds\n",
        "\n",
        "print(\"\\u2022 Using TensorFlow Version:\", tf.__version__)"
      ],
      "metadata": {
        "colab": {
          "base_uri": "https://localhost:8080/"
        },
        "id": "a07BORE28Cpe",
        "outputId": "1f5fa7c8-6d8b-4f85-d92e-511612f1e82f"
      },
      "execution_count": 58,
      "outputs": [
        {
          "output_type": "stream",
          "name": "stdout",
          "text": [
            "• Using TensorFlow Version: 2.8.2\n"
          ]
        }
      ]
    },
    {
      "cell_type": "markdown",
      "source": [
        "## Extract the Rock, Paper, Scissors Dataset\n",
        "\n",
        "In the cell below, you will extract the `rock_paper_scissors` dataset and then print its info. Take note of the splits, what they're called, and their size."
      ],
      "metadata": {
        "id": "GxYVeALN8FNw"
      }
    },
    {
      "cell_type": "code",
      "source": [
        "data, info = tfds.load(\"rock_paper_scissors\", with_info=True)\n",
        "print(info)"
      ],
      "metadata": {
        "colab": {
          "base_uri": "https://localhost:8080/"
        },
        "id": "KwDGpiKI8D63",
        "outputId": "727d0120-2cdb-433d-c407-2f2888c45024"
      },
      "execution_count": 59,
      "outputs": [
        {
          "output_type": "stream",
          "name": "stdout",
          "text": [
            "\u001b[1mDownloading and preparing dataset 219.53 MiB (download: 219.53 MiB, generated: Unknown size, total: 219.53 MiB) to ~/tensorflow_datasets/rock_paper_scissors/3.0.0...\u001b[0m\n",
            "\u001b[1mDataset rock_paper_scissors downloaded and prepared to ~/tensorflow_datasets/rock_paper_scissors/3.0.0. Subsequent calls will reuse this data.\u001b[0m\n",
            "tfds.core.DatasetInfo(\n",
            "    name='rock_paper_scissors',\n",
            "    full_name='rock_paper_scissors/3.0.0',\n",
            "    description=\"\"\"\n",
            "    Images of hands playing rock, paper, scissor game.\n",
            "    \"\"\",\n",
            "    homepage='http://laurencemoroney.com/rock-paper-scissors-dataset',\n",
            "    data_path='~/tensorflow_datasets/rock_paper_scissors/3.0.0',\n",
            "    file_format=tfrecord,\n",
            "    download_size=219.53 MiB,\n",
            "    dataset_size=219.23 MiB,\n",
            "    features=FeaturesDict({\n",
            "        'image': Image(shape=(300, 300, 3), dtype=tf.uint8),\n",
            "        'label': ClassLabel(shape=(), dtype=tf.int64, num_classes=3),\n",
            "    }),\n",
            "    supervised_keys=('image', 'label'),\n",
            "    disable_shuffling=False,\n",
            "    splits={\n",
            "        'test': <SplitInfo num_examples=372, num_shards=1>,\n",
            "        'train': <SplitInfo num_examples=2520, num_shards=2>,\n",
            "    },\n",
            "    citation=\"\"\"@ONLINE {rps,\n",
            "    author = \"Laurence Moroney\",\n",
            "    title = \"Rock, Paper, Scissors Dataset\",\n",
            "    month = \"feb\",\n",
            "    year = \"2019\",\n",
            "    url = \"http://laurencemoroney.com/rock-paper-scissors-dataset\"\n",
            "    }\"\"\",\n",
            ")\n"
          ]
        }
      ]
    },
    {
      "cell_type": "code",
      "source": [
        "for set in data:# YOUR CODE HERE\n",
        "  print(set,\":\", info.splits[set].num_examples)"
      ],
      "metadata": {
        "colab": {
          "base_uri": "https://localhost:8080/"
        },
        "id": "42Fbu3vn8G1B",
        "outputId": "d20c3590-bb91-4dec-edae-814bcd417198"
      },
      "execution_count": 60,
      "outputs": [
        {
          "output_type": "stream",
          "name": "stdout",
          "text": [
            "train : 2520\n",
            "test : 372\n"
          ]
        }
      ]
    },
    {
      "cell_type": "markdown",
      "source": [
        "The original dataset doesn't have a validation set, just training and testing sets. In the cell below, you will use TFDS to create new datasets according to these rules:\n",
        "\n",
        "* `new_train`: The new training set should be the first 90% of the original training set.\n",
        "\n",
        "\n",
        "* `new_test`: The new test set should be the first 90% of the original test set.\n",
        "\n",
        "\n",
        "* `validation`: The new validation set should be the last 10% of the original training set + the last 10% of the original test set."
      ],
      "metadata": {
        "id": "fIz3bbui8Kl3"
      }
    },
    {
      "cell_type": "code",
      "source": [
        "#(Include the following arguments in your code: \"rock_paper_scissors:3.*.*\")\n",
        "new_train = tfds.load(\"rock_paper_scissors:3.*.*\", split='train[:90%]')\n",
        "print(len(list(new_train)))\n",
        "\n",
        "#(Include the following arguments in your code: \"rock_paper_scissors:3.*.*\")\n",
        "\n",
        "new_test = tfds.load(\"rock_paper_scissors:3.*.*\", split='test[:90%]')\n",
        "print(len(list(new_test)))\n",
        "\n",
        "#(Include the following arguments in your code: \"rock_paper_scissors:3.*.*\")\n",
        "validation = tfds.load(\"rock_paper_scissors:3.*.*\", split='train[90%:] + test[90%:]')\n",
        "print(len(list(validation)))"
      ],
      "metadata": {
        "colab": {
          "base_uri": "https://localhost:8080/"
        },
        "id": "rycpcZ9x8ImM",
        "outputId": "286bc397-86d8-41a7-b17d-fd2cd7fbf95c"
      },
      "execution_count": 61,
      "outputs": [
        {
          "output_type": "stream",
          "name": "stdout",
          "text": [
            "2268\n",
            "335\n",
            "289\n"
          ]
        }
      ]
    },
    {
      "cell_type": "markdown",
      "source": [
        "# TFDS Parallelization"
      ],
      "metadata": {
        "id": "b2Nu07_P8Qp2"
      }
    },
    {
      "cell_type": "markdown",
      "source": [
        "## Setup"
      ],
      "metadata": {
        "id": "X0O8Opg18XG0"
      }
    },
    {
      "cell_type": "code",
      "source": [
        "try:\n",
        "    %tensorflow_version 2.x\n",
        "except:\n",
        "    pass"
      ],
      "metadata": {
        "colab": {
          "base_uri": "https://localhost:8080/"
        },
        "id": "6udZFFr78NQW",
        "outputId": "f1e118fe-d9f0-49fb-8328-b97a1c2b92e9"
      },
      "execution_count": 62,
      "outputs": [
        {
          "output_type": "stream",
          "name": "stdout",
          "text": [
            "Colab only includes TensorFlow 2.x; %tensorflow_version has no effect.\n"
          ]
        }
      ]
    },
    {
      "cell_type": "code",
      "source": [
        "import os\n",
        "import textwrap\n",
        "import scipy.io\n",
        "import pandas as pd\n",
        "\n",
        "import tensorflow as tf\n",
        "\n",
        "print(\"\\u2022 Using TensorFlow Version:\", tf.__version__)"
      ],
      "metadata": {
        "colab": {
          "base_uri": "https://localhost:8080/"
        },
        "id": "v0AUEg708YvC",
        "outputId": "f9df0270-2cf4-436f-92d2-8eb6e23a8ea5"
      },
      "execution_count": 63,
      "outputs": [
        {
          "output_type": "stream",
          "name": "stdout",
          "text": [
            "• Using TensorFlow Version: 2.8.2\n"
          ]
        }
      ]
    },
    {
      "cell_type": "markdown",
      "source": [
        "## IMDB Faces Dataset\n",
        "\n",
        "This is the largest publicly available dataset of face images with gender and age labels for training.\n",
        "\n",
        "Source: https://data.vision.ee.ethz.ch/cvl/rrothe/imdb-wiki/\n",
        "\n",
        "The IMDb Faces dataset provides a separate .mat file which can be loaded with Matlab containing all the meta information. The format is as follows:  \n",
        "**dob**: date of birth (Matlab serial date number)  \n",
        "**photo_taken**: year when the photo was taken  \n",
        "**full_path**: path to file  \n",
        "**gender**: 0 for female and 1 for male, NaN if unknown  \n",
        "**name**: name of the celebrity  \n",
        "**face_location**: location of the face (bounding box)  \n",
        "**face_score**: detector score (the higher the better). Inf implies that no face was found in the image and the face_location then just returns the entire image  \n",
        "**second_face_score**: detector score of the face with the second highest score. This is useful to ignore images with more than one face. second_face_score is NaN if no second face was detected.  \n",
        "**celeb_names**: list of all celebrity names  \n",
        "**celeb_id**: index of celebrity name\n",
        "\n",
        "Here you can download the raw images and the metadata. We also provide a version with the cropped faces (with 40% margin). This version is much smaller."
      ],
      "metadata": {
        "id": "XpvghkRx8aSu"
      }
    },
    {
      "cell_type": "code",
      "source": [
        "# Download and extract the IMDB Faces dataset\n",
        "!wget https://data.vision.ee.ethz.ch/cvl/rrothe/imdb-wiki/static/imdb_crop.tar\n",
        "!tar xf imdb_crop.tar"
      ],
      "metadata": {
        "colab": {
          "base_uri": "https://localhost:8080/"
        },
        "id": "SOYncusi8ZRB",
        "outputId": "fc5b205a-b577-466c-825a-5273dafe8ff7"
      },
      "execution_count": 64,
      "outputs": [
        {
          "output_type": "stream",
          "name": "stdout",
          "text": [
            "--2022-09-14 14:20:29--  https://data.vision.ee.ethz.ch/cvl/rrothe/imdb-wiki/static/imdb_crop.tar\n",
            "Resolving data.vision.ee.ethz.ch (data.vision.ee.ethz.ch)... 129.132.52.178, 2001:67c:10ec:36c2::178\n",
            "Connecting to data.vision.ee.ethz.ch (data.vision.ee.ethz.ch)|129.132.52.178|:443... connected.\n",
            "HTTP request sent, awaiting response... 200 OK\n",
            "Length: 7012157440 (6.5G) [application/x-tar]\n",
            "Saving to: ‘imdb_crop.tar’\n",
            "\n",
            "imdb_crop.tar       100%[===================>]   6.53G  23.7MB/s    in 4m 47s  \n",
            "\n",
            "2022-09-14 14:25:17 (23.3 MB/s) - ‘imdb_crop.tar’ saved [7012157440/7012157440]\n",
            "\n"
          ]
        }
      ]
    },
    {
      "cell_type": "markdown",
      "source": [
        "## Exploring the Data"
      ],
      "metadata": {
        "id": "C6eFYHYl8d7h"
      }
    },
    {
      "cell_type": "code",
      "source": [
        "# Inspect the directory structure\n",
        "files = os.listdir('imdb_crop')\n",
        "print(textwrap.fill(' '.join(sorted(files)), 80))"
      ],
      "metadata": {
        "id": "F2yt6KBV8eTj",
        "colab": {
          "base_uri": "https://localhost:8080/"
        },
        "outputId": "c35e7dc6-9528-47f5-9b68-b353c088ac5a"
      },
      "execution_count": 65,
      "outputs": [
        {
          "output_type": "stream",
          "name": "stdout",
          "text": [
            "00 01 02 03 04 05 06 07 08 09 10 11 12 13 14 15 16 17 18 19 20 21 22 23 24 25 26\n",
            "27 28 29 30 31 32 33 34 35 36 37 38 39 40 41 42 43 44 45 46 47 48 49 50 51 52 53\n",
            "54 55 56 57 58 59 60 61 62 63 64 65 66 67 68 69 70 71 72 73 74 75 76 77 78 79 80\n",
            "81 82 83 84 85 86 87 88 89 90 91 92 93 94 95 96 97 98 99 imdb.mat\n"
          ]
        }
      ]
    },
    {
      "cell_type": "code",
      "source": [
        "# Inspect the meta data\n",
        "meta = scipy.io.loadmat('/content/imdb_crop/imdb.mat')\n",
        "meta"
      ],
      "metadata": {
        "id": "qMLUF__-8itQ",
        "colab": {
          "base_uri": "https://localhost:8080/"
        },
        "outputId": "60e251ea-3bec-408e-b67d-25a266df0bd6"
      },
      "execution_count": 66,
      "outputs": [
        {
          "output_type": "execute_result",
          "data": {
            "text/plain": [
              "{'__header__': b'MATLAB 5.0 MAT-file, Platform: GLNXA64, Created on: Sun Jan 17 11:30:27 2016',\n",
              " '__version__': '1.0',\n",
              " '__globals__': [],\n",
              " 'imdb': array([[(array([[693726, 693726, 693726, ..., 726831, 726831, 726831]], dtype=int32), array([[1968, 1970, 1968, ..., 2011, 2011, 2011]], dtype=uint16), array([[array(['01/nm0000001_rm124825600_1899-5-10_1968.jpg'], dtype='<U43'),\n",
              "                 array(['01/nm0000001_rm3343756032_1899-5-10_1970.jpg'], dtype='<U44'),\n",
              "                 array(['01/nm0000001_rm577153792_1899-5-10_1968.jpg'], dtype='<U43'),\n",
              "                 ...,\n",
              "                 array(['08/nm3994408_rm926592512_1989-12-29_2011.jpg'], dtype='<U44'),\n",
              "                 array(['08/nm3994408_rm943369728_1989-12-29_2011.jpg'], dtype='<U44'),\n",
              "                 array(['08/nm3994408_rm976924160_1989-12-29_2011.jpg'], dtype='<U44')]],\n",
              "               dtype=object), array([[1., 1., 1., ..., 0., 0., 0.]]), array([[array(['Fred Astaire'], dtype='<U12'),\n",
              "                 array(['Fred Astaire'], dtype='<U12'),\n",
              "                 array(['Fred Astaire'], dtype='<U12'), ...,\n",
              "                 array(['Jane Levy'], dtype='<U9'),\n",
              "                 array(['Jane Levy'], dtype='<U9'),\n",
              "                 array(['Jane Levy'], dtype='<U9')]], dtype=object), array([[array([[1072.926,  161.838, 1214.784,  303.696]]),\n",
              "                 array([[477.184, 100.352, 622.592, 245.76 ]]),\n",
              "                 array([[114.96964309, 114.96964309, 451.68657236, 451.68657236]]),\n",
              "                 ..., array([[  1,   1, 453, 640]], dtype=uint16),\n",
              "                 array([[144.75225472, 126.76472288, 305.78804127, 287.80050943]]),\n",
              "                 array([[457.524,  41.748, 518.016, 102.24 ]])]], dtype=object), array([[1.45969291, 2.5431976 , 3.45557949, ...,       -inf, 4.45072452,\n",
              "                 2.13350269]]), array([[1.11897336, 1.85200773, 2.98566022, ...,        nan,        nan,\n",
              "                        nan]]), array([[array([\"'Lee' George Quinones\"], dtype='<U21'),\n",
              "                 array([\"'Weird Al' Yankovic\"], dtype='<U19'),\n",
              "                 array(['2 Chainz'], dtype='<U8'), ...,\n",
              "                 array(['Éric Caravaca'], dtype='<U13'),\n",
              "                 array(['Ólafur Darri Ólafsson'], dtype='<U21'),\n",
              "                 array(['Óscar Jaenada'], dtype='<U13')]], dtype=object), array([[6488, 6488, 6488, ..., 8410, 8410, 8410]], dtype=uint16))                                                                                           ]],\n",
              "       dtype=[('dob', 'O'), ('photo_taken', 'O'), ('full_path', 'O'), ('gender', 'O'), ('name', 'O'), ('face_location', 'O'), ('face_score', 'O'), ('second_face_score', 'O'), ('celeb_names', 'O'), ('celeb_id', 'O')])}"
            ]
          },
          "metadata": {},
          "execution_count": 66
        }
      ]
    },
    {
      "cell_type": "markdown",
      "source": [
        "## Extraction"
      ],
      "metadata": {
        "id": "b3xmfLjB8l_q"
      }
    },
    {
      "cell_type": "code",
      "source": [
        "root = meta['imdb'][0, 0]"
      ],
      "metadata": {
        "id": "7iGsEOYk8jnJ"
      },
      "execution_count": 67,
      "outputs": []
    },
    {
      "cell_type": "code",
      "source": [
        "desc = root.dtype.descr\n",
        "desc"
      ],
      "metadata": {
        "id": "vd-dxDZB8m2_",
        "colab": {
          "base_uri": "https://localhost:8080/"
        },
        "outputId": "c46bd158-5a6d-4641-ac24-138f726caca1"
      },
      "execution_count": 68,
      "outputs": [
        {
          "output_type": "execute_result",
          "data": {
            "text/plain": [
              "[('dob', '|O'),\n",
              " ('photo_taken', '|O'),\n",
              " ('full_path', '|O'),\n",
              " ('gender', '|O'),\n",
              " ('name', '|O'),\n",
              " ('face_location', '|O'),\n",
              " ('face_score', '|O'),\n",
              " ('second_face_score', '|O'),\n",
              " ('celeb_names', '|O'),\n",
              " ('celeb_id', '|O')]"
            ]
          },
          "metadata": {},
          "execution_count": 68
        }
      ]
    },
    {
      "cell_type": "code",
      "source": [
        "# EXERCISE: Fill in the missing code below.\n",
        "\n",
        "full_path = root[\"full_path\"][0]\n",
        "\n",
        "# Do the same for other attributes\n",
        "names = root['name'][0] # YOUR CODE HERE\n",
        "dob = root['dob'][0]# YOUR CODE HERE\n",
        "gender = root['gender'][0]# YOUR CODE HERE\n",
        "photo_taken = root['photo_taken'][0]# YOUR CODE HERE\n",
        "face_score = root['face_score'][0]# YOUR CODE HERE\n",
        "face_locations = root['face_location'][0]# YOUR CODE HERE\n",
        "second_face_score = root['second_face_score'][0]# YOUR CODE HERE\n",
        "celeb_names = root['celeb_names'][0]# YOUR CODE HERE\n",
        "celeb_ids = root['celeb_id'][0]# YOUR CODE HERE\n",
        "\n",
        "print('Filepaths: {}\\n\\n'\n",
        "      'Names: {}\\n\\n'\n",
        "      'Dates of birth: {}\\n\\n'\n",
        "      'Genders: {}\\n\\n'\n",
        "      'Years when the photos were taken: {}\\n\\n'\n",
        "      'Face scores: {}\\n\\n'\n",
        "      'Face locations: {}\\n\\n'\n",
        "      'Second face scores: {}\\n\\n'\n",
        "      'Celeb IDs: {}\\n\\n'\n",
        "      .format(full_path, names, dob, gender, photo_taken, face_score, face_locations, second_face_score, celeb_ids))"
      ],
      "metadata": {
        "id": "3M_WUcAd8nZn",
        "colab": {
          "base_uri": "https://localhost:8080/"
        },
        "outputId": "2a67bd13-2366-4ce2-fcce-8d4e5e59f729"
      },
      "execution_count": 69,
      "outputs": [
        {
          "output_type": "stream",
          "name": "stdout",
          "text": [
            "Filepaths: [array(['01/nm0000001_rm124825600_1899-5-10_1968.jpg'], dtype='<U43')\n",
            " array(['01/nm0000001_rm3343756032_1899-5-10_1970.jpg'], dtype='<U44')\n",
            " array(['01/nm0000001_rm577153792_1899-5-10_1968.jpg'], dtype='<U43') ...\n",
            " array(['08/nm3994408_rm926592512_1989-12-29_2011.jpg'], dtype='<U44')\n",
            " array(['08/nm3994408_rm943369728_1989-12-29_2011.jpg'], dtype='<U44')\n",
            " array(['08/nm3994408_rm976924160_1989-12-29_2011.jpg'], dtype='<U44')]\n",
            "\n",
            "Names: [array(['Fred Astaire'], dtype='<U12')\n",
            " array(['Fred Astaire'], dtype='<U12')\n",
            " array(['Fred Astaire'], dtype='<U12') ...\n",
            " array(['Jane Levy'], dtype='<U9') array(['Jane Levy'], dtype='<U9')\n",
            " array(['Jane Levy'], dtype='<U9')]\n",
            "\n",
            "Dates of birth: [693726 693726 693726 ... 726831 726831 726831]\n",
            "\n",
            "Genders: [1. 1. 1. ... 0. 0. 0.]\n",
            "\n",
            "Years when the photos were taken: [1968 1970 1968 ... 2011 2011 2011]\n",
            "\n",
            "Face scores: [1.45969291 2.5431976  3.45557949 ...       -inf 4.45072452 2.13350269]\n",
            "\n",
            "Face locations: [array([[1072.926,  161.838, 1214.784,  303.696]])\n",
            " array([[477.184, 100.352, 622.592, 245.76 ]])\n",
            " array([[114.96964309, 114.96964309, 451.68657236, 451.68657236]]) ...\n",
            " array([[  1,   1, 453, 640]], dtype=uint16)\n",
            " array([[144.75225472, 126.76472288, 305.78804127, 287.80050943]])\n",
            " array([[457.524,  41.748, 518.016, 102.24 ]])]\n",
            "\n",
            "Second face scores: [1.11897336 1.85200773 2.98566022 ...        nan        nan        nan]\n",
            "\n",
            "Celeb IDs: [6488 6488 6488 ... 8410 8410 8410]\n",
            "\n",
            "\n"
          ]
        }
      ]
    },
    {
      "cell_type": "code",
      "source": [
        "print('Celeb names: {}\\n\\n'.format(celeb_names))"
      ],
      "metadata": {
        "id": "FE4OyIe58otF",
        "colab": {
          "base_uri": "https://localhost:8080/"
        },
        "outputId": "76848a52-39ef-497e-a3e1-d42a274416af"
      },
      "execution_count": 70,
      "outputs": [
        {
          "output_type": "stream",
          "name": "stdout",
          "text": [
            "Celeb names: [array([\"'Lee' George Quinones\"], dtype='<U21')\n",
            " array([\"'Weird Al' Yankovic\"], dtype='<U19')\n",
            " array(['2 Chainz'], dtype='<U8') ...\n",
            " array(['Éric Caravaca'], dtype='<U13')\n",
            " array(['Ólafur Darri Ólafsson'], dtype='<U21')\n",
            " array(['Óscar Jaenada'], dtype='<U13')]\n",
            "\n",
            "\n"
          ]
        }
      ]
    },
    {
      "cell_type": "markdown",
      "source": [
        "Display all the distinct keys and their corresponding values"
      ],
      "metadata": {
        "id": "i3qposyN8t0-"
      }
    },
    {
      "cell_type": "code",
      "source": [
        "names = [x[0] for x in desc]\n",
        "names"
      ],
      "metadata": {
        "id": "RB2hIKqC8q1v",
        "colab": {
          "base_uri": "https://localhost:8080/"
        },
        "outputId": "ef259d7b-9b61-4bb2-f948-9bd13218bfb9"
      },
      "execution_count": 71,
      "outputs": [
        {
          "output_type": "execute_result",
          "data": {
            "text/plain": [
              "['dob',\n",
              " 'photo_taken',\n",
              " 'full_path',\n",
              " 'gender',\n",
              " 'name',\n",
              " 'face_location',\n",
              " 'face_score',\n",
              " 'second_face_score',\n",
              " 'celeb_names',\n",
              " 'celeb_id']"
            ]
          },
          "metadata": {},
          "execution_count": 71
        }
      ]
    },
    {
      "cell_type": "code",
      "source": [
        "values = {key: root[key][0] for key in names}\n",
        "values"
      ],
      "metadata": {
        "id": "vn31E-PV8rtS",
        "colab": {
          "base_uri": "https://localhost:8080/"
        },
        "outputId": "380fe2a3-9fef-4139-8a8e-38d63c2b03bf"
      },
      "execution_count": 72,
      "outputs": [
        {
          "output_type": "execute_result",
          "data": {
            "text/plain": [
              "{'dob': array([693726, 693726, 693726, ..., 726831, 726831, 726831], dtype=int32),\n",
              " 'photo_taken': array([1968, 1970, 1968, ..., 2011, 2011, 2011], dtype=uint16),\n",
              " 'full_path': array([array(['01/nm0000001_rm124825600_1899-5-10_1968.jpg'], dtype='<U43'),\n",
              "        array(['01/nm0000001_rm3343756032_1899-5-10_1970.jpg'], dtype='<U44'),\n",
              "        array(['01/nm0000001_rm577153792_1899-5-10_1968.jpg'], dtype='<U43'),\n",
              "        ...,\n",
              "        array(['08/nm3994408_rm926592512_1989-12-29_2011.jpg'], dtype='<U44'),\n",
              "        array(['08/nm3994408_rm943369728_1989-12-29_2011.jpg'], dtype='<U44'),\n",
              "        array(['08/nm3994408_rm976924160_1989-12-29_2011.jpg'], dtype='<U44')],\n",
              "       dtype=object),\n",
              " 'gender': array([1., 1., 1., ..., 0., 0., 0.]),\n",
              " 'name': array([array(['Fred Astaire'], dtype='<U12'),\n",
              "        array(['Fred Astaire'], dtype='<U12'),\n",
              "        array(['Fred Astaire'], dtype='<U12'), ...,\n",
              "        array(['Jane Levy'], dtype='<U9'),\n",
              "        array(['Jane Levy'], dtype='<U9'),\n",
              "        array(['Jane Levy'], dtype='<U9')], dtype=object),\n",
              " 'face_location': array([array([[1072.926,  161.838, 1214.784,  303.696]]),\n",
              "        array([[477.184, 100.352, 622.592, 245.76 ]]),\n",
              "        array([[114.96964309, 114.96964309, 451.68657236, 451.68657236]]),\n",
              "        ..., array([[  1,   1, 453, 640]], dtype=uint16),\n",
              "        array([[144.75225472, 126.76472288, 305.78804127, 287.80050943]]),\n",
              "        array([[457.524,  41.748, 518.016, 102.24 ]])], dtype=object),\n",
              " 'face_score': array([1.45969291, 2.5431976 , 3.45557949, ...,       -inf, 4.45072452,\n",
              "        2.13350269]),\n",
              " 'second_face_score': array([1.11897336, 1.85200773, 2.98566022, ...,        nan,        nan,\n",
              "               nan]),\n",
              " 'celeb_names': array([array([\"'Lee' George Quinones\"], dtype='<U21'),\n",
              "        array([\"'Weird Al' Yankovic\"], dtype='<U19'),\n",
              "        array(['2 Chainz'], dtype='<U8'), ...,\n",
              "        array(['Éric Caravaca'], dtype='<U13'),\n",
              "        array(['Ólafur Darri Ólafsson'], dtype='<U21'),\n",
              "        array(['Óscar Jaenada'], dtype='<U13')], dtype=object),\n",
              " 'celeb_id': array([6488, 6488, 6488, ..., 8410, 8410, 8410], dtype=uint16)}"
            ]
          },
          "metadata": {},
          "execution_count": 72
        }
      ]
    },
    {
      "cell_type": "markdown",
      "source": [
        "## Cleanup"
      ],
      "metadata": {
        "id": "AQKlQ2WC8wG3"
      }
    },
    {
      "cell_type": "code",
      "source": [
        "del values['celeb_names']\n",
        "names.pop(names.index('celeb_names'))"
      ],
      "metadata": {
        "id": "D-S0Jlch8sbD",
        "colab": {
          "base_uri": "https://localhost:8080/",
          "height": 35
        },
        "outputId": "c7240fab-78ba-445a-c8f5-69be275498b2"
      },
      "execution_count": 73,
      "outputs": [
        {
          "output_type": "execute_result",
          "data": {
            "text/plain": [
              "'celeb_names'"
            ],
            "application/vnd.google.colaboratory.intrinsic+json": {
              "type": "string"
            }
          },
          "metadata": {},
          "execution_count": 73
        }
      ]
    },
    {
      "cell_type": "code",
      "source": [
        "for key, value in values.items():\n",
        "    print(key, len(value))"
      ],
      "metadata": {
        "id": "t2hRiuaL8wzW",
        "colab": {
          "base_uri": "https://localhost:8080/"
        },
        "outputId": "681e18e5-8ee0-4e51-a587-cabb55bf8230"
      },
      "execution_count": 74,
      "outputs": [
        {
          "output_type": "stream",
          "name": "stdout",
          "text": [
            "dob 460723\n",
            "photo_taken 460723\n",
            "full_path 460723\n",
            "gender 460723\n",
            "name 460723\n",
            "face_location 460723\n",
            "face_score 460723\n",
            "second_face_score 460723\n",
            "celeb_id 460723\n"
          ]
        }
      ]
    },
    {
      "cell_type": "markdown",
      "source": [
        "## Dataframe"
      ],
      "metadata": {
        "id": "e8FQOmvL8yvY"
      }
    },
    {
      "cell_type": "code",
      "source": [
        "df = pd.DataFrame(values, columns=names)\n",
        "df.head()"
      ],
      "metadata": {
        "id": "fivsws0n8xYg",
        "colab": {
          "base_uri": "https://localhost:8080/",
          "height": 426
        },
        "outputId": "fbb15158-afcb-473c-937c-276c78af7963"
      },
      "execution_count": 75,
      "outputs": [
        {
          "output_type": "execute_result",
          "data": {
            "text/plain": [
              "      dob  photo_taken                                       full_path  \\\n",
              "0  693726         1968   [01/nm0000001_rm124825600_1899-5-10_1968.jpg]   \n",
              "1  693726         1970  [01/nm0000001_rm3343756032_1899-5-10_1970.jpg]   \n",
              "2  693726         1968   [01/nm0000001_rm577153792_1899-5-10_1968.jpg]   \n",
              "3  693726         1968   [01/nm0000001_rm946909184_1899-5-10_1968.jpg]   \n",
              "4  693726         1968   [01/nm0000001_rm980463616_1899-5-10_1968.jpg]   \n",
              "\n",
              "   gender            name                                      face_location  \\\n",
              "0     1.0  [Fred Astaire]  [[1072.926, 161.838, 1214.7839999999999, 303.6...   \n",
              "1     1.0  [Fred Astaire]              [[477.184, 100.352, 622.592, 245.76]]   \n",
              "2     1.0  [Fred Astaire]  [[114.96964308962852, 114.96964308962852, 451....   \n",
              "3     1.0  [Fred Astaire]  [[622.8855056426588, 424.21750383700805, 844.3...   \n",
              "4     1.0  [Fred Astaire]  [[1013.8590023603723, 233.8820422075853, 1201....   \n",
              "\n",
              "   face_score  second_face_score  celeb_id  \n",
              "0    1.459693           1.118973      6488  \n",
              "1    2.543198           1.852008      6488  \n",
              "2    3.455579           2.985660      6488  \n",
              "3    1.872117                NaN      6488  \n",
              "4    1.158766                NaN      6488  "
            ],
            "text/html": [
              "\n",
              "  <div id=\"df-9366cbf8-3526-4cb9-9fb1-3b57b6f1d875\">\n",
              "    <div class=\"colab-df-container\">\n",
              "      <div>\n",
              "<style scoped>\n",
              "    .dataframe tbody tr th:only-of-type {\n",
              "        vertical-align: middle;\n",
              "    }\n",
              "\n",
              "    .dataframe tbody tr th {\n",
              "        vertical-align: top;\n",
              "    }\n",
              "\n",
              "    .dataframe thead th {\n",
              "        text-align: right;\n",
              "    }\n",
              "</style>\n",
              "<table border=\"1\" class=\"dataframe\">\n",
              "  <thead>\n",
              "    <tr style=\"text-align: right;\">\n",
              "      <th></th>\n",
              "      <th>dob</th>\n",
              "      <th>photo_taken</th>\n",
              "      <th>full_path</th>\n",
              "      <th>gender</th>\n",
              "      <th>name</th>\n",
              "      <th>face_location</th>\n",
              "      <th>face_score</th>\n",
              "      <th>second_face_score</th>\n",
              "      <th>celeb_id</th>\n",
              "    </tr>\n",
              "  </thead>\n",
              "  <tbody>\n",
              "    <tr>\n",
              "      <th>0</th>\n",
              "      <td>693726</td>\n",
              "      <td>1968</td>\n",
              "      <td>[01/nm0000001_rm124825600_1899-5-10_1968.jpg]</td>\n",
              "      <td>1.0</td>\n",
              "      <td>[Fred Astaire]</td>\n",
              "      <td>[[1072.926, 161.838, 1214.7839999999999, 303.6...</td>\n",
              "      <td>1.459693</td>\n",
              "      <td>1.118973</td>\n",
              "      <td>6488</td>\n",
              "    </tr>\n",
              "    <tr>\n",
              "      <th>1</th>\n",
              "      <td>693726</td>\n",
              "      <td>1970</td>\n",
              "      <td>[01/nm0000001_rm3343756032_1899-5-10_1970.jpg]</td>\n",
              "      <td>1.0</td>\n",
              "      <td>[Fred Astaire]</td>\n",
              "      <td>[[477.184, 100.352, 622.592, 245.76]]</td>\n",
              "      <td>2.543198</td>\n",
              "      <td>1.852008</td>\n",
              "      <td>6488</td>\n",
              "    </tr>\n",
              "    <tr>\n",
              "      <th>2</th>\n",
              "      <td>693726</td>\n",
              "      <td>1968</td>\n",
              "      <td>[01/nm0000001_rm577153792_1899-5-10_1968.jpg]</td>\n",
              "      <td>1.0</td>\n",
              "      <td>[Fred Astaire]</td>\n",
              "      <td>[[114.96964308962852, 114.96964308962852, 451....</td>\n",
              "      <td>3.455579</td>\n",
              "      <td>2.985660</td>\n",
              "      <td>6488</td>\n",
              "    </tr>\n",
              "    <tr>\n",
              "      <th>3</th>\n",
              "      <td>693726</td>\n",
              "      <td>1968</td>\n",
              "      <td>[01/nm0000001_rm946909184_1899-5-10_1968.jpg]</td>\n",
              "      <td>1.0</td>\n",
              "      <td>[Fred Astaire]</td>\n",
              "      <td>[[622.8855056426588, 424.21750383700805, 844.3...</td>\n",
              "      <td>1.872117</td>\n",
              "      <td>NaN</td>\n",
              "      <td>6488</td>\n",
              "    </tr>\n",
              "    <tr>\n",
              "      <th>4</th>\n",
              "      <td>693726</td>\n",
              "      <td>1968</td>\n",
              "      <td>[01/nm0000001_rm980463616_1899-5-10_1968.jpg]</td>\n",
              "      <td>1.0</td>\n",
              "      <td>[Fred Astaire]</td>\n",
              "      <td>[[1013.8590023603723, 233.8820422075853, 1201....</td>\n",
              "      <td>1.158766</td>\n",
              "      <td>NaN</td>\n",
              "      <td>6488</td>\n",
              "    </tr>\n",
              "  </tbody>\n",
              "</table>\n",
              "</div>\n",
              "      <button class=\"colab-df-convert\" onclick=\"convertToInteractive('df-9366cbf8-3526-4cb9-9fb1-3b57b6f1d875')\"\n",
              "              title=\"Convert this dataframe to an interactive table.\"\n",
              "              style=\"display:none;\">\n",
              "        \n",
              "  <svg xmlns=\"http://www.w3.org/2000/svg\" height=\"24px\"viewBox=\"0 0 24 24\"\n",
              "       width=\"24px\">\n",
              "    <path d=\"M0 0h24v24H0V0z\" fill=\"none\"/>\n",
              "    <path d=\"M18.56 5.44l.94 2.06.94-2.06 2.06-.94-2.06-.94-.94-2.06-.94 2.06-2.06.94zm-11 1L8.5 8.5l.94-2.06 2.06-.94-2.06-.94L8.5 2.5l-.94 2.06-2.06.94zm10 10l.94 2.06.94-2.06 2.06-.94-2.06-.94-.94-2.06-.94 2.06-2.06.94z\"/><path d=\"M17.41 7.96l-1.37-1.37c-.4-.4-.92-.59-1.43-.59-.52 0-1.04.2-1.43.59L10.3 9.45l-7.72 7.72c-.78.78-.78 2.05 0 2.83L4 21.41c.39.39.9.59 1.41.59.51 0 1.02-.2 1.41-.59l7.78-7.78 2.81-2.81c.8-.78.8-2.07 0-2.86zM5.41 20L4 18.59l7.72-7.72 1.47 1.35L5.41 20z\"/>\n",
              "  </svg>\n",
              "      </button>\n",
              "      \n",
              "  <style>\n",
              "    .colab-df-container {\n",
              "      display:flex;\n",
              "      flex-wrap:wrap;\n",
              "      gap: 12px;\n",
              "    }\n",
              "\n",
              "    .colab-df-convert {\n",
              "      background-color: #E8F0FE;\n",
              "      border: none;\n",
              "      border-radius: 50%;\n",
              "      cursor: pointer;\n",
              "      display: none;\n",
              "      fill: #1967D2;\n",
              "      height: 32px;\n",
              "      padding: 0 0 0 0;\n",
              "      width: 32px;\n",
              "    }\n",
              "\n",
              "    .colab-df-convert:hover {\n",
              "      background-color: #E2EBFA;\n",
              "      box-shadow: 0px 1px 2px rgba(60, 64, 67, 0.3), 0px 1px 3px 1px rgba(60, 64, 67, 0.15);\n",
              "      fill: #174EA6;\n",
              "    }\n",
              "\n",
              "    [theme=dark] .colab-df-convert {\n",
              "      background-color: #3B4455;\n",
              "      fill: #D2E3FC;\n",
              "    }\n",
              "\n",
              "    [theme=dark] .colab-df-convert:hover {\n",
              "      background-color: #434B5C;\n",
              "      box-shadow: 0px 1px 3px 1px rgba(0, 0, 0, 0.15);\n",
              "      filter: drop-shadow(0px 1px 2px rgba(0, 0, 0, 0.3));\n",
              "      fill: #FFFFFF;\n",
              "    }\n",
              "  </style>\n",
              "\n",
              "      <script>\n",
              "        const buttonEl =\n",
              "          document.querySelector('#df-9366cbf8-3526-4cb9-9fb1-3b57b6f1d875 button.colab-df-convert');\n",
              "        buttonEl.style.display =\n",
              "          google.colab.kernel.accessAllowed ? 'block' : 'none';\n",
              "\n",
              "        async function convertToInteractive(key) {\n",
              "          const element = document.querySelector('#df-9366cbf8-3526-4cb9-9fb1-3b57b6f1d875');\n",
              "          const dataTable =\n",
              "            await google.colab.kernel.invokeFunction('convertToInteractive',\n",
              "                                                     [key], {});\n",
              "          if (!dataTable) return;\n",
              "\n",
              "          const docLinkHtml = 'Like what you see? Visit the ' +\n",
              "            '<a target=\"_blank\" href=https://colab.research.google.com/notebooks/data_table.ipynb>data table notebook</a>'\n",
              "            + ' to learn more about interactive tables.';\n",
              "          element.innerHTML = '';\n",
              "          dataTable['output_type'] = 'display_data';\n",
              "          await google.colab.output.renderOutput(dataTable, element);\n",
              "          const docLink = document.createElement('div');\n",
              "          docLink.innerHTML = docLinkHtml;\n",
              "          element.appendChild(docLink);\n",
              "        }\n",
              "      </script>\n",
              "    </div>\n",
              "  </div>\n",
              "  "
            ]
          },
          "metadata": {},
          "execution_count": 75
        }
      ]
    },
    {
      "cell_type": "code",
      "source": [
        "df.isna().sum()"
      ],
      "metadata": {
        "id": "c5CDDl2f8yY0",
        "colab": {
          "base_uri": "https://localhost:8080/"
        },
        "outputId": "d67335e3-f9c5-4ba1-dccf-5c6221228f3d"
      },
      "execution_count": 76,
      "outputs": [
        {
          "output_type": "execute_result",
          "data": {
            "text/plain": [
              "dob                       0\n",
              "photo_taken               0\n",
              "full_path                 0\n",
              "gender                 8462\n",
              "name                      0\n",
              "face_location             0\n",
              "face_score                0\n",
              "second_face_score    246926\n",
              "celeb_id                  0\n",
              "dtype: int64"
            ]
          },
          "metadata": {},
          "execution_count": 76
        }
      ]
    },
    {
      "cell_type": "markdown",
      "source": [
        "## TensorFlow Datasets\n",
        "\n",
        "TFDS provides a way to transform all those datasets into a standard format, do the preprocessing necessary to make them ready for a machine learning pipeline, and provides a standard input pipeline using `tf.data`.\n",
        "\n",
        "To enable this, each dataset implements a subclass of `DatasetBuilder`, which specifies:\n",
        "\n",
        "* Where the data is coming from (i.e. its URL). \n",
        "* What the dataset looks like (i.e. its features).  \n",
        "* How the data should be split (e.g. TRAIN and TEST). \n",
        "* The individual records in the dataset.\n",
        "\n",
        "The first time a dataset is used, the dataset is downloaded, prepared, and written to disk in a standard format. Subsequent access will read from those pre-processed files directly."
      ],
      "metadata": {
        "id": "dCk4G84f84Jn"
      }
    },
    {
      "cell_type": "markdown",
      "source": [
        "## Clone the TFDS Repository\n",
        "\n",
        "The next step will be to clone the GitHub TFDS Repository. For this particular notebook, we will clone a particular version of the repository. You can clone the repository by running the following command:"
      ],
      "metadata": {
        "id": "DEhxpW7l83CU"
      }
    },
    {
      "cell_type": "code",
      "source": [
        "!git clone https://github.com/tensorflow/datasets.git -b v1.2.0"
      ],
      "metadata": {
        "id": "sNrxLV5p809t",
        "colab": {
          "base_uri": "https://localhost:8080/"
        },
        "outputId": "5904add7-4683-4dbd-e60b-8f3a64438394"
      },
      "execution_count": 77,
      "outputs": [
        {
          "output_type": "stream",
          "name": "stdout",
          "text": [
            "Cloning into 'datasets'...\n",
            "remote: Enumerating objects: 82919, done.\u001b[K\n",
            "remote: Counting objects: 100% (1303/1303), done.\u001b[K\n",
            "remote: Compressing objects: 100% (477/477), done.\u001b[K\n",
            "remote: Total 82919 (delta 651), reused 1202 (delta 600), pack-reused 81616\u001b[K\n",
            "Receiving objects: 100% (82919/82919), 956.46 MiB | 32.68 MiB/s, done.\n",
            "Resolving deltas: 100% (56698/56698), done.\n",
            "Note: checking out 'dc4b79f5c4dbdb0db1c5b614f8d790bdc0013de1'.\n",
            "\n",
            "You are in 'detached HEAD' state. You can look around, make experimental\n",
            "changes and commit them, and you can discard any commits you make in this\n",
            "state without impacting any branches by performing another checkout.\n",
            "\n",
            "If you want to create a new branch to retain commits you create, you may\n",
            "do so (now or later) by using -b with the checkout command again. Example:\n",
            "\n",
            "  git checkout -b <new-branch-name>\n",
            "\n",
            "Checking out files: 100% (4185/4185), done.\n"
          ]
        }
      ]
    },
    {
      "cell_type": "code",
      "source": [
        "cd /content/datasets"
      ],
      "metadata": {
        "id": "Cxatnn_T85zc",
        "colab": {
          "base_uri": "https://localhost:8080/"
        },
        "outputId": "97f05fd2-cbf0-4b8f-9ed1-799fedcaf17f"
      },
      "execution_count": 78,
      "outputs": [
        {
          "output_type": "stream",
          "name": "stdout",
          "text": [
            "/content/datasets\n"
          ]
        }
      ]
    },
    {
      "cell_type": "code",
      "source": [
        "%%writefile something.py\n",
        "x = 10"
      ],
      "metadata": {
        "id": "KM7nJbg3880X",
        "colab": {
          "base_uri": "https://localhost:8080/"
        },
        "outputId": "0ae22100-54a7-4d3c-9136-42faa5a3bfd0"
      },
      "execution_count": 79,
      "outputs": [
        {
          "output_type": "stream",
          "name": "stdout",
          "text": [
            "Writing something.py\n"
          ]
        }
      ]
    },
    {
      "cell_type": "code",
      "source": [
        "!cat something.py"
      ],
      "metadata": {
        "id": "CpzBHhRH8-wL",
        "colab": {
          "base_uri": "https://localhost:8080/"
        },
        "outputId": "0140986e-be63-4796-ddac-8bf43c89b694"
      },
      "execution_count": 80,
      "outputs": [
        {
          "output_type": "stream",
          "name": "stdout",
          "text": [
            "x = 10\n"
          ]
        }
      ]
    },
    {
      "cell_type": "markdown",
      "source": [
        "## Define the Dataset with `GeneratorBasedBuilder`\n",
        "\n",
        "Most datasets subclass `tfds.core.GeneratorBasedBuilder`, which is a subclass of `tfds.core.DatasetBuilder` that simplifies defining a dataset. It works well for datasets that can be generated on a single machine. Its subclasses implement:\n",
        "\n",
        "* `_info`: builds the DatasetInfo object describing the dataset\n",
        "\n",
        "\n",
        "* `_split_generators`: downloads the source data and defines the dataset splits\n",
        "\n",
        "\n",
        "* `_generate_examples`: yields (key, example) tuples in the dataset from the source data\n",
        "\n",
        "In this exercise, you will use the `GeneratorBasedBuilder`.\n",
        "\n",
        "### EXERCISE: Fill in the missing code below."
      ],
      "metadata": {
        "id": "qofvCNCN9CFT"
      }
    },
    {
      "cell_type": "code",
      "source": [
        "\"\"\"IMDB Faces dataset.\"\"\"\n",
        "from __future__ import absolute_import\n",
        "from __future__ import division\n",
        "from __future__ import print_function\n",
        "\n",
        "import collections\n",
        "import os\n",
        "import re\n",
        "\n",
        "import tensorflow as tf\n",
        "import tensorflow_datasets.public_api as tfds\n",
        "\n",
        "_DESCRIPTION = \"\"\"\\\n",
        "Since the publicly available face image datasets are often of small to medium size, rarely exceeding tens of thousands of images, and often without age information we decided to collect a large dataset of celebrities. For this purpose, we took the list of the most popular 100,000 actors as listed on the IMDb website and (automatically) crawled from their profiles date of birth, name, gender and all images related to that person. Additionally we crawled all profile images from pages of people from Wikipedia with the same meta information. We removed the images without timestamp (the date when the photo was taken). Assuming that the images with single faces are likely to show the actor and that the timestamp and date of birth are correct, we were able to assign to each such image the biological (real) age. Of course, we can not vouch for the accuracy of the assigned age information. Besides wrong timestamps, many images are stills from movies - movies that can have extended production times. In total we obtained 460,723 face images from 20,284 celebrities from IMDb and 62,328 from Wikipedia, thus 523,051 in total.\n",
        "\n",
        "As some of the images (especially from IMDb) contain several people we only use the photos where the second strongest face detection is below a threshold. For the network to be equally discriminative for all ages, we equalize the age distribution for training. For more details please the see the paper. \n",
        "\"\"\"\n",
        "\n",
        "_URL = (\"https://data.vision.ee.ethz.ch/cvl/rrothe/imdb-wiki/\")\n",
        "_DATASET_ROOT_DIR = 'imdb_crop' # Put the name of the dataset root directory here\n",
        "_ANNOTATION_FILE = 'imdb.mat' # Put the name of annotation file here (.mat file)\n",
        "\n",
        "\n",
        "_CITATION = \"\"\"\\\n",
        "@article{Rothe-IJCV-2016,\n",
        "  author = {Rasmus Rothe and Radu Timofte and Luc Van Gool},\n",
        "  title = {Deep expectation of real and apparent age from a single image without facial landmarks},\n",
        "  journal = {International Journal of Computer Vision},\n",
        "  volume={126},\n",
        "  number={2-4},\n",
        "  pages={144--157},\n",
        "  year={2018},\n",
        "  publisher={Springer}\n",
        "}\n",
        "@InProceedings{Rothe-ICCVW-2015,\n",
        "  author = {Rasmus Rothe and Radu Timofte and Luc Van Gool},\n",
        "  title = {DEX: Deep EXpectation of apparent age from a single image},\n",
        "  booktitle = {IEEE International Conference on Computer Vision Workshops (ICCVW)},\n",
        "  year = {2015},\n",
        "  month = {December},\n",
        "}\n",
        "\"\"\"\n",
        "\n",
        "# Source URL of the IMDB faces dataset\n",
        "_TARBALL_URL = \"https://data.vision.ee.ethz.ch/cvl/rrothe/imdb-wiki/static/imdb_crop.tar\"\n",
        "\n",
        "class ImdbFaces(tfds.core.GeneratorBasedBuilder):\n",
        "  \"\"\"IMDB Faces dataset.\"\"\"\n",
        "\n",
        "  VERSION = tfds.core.Version(\"0.1.0\")\n",
        "  \n",
        "  def _info(self):\n",
        "    return tfds.core.DatasetInfo(\n",
        "        builder=self,\n",
        "        description=_DESCRIPTION,\n",
        "        # Describe the features of the dataset by following this url\n",
        "        # https://www.tensorflow.org/datasets/api_docs/python/tfds/features\n",
        "        features=tfds.features.FeaturesDict({\n",
        "            \"image\":tfds.features.Image(), # Create a tfds Image feature here\n",
        "            \"gender\":tfds.features.ClassLabel(num_classes=2),  # Create a tfds Class Label feature here for the two classes (Female, Male)\n",
        "            \"dob\":tf.int32, # YOUR CODE HERE\n",
        "            \"photo_taken\":tf.int32, # YOUR CODE HERE\n",
        "            \"face_location\":tfds.features.BBoxFeature(), # Create a tfds Bounding box feature here\n",
        "            \"face_score\":tf.float32, # YOUR CODE HERE\n",
        "            \"second_face_score\":tf.float32, # YOUR CODE HERE\n",
        "            \"celeb_id\":tf.int32 # YOUR CODE HERE\n",
        "        }),\n",
        "        supervised_keys=(\"image\", \"gender\"),\n",
        "        urls=[_URL],\n",
        "        citation=_CITATION)\n",
        "\n",
        "  def _split_generators(self, dl_manager):\n",
        "    # Download the dataset and then extract it.\n",
        "    download_path = dl_manager.download([_TARBALL_URL])\n",
        "    extracted_path = dl_manager.download_and_extract([_TARBALL_URL])\n",
        "\n",
        "    # Parsing the mat file which contains the list of train images\n",
        "    def parse_mat_file(file_name):\n",
        "      with tf.io.gfile.GFile(file_name, \"rb\") as f:\n",
        "        # Add a lazy import for scipy.io and import the loadmat method to \n",
        "        # load the annotation file\n",
        "        dataset = tfds.core.lazy_imports.scipy.io.loadmat(file_name)# YOUR CODE HERE\n",
        "      return dataset\n",
        "\n",
        "    # Parsing the mat file by using scipy's loadmat method\n",
        "    # Pass the path to the annotation file using the downloaded/extracted paths above\n",
        "    meta = parse_mat_file(os.path.join(extracted_path[0], _DATASET_ROOT_DIR, _ANNOTATION_FILE))# YOUR CODE HERE)\n",
        "\n",
        "    # Get the names of celebrities from the metadata\n",
        "    # celeb_names = meta[0,0][\"celeb_names\"][0]  # YOUR CODE HERE\n",
        "    celeb_names = meta['imdb'][\"celeb_names\"][0]# YOUR CODE HERE\n",
        "\n",
        "    # Create tuples out of the distinct set of genders and celeb names\n",
        "    self.info.features['gender'].names = tuple(\"Female\",\"Male\") # YOUR CODE HERE\n",
        "    self.info.features['celeb_id'].names = tuple([x[0] for x in celeb_names]) # YOUR CODE HERE\n",
        "\n",
        "    return [\n",
        "        tfds.core.SplitGenerator(\n",
        "            name=tfds.Split.TRAIN,\n",
        "            gen_kwargs={\n",
        "                \"image_dir\": extracted_path[0],\n",
        "                \"metadata\": meta,\n",
        "            })\n",
        "    ]\n",
        "\n",
        "  def _get_bounding_box_values(self, bbox_annotations, img_width, img_height):\n",
        "    \"\"\"Function to get normalized bounding box values.\n",
        "\n",
        "    Args:\n",
        "      bbox_annotations: list of bbox values in kitti format\n",
        "      img_width: image width\n",
        "      img_height: image height\n",
        "\n",
        "    Returns:\n",
        "      Normalized bounding box xmin, ymin, xmax, ymax values\n",
        "    \"\"\"\n",
        "\n",
        "    ymin = bbox_annotations[0] / img_height\n",
        "    xmin = bbox_annotations[1] / img_width\n",
        "    ymax = bbox_annotations[2] / img_height\n",
        "    xmax = bbox_annotations[3] / img_width\n",
        "    return ymin, xmin, ymax, xmax\n",
        "  \n",
        "  def _get_image_shape(self, image_path):\n",
        "    image = tf.io.read_file(image_path)\n",
        "    image = tf.image.decode_image(image, channels=3)\n",
        "    shape = image.shape[:2]\n",
        "    return shape\n",
        "\n",
        "  def _generate_examples(self, image_dir, metadata):\n",
        "    # Add a lazy import for pandas here (pd)\n",
        "    pd = tfds.core.lazy_imports.pandas# YOUR CODE HERE\n",
        "\n",
        "    # Extract the root dictionary from the metadata so that you can query all the keys inside it\n",
        "    root = metadata[0, 0]\n",
        "\n",
        "    \"\"\"Extract image names, dobs, genders,  \n",
        "               face locations, \n",
        "               year when the photos were taken,\n",
        "               face scores (second face score too),\n",
        "               celeb ids\n",
        "    \"\"\"\n",
        "    image_names = root[\"full_path\"][0]\n",
        "        \n",
        "    # Do the same for other attributes (dob, genders etc)\n",
        "    dobs = root[\"dob\"][0]# YOUR CODE HERE\n",
        "    genders = root[\"gender\"][0]# YOUR CODE HERE\n",
        "    face_locations = root[\"face_location\"][0]# YOUR CODE HERE\n",
        "    photo_taken_years = root[\"photo_taken\"][0] # YOUR CODE HERE\n",
        "    face_scores = root[\"face_score\"][0] # YOUR CODE HERE\n",
        "    second_face_scores = root[\"second_face_score\"][0] # YOUR CODE HERE\n",
        "    celeb_id = root[\"celeb_id\"][0] # YOUR CODE HERE\n",
        "        \n",
        "    # Now create a dataframe out of all the features like you've seen before\n",
        "    df = pd.DataFrame(\n",
        "        list(zip(image_names,\n",
        "                 dobs,\n",
        "                 genders,\n",
        "                 face_locations,\n",
        "                 photo_taken_years,\n",
        "                 face_scores,\n",
        "                 second_face_scores,\n",
        "                 celeb_id)\n",
        "            ),\n",
        "        columns=['image_names', \n",
        "                 'dobs', \n",
        "                 'genders', \n",
        "                 'face_locations',\n",
        "                 'photo_taken_years',\n",
        "                 'face_scores',\n",
        "                 'second_face_scores',\n",
        "                 'celeb_ids'\n",
        "                ]\n",
        "    )# YOUR CODE HERE\n",
        "\n",
        "    # Filter dataframe by only having the rows with face_scores > 1.0\n",
        "    df = df[df['face_scores'] > 1.0] # YOUR CODE HERE\n",
        "\n",
        "\n",
        "    # Remove any records that contain Nulls/NaNs by checking for NaN with .isna()\n",
        "    df = df[~df['genders'].isna()]\n",
        "    df = df[~df['second_face_scores'].isna()]# YOUR CODE HERE\n",
        "\n",
        "    # Cast genders to integers so that mapping can take place\n",
        "    df.genders = df.genders.astype(int)# YOUR CODE HERE\n",
        "\n",
        "    # Iterate over all the rows in the dataframe and map each feature\n",
        "    for _, row in df.iterrows():\n",
        "      # Extract filename, gender, dob, photo_taken, \n",
        "      # face_score, second_face_score and celeb_id\n",
        "      filename = os.path.join(image_dir, _DATASET_ROOT_DIR, row['image_names'][0])\n",
        "      gender = row['genders']\n",
        "      dob = row['dobs']\n",
        "      photo_taken = row['photo_taken_years']\n",
        "      face_score = row['face_scores']\n",
        "      second_face_score = row['second_face_scores']\n",
        "      celeb_id = row['celeb_ids']\n",
        "\n",
        "      # Get the image shape\n",
        "      image_width, image_height = self._get_image_shape(filename)\n",
        "      # Normalize the bounding boxes by using the face coordinates and the image shape\n",
        "      bbox = self._get_bounding_box_values(row['face_locations'][0], \n",
        "                                           image_width, image_height)\n",
        "\n",
        "      # Yield a feature dictionary \n",
        "      yield filename, {\n",
        "          \"image\": filename,\n",
        "          \"gender\": gender,\n",
        "          \"dob\": dob,\n",
        "          \"photo_taken\": photo_taken,\n",
        "          \"face_location\": tfds.features.BBox(# Create a bounding box (BBox) object out of the coordinates extracted\n",
        "              ymin=min(bbox[0],1.0),\n",
        "              xmin=min(bbox[1],1.0),\n",
        "              ymax=max(bbox[2],1.0),\n",
        "              xmax=max(bbox[3],1.0)), # Create a bounding box (BBox) object out of the coordinates extracted\n",
        "          \"face_score\": face_score,\n",
        "          \"second_face_score\": second_face_score,\n",
        "          \"celeb_id\": celeb_id\n",
        "      }"
      ],
      "metadata": {
        "id": "_Gw-_fOf9BKj"
      },
      "execution_count": 81,
      "outputs": []
    },
    {
      "cell_type": "markdown",
      "source": [
        "## Add an Import for Registration\n",
        "\n",
        "All subclasses of `tfds.core.DatasetBuilder` are automatically registered when their module is imported such that they can be accessed through `tfds.builder` and `tfds.load`.\n",
        "\n",
        "If you're contributing the dataset to `tensorflow/datasets`, you must add the module import to its subdirectory's `__init__.py` (e.g. `image/__init__.py`), as shown below:"
      ],
      "metadata": {
        "id": "2ELc692m9KBh"
      }
    },
    {
      "cell_type": "code",
      "source": [
        "%%writefile tensorflow_datasets/image/__init__.py\n",
        "\"\"\"Image datasets.\"\"\"\n",
        "\n",
        "from tensorflow_datasets.image.abstract_reasoning import AbstractReasoning\n",
        "from tensorflow_datasets.image.aflw2k3d import Aflw2k3d\n",
        "from tensorflow_datasets.image.bigearthnet import Bigearthnet\n",
        "from tensorflow_datasets.image.binarized_mnist import BinarizedMNIST\n",
        "from tensorflow_datasets.image.binary_alpha_digits import BinaryAlphaDigits\n",
        "from tensorflow_datasets.image.caltech import Caltech101\n",
        "from tensorflow_datasets.image.caltech_birds import CaltechBirds2010\n",
        "from tensorflow_datasets.image.cats_vs_dogs import CatsVsDogs\n",
        "from tensorflow_datasets.image.cbis_ddsm import CuratedBreastImagingDDSM\n",
        "from tensorflow_datasets.image.celeba import CelebA\n",
        "from tensorflow_datasets.image.celebahq import CelebAHq\n",
        "from tensorflow_datasets.image.chexpert import Chexpert\n",
        "from tensorflow_datasets.image.cifar import Cifar10\n",
        "from tensorflow_datasets.image.cifar import Cifar100\n",
        "from tensorflow_datasets.image.cifar10_corrupted import Cifar10Corrupted\n",
        "from tensorflow_datasets.image.clevr import CLEVR\n",
        "from tensorflow_datasets.image.coco import Coco\n",
        "from tensorflow_datasets.image.coco2014_legacy import Coco2014\n",
        "from tensorflow_datasets.image.coil100 import Coil100\n",
        "from tensorflow_datasets.image.colorectal_histology import ColorectalHistology\n",
        "from tensorflow_datasets.image.colorectal_histology import ColorectalHistologyLarge\n",
        "from tensorflow_datasets.image.cycle_gan import CycleGAN\n",
        "from tensorflow_datasets.image.deep_weeds import DeepWeeds\n",
        "from tensorflow_datasets.image.diabetic_retinopathy_detection import DiabeticRetinopathyDetection\n",
        "from tensorflow_datasets.image.downsampled_imagenet import DownsampledImagenet\n",
        "from tensorflow_datasets.image.dsprites import Dsprites\n",
        "from tensorflow_datasets.image.dtd import Dtd\n",
        "from tensorflow_datasets.image.eurosat import Eurosat\n",
        "from tensorflow_datasets.image.flowers import TFFlowers\n",
        "from tensorflow_datasets.image.food101 import Food101\n",
        "from tensorflow_datasets.image.horses_or_humans import HorsesOrHumans\n",
        "from tensorflow_datasets.image.image_folder import ImageLabelFolder\n",
        "from tensorflow_datasets.image.imagenet import Imagenet2012\n",
        "from tensorflow_datasets.image.imagenet2012_corrupted import Imagenet2012Corrupted\n",
        "from tensorflow_datasets.image.kitti import Kitti\n",
        "from tensorflow_datasets.image.lfw import LFW\n",
        "from tensorflow_datasets.image.lsun import Lsun\n",
        "from tensorflow_datasets.image.mnist import EMNIST\n",
        "from tensorflow_datasets.image.mnist import FashionMNIST\n",
        "from tensorflow_datasets.image.mnist import KMNIST\n",
        "from tensorflow_datasets.image.mnist import MNIST\n",
        "from tensorflow_datasets.image.mnist_corrupted import MNISTCorrupted\n",
        "from tensorflow_datasets.image.omniglot import Omniglot\n",
        "from tensorflow_datasets.image.open_images import OpenImagesV4\n",
        "from tensorflow_datasets.image.oxford_flowers102 import OxfordFlowers102\n",
        "from tensorflow_datasets.image.oxford_iiit_pet import OxfordIIITPet\n",
        "from tensorflow_datasets.image.patch_camelyon import PatchCamelyon\n",
        "from tensorflow_datasets.image.pet_finder import PetFinder\n",
        "from tensorflow_datasets.image.quickdraw import QuickdrawBitmap\n",
        "from tensorflow_datasets.image.resisc45 import Resisc45\n",
        "from tensorflow_datasets.image.rock_paper_scissors import RockPaperScissors\n",
        "from tensorflow_datasets.image.scene_parse_150 import SceneParse150\n",
        "from tensorflow_datasets.image.shapes3d import Shapes3d\n",
        "from tensorflow_datasets.image.smallnorb import Smallnorb\n",
        "from tensorflow_datasets.image.so2sat import So2sat\n",
        "from tensorflow_datasets.image.stanford_dogs import StanfordDogs\n",
        "from tensorflow_datasets.image.stanford_online_products import StanfordOnlineProducts\n",
        "from tensorflow_datasets.image.sun import Sun397\n",
        "from tensorflow_datasets.image.svhn import SvhnCropped\n",
        "from tensorflow_datasets.image.uc_merced import UcMerced\n",
        "from tensorflow_datasets.image.visual_domain_decathlon import VisualDomainDecathlon\n",
        "from tensorflow_datasets.image.voc import Voc2007\n",
        "\n",
        "# EXERCISE: Import your dataset module here\n",
        "\n",
        "# YOUR CODE HERE\n",
        "from tensorflow_datasets.image.imdb_faces import ImdbFaces"
      ],
      "metadata": {
        "id": "hQ9REqMV9GOr",
        "colab": {
          "base_uri": "https://localhost:8080/"
        },
        "outputId": "2b03539b-4cbd-40dd-f6cd-1e37c92fa443"
      },
      "execution_count": 82,
      "outputs": [
        {
          "output_type": "stream",
          "name": "stdout",
          "text": [
            "Overwriting tensorflow_datasets/image/__init__.py\n"
          ]
        }
      ]
    },
    {
      "cell_type": "markdown",
      "source": [
        "## URL Checksums\n",
        "\n",
        "If you're contributing the dataset to `tensorflow/datasets`, add a checksums file for the dataset. On first download, the DownloadManager will automatically add the sizes and checksums for all downloaded URLs to that file. This ensures that on subsequent data generation, the downloaded files are as expected."
      ],
      "metadata": {
        "id": "0S1jkDaP9OWw"
      }
    },
    {
      "cell_type": "code",
      "source": [
        "!touch tensorflow_datasets/url_checksums/imdb_faces.txt"
      ],
      "metadata": {
        "id": "iiybyO1h9NEP"
      },
      "execution_count": 83,
      "outputs": []
    },
    {
      "cell_type": "markdown",
      "source": [
        "\n",
        "## Build the Dataset"
      ],
      "metadata": {
        "id": "sElsr4HB9Qt4"
      }
    },
    {
      "cell_type": "code",
      "source": [
        "DATASET_NAME =  \"imdb_faces\" # YOUR CODE HERE"
      ],
      "metadata": {
        "id": "UlO99UqG9PVI"
      },
      "execution_count": 84,
      "outputs": []
    },
    {
      "cell_type": "markdown",
      "source": [
        "# Advanced TensorFlow"
      ],
      "metadata": {
        "id": "Iy4FBBbsanVx"
      }
    },
    {
      "cell_type": "markdown",
      "source": [
        "# Getting Started with TensorFlow Hub\n",
        "\n",
        "[TensorFlow Hub](https://tfhub.dev/) is a repository of reusable TensorFlow machine learning modules. A module is a self-contained piece of a TensorFlow graph, along with its weights and assets, that can be reused across different tasks. These modules can be reused to solve new tasks with less training data, diminishing training time. \n",
        "\n",
        "In this notebook we will go over some basic examples to help you get started with TensorFlow Hub. In particular, we will cover the following topics:\n",
        "\n",
        "* Loading TensorFlow Hub Modules and Performing Inference.\n",
        "\n",
        "* Using TensorFlow Hub Modules with Keras.\n",
        "\n",
        "* Using Feature Vectors with Keras for Transfer Learning.\n",
        "\n",
        "* Saving and Running a TensorFlow Hub Module Locally.\n",
        "\n",
        "* Changing the Download Location of TensorFlow Hub Modules. "
      ],
      "metadata": {
        "id": "VpM-f5J0adCC"
      }
    },
    {
      "cell_type": "code",
      "source": [
        "try:\n",
        "    %tensorflow_version 2.x\n",
        "except:\n",
        "    pass"
      ],
      "metadata": {
        "colab": {
          "base_uri": "https://localhost:8080/"
        },
        "id": "91MW-Oz5asGo",
        "outputId": "a734f7c8-bd44-4548-f6cc-8e54c2cb5dcf"
      },
      "execution_count": 85,
      "outputs": [
        {
          "output_type": "stream",
          "name": "stdout",
          "text": [
            "Colab only includes TensorFlow 2.x; %tensorflow_version has no effect.\n"
          ]
        }
      ]
    },
    {
      "cell_type": "code",
      "source": [
        "import os\n",
        "import numpy as np\n",
        "import matplotlib.pyplot as plt\n",
        "\n",
        "import tensorflow as tf\n",
        "import tensorflow_hub as hub\n",
        "\n",
        "from PIL import Image\n",
        "\n",
        "\n",
        "print(\"\\u2022 Using TensorFlow Version:\", tf.__version__)"
      ],
      "metadata": {
        "colab": {
          "base_uri": "https://localhost:8080/"
        },
        "id": "OBdgU5RYasUB",
        "outputId": "2d6e5a41-29f0-4f61-f93a-6e51aa8be4af"
      },
      "execution_count": 86,
      "outputs": [
        {
          "output_type": "stream",
          "name": "stdout",
          "text": [
            "• Using TensorFlow Version: 2.8.2\n"
          ]
        }
      ]
    },
    {
      "cell_type": "markdown",
      "source": [
        "## Download Test Image\n",
        "\n",
        "We will download the image of a puppy to test our TensorFlow Hub modules."
      ],
      "metadata": {
        "id": "FYxGPh7vaubJ"
      }
    },
    {
      "cell_type": "code",
      "source": [
        "!wget -O dog.jpeg https://cdn.pixabay.com/photo/2016/12/13/05/15/puppy-1903313_960_720.jpg\n",
        "    \n",
        "original_image = Image.open('./dog.jpeg')"
      ],
      "metadata": {
        "colab": {
          "base_uri": "https://localhost:8080/"
        },
        "id": "qy9JG6-XatN6",
        "outputId": "fdb3910e-28b8-4885-cb01-d4569d5a2695"
      },
      "execution_count": 87,
      "outputs": [
        {
          "output_type": "stream",
          "name": "stdout",
          "text": [
            "--2022-09-14 14:33:06--  https://cdn.pixabay.com/photo/2016/12/13/05/15/puppy-1903313_960_720.jpg\n",
            "Resolving cdn.pixabay.com (cdn.pixabay.com)... 172.64.150.12, 104.18.37.244, 2606:4700:4400::ac40:960c, ...\n",
            "Connecting to cdn.pixabay.com (cdn.pixabay.com)|172.64.150.12|:443... connected.\n",
            "HTTP request sent, awaiting response... 200 OK\n",
            "Length: 109345 (107K) [image/jpeg]\n",
            "Saving to: ‘dog.jpeg’\n",
            "\n",
            "dog.jpeg            100%[===================>] 106.78K  --.-KB/s    in 0.02s   \n",
            "\n",
            "2022-09-14 14:33:06 (5.25 MB/s) - ‘dog.jpeg’ saved [109345/109345]\n",
            "\n"
          ]
        }
      ]
    },
    {
      "cell_type": "code",
      "source": [
        "plt.figure(figsize=(6,6))\n",
        "plt.imshow(original_image)\n",
        "plt.show()"
      ],
      "metadata": {
        "colab": {
          "base_uri": "https://localhost:8080/",
          "height": 275
        },
        "id": "EgYhUXeyavUs",
        "outputId": "ead5a6bd-6da8-4022-87c4-9a3211076998"
      },
      "execution_count": 88,
      "outputs": [
        {
          "output_type": "display_data",
          "data": {
            "text/plain": [
              "<Figure size 432x432 with 1 Axes>"
            ],
            "image/png": "[encoded data removed]"
          },
          "metadata": {
            "needs_background": "light"
          }
        }
      ]
    },
    {
      "cell_type": "markdown",
      "source": [
        "## Format Image\n",
        "\n",
        "We will now resize and normalize our image so that is compatible with the module we are going to use. In this notebook we will use the [MobileNet](https://tfhub.dev/google/tf2-preview/mobilenet_v2/classification/4) model which was trained in ImageNet. For this module, the input images are expected to have color values in the range `[0,1]` and to have an input size of `(224,224)`."
      ],
      "metadata": {
        "id": "DE5Xs5nKayCo"
      }
    },
    {
      "cell_type": "code",
      "source": [
        "IMAGE_SIZE = (224, 224)\n",
        "    \n",
        "img = original_image.resize(IMAGE_SIZE)\n",
        "img = np.array(img) / 255.0"
      ],
      "metadata": {
        "id": "0AxFSCouawus"
      },
      "execution_count": 89,
      "outputs": []
    },
    {
      "cell_type": "code",
      "source": [
        "plt.figure(figsize=(5,5))\n",
        "plt.imshow(img)\n",
        "plt.title('New Image Size: {}'.format(img.shape), fontdict={'size': 16}, color='green')\n",
        "plt.show()"
      ],
      "metadata": {
        "colab": {
          "base_uri": "https://localhost:8080/",
          "height": 338
        },
        "id": "n7pkjYOnazKO",
        "outputId": "0b9a3572-3484-4e3c-a873-e8810fc10c66"
      },
      "execution_count": 90,
      "outputs": [
        {
          "output_type": "display_data",
          "data": {
            "text/plain": [
              "<Figure size 360x360 with 1 Axes>"
            ],
            "image/png": "[encoded data removed]"
          },
          "metadata": {
            "needs_background": "light"
          }
        }
      ]
    },
    {
      "cell_type": "markdown",
      "source": [
        "## Get ImageNet Labels\n",
        "\n",
        "We will now get the labels for all the 1001 classes in the ImageNet dataset."
      ],
      "metadata": {
        "id": "SpR794DWa1cx"
      }
    },
    {
      "cell_type": "code",
      "source": [
        "!wget -O labels.txt --quiet https://storage.googleapis.com/download.tensorflow.org/data/ImageNetLabels.txt\n",
        "\n",
        "with open('labels.txt', 'r') as f:\n",
        "    labels = [l.strip() for l in f.readlines()]\n",
        "\n",
        "# get number of labels\n",
        "num_classes = len(labels)\n",
        "\n",
        "print('There are a total of {0} labels representing {0} classes.\\n'.format(num_classes))"
      ],
      "metadata": {
        "colab": {
          "base_uri": "https://localhost:8080/"
        },
        "id": "jd2m3hDza0W9",
        "outputId": "9e03bf7d-269e-42d2-f283-2505e237c901"
      },
      "execution_count": 91,
      "outputs": [
        {
          "output_type": "stream",
          "name": "stdout",
          "text": [
            "There are a total of 1001 labels representing 1001 classes.\n",
            "\n"
          ]
        }
      ]
    },
    {
      "cell_type": "code",
      "source": [
        "for label in labels[0:5]:\n",
        "    print(label)"
      ],
      "metadata": {
        "colab": {
          "base_uri": "https://localhost:8080/"
        },
        "id": "tphJC6Qla2TD",
        "outputId": "75595d69-efd2-4414-9766-48d7f9e45c16"
      },
      "execution_count": 92,
      "outputs": [
        {
          "output_type": "stream",
          "name": "stdout",
          "text": [
            "background\n",
            "tench\n",
            "goldfish\n",
            "great white shark\n",
            "tiger shark\n"
          ]
        }
      ]
    },
    {
      "cell_type": "markdown",
      "source": [
        "## Loading a TensorFlow Hub Module\n",
        "\n",
        "To load a module, we use its unique **module handle**, which is just a URL string. To obtain the module handle, we have to browse through the catalog of modules in the [TensorFlow Hub](https://tfhub.dev/) website. \n",
        "\n",
        "For example, in this case, we will be using the complete **MobileNet** model. If we go to [MobileNet's webpage](https://tfhub.dev/google/tf2-preview/mobilenet_v2/classification/4) in the TensorFlow Hub website, we will see that the module handle for this module is:\n",
        "\n",
        "```\n",
        "'https://tfhub.dev/google/tf2-preview/mobilenet_v2/classification/4'\n",
        "```\n",
        "\n",
        "Finally, we'll make use of TensorFlow Hub's, `load` API to load the module into memory. "
      ],
      "metadata": {
        "id": "9BHK8_R8a4hB"
      }
    },
    {
      "cell_type": "code",
      "source": [
        "MODULE_HANDLE = 'https://tfhub.dev/google/tf2-preview/mobilenet_v2/classification/4'\n",
        "module = hub.load(MODULE_HANDLE)"
      ],
      "metadata": {
        "id": "oFTmc6Bga3Jp"
      },
      "execution_count": 93,
      "outputs": []
    },
    {
      "cell_type": "markdown",
      "source": [
        "## Performing Inference\n",
        "\n",
        "Once we have loaded the module, we can then start running inference on it. Note however, that the module generates the final layer's logits without any activations. Therefore, we have to apply the `softmax` activation to the module's output. The result will be a Tensor of shape `(1, 1001)`, where the first dimension refers to the batch size. In this case it is just `1` because we only passed 1 image. \n",
        "\n",
        "In the cell below, we will pass the image of the puppy and get the top 5 predictions from our model along with their probability scores."
      ],
      "metadata": {
        "id": "BiuOEHGma6mx"
      }
    },
    {
      "cell_type": "code",
      "source": [
        "predictions = tf.nn.softmax(module([img]))[0]\n",
        "\n",
        "top_k_pred_values, top_k_indices = tf.math.top_k(predictions, k=5)\n",
        "\n",
        "top_k_pred_values = top_k_pred_values.numpy()\n",
        "top_k_indices = top_k_indices.numpy()\n",
        "\n",
        "for value, i in zip(top_k_pred_values, top_k_indices):\n",
        "    print('{}: {:.3}'.format(labels[i], value))"
      ],
      "metadata": {
        "colab": {
          "base_uri": "https://localhost:8080/"
        },
        "id": "VnwImyPfa5le",
        "outputId": "6667bca0-cb08-4191-ee11-ba9c2cc01691"
      },
      "execution_count": 94,
      "outputs": [
        {
          "output_type": "stream",
          "name": "stdout",
          "text": [
            "Labrador retriever: 0.406\n",
            "Great Pyrenees: 0.0701\n",
            "kuvasz: 0.0577\n",
            "tennis ball: 0.0473\n",
            "Old English sheepdog: 0.0298\n"
          ]
        }
      ]
    },
    {
      "cell_type": "markdown",
      "source": [
        "## Using a TensorFlow Hub Module with Keras\n",
        "\n",
        "We can also integrate TensorFlow Hub modules into the high level Keras API. In this case, we make use of the `hub.KerasLayer` API to load it. We can add the `hub.KerasLayer` to a Keras `sequential` model along with an activation layer. Once the model is built, all the Keras model methods can be accessed like you would normally do in Keras."
      ],
      "metadata": {
        "id": "snFu6WJ9a83x"
      }
    },
    {
      "cell_type": "code",
      "source": [
        "model = tf.keras.Sequential([\n",
        "        hub.KerasLayer(MODULE_HANDLE,\n",
        "                       input_shape=IMAGE_SIZE + (3,)),\n",
        "        tf.keras.layers.Activation('softmax')\n",
        "])"
      ],
      "metadata": {
        "id": "3WqmM7zFa7pK"
      },
      "execution_count": 95,
      "outputs": []
    },
    {
      "cell_type": "markdown",
      "source": [
        "## Performing Inference\n",
        "\n",
        "To perform inference with the Keras model, we have to add a dimension to our image to account for the batch size. Remember that our Keras model expects the input to have shape `(batch_size, image_size)`, where the `image_size` includes the number of color channels."
      ],
      "metadata": {
        "id": "sSAlKvF6a-pC"
      }
    },
    {
      "cell_type": "code",
      "source": [
        "# Add batch dimension\n",
        "img_arr = np.expand_dims(img, axis=0)"
      ],
      "metadata": {
        "id": "IG5PeHP7a9tt"
      },
      "execution_count": 96,
      "outputs": []
    },
    {
      "cell_type": "markdown",
      "source": [
        "As we did previously, in the cell below we will pass the image of the puppy and get the top 5 predictions from our Keras model along with their probability scores."
      ],
      "metadata": {
        "id": "vlYUse3xbAhh"
      }
    },
    {
      "cell_type": "code",
      "source": [
        "predictions = model.predict(img_arr)[0]\n",
        " \n",
        "top_k_pred_values, top_k_indices = tf.math.top_k(predictions, k=5)\n",
        "\n",
        "top_k_pred_values = top_k_pred_values.numpy()\n",
        "top_k_indices = top_k_indices.numpy()\n",
        "\n",
        "for value, i in zip(top_k_pred_values, top_k_indices):\n",
        "    print('{}: {:.3}'.format(labels[i], value))"
      ],
      "metadata": {
        "colab": {
          "base_uri": "https://localhost:8080/"
        },
        "id": "BSy8TaCua_d4",
        "outputId": "90021b55-0a2b-47cc-aac0-47382bb3caa7"
      },
      "execution_count": 97,
      "outputs": [
        {
          "output_type": "stream",
          "name": "stdout",
          "text": [
            "Labrador retriever: 0.406\n",
            "Great Pyrenees: 0.0701\n",
            "kuvasz: 0.0577\n",
            "tennis ball: 0.0473\n",
            "Old English sheepdog: 0.0298\n"
          ]
        }
      ]
    },
    {
      "cell_type": "markdown",
      "source": [
        "## Using Feature Vectors with Keras\n",
        "\n",
        "While we can use complete models as we did in the previous section, perhaps, the most important part of TensorFlow Hub is in how it provides **Feature Vectors** that allows us to take advantage of transfer learning. Feature vectors are just complete modules that had their final classification head removed.\n",
        "\n",
        "In the cell below we show an example of how a feature vector can be added to a Keras `sequential` model."
      ],
      "metadata": {
        "id": "9162m_ysbFpp"
      }
    },
    {
      "cell_type": "code",
      "source": [
        "MODULE_HANDLE =\"https://tfhub.dev/google/tf2-preview/mobilenet_v2/feature_vector/4\""
      ],
      "metadata": {
        "id": "q4yzG9oObEh9"
      },
      "execution_count": 98,
      "outputs": []
    },
    {
      "cell_type": "code",
      "source": [
        "# Number of classes in the new dataset\n",
        "NUM_CLASSES = 20\n",
        "\n",
        "model = tf.keras.Sequential([\n",
        "        hub.KerasLayer(MODULE_HANDLE,\n",
        "                       input_shape=IMAGE_SIZE + (3,)),\n",
        "        tf.keras.layers.Dense(NUM_CLASSES, activation='softmax')\n",
        "])"
      ],
      "metadata": {
        "id": "BqObjc3-bHcA"
      },
      "execution_count": 99,
      "outputs": []
    },
    {
      "cell_type": "markdown",
      "source": [
        "Now that the model is built, the next step in transfer learning will be to train the model on a new dataset with the new classifier (i.e. the last layer of the model). Remember that the number of output units in the last layer will correspond to the number of classes in your new dataset. After the model has been trained, we can perform inference in the same way as with any Keras model (see previous section)."
      ],
      "metadata": {
        "id": "nNlTpYtUbJs5"
      }
    },
    {
      "cell_type": "markdown",
      "source": [
        "## Saving a TensorFlow Hub Module for Local Use\n",
        "\n",
        "We can download TensorFlow Hub modules, by explicitly downloading the module as a **SavedModel** archived as a tarball. This is useful if we want to work with the module offline.\n",
        "\n",
        "To do this, we first have to download the Hub module by appending a query parameter to the module handled URL string. This is done by setting the TF Hub format query parameter as shown below. For now, only the compressed option is defined."
      ],
      "metadata": {
        "id": "swIHKFTobK0s"
      }
    },
    {
      "cell_type": "code",
      "source": [
        "MODULE_HANDLE = 'https://tfhub.dev/google/tf2-preview/mobilenet_v2/classification/4?tf-hub-format=compressed'\n",
        "!wget -O ./saved_model.tar.gz $MODULE_HANDLE"
      ],
      "metadata": {
        "colab": {
          "base_uri": "https://localhost:8080/"
        },
        "id": "Pqp2C8B4bIFO",
        "outputId": "123a78bb-f69f-442b-d24a-d39923665bb6"
      },
      "execution_count": 100,
      "outputs": [
        {
          "output_type": "stream",
          "name": "stdout",
          "text": [
            "--2022-09-14 14:35:04--  https://tfhub.dev/google/tf2-preview/mobilenet_v2/classification/4?tf-hub-format=compressed\n",
            "Resolving tfhub.dev (tfhub.dev)... 173.194.193.102, 173.194.193.139, 173.194.193.138, ...\n",
            "Connecting to tfhub.dev (tfhub.dev)|173.194.193.102|:443... connected.\n",
            "HTTP request sent, awaiting response... 302 Found\n",
            "Location: https://storage.googleapis.com/tfhub-modules/google/tf2-preview/mobilenet_v2/classification/4.tar.gz [following]\n",
            "--2022-09-14 14:35:04--  https://storage.googleapis.com/tfhub-modules/google/tf2-preview/mobilenet_v2/classification/4.tar.gz\n",
            "Resolving storage.googleapis.com (storage.googleapis.com)... 209.85.200.128, 209.85.234.128, 142.250.152.128, ...\n",
            "Connecting to storage.googleapis.com (storage.googleapis.com)|209.85.200.128|:443... connected.\n",
            "HTTP request sent, awaiting response... 200 OK\n",
            "Length: 13256595 (13M) [application/x-tar]\n",
            "Saving to: ‘./saved_model.tar.gz’\n",
            "\n",
            "./saved_model.tar.g 100%[===================>]  12.64M  --.-KB/s    in 0.1s    \n",
            "\n",
            "2022-09-14 14:35:04 (86.2 MB/s) - ‘./saved_model.tar.gz’ saved [13256595/13256595]\n",
            "\n"
          ]
        }
      ]
    },
    {
      "cell_type": "code",
      "source": [
        "# Untar the tarball\n",
        "!mkdir -p ./saved_model\n",
        "!tar xvzf ./saved_model.tar.gz -C ./saved_model"
      ],
      "metadata": {
        "colab": {
          "base_uri": "https://localhost:8080/"
        },
        "id": "ji5_iFi3bMKO",
        "outputId": "468ced2e-e951-496c-ed21-ac1b5c68f9be"
      },
      "execution_count": 101,
      "outputs": [
        {
          "output_type": "stream",
          "name": "stdout",
          "text": [
            "./\n",
            "./assets/\n",
            "./saved_model.pb\n",
            "./variables/\n",
            "./variables/variables.index\n",
            "./variables/variables.data-00000-of-00001\n"
          ]
        }
      ]
    },
    {
      "cell_type": "markdown",
      "source": [
        "## Running a TensorFlow Hub Module Locally\n",
        "\n",
        "We can load the SavedModel containing the saved TensorFlow Hub module by using `hub.load`."
      ],
      "metadata": {
        "id": "As5NHpf7bOF5"
      }
    },
    {
      "cell_type": "code",
      "source": [
        "module = hub.load('./saved_model')"
      ],
      "metadata": {
        "id": "OXFasgOWbM29"
      },
      "execution_count": 102,
      "outputs": []
    },
    {
      "cell_type": "markdown",
      "source": [
        "After the TensorFlow Hub module is loaded, we can start making inferences as shown below. As before, we will pass the image of the puppy and get the top 5 predictions from our model along with their probability scores."
      ],
      "metadata": {
        "id": "yppStPMFbQZR"
      }
    },
    {
      "cell_type": "code",
      "source": [
        "predictions = tf.nn.softmax(module([img]))[0]\n",
        "\n",
        "top_k_pred_values, top_k_indices = tf.math.top_k(predictions, k=5)\n",
        "\n",
        "top_k_pred_values = top_k_pred_values.numpy()\n",
        "top_k_indices = top_k_indices.numpy()\n",
        "\n",
        "for value, i in zip(top_k_pred_values, top_k_indices):\n",
        "    print('{}: {:.3}'.format(labels[i], value))"
      ],
      "metadata": {
        "colab": {
          "base_uri": "https://localhost:8080/"
        },
        "id": "2QXer8lkbPdA",
        "outputId": "20b78599-321c-4ce5-82c8-03e9572d5403"
      },
      "execution_count": 103,
      "outputs": [
        {
          "output_type": "stream",
          "name": "stdout",
          "text": [
            "Labrador retriever: 0.406\n",
            "Great Pyrenees: 0.0701\n",
            "kuvasz: 0.0577\n",
            "tennis ball: 0.0473\n",
            "Old English sheepdog: 0.0298\n"
          ]
        }
      ]
    },
    {
      "cell_type": "markdown",
      "source": [
        "## Changing the Download Location of TensorFlow Hub Modules. \n",
        "\n",
        "Finally, we can change the download location of TensorFlow Hub modules to a more permanent location. We can do this by setting the environment variable `'TFHUB_CACHE_DIR'` to the directory we want our modules to be saved in. \n",
        "\n",
        "In Python, we can set this environment variable in the environment dictionary that's present in the Pythons `os` module as you can see below. "
      ],
      "metadata": {
        "id": "zWkXNEZPbSM0"
      }
    },
    {
      "cell_type": "code",
      "source": [
        "new_dir = './hub_cache_dir'\n",
        "\n",
        "os.environ['TFHUB_CACHE_DIR'] = new_dir"
      ],
      "metadata": {
        "id": "ykFUer7ebRMb"
      },
      "execution_count": 104,
      "outputs": []
    },
    {
      "cell_type": "code",
      "source": [
        "MODULE_HANDLE = 'https://tfhub.dev/google/tf2-preview/mobilenet_v2/classification/4'\n",
        "module = hub.load(MODULE_HANDLE)"
      ],
      "metadata": {
        "id": "TMhw4N8pbTM5"
      },
      "execution_count": 105,
      "outputs": []
    },
    {
      "cell_type": "markdown",
      "source": [
        "We can take a look the contents of the new directory and all its subdirectories by using the `-R` option."
      ],
      "metadata": {
        "id": "4zjA0IwSbW9q"
      }
    },
    {
      "cell_type": "code",
      "source": [
        "!ls -R {new_dir}"
      ],
      "metadata": {
        "colab": {
          "base_uri": "https://localhost:8080/"
        },
        "id": "1DdyWP7SbUFw",
        "outputId": "35f475c4-fb3e-4dfc-f5fe-e7ab38f46914"
      },
      "execution_count": 106,
      "outputs": [
        {
          "output_type": "stream",
          "name": "stdout",
          "text": [
            "./hub_cache_dir:\n",
            "426589ad685896ab7954855255a52db3442cb38d\n",
            "426589ad685896ab7954855255a52db3442cb38d.descriptor.txt\n",
            "\n",
            "./hub_cache_dir/426589ad685896ab7954855255a52db3442cb38d:\n",
            "assets\tsaved_model.pb\tvariables\n",
            "\n",
            "./hub_cache_dir/426589ad685896ab7954855255a52db3442cb38d/assets:\n",
            "\n",
            "./hub_cache_dir/426589ad685896ab7954855255a52db3442cb38d/variables:\n",
            "variables.data-00000-of-00001  variables.index\n"
          ]
        }
      ]
    },
    {
      "cell_type": "markdown",
      "source": [
        "# Getting Started with TensorFlow Serving\n",
        "\n",
        "In this notebook you will serve your first TensorFlow model with TensorFlow Serving. We will start by building a very simple model to infer the relationship:\n",
        "\n",
        "$$\n",
        "y = 2x - 1 \n",
        "$$\n",
        "\n",
        "between a few pairs of numbers. After training our model, we will serve it with TensorFlow Serving, and then we will make inference requests.\n"
      ],
      "metadata": {
        "id": "ySebxMrybaH4"
      }
    },
    {
      "cell_type": "code",
      "source": [
        "try:\n",
        "    %tensorflow_version 2.x\n",
        "except:\n",
        "    pass"
      ],
      "metadata": {
        "colab": {
          "base_uri": "https://localhost:8080/"
        },
        "id": "v7g6KYa9bU9Z",
        "outputId": "6f1f8656-3f5a-44d4-cfd1-db8bd5670a96"
      },
      "execution_count": 2,
      "outputs": [
        {
          "output_type": "stream",
          "name": "stdout",
          "text": [
            "Colab only includes TensorFlow 2.x; %tensorflow_version has no effect.\n"
          ]
        }
      ]
    },
    {
      "cell_type": "code",
      "source": [
        "import os\n",
        "import json\n",
        "import tempfile\n",
        "import requests\n",
        "import numpy as np\n",
        "\n",
        "import tensorflow as tf\n",
        "\n",
        "print(\"\\u2022 Using TensorFlow Version:\", tf.__version__)"
      ],
      "metadata": {
        "colab": {
          "base_uri": "https://localhost:8080/"
        },
        "id": "aS8LYaUUbctX",
        "outputId": "e1b58c5e-0955-48e7-e9c6-dab93f10bf67"
      },
      "execution_count": 3,
      "outputs": [
        {
          "output_type": "stream",
          "name": "stdout",
          "text": [
            "• Using TensorFlow Version: 2.8.2\n"
          ]
        }
      ]
    },
    {
      "cell_type": "markdown",
      "source": [
        "## Add TensorFlow Serving Distribution URI as a Package Source\n",
        "\n",
        "We will install TensorFlow Serving using [Aptitude](https://wiki.debian.org/Aptitude) (the default Debian package manager) since Google's Colab runs in a Debian environment. \n",
        "\n",
        "Before we can install TensorFlow Serving, we need to add the `tensorflow-model-server` package to the list of packages that Aptitude knows about. Note that we're running as root.\n",
        "\n",
        "**Note**: This notebook is running TensorFlow Serving natively, but [you can also run it in a Docker container](https://www.tensorflow.org/tfx/serving/docker), which is one of the easiest ways to get started using TensorFlow Serving. The Docker Engine is available for a variety of Linux platforms, Windows, and Mac."
      ],
      "metadata": {
        "id": "ORFQDvTgbeTJ"
      }
    },
    {
      "cell_type": "code",
      "source": [
        "!echo \"deb http://storage.googleapis.com/tensorflow-serving-apt stable tensorflow-model-server tensorflow-model-server-universal\" | tee /etc/apt/sources.list.d/tensorflow-serving.list && \\\n",
        "curl https://storage.googleapis.com/tensorflow-serving-apt/tensorflow-serving.release.pub.gpg | apt-key add -\n",
        "!apt update"
      ],
      "metadata": {
        "colab": {
          "base_uri": "https://localhost:8080/"
        },
        "id": "tCYPvYr0bdWl",
        "outputId": "5dd97dc6-917c-4889-8c4e-0307c28b8442"
      },
      "execution_count": 4,
      "outputs": [
        {
          "output_type": "stream",
          "name": "stdout",
          "text": [
            "deb http://storage.googleapis.com/tensorflow-serving-apt stable tensorflow-model-server tensorflow-model-server-universal\n",
            "  % Total    % Received % Xferd  Average Speed   Time    Time     Time  Current\n",
            "                                 Dload  Upload   Total   Spent    Left  Speed\n",
            "100  2943  100  2943    0     0  49050      0 --:--:-- --:--:-- --:--:-- 49050\n",
            "OK\n",
            "Get:1 http://storage.googleapis.com/tensorflow-serving-apt stable InRelease [3,026 B]\n",
            "Get:2 https://cloud.r-project.org/bin/linux/ubuntu bionic-cran40/ InRelease [3,626 B]\n",
            "Ign:3 https://developer.download.nvidia.com/compute/machine-learning/repos/ubuntu1804/x86_64  InRelease\n",
            "Hit:4 https://developer.download.nvidia.com/compute/cuda/repos/ubuntu1804/x86_64  InRelease\n",
            "Hit:5 https://developer.download.nvidia.com/compute/machine-learning/repos/ubuntu1804/x86_64  Release\n",
            "Get:6 http://security.ubuntu.com/ubuntu bionic-security InRelease [88.7 kB]\n",
            "Get:7 http://ppa.launchpad.net/c2d4u.team/c2d4u4.0+/ubuntu bionic InRelease [15.9 kB]\n",
            "Hit:8 http://archive.ubuntu.com/ubuntu bionic InRelease\n",
            "Get:9 http://archive.ubuntu.com/ubuntu bionic-updates InRelease [88.7 kB]\n",
            "Hit:10 http://ppa.launchpad.net/cran/libgit2/ubuntu bionic InRelease\n",
            "Get:11 http://storage.googleapis.com/tensorflow-serving-apt stable/tensorflow-model-server amd64 Packages [340 B]\n",
            "Get:12 http://storage.googleapis.com/tensorflow-serving-apt stable/tensorflow-model-server-universal amd64 Packages [349 B]\n",
            "Get:13 http://ppa.launchpad.net/deadsnakes/ppa/ubuntu bionic InRelease [15.9 kB]\n",
            "Get:14 http://archive.ubuntu.com/ubuntu bionic-backports InRelease [74.6 kB]\n",
            "Hit:15 http://ppa.launchpad.net/graphics-drivers/ppa/ubuntu bionic InRelease\n",
            "Get:17 http://ppa.launchpad.net/c2d4u.team/c2d4u4.0+/ubuntu bionic/main Sources [2,105 kB]\n",
            "Get:18 http://security.ubuntu.com/ubuntu bionic-security/universe amd64 Packages [1,540 kB]\n",
            "Get:19 http://ppa.launchpad.net/c2d4u.team/c2d4u4.0+/ubuntu bionic/main amd64 Packages [1,079 kB]\n",
            "Get:20 http://security.ubuntu.com/ubuntu bionic-security/main amd64 Packages [2,965 kB]\n",
            "Get:21 http://archive.ubuntu.com/ubuntu bionic-updates/universe amd64 Packages [2,318 kB]\n",
            "Get:22 http://archive.ubuntu.com/ubuntu bionic-updates/main amd64 Packages [3,397 kB]\n",
            "Get:23 http://ppa.launchpad.net/deadsnakes/ppa/ubuntu bionic/main amd64 Packages [45.2 kB]\n",
            "Fetched 13.7 MB in 7s (1,984 kB/s)\n",
            "Reading package lists... Done\n",
            "Building dependency tree       \n",
            "Reading state information... Done\n",
            "56 packages can be upgraded. Run 'apt list --upgradable' to see them.\n"
          ]
        }
      ]
    },
    {
      "cell_type": "markdown",
      "source": [
        "## Install TensorFlow Serving\n",
        "\n",
        "Now that the Aptitude packages have been updated, we can use the `apt-get` command to install the TensorFlow model server."
      ],
      "metadata": {
        "id": "BQzah2wXbhQY"
      }
    },
    {
      "cell_type": "code",
      "source": [
        "!apt-get install tensorflow-model-server"
      ],
      "metadata": {
        "colab": {
          "base_uri": "https://localhost:8080/"
        },
        "id": "HtbflYCGbf3T",
        "outputId": "84499ba6-d6d8-4850-97c0-1c2f0370d163"
      },
      "execution_count": 5,
      "outputs": [
        {
          "output_type": "stream",
          "name": "stdout",
          "text": [
            "Reading package lists... Done\n",
            "Building dependency tree       \n",
            "Reading state information... Done\n",
            "The following package was automatically installed and is no longer required:\n",
            "  libnvidia-common-460\n",
            "Use 'apt autoremove' to remove it.\n",
            "The following NEW packages will be installed:\n",
            "  tensorflow-model-server\n",
            "0 upgraded, 1 newly installed, 0 to remove and 56 not upgraded.\n",
            "Need to get 400 MB of archives.\n",
            "After this operation, 0 B of additional disk space will be used.\n",
            "Get:1 http://storage.googleapis.com/tensorflow-serving-apt stable/tensorflow-model-server amd64 tensorflow-model-server all 2.10.0 [400 MB]\n",
            "Fetched 400 MB in 14s (27.7 MB/s)\n",
            "Selecting previously unselected package tensorflow-model-server.\n",
            "(Reading database ... 155685 files and directories currently installed.)\n",
            "Preparing to unpack .../tensorflow-model-server_2.10.0_all.deb ...\n",
            "Unpacking tensorflow-model-server (2.10.0) ...\n",
            "Setting up tensorflow-model-server (2.10.0) ...\n"
          ]
        }
      ]
    },
    {
      "cell_type": "markdown",
      "source": [
        "## Create Dataset\n",
        "\n",
        "Now, we will create a simple dataset that expresses the relationship:\n",
        "\n",
        "$$\n",
        "y = 2x - 1 \n",
        "$$\n",
        "\n",
        "between inputs (`xs`) and outputs (`ys`)."
      ],
      "metadata": {
        "id": "hjmYwsTWbjeB"
      }
    },
    {
      "cell_type": "code",
      "source": [
        "xs = np.array([-1.0,  0.0, 1.0, 2.0, 3.0, 4.0], dtype=float)\n",
        "ys = np.array([-3.0, -1.0, 1.0, 3.0, 5.0, 7.0], dtype=float)"
      ],
      "metadata": {
        "id": "r_gFjmuIbigY"
      },
      "execution_count": 6,
      "outputs": []
    },
    {
      "cell_type": "markdown",
      "source": [
        "## Build and Train the Model\n",
        "\n",
        "We'll use the simplest possible model for this example. Since we are going to train our model for `500` epochs, in order to avoid clutter on the screen, we will use the argument `verbose=0` in the `fit` method. The Verbosity mode can be:\n",
        "\n",
        "* `0` : silent.\n",
        "\n",
        "* `1` : progress bar.\n",
        "\n",
        "* `2` : one line per epoch.\n",
        "\n",
        "As a side note, we should mention that since the progress bar is not particularly useful when logged to a file, `verbose=2` is recommended when not running interactively (eg, in a production environment)."
      ],
      "metadata": {
        "id": "z9Qa15ybbmYO"
      }
    },
    {
      "cell_type": "code",
      "source": [
        "model = tf.keras.Sequential([tf.keras.layers.Dense(units=1, input_shape=[1])])\n",
        "model.compile(optimizer='sgd',\n",
        "              loss='mean_squared_error')\n",
        "history = model.fit(xs, ys, epochs=500, verbose=0)\n",
        "print(\"Finished training the model\")"
      ],
      "metadata": {
        "colab": {
          "base_uri": "https://localhost:8080/"
        },
        "id": "MpSRMhrQblBd",
        "outputId": "1a8c5256-6772-49c0-c6c8-793842089c9f"
      },
      "execution_count": 7,
      "outputs": [
        {
          "output_type": "stream",
          "name": "stdout",
          "text": [
            "Finished training the model\n"
          ]
        }
      ]
    },
    {
      "cell_type": "markdown",
      "source": [
        "## Test the Model\n",
        "\n",
        "Now that the model is trained, we can test it. If we give it the value `10`, we should get a value very close to `19`."
      ],
      "metadata": {
        "id": "vbQsG8VlbqmA"
      }
    },
    {
      "cell_type": "code",
      "source": [
        "print(model.predict([10.0]))"
      ],
      "metadata": {
        "colab": {
          "base_uri": "https://localhost:8080/"
        },
        "id": "QYoX0SY7bpEx",
        "outputId": "713d49d2-edb7-4488-865d-3ed78256fc1e"
      },
      "execution_count": 8,
      "outputs": [
        {
          "output_type": "stream",
          "name": "stdout",
          "text": [
            "[[18.981047]]\n"
          ]
        }
      ]
    },
    {
      "cell_type": "markdown",
      "source": [
        "## Save the Model\n",
        "\n",
        "To load the trained model into TensorFlow Serving we first need to save it in the [SavedModel](https://www.tensorflow.org/guide/saved_model) format.  This will create a protobuf file in a well-defined directory hierarchy, and will include a version number.  [TensorFlow Serving](https://www.tensorflow.org/tfx/serving/serving_config) allows us to select which version of a model, or \"servable\" we want to use when we make inference requests.  Each version will be exported to a different sub-directory under the given path."
      ],
      "metadata": {
        "id": "45CvNlwHbszx"
      }
    },
    {
      "cell_type": "code",
      "source": [
        "MODEL_DIR = tempfile.gettempdir()\n",
        "\n",
        "version = 1\n",
        "\n",
        "export_path = os.path.join(MODEL_DIR, str(version))\n",
        "if os.path.isdir(export_path):\n",
        "    print('\\nAlready saved a model, cleaning up\\n')\n",
        "    !rm -r {export_path}\n",
        "model.save(export_path, save_format=\"tf\")\n",
        "print('\\nexport_path = {}'.format(export_path))\n",
        "!ls -l {export_path}"
      ],
      "metadata": {
        "colab": {
          "base_uri": "https://localhost:8080/"
        },
        "id": "xhCZfAYibrjh",
        "outputId": "749d344f-796d-4b61-a3b5-ed63368e9338"
      },
      "execution_count": 9,
      "outputs": [
        {
          "output_type": "stream",
          "name": "stdout",
          "text": [
            "\n",
            "export_path = /tmp/1\n",
            "total 52\n",
            "drwxr-xr-x 2 root root  4096 Sep 14 14:38 assets\n",
            "-rw-r--r-- 1 root root  4092 Sep 14 14:38 keras_metadata.pb\n",
            "-rw-r--r-- 1 root root 37746 Sep 14 14:38 saved_model.pb\n",
            "drwxr-xr-x 2 root root  4096 Sep 14 14:38 variables\n"
          ]
        }
      ]
    },
    {
      "cell_type": "markdown",
      "source": [
        "## Examine Your Saved Model\n",
        "\n",
        "We'll use the command line utility `saved_model_cli` to look at the `MetaGraphDefs` and `SignatureDefs` in our SavedModel. The signature definition is defined by the input and output tensors, and stored with the default serving key."
      ],
      "metadata": {
        "id": "yiscsQd-b3fx"
      }
    },
    {
      "cell_type": "code",
      "source": [
        "!saved_model_cli show --dir {export_path} --all"
      ],
      "metadata": {
        "colab": {
          "base_uri": "https://localhost:8080/"
        },
        "id": "LdJJIPUWbwAM",
        "outputId": "13465ff3-38b2-48e6-edfa-17aa70ea7f6e"
      },
      "execution_count": 10,
      "outputs": [
        {
          "output_type": "stream",
          "name": "stdout",
          "text": [
            "\n",
            "MetaGraphDef with tag-set: 'serve' contains the following SignatureDefs:\n",
            "\n",
            "signature_def['__saved_model_init_op']:\n",
            "  The given SavedModel SignatureDef contains the following input(s):\n",
            "  The given SavedModel SignatureDef contains the following output(s):\n",
            "    outputs['__saved_model_init_op'] tensor_info:\n",
            "        dtype: DT_INVALID\n",
            "        shape: unknown_rank\n",
            "        name: NoOp\n",
            "  Method name is: \n",
            "\n",
            "signature_def['serving_default']:\n",
            "  The given SavedModel SignatureDef contains the following input(s):\n",
            "    inputs['dense_input'] tensor_info:\n",
            "        dtype: DT_FLOAT\n",
            "        shape: (-1, 1)\n",
            "        name: serving_default_dense_input:0\n",
            "  The given SavedModel SignatureDef contains the following output(s):\n",
            "    outputs['dense'] tensor_info:\n",
            "        dtype: DT_FLOAT\n",
            "        shape: (-1, 1)\n",
            "        name: StatefulPartitionedCall:0\n",
            "  Method name is: tensorflow/serving/predict\n",
            "\n",
            "Concrete Functions:\n",
            "  Function Name: '__call__'\n",
            "    Option #1\n",
            "      Callable with:\n",
            "        Argument #1\n",
            "          inputs: TensorSpec(shape=(None, 1), dtype=tf.float32, name='inputs')\n",
            "        Argument #2\n",
            "          DType: bool\n",
            "          Value: False\n",
            "        Argument #3\n",
            "          DType: NoneType\n",
            "          Value: None\n",
            "    Option #2\n",
            "      Callable with:\n",
            "        Argument #1\n",
            "          dense_input: TensorSpec(shape=(None, 1), dtype=tf.float32, name='dense_input')\n",
            "        Argument #2\n",
            "          DType: bool\n",
            "          Value: False\n",
            "        Argument #3\n",
            "          DType: NoneType\n",
            "          Value: None\n",
            "    Option #3\n",
            "      Callable with:\n",
            "        Argument #1\n",
            "          inputs: TensorSpec(shape=(None, 1), dtype=tf.float32, name='inputs')\n",
            "        Argument #2\n",
            "          DType: bool\n",
            "          Value: True\n",
            "        Argument #3\n",
            "          DType: NoneType\n",
            "          Value: None\n",
            "    Option #4\n",
            "      Callable with:\n",
            "        Argument #1\n",
            "          dense_input: TensorSpec(shape=(None, 1), dtype=tf.float32, name='dense_input')\n",
            "        Argument #2\n",
            "          DType: bool\n",
            "          Value: True\n",
            "        Argument #3\n",
            "          DType: NoneType\n",
            "          Value: None\n",
            "\n",
            "  Function Name: '_default_save_signature'\n",
            "    Option #1\n",
            "      Callable with:\n",
            "        Argument #1\n",
            "          dense_input: TensorSpec(shape=(None, 1), dtype=tf.float32, name='dense_input')\n",
            "\n",
            "  Function Name: 'call_and_return_all_conditional_losses'\n",
            "    Option #1\n",
            "      Callable with:\n",
            "        Argument #1\n",
            "          dense_input: TensorSpec(shape=(None, 1), dtype=tf.float32, name='dense_input')\n",
            "        Argument #2\n",
            "          DType: bool\n",
            "          Value: False\n",
            "        Argument #3\n",
            "          DType: NoneType\n",
            "          Value: None\n",
            "    Option #2\n",
            "      Callable with:\n",
            "        Argument #1\n",
            "          inputs: TensorSpec(shape=(None, 1), dtype=tf.float32, name='inputs')\n",
            "        Argument #2\n",
            "          DType: bool\n",
            "          Value: False\n",
            "        Argument #3\n",
            "          DType: NoneType\n",
            "          Value: None\n",
            "    Option #3\n",
            "      Callable with:\n",
            "        Argument #1\n",
            "          dense_input: TensorSpec(shape=(None, 1), dtype=tf.float32, name='dense_input')\n",
            "        Argument #2\n",
            "          DType: bool\n",
            "          Value: True\n",
            "        Argument #3\n",
            "          DType: NoneType\n",
            "          Value: None\n",
            "    Option #4\n",
            "      Callable with:\n",
            "        Argument #1\n",
            "          inputs: TensorSpec(shape=(None, 1), dtype=tf.float32, name='inputs')\n",
            "        Argument #2\n",
            "          DType: bool\n",
            "          Value: True\n",
            "        Argument #3\n",
            "          DType: NoneType\n",
            "          Value: None\n"
          ]
        }
      ]
    },
    {
      "cell_type": "markdown",
      "source": [
        "## Run the TensorFlow Model Server\n",
        "\n",
        "We will now launch the TensorFlow model server with a bash script. We will use the argument `--bg` to run the script in the background.\n",
        "\n",
        "Our script will start running TensorFlow Serving and will load our model. Here are the parameters we will use:\n",
        "\n",
        "* `rest_api_port`: The port that you'll use for requests.\n",
        "\n",
        "\n",
        "* `model_name`: You'll use this in the URL of your requests.  It can be anything.\n",
        "\n",
        "\n",
        "* `model_base_path`: This is the path to the directory where you've saved your model.\n",
        "\n",
        "Also, because the variable that points to the directory containing the model is in Python, we need a way to tell the bash script where to find the model. To do this, we will write the value of the Python variable to an environment variable using the `os.environ` function."
      ],
      "metadata": {
        "id": "4BQ0FUPSb5mK"
      }
    },
    {
      "cell_type": "code",
      "source": [
        "os.environ[\"MODEL_DIR\"] = MODEL_DIR"
      ],
      "metadata": {
        "id": "IDBs5A_Wb4f1"
      },
      "execution_count": 11,
      "outputs": []
    },
    {
      "cell_type": "code",
      "source": [
        "%%bash --bg \n",
        "nohup tensorflow_model_server \\\n",
        "--rest_api_port=8501 \\\n",
        "--model_name=helloworld \\\n",
        "--model_base_path=\"${MODEL_DIR}\" >server.log 2>&1"
      ],
      "metadata": {
        "id": "KXmZ61jdb6zK"
      },
      "execution_count": 12,
      "outputs": []
    },
    {
      "cell_type": "markdown",
      "source": [
        "Now we can take a look at the server log."
      ],
      "metadata": {
        "id": "BYlMsx1Eb_ZC"
      }
    },
    {
      "cell_type": "code",
      "source": [
        "!tail server.log"
      ],
      "metadata": {
        "colab": {
          "base_uri": "https://localhost:8080/"
        },
        "id": "_q69c3a4b8Sf",
        "outputId": "7487484c-a49b-4e83-d9b1-3141ce3a0545"
      },
      "execution_count": 13,
      "outputs": [
        {
          "output_type": "stream",
          "name": "stdout",
          "text": [
            "tensorflow_model_server: /lib/x86_64-linux-gnu/libc.so.6: version `GLIBC_2.28' not found (required by tensorflow_model_server)\n",
            "tensorflow_model_server: /usr/lib/x86_64-linux-gnu/libstdc++.so.6: version `GLIBCXX_3.4.26' not found (required by tensorflow_model_server)\n",
            "tensorflow_model_server: /lib/x86_64-linux-gnu/libm.so.6: version `GLIBC_2.29' not found (required by tensorflow_model_server)\n"
          ]
        }
      ]
    },
    {
      "cell_type": "markdown",
      "source": [
        "## Create JSON Object with Test Data\n",
        "\n",
        "We are now ready to construct a JSON object with some data so that we can make a couple of inferences. We will use $x=9$ and $x=10$ as our test data."
      ],
      "metadata": {
        "id": "Kj7XBHV1cDAp"
      }
    },
    {
      "cell_type": "code",
      "source": [
        "xs = np.array([[9.0], [10.0]])\n",
        "data = json.dumps({\"signature_name\": \"serving_default\", \"instances\": xs.tolist()})\n",
        "print(data)"
      ],
      "metadata": {
        "colab": {
          "base_uri": "https://localhost:8080/"
        },
        "id": "db-vLjULcANN",
        "outputId": "5df17328-3b87-448a-f6fe-3e7f29a5b678"
      },
      "execution_count": 14,
      "outputs": [
        {
          "output_type": "stream",
          "name": "stdout",
          "text": [
            "{\"signature_name\": \"serving_default\", \"instances\": [[9.0], [10.0]]}\n"
          ]
        }
      ]
    },
    {
      "cell_type": "markdown",
      "source": [
        "## Make Inference Request\n",
        "\n",
        "Finally, we can make the inference request and get the inferences back. We'll send a predict request as a POST to our server's REST endpoint, and pass it our test data. We'll ask our server to give us the latest version of our model by not specifying a particular version. The response will be a JSON payload containing the predictions."
      ],
      "metadata": {
        "id": "qAnyvFPDcG_S"
      }
    },
    {
      "cell_type": "code",
      "source": [
        "import sys\n",
        "\n",
        "# Confirm that we're using Python 3\n",
        "assert sys.version_info.major == 3, 'Oops, not running Python 3. Use Runtime > Change runtime type'"
      ],
      "metadata": {
        "id": "FEk_4isIcEWs"
      },
      "execution_count": 28,
      "outputs": []
    },
    {
      "cell_type": "code",
      "source": [
        "# TensorFlow and tf.keras\n",
        "print(\"Installing dependencies for Colab environment\")\n",
        "!pip install -Uq grpcio==1.26.0\n",
        "\n",
        "import tensorflow as tf\n",
        "from tensorflow import keras\n",
        "\n",
        "# Helper libraries\n",
        "import numpy as np\n",
        "import matplotlib.pyplot as plt\n",
        "import os\n",
        "import subprocess\n",
        "\n",
        "print('TensorFlow version: {}'.format(tf.__version__))"
      ],
      "metadata": {
        "colab": {
          "base_uri": "https://localhost:8080/"
        },
        "id": "-TU4mRCkcK40",
        "outputId": "ec938b55-9c16-464d-cb61-2c9fe6d3ce07"
      },
      "execution_count": 29,
      "outputs": [
        {
          "output_type": "stream",
          "name": "stdout",
          "text": [
            "Installing dependencies for Colab environment\n",
            "\u001b[K     |████████████████████████████████| 2.4 MB 5.2 MB/s \n",
            "\u001b[?25hTensorFlow version: 2.8.2\n"
          ]
        }
      ]
    },
    {
      "cell_type": "code",
      "source": [
        "fashion_mnist = keras.datasets.fashion_mnist\n",
        "(train_images, train_labels), (test_images, test_labels) = fashion_mnist.load_data()\n",
        "\n",
        "# scale the values to 0.0 to 1.0\n",
        "train_images = train_images / 255.0\n",
        "test_images = test_images / 255.0\n",
        "\n",
        "# reshape for feeding into the model\n",
        "train_images = train_images.reshape(train_images.shape[0], 28, 28, 1)\n",
        "test_images = test_images.reshape(test_images.shape[0], 28, 28, 1)\n",
        "\n",
        "class_names = ['T-shirt/top', 'Trouser', 'Pullover', 'Dress', 'Coat',\n",
        "               'Sandal', 'Shirt', 'Sneaker', 'Bag', 'Ankle boot']\n",
        "\n",
        "print('\\ntrain_images.shape: {}, of {}'.format(train_images.shape, train_images.dtype))\n",
        "print('test_images.shape: {}, of {}'.format(test_images.shape, test_images.dtype))"
      ],
      "metadata": {
        "colab": {
          "base_uri": "https://localhost:8080/"
        },
        "id": "EDyHZkfIcqV1",
        "outputId": "5d03b5f9-88c4-4e33-8a07-6dd1eddd28aa"
      },
      "execution_count": 30,
      "outputs": [
        {
          "output_type": "stream",
          "name": "stdout",
          "text": [
            "Downloading data from https://storage.googleapis.com/tensorflow/tf-keras-datasets/train-labels-idx1-ubyte.gz\n",
            "32768/29515 [=================================] - 0s 0us/step\n",
            "40960/29515 [=========================================] - 0s 0us/step\n",
            "Downloading data from https://storage.googleapis.com/tensorflow/tf-keras-datasets/train-images-idx3-ubyte.gz\n",
            "26427392/26421880 [==============================] - 0s 0us/step\n",
            "26435584/26421880 [==============================] - 0s 0us/step\n",
            "Downloading data from https://storage.googleapis.com/tensorflow/tf-keras-datasets/t10k-labels-idx1-ubyte.gz\n",
            "16384/5148 [===============================================================================================] - 0s 0us/step\n",
            "Downloading data from https://storage.googleapis.com/tensorflow/tf-keras-datasets/t10k-images-idx3-ubyte.gz\n",
            "4423680/4422102 [==============================] - 0s 0us/step\n",
            "4431872/4422102 [==============================] - 0s 0us/step\n",
            "\n",
            "train_images.shape: (60000, 28, 28, 1), of float64\n",
            "test_images.shape: (10000, 28, 28, 1), of float64\n"
          ]
        }
      ]
    },
    {
      "cell_type": "code",
      "source": [
        "model = keras.Sequential([\n",
        "  keras.layers.Conv2D(input_shape=(28,28,1), filters=8, kernel_size=3, \n",
        "                      strides=2, activation='relu', name='Conv1'),\n",
        "  keras.layers.Flatten(),\n",
        "  keras.layers.Dense(10, name='Dense')\n",
        "])\n",
        "model.summary()\n",
        "\n",
        "testing = False\n",
        "epochs = 5\n",
        "\n",
        "model.compile(optimizer='adam', \n",
        "              loss=tf.keras.losses.SparseCategoricalCrossentropy(from_logits=True),\n",
        "              metrics=[keras.metrics.SparseCategoricalAccuracy()])\n",
        "model.fit(train_images, train_labels, epochs=epochs)\n",
        "\n",
        "test_loss, test_acc = model.evaluate(test_images, test_labels)\n",
        "print('\\nTest accuracy: {}'.format(test_acc))"
      ],
      "metadata": {
        "colab": {
          "base_uri": "https://localhost:8080/"
        },
        "id": "k5JW9O2gc2da",
        "outputId": "605f763d-10bc-45a4-a44a-fb25efe5ae62"
      },
      "execution_count": 31,
      "outputs": [
        {
          "output_type": "stream",
          "name": "stdout",
          "text": [
            "Model: \"sequential_1\"\n",
            "_________________________________________________________________\n",
            " Layer (type)                Output Shape              Param #   \n",
            "=================================================================\n",
            " Conv1 (Conv2D)              (None, 13, 13, 8)         80        \n",
            "                                                                 \n",
            " flatten (Flatten)           (None, 1352)              0         \n",
            "                                                                 \n",
            " Dense (Dense)               (None, 10)                13530     \n",
            "                                                                 \n",
            "=================================================================\n",
            "Total params: 13,610\n",
            "Trainable params: 13,610\n",
            "Non-trainable params: 0\n",
            "_________________________________________________________________\n",
            "Epoch 1/5\n",
            "1875/1875 [==============================] - 16s 8ms/step - loss: 0.5294 - sparse_categorical_accuracy: 0.8179\n",
            "Epoch 2/5\n",
            "1875/1875 [==============================] - 15s 8ms/step - loss: 0.3799 - sparse_categorical_accuracy: 0.8670\n",
            "Epoch 3/5\n",
            "1875/1875 [==============================] - 14s 7ms/step - loss: 0.3477 - sparse_categorical_accuracy: 0.8770\n",
            "Epoch 4/5\n",
            "1875/1875 [==============================] - 14s 7ms/step - loss: 0.3306 - sparse_categorical_accuracy: 0.8818\n",
            "Epoch 5/5\n",
            "1875/1875 [==============================] - 11s 6ms/step - loss: 0.3185 - sparse_categorical_accuracy: 0.8866\n",
            "313/313 [==============================] - 2s 4ms/step - loss: 0.3465 - sparse_categorical_accuracy: 0.8761\n",
            "\n",
            "Test accuracy: 0.8761000037193298\n"
          ]
        }
      ]
    },
    {
      "cell_type": "code",
      "source": [
        "import tempfile\n",
        "\n",
        "MODEL_DIR = tempfile.gettempdir()\n",
        "version = 1\n",
        "export_path = os.path.join(MODEL_DIR, str(version))\n",
        "print('export_path = {}\\n'.format(export_path))\n",
        "\n",
        "tf.keras.models.save_model(\n",
        "    model,\n",
        "    export_path,\n",
        "    overwrite=True,\n",
        "    include_optimizer=True,\n",
        "    save_format=None,\n",
        "    signatures=None,\n",
        "    options=None\n",
        ")\n",
        "\n",
        "print('\\nSaved model:')\n",
        "!ls -l {export_path}"
      ],
      "metadata": {
        "colab": {
          "base_uri": "https://localhost:8080/"
        },
        "id": "fK0DhR_QcvMz",
        "outputId": "ec8f86f4-28f0-4377-a490-5b52ee91674d"
      },
      "execution_count": 32,
      "outputs": [
        {
          "output_type": "stream",
          "name": "stdout",
          "text": [
            "export_path = /tmp/1\n",
            "\n"
          ]
        },
        {
          "output_type": "stream",
          "name": "stderr",
          "text": [
            "WARNING:absl:Function `_wrapped_model` contains input name(s) Conv1_input with unsupported characters which will be renamed to conv1_input in the SavedModel.\n"
          ]
        },
        {
          "output_type": "stream",
          "name": "stdout",
          "text": [
            "\n",
            "Saved model:\n",
            "total 92\n",
            "drwxr-xr-x 2 root root  4096 Sep 14 14:38 assets\n",
            "-rw-r--r-- 1 root root  8234 Sep 14 14:45 keras_metadata.pb\n",
            "-rw-r--r-- 1 root root 72393 Sep 14 14:45 saved_model.pb\n",
            "drwxr-xr-x 2 root root  4096 Sep 14 14:45 variables\n"
          ]
        }
      ]
    },
    {
      "cell_type": "code",
      "source": [
        "import sys\n",
        "# We need sudo prefix if not on a Google Colab.\n",
        "if 'google.colab' not in sys.modules:\n",
        "  SUDO_IF_NEEDED = 'sudo'\n",
        "else:\n",
        "  SUDO_IF_NEEDED = ''"
      ],
      "metadata": {
        "id": "7moteIHGc0DV"
      },
      "execution_count": 33,
      "outputs": []
    },
    {
      "cell_type": "code",
      "source": [
        "!echo \"deb http://storage.googleapis.com/tensorflow-serving-apt stable tensorflow-model-server tensorflow-model-server-universal\" | {SUDO_IF_NEEDED} tee /etc/apt/sources.list.d/tensorflow-serving.list && \\\n",
        "curl https://storage.googleapis.com/tensorflow-serving-apt/tensorflow-serving.release.pub.gpg | {SUDO_IF_NEEDED} apt-key add -\n",
        "!{SUDO_IF_NEEDED} apt update"
      ],
      "metadata": {
        "colab": {
          "base_uri": "https://localhost:8080/"
        },
        "id": "w0_D7qo4dUPg",
        "outputId": "84e70db9-443d-43f7-a2c6-4f0ca1d6106a"
      },
      "execution_count": 34,
      "outputs": [
        {
          "output_type": "stream",
          "name": "stdout",
          "text": [
            "deb http://storage.googleapis.com/tensorflow-serving-apt stable tensorflow-model-server tensorflow-model-server-universal\n",
            "  % Total    % Received % Xferd  Average Speed   Time    Time     Time  Current\n",
            "                                 Dload  Upload   Total   Spent    Left  Speed\n",
            "\r  0     0    0     0    0     0      0      0 --:--:-- --:--:-- --:--:--     0\r100  2943  100  2943    0     0   119k      0 --:--:-- --:--:-- --:--:--  124k\n",
            "OK\n",
            "Hit:1 http://storage.googleapis.com/tensorflow-serving-apt stable InRelease\n",
            "Hit:2 https://cloud.r-project.org/bin/linux/ubuntu bionic-cran40/ InRelease\n",
            "Ign:3 https://developer.download.nvidia.com/compute/machine-learning/repos/ubuntu1804/x86_64  InRelease\n",
            "Hit:4 https://developer.download.nvidia.com/compute/cuda/repos/ubuntu1804/x86_64  InRelease\n",
            "Hit:5 http://archive.ubuntu.com/ubuntu bionic InRelease\n",
            "Hit:6 https://developer.download.nvidia.com/compute/machine-learning/repos/ubuntu1804/x86_64  Release\n",
            "Hit:7 http://security.ubuntu.com/ubuntu bionic-security InRelease\n",
            "Hit:8 http://archive.ubuntu.com/ubuntu bionic-updates InRelease\n",
            "Hit:9 http://ppa.launchpad.net/c2d4u.team/c2d4u4.0+/ubuntu bionic InRelease\n",
            "Hit:10 http://archive.ubuntu.com/ubuntu bionic-backports InRelease\n",
            "Hit:11 http://ppa.launchpad.net/cran/libgit2/ubuntu bionic InRelease\n",
            "Hit:12 http://ppa.launchpad.net/deadsnakes/ppa/ubuntu bionic InRelease\n",
            "Hit:13 http://ppa.launchpad.net/graphics-drivers/ppa/ubuntu bionic InRelease\n",
            "Reading package lists... Done\n",
            "Building dependency tree       \n",
            "Reading state information... Done\n",
            "56 packages can be upgraded. Run 'apt list --upgradable' to see them.\n"
          ]
        }
      ]
    },
    {
      "cell_type": "code",
      "source": [
        "! apt-get install tensorflow-model-server"
      ],
      "metadata": {
        "colab": {
          "base_uri": "https://localhost:8080/"
        },
        "id": "jdMT3r1cdXAs",
        "outputId": "f9adc434-b064-4fce-ce21-802624275b54"
      },
      "execution_count": 35,
      "outputs": [
        {
          "output_type": "stream",
          "name": "stdout",
          "text": [
            "Reading package lists... Done\n",
            "Building dependency tree       \n",
            "Reading state information... Done\n",
            "tensorflow-model-server is already the newest version (2.10.0).\n",
            "The following package was automatically installed and is no longer required:\n",
            "  libnvidia-common-460\n",
            "Use 'apt autoremove' to remove it.\n",
            "0 upgraded, 0 newly installed, 0 to remove and 56 not upgraded.\n"
          ]
        }
      ]
    },
    {
      "cell_type": "code",
      "source": [
        "os.environ[\"MODEL_DIR\"] = MODEL_DIR"
      ],
      "metadata": {
        "id": "8DGWprlodegP"
      },
      "execution_count": 36,
      "outputs": []
    },
    {
      "cell_type": "code",
      "source": [
        "def show(idx, title):\n",
        "  plt.figure()\n",
        "  plt.imshow(test_images[idx].reshape(28,28))\n",
        "  plt.axis('off')\n",
        "  plt.title('\\n\\n{}'.format(title), fontdict={'size': 16})\n",
        "\n",
        "import random\n",
        "rando = random.randint(0,len(test_images)-1)\n",
        "show(rando, 'An Example Image: {}'.format(class_names[test_labels[rando]]))"
      ],
      "metadata": {
        "colab": {
          "base_uri": "https://localhost:8080/",
          "height": 301
        },
        "id": "KEIlHZhBdgAJ",
        "outputId": "a135c6f5-551a-4c16-cdb9-30bb5386eb32"
      },
      "execution_count": 37,
      "outputs": [
        {
          "output_type": "display_data",
          "data": {
            "text/plain": [
              "<Figure size 432x288 with 1 Axes>"
            ],
            "image/png": "[encoded data removed]"
          },
          "metadata": {
            "needs_background": "light"
          }
        }
      ]
    },
    {
      "cell_type": "code",
      "source": [
        "import json\n",
        "data = json.dumps({\"signature_name\": \"serving_default\", \"instances\": test_images[0:3].tolist()})\n",
        "print('Data: {} ... {}'.format(data[:50], data[len(data)-52:]))"
      ],
      "metadata": {
        "colab": {
          "base_uri": "https://localhost:8080/"
        },
        "id": "Ex4HogZPdhGl",
        "outputId": "943c783c-b402-4123-d11f-c9d3dd9bf39b"
      },
      "execution_count": 38,
      "outputs": [
        {
          "output_type": "stream",
          "name": "stdout",
          "text": [
            "Data: {\"signature_name\": \"serving_default\", \"instances\": ...  [0.0], [0.0], [0.0], [0.0], [0.0], [0.0], [0.0]]]]}\n"
          ]
        }
      ]
    },
    {
      "cell_type": "code",
      "source": [
        "headers = {\"content-type\": \"application/json\"}\n",
        "json_response = requests.post('http://localhost:8501/v1/models/helloworld:predict', data=data, headers=headers)\n",
        "\n",
        "print(json_response.text)"
      ],
      "metadata": {
        "id": "-7CPO-vwdq8H"
      },
      "execution_count": null,
      "outputs": []
    },
    {
      "cell_type": "code",
      "source": [
        "predictions = json.loads(json_response.text)['predictions']\n",
        "print(predictions)"
      ],
      "metadata": {
        "id": "HFqv2leQeZwx"
      },
      "execution_count": null,
      "outputs": []
    },
    {
      "cell_type": "markdown",
      "source": [
        "# Text Classification\n",
        "\n",
        "In this notebook we will classify movie reviews as being either `positive` or `negative`. We'll use the [IMDB dataset](https://www.tensorflow.org/datasets/catalog/imdb_reviews) that contains the text of 50,000 movie reviews from the [Internet Movie Database](https://www.imdb.com/). These are split into 25,000 reviews for training and 25,000 reviews for testing. The training and testing sets are *balanced*, meaning they contain an equal number of positive and negative reviews."
      ],
      "metadata": {
        "id": "Uu9d_93Sedl7"
      }
    },
    {
      "cell_type": "code",
      "source": [
        "try:\n",
        "    %tensorflow_version 2.x\n",
        "except:\n",
        "    pass"
      ],
      "metadata": {
        "colab": {
          "base_uri": "https://localhost:8080/"
        },
        "id": "Fd2MuF-ued0o",
        "outputId": "b438ebda-1ee2-4a05-ed85-3ebf9cfaa2eb"
      },
      "execution_count": 41,
      "outputs": [
        {
          "output_type": "stream",
          "name": "stdout",
          "text": [
            "Colab only includes TensorFlow 2.x; %tensorflow_version has no effect.\n"
          ]
        }
      ]
    },
    {
      "cell_type": "code",
      "source": [
        "import tensorflow as tf\n",
        "import tensorflow_hub as hub\n",
        "import tensorflow_datasets as tfds\n",
        "tfds.disable_progress_bar()\n",
        "\n",
        "print(\"\\u2022 Using TensorFlow Version:\", tf.__version__)"
      ],
      "metadata": {
        "colab": {
          "base_uri": "https://localhost:8080/"
        },
        "id": "xf6C-cq9efEp",
        "outputId": "1abeb28f-2e1e-4ee3-9fb3-a0a44a7d3460"
      },
      "execution_count": 42,
      "outputs": [
        {
          "output_type": "stream",
          "name": "stdout",
          "text": [
            "• Using TensorFlow Version: 2.8.2\n"
          ]
        }
      ]
    },
    {
      "cell_type": "markdown",
      "source": [
        "## Download the IMDB Dataset\n",
        "\n",
        "We will download the [IMDB dataset](https://www.tensorflow.org/datasets/catalog/imdb_reviews) using TensorFlow Datasets. We will use a training set, a validation set, and a test set. Since the IMDB dataset doesn't have a validation split, we will use the first 60\\% of the training set for training, and the last 40\\% of the training set for validation."
      ],
      "metadata": {
        "id": "ijjwZbgUehXN"
      }
    },
    {
      "cell_type": "code",
      "source": [
        "splits = ['train[:60%]', 'train[-40%:]', 'test']\n",
        "splits, info = tfds.load(name=\"imdb_reviews\", with_info=True, split=splits, as_supervised=True)\n",
        "train_data, validation_data, test_data = splits"
      ],
      "metadata": {
        "colab": {
          "base_uri": "https://localhost:8080/"
        },
        "id": "EC01F4PzefyB",
        "outputId": "8b0646e6-13b7-4b2b-91a9-fa0eb0b7e41d"
      },
      "execution_count": 43,
      "outputs": [
        {
          "output_type": "stream",
          "name": "stdout",
          "text": [
            "\u001b[1mDownloading and preparing dataset 80.23 MiB (download: 80.23 MiB, generated: Unknown size, total: 80.23 MiB) to ~/tensorflow_datasets/imdb_reviews/plain_text/1.0.0...\u001b[0m\n",
            "\u001b[1mDataset imdb_reviews downloaded and prepared to ~/tensorflow_datasets/imdb_reviews/plain_text/1.0.0. Subsequent calls will reuse this data.\u001b[0m\n"
          ]
        }
      ]
    },
    {
      "cell_type": "markdown",
      "source": [
        "## Explore the Data \n",
        "\n",
        "Let's take a moment to look at the data."
      ],
      "metadata": {
        "id": "u-yIYfQgekuc"
      }
    },
    {
      "cell_type": "code",
      "source": [
        "num_train_examples = info.splits['train'].num_examples\n",
        "num_test_examples = info.splits['test'].num_examples\n",
        "num_classes = info.features['label'].num_classes\n",
        "\n",
        "print('The Dataset has a total of:')\n",
        "print('\\u2022 {:,} classes'.format(num_classes))\n",
        "\n",
        "print('\\u2022 {:,} movie reviews for training'.format(num_train_examples))\n",
        "print('\\u2022 {:,} movie reviews for testing'.format(num_test_examples))"
      ],
      "metadata": {
        "colab": {
          "base_uri": "https://localhost:8080/"
        },
        "id": "3O3H48Drei_z",
        "outputId": "3dcb598a-5475-4bff-9ef8-d040a13d9641"
      },
      "execution_count": 44,
      "outputs": [
        {
          "output_type": "stream",
          "name": "stdout",
          "text": [
            "The Dataset has a total of:\n",
            "• 2 classes\n",
            "• 25,000 movie reviews for training\n",
            "• 25,000 movie reviews for testing\n"
          ]
        }
      ]
    },
    {
      "cell_type": "markdown",
      "source": [
        "The labels are either 0 or 1, where 0 is a negative review, and 1 is a positive review. We will create a list with the corresponding class names, so that we can map labels to class names later on."
      ],
      "metadata": {
        "id": "vzanIh8ien0q"
      }
    },
    {
      "cell_type": "code",
      "source": [
        "class_names = ['negative', 'positive']"
      ],
      "metadata": {
        "id": "ckf9OlqPeljR"
      },
      "execution_count": 45,
      "outputs": []
    },
    {
      "cell_type": "code",
      "source": [
        "class_names = ['negative', 'positive']"
      ],
      "metadata": {
        "id": "VIX3-BIaeoas"
      },
      "execution_count": 46,
      "outputs": []
    },
    {
      "cell_type": "markdown",
      "source": [
        "Each example consists of a sentence representing the movie review and a corresponding label. The sentence is not preprocessed in any way. Let's take a look at the first example of the training set.  "
      ],
      "metadata": {
        "id": "zjdiWZcHeq1t"
      }
    },
    {
      "cell_type": "code",
      "source": [
        "for review, label in train_data.take(1):\n",
        "    review = review.numpy()\n",
        "    label = label.numpy()\n",
        "\n",
        "    print('\\nMovie Review:\\n\\n', review)\n",
        "    print('\\nLabel:', class_names[label])"
      ],
      "metadata": {
        "colab": {
          "base_uri": "https://localhost:8080/"
        },
        "id": "O4b4PVYYepta",
        "outputId": "addea235-1bda-4853-d5be-4d21664353e1"
      },
      "execution_count": 47,
      "outputs": [
        {
          "output_type": "stream",
          "name": "stdout",
          "text": [
            "\n",
            "Movie Review:\n",
            "\n",
            " b\"This was an absolutely terrible movie. Don't be lured in by Christopher Walken or Michael Ironside. Both are great actors, but this must simply be their worst role in history. Even their great acting could not redeem this movie's ridiculous storyline. This movie is an early nineties US propaganda piece. The most pathetic scenes were those when the Columbian rebels were making their cases for revolutions. Maria Conchita Alonso appeared phony, and her pseudo-love affair with Walken was nothing but a pathetic emotional plug in a movie that was devoid of any real meaning. I am disappointed that there are movies like this, ruining actor's like Christopher Walken's good name. I could barely sit through it.\"\n",
            "\n",
            "Label: negative\n"
          ]
        }
      ]
    },
    {
      "cell_type": "markdown",
      "source": [
        "## Load Word Embeddings\n",
        "\n",
        "In this example, the input data consists of sentences. The labels to predict are either 0 or 1.\n",
        "\n",
        "One way to represent the text is to convert sentences into word embeddings. Word embeddings, are an efficient way to represent words using dense vectors, where semantically similar words have similar vectors. We can use a pre-trained text embedding as the first layer of our model, which will have two advantages:\n",
        "\n",
        "*   We don't have to worry anout text preprocessing.\n",
        "*   We can benefit from transfer learning.\n",
        "\n",
        "For this example we will use a model from [TensorFlow Hub](https://tfhub.dev/) called [google/tf2-preview/gnews-swivel-20dim/1](https://tfhub.dev/google/tf2-preview/gnews-swivel-20dim/1). We'll create a `hub.KerasLayer` that uses the TensorFlow Hub model to embed the sentences. We can choose to fine-tune the TF hub module weights during training by setting the `trainable` parameter to `True`."
      ],
      "metadata": {
        "id": "0lUc2cfreuYp"
      }
    },
    {
      "cell_type": "code",
      "source": [
        "embedding = \"https://tfhub.dev/google/tf2-preview/gnews-swivel-20dim/1\"\n",
        "\n",
        "hub_layer = hub.KerasLayer(embedding, input_shape=[], dtype=tf.string, trainable=True)"
      ],
      "metadata": {
        "id": "iwQaTM43esfr"
      },
      "execution_count": 48,
      "outputs": []
    },
    {
      "cell_type": "markdown",
      "source": [
        "## Build Pipeline"
      ],
      "metadata": {
        "id": "OCPT7tuyewYo"
      }
    },
    {
      "cell_type": "code",
      "source": [
        "batch_size = 512\n",
        "\n",
        "train_batches = train_data.shuffle(num_train_examples // 4).batch(batch_size).prefetch(1)\n",
        "validation_batches = validation_data.batch(batch_size).prefetch(1)\n",
        "test_batches = test_data.batch(batch_size)"
      ],
      "metadata": {
        "id": "z7Y2ZzwvevVe"
      },
      "execution_count": 49,
      "outputs": []
    },
    {
      "cell_type": "markdown",
      "source": [
        "## Build the Model\n",
        "\n",
        "In the code below we will build a Keras `Sequential` model with the following layers:\n",
        "\n",
        "1. The first layer is a TensorFlow Hub layer. This layer uses a pre-trained SavedModel to map a sentence into its embedding vector. The model that we are using ([google/tf2-preview/gnews-swivel-20dim/1](https://tfhub.dev/google/tf2-preview/gnews-swivel-20dim/1)) splits the sentence into tokens, embeds each token and then combines the embedding. The resulting dimensions are: `(num_examples, embedding_dimension)`.\n",
        "\n",
        "\n",
        "2. This fixed-length output vector is piped through a fully-connected (`Dense`) layer with 16 hidden units.\n",
        "\n",
        "\n",
        "3. The last layer is densely connected with a single output node. Using the `sigmoid` activation function, this value is a float between 0 and 1, representing a probability, or confidence level."
      ],
      "metadata": {
        "id": "ABXmMXZiezCd"
      }
    },
    {
      "cell_type": "code",
      "source": [
        "model = tf.keras.Sequential([\n",
        "        hub_layer,\n",
        "        tf.keras.layers.Dense(16, activation='relu'),\n",
        "        tf.keras.layers.Dense(1, activation='sigmoid')])"
      ],
      "metadata": {
        "id": "iWvXS3H8eyC3"
      },
      "execution_count": 50,
      "outputs": []
    },
    {
      "cell_type": "markdown",
      "source": [
        "## Train the Model\n",
        "\n",
        "Since this is a binary classification problem and the model outputs a probability (a single-unit layer with a sigmoid activation), we'll use the `binary_crossentropy` loss function. "
      ],
      "metadata": {
        "id": "w02w2SLAfA56"
      }
    },
    {
      "cell_type": "code",
      "source": [
        "model.compile(optimizer='adam',\n",
        "              loss='binary_crossentropy',\n",
        "              metrics=['accuracy'])\n",
        "\n",
        "history = model.fit(train_batches,\n",
        "                    epochs=20,\n",
        "                    validation_data=validation_batches)"
      ],
      "metadata": {
        "colab": {
          "base_uri": "https://localhost:8080/"
        },
        "id": "gEfEvFrse_cY",
        "outputId": "1df450e9-b29e-4661-97b2-40081510e4fc"
      },
      "execution_count": 51,
      "outputs": [
        {
          "output_type": "stream",
          "name": "stdout",
          "text": [
            "Epoch 1/20\n",
            "30/30 [==============================] - 7s 146ms/step - loss: 0.7861 - accuracy: 0.5090 - val_loss: 0.6949 - val_accuracy: 0.5610\n",
            "Epoch 2/20\n",
            "30/30 [==============================] - 4s 115ms/step - loss: 0.6673 - accuracy: 0.6033 - val_loss: 0.6487 - val_accuracy: 0.6264\n",
            "Epoch 3/20\n",
            "30/30 [==============================] - 2s 74ms/step - loss: 0.6285 - accuracy: 0.6499 - val_loss: 0.6170 - val_accuracy: 0.6621\n",
            "Epoch 4/20\n",
            "30/30 [==============================] - 2s 76ms/step - loss: 0.5942 - accuracy: 0.6835 - val_loss: 0.5851 - val_accuracy: 0.6896\n",
            "Epoch 5/20\n",
            "30/30 [==============================] - 2s 73ms/step - loss: 0.5563 - accuracy: 0.7188 - val_loss: 0.5518 - val_accuracy: 0.7208\n",
            "Epoch 6/20\n",
            "30/30 [==============================] - 2s 75ms/step - loss: 0.5168 - accuracy: 0.7541 - val_loss: 0.5176 - val_accuracy: 0.7508\n",
            "Epoch 7/20\n",
            "30/30 [==============================] - 2s 74ms/step - loss: 0.4770 - accuracy: 0.7861 - val_loss: 0.4835 - val_accuracy: 0.7754\n",
            "Epoch 8/20\n",
            "30/30 [==============================] - 2s 74ms/step - loss: 0.4385 - accuracy: 0.8127 - val_loss: 0.4528 - val_accuracy: 0.7972\n",
            "Epoch 9/20\n",
            "30/30 [==============================] - 2s 73ms/step - loss: 0.4028 - accuracy: 0.8333 - val_loss: 0.4246 - val_accuracy: 0.8130\n",
            "Epoch 10/20\n",
            "30/30 [==============================] - 2s 74ms/step - loss: 0.3706 - accuracy: 0.8513 - val_loss: 0.4007 - val_accuracy: 0.8265\n",
            "Epoch 11/20\n",
            "30/30 [==============================] - 2s 74ms/step - loss: 0.3415 - accuracy: 0.8662 - val_loss: 0.3809 - val_accuracy: 0.8355\n",
            "Epoch 12/20\n",
            "30/30 [==============================] - 2s 74ms/step - loss: 0.3163 - accuracy: 0.8781 - val_loss: 0.3663 - val_accuracy: 0.8431\n",
            "Epoch 13/20\n",
            "30/30 [==============================] - 2s 73ms/step - loss: 0.2939 - accuracy: 0.8877 - val_loss: 0.3508 - val_accuracy: 0.8499\n",
            "Epoch 14/20\n",
            "30/30 [==============================] - 2s 74ms/step - loss: 0.2740 - accuracy: 0.8983 - val_loss: 0.3397 - val_accuracy: 0.8564\n",
            "Epoch 15/20\n",
            "30/30 [==============================] - 2s 74ms/step - loss: 0.2561 - accuracy: 0.9067 - val_loss: 0.3304 - val_accuracy: 0.8598\n",
            "Epoch 16/20\n",
            "30/30 [==============================] - 2s 74ms/step - loss: 0.2400 - accuracy: 0.9134 - val_loss: 0.3238 - val_accuracy: 0.8629\n",
            "Epoch 17/20\n",
            "30/30 [==============================] - 2s 74ms/step - loss: 0.2268 - accuracy: 0.9161 - val_loss: 0.3187 - val_accuracy: 0.8651\n",
            "Epoch 18/20\n",
            "30/30 [==============================] - 2s 75ms/step - loss: 0.2123 - accuracy: 0.9225 - val_loss: 0.3133 - val_accuracy: 0.8695\n",
            "Epoch 19/20\n",
            "30/30 [==============================] - 2s 75ms/step - loss: 0.1997 - accuracy: 0.9291 - val_loss: 0.3097 - val_accuracy: 0.8703\n",
            "Epoch 20/20\n",
            "30/30 [==============================] - 2s 76ms/step - loss: 0.1878 - accuracy: 0.9336 - val_loss: 0.3079 - val_accuracy: 0.8736\n"
          ]
        }
      ]
    },
    {
      "cell_type": "markdown",
      "source": [
        "## Evaluate the Model\n",
        "\n",
        "We will now see how well our model performs on the testing set."
      ],
      "metadata": {
        "id": "kQS7EOmufDOS"
      }
    },
    {
      "cell_type": "code",
      "source": [
        "eval_results = model.evaluate(test_batches, verbose=0)\n",
        "\n",
        "for metric, value in zip(model.metrics_names, eval_results):\n",
        "    print(metric + ': {:.3}'.format(value))"
      ],
      "metadata": {
        "colab": {
          "base_uri": "https://localhost:8080/"
        },
        "id": "9ozu0yopfBtd",
        "outputId": "28b1e714-fe67-4f55-d47b-162caf16d56c"
      },
      "execution_count": 52,
      "outputs": [
        {
          "output_type": "stream",
          "name": "stdout",
          "text": [
            "loss: 0.324\n",
            "accuracy: 0.862\n"
          ]
        }
      ]
    }
  ]
}